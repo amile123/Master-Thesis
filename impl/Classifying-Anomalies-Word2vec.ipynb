{
 "cells": [
  {
   "cell_type": "code",
   "execution_count": 1,
   "metadata": {},
   "outputs": [],
   "source": [
    "import pm4py"
   ]
  },
  {
   "cell_type": "code",
   "execution_count": 2,
   "metadata": {},
   "outputs": [
    {
     "data": {
      "application/vnd.jupyter.widget-view+json": {
       "model_id": "803ec3bdc15643fc97edfa5213848dcb",
       "version_major": 2,
       "version_minor": 0
      },
      "text/plain": [
       "HBox(children=(IntProgress(value=0, description='parsing log, completed traces :: ', max=1000, style=ProgressS…"
      ]
     },
     "metadata": {},
     "output_type": "display_data"
    },
    {
     "name": "stdout",
     "output_type": "stream",
     "text": [
      "\n"
     ]
    },
    {
     "data": {
      "text/html": [
       "<div>\n",
       "<style scoped>\n",
       "    .dataframe tbody tr th:only-of-type {\n",
       "        vertical-align: middle;\n",
       "    }\n",
       "\n",
       "    .dataframe tbody tr th {\n",
       "        vertical-align: top;\n",
       "    }\n",
       "\n",
       "    .dataframe thead th {\n",
       "        text-align: right;\n",
       "    }\n",
       "</style>\n",
       "<table border=\"1\" class=\"dataframe\">\n",
       "  <thead>\n",
       "    <tr style=\"text-align: right;\">\n",
       "      <th></th>\n",
       "      <th>concept:name</th>\n",
       "      <th>time:timestamp</th>\n",
       "      <th>ID</th>\n",
       "    </tr>\n",
       "  </thead>\n",
       "  <tbody>\n",
       "    <tr>\n",
       "      <th>0</th>\n",
       "      <td>check  mail by  charlse</td>\n",
       "      <td>1970-04-26 18:46:41+00:00</td>\n",
       "      <td>0</td>\n",
       "    </tr>\n",
       "    <tr>\n",
       "      <th>1</th>\n",
       "      <td>archive  letter and  infor mation</td>\n",
       "      <td>1970-04-26 18:46:43+00:00</td>\n",
       "      <td>0</td>\n",
       "    </tr>\n",
       "    <tr>\n",
       "      <th>2</th>\n",
       "      <td>take letters and register to secretary</td>\n",
       "      <td>1970-04-26 18:46:44+00:00</td>\n",
       "      <td>0</td>\n",
       "    </tr>\n",
       "    <tr>\n",
       "      <th>3</th>\n",
       "      <td>receive letter</td>\n",
       "      <td>1970-04-26 18:46:45+00:00</td>\n",
       "      <td>0</td>\n",
       "    </tr>\n",
       "    <tr>\n",
       "      <th>4</th>\n",
       "      <td>write letter with reason of rejection</td>\n",
       "      <td>1970-04-26 18:46:47+00:00</td>\n",
       "      <td>0</td>\n",
       "    </tr>\n",
       "    <tr>\n",
       "      <th>...</th>\n",
       "      <td>...</td>\n",
       "      <td>...</td>\n",
       "      <td>...</td>\n",
       "    </tr>\n",
       "    <tr>\n",
       "      <th>6253</th>\n",
       "      <td>make phone call to sender and complete  info</td>\n",
       "      <td>1970-04-26 18:46:50+00:00</td>\n",
       "      <td>999</td>\n",
       "    </tr>\n",
       "    <tr>\n",
       "      <th>6254</th>\n",
       "      <td>archive  letter and  infor mation</td>\n",
       "      <td>1970-04-26 18:46:51+00:00</td>\n",
       "      <td>999</td>\n",
       "    </tr>\n",
       "    <tr>\n",
       "      <th>6255</th>\n",
       "      <td>take letters and register to secretary</td>\n",
       "      <td>1970-04-26 18:46:52+00:00</td>\n",
       "      <td>999</td>\n",
       "    </tr>\n",
       "    <tr>\n",
       "      <th>6256</th>\n",
       "      <td>receive letter</td>\n",
       "      <td>1970-04-26 18:46:53+00:00</td>\n",
       "      <td>999</td>\n",
       "    </tr>\n",
       "    <tr>\n",
       "      <th>6257</th>\n",
       "      <td>write letter with reason of rejection</td>\n",
       "      <td>1970-04-26 18:46:55+00:00</td>\n",
       "      <td>999</td>\n",
       "    </tr>\n",
       "  </tbody>\n",
       "</table>\n",
       "<p>6258 rows × 3 columns</p>\n",
       "</div>"
      ],
      "text/plain": [
       "                                      concept:name            time:timestamp  \\\n",
       "0                          check  mail by  charlse 1970-04-26 18:46:41+00:00   \n",
       "1                archive  letter and  infor mation 1970-04-26 18:46:43+00:00   \n",
       "2           take letters and register to secretary 1970-04-26 18:46:44+00:00   \n",
       "3                                   receive letter 1970-04-26 18:46:45+00:00   \n",
       "4            write letter with reason of rejection 1970-04-26 18:46:47+00:00   \n",
       "...                                            ...                       ...   \n",
       "6253  make phone call to sender and complete  info 1970-04-26 18:46:50+00:00   \n",
       "6254             archive  letter and  infor mation 1970-04-26 18:46:51+00:00   \n",
       "6255        take letters and register to secretary 1970-04-26 18:46:52+00:00   \n",
       "6256                                receive letter 1970-04-26 18:46:53+00:00   \n",
       "6257         write letter with reason of rejection 1970-04-26 18:46:55+00:00   \n",
       "\n",
       "       ID  \n",
       "0       0  \n",
       "1       0  \n",
       "2       0  \n",
       "3       0  \n",
       "4       0  \n",
       "...   ...  \n",
       "6253  999  \n",
       "6254  999  \n",
       "6255  999  \n",
       "6256  999  \n",
       "6257  999  \n",
       "\n",
       "[6258 rows x 3 columns]"
      ]
     },
     "execution_count": 2,
     "metadata": {},
     "output_type": "execute_result"
    }
   ],
   "source": [
    "log = pm4py.read_xes(r'...datasets\\second_group_of_synthetic_logs\\1167521718_noisy.xes')\n",
    "df = pm4py.convert_to_dataframe(log)\n",
    "df"
   ]
  },
  {
   "cell_type": "code",
   "execution_count": 3,
   "metadata": {},
   "outputs": [
    {
     "data": {
      "text/html": [
       "<div>\n",
       "<style scoped>\n",
       "    .dataframe tbody tr th:only-of-type {\n",
       "        vertical-align: middle;\n",
       "    }\n",
       "\n",
       "    .dataframe tbody tr th {\n",
       "        vertical-align: top;\n",
       "    }\n",
       "\n",
       "    .dataframe thead th {\n",
       "        text-align: right;\n",
       "    }\n",
       "</style>\n",
       "<table border=\"1\" class=\"dataframe\">\n",
       "  <thead>\n",
       "    <tr style=\"text-align: right;\">\n",
       "      <th></th>\n",
       "      <th>concept:name</th>\n",
       "      <th>time:timestamp</th>\n",
       "      <th>ID</th>\n",
       "    </tr>\n",
       "  </thead>\n",
       "  <tbody>\n",
       "    <tr>\n",
       "      <th>0</th>\n",
       "      <td>check  mail by  charlse</td>\n",
       "      <td>1970-04-26 18:46:41+00:00</td>\n",
       "      <td>0</td>\n",
       "    </tr>\n",
       "    <tr>\n",
       "      <th>1</th>\n",
       "      <td>archive  letter and  infor mation</td>\n",
       "      <td>1970-04-26 18:46:43+00:00</td>\n",
       "      <td>0</td>\n",
       "    </tr>\n",
       "    <tr>\n",
       "      <th>2</th>\n",
       "      <td>take letters and register to secretary</td>\n",
       "      <td>1970-04-26 18:46:44+00:00</td>\n",
       "      <td>0</td>\n",
       "    </tr>\n",
       "    <tr>\n",
       "      <th>3</th>\n",
       "      <td>receive letter</td>\n",
       "      <td>1970-04-26 18:46:45+00:00</td>\n",
       "      <td>0</td>\n",
       "    </tr>\n",
       "    <tr>\n",
       "      <th>4</th>\n",
       "      <td>write letter with reason of rejection</td>\n",
       "      <td>1970-04-26 18:46:47+00:00</td>\n",
       "      <td>0</td>\n",
       "    </tr>\n",
       "  </tbody>\n",
       "</table>\n",
       "</div>"
      ],
      "text/plain": [
       "                             concept:name            time:timestamp  ID\n",
       "0                 check  mail by  charlse 1970-04-26 18:46:41+00:00   0\n",
       "1       archive  letter and  infor mation 1970-04-26 18:46:43+00:00   0\n",
       "2  take letters and register to secretary 1970-04-26 18:46:44+00:00   0\n",
       "3                          receive letter 1970-04-26 18:46:45+00:00   0\n",
       "4   write letter with reason of rejection 1970-04-26 18:46:47+00:00   0"
      ]
     },
     "execution_count": 3,
     "metadata": {},
     "output_type": "execute_result"
    }
   ],
   "source": [
    "# print out the head of the event log\n",
    "df.head()"
   ]
  },
  {
   "cell_type": "code",
   "execution_count": 4,
   "metadata": {},
   "outputs": [
    {
     "data": {
      "text/plain": [
       "1000"
      ]
     },
     "execution_count": 4,
     "metadata": {},
     "output_type": "execute_result"
    }
   ],
   "source": [
    "import numpy as np\n",
    "unique_cases = np.unique(df['ID'])\n",
    "len(unique_cases)"
   ]
  },
  {
   "cell_type": "code",
   "execution_count": 5,
   "metadata": {},
   "outputs": [
    {
     "data": {
      "text/plain": [
       "0                            check  mail by  charlse\n",
       "1                  archive  letter and  infor mation\n",
       "2             take letters and register to secretary\n",
       "3                                     receive letter\n",
       "4              write letter with reason of rejection\n",
       "                            ...                     \n",
       "6253    make phone call to sender and complete  info\n",
       "6254               archive  letter and  infor mation\n",
       "6255          take letters and register to secretary\n",
       "6256                                  receive letter\n",
       "6257           write letter with reason of rejection\n",
       "Name: concept:name, Length: 6258, dtype: object"
      ]
     },
     "execution_count": 5,
     "metadata": {},
     "output_type": "execute_result"
    }
   ],
   "source": [
    "# extract the activities\n",
    "activities = df['concept:name']\n",
    "activities"
   ]
  },
  {
   "cell_type": "code",
   "execution_count": 6,
   "metadata": {},
   "outputs": [
    {
     "data": {
      "text/html": [
       "<div>\n",
       "<style scoped>\n",
       "    .dataframe tbody tr th:only-of-type {\n",
       "        vertical-align: middle;\n",
       "    }\n",
       "\n",
       "    .dataframe tbody tr th {\n",
       "        vertical-align: top;\n",
       "    }\n",
       "\n",
       "    .dataframe thead th {\n",
       "        text-align: right;\n",
       "    }\n",
       "</style>\n",
       "<table border=\"1\" class=\"dataframe\">\n",
       "  <thead>\n",
       "    <tr style=\"text-align: right;\">\n",
       "      <th></th>\n",
       "      <th>ID</th>\n",
       "      <th>concept:name</th>\n",
       "      <th>time:timestamp</th>\n",
       "    </tr>\n",
       "  </thead>\n",
       "  <tbody>\n",
       "    <tr>\n",
       "      <th>0</th>\n",
       "      <td>0</td>\n",
       "      <td>[check  mail by  charlse, archive  letter and ...</td>\n",
       "      <td>[1970-04-26 18:46:41+00:00, 1970-04-26 18:46:4...</td>\n",
       "    </tr>\n",
       "    <tr>\n",
       "      <th>1</th>\n",
       "      <td>1</td>\n",
       "      <td>[check  mail by  charlse, make phone call to s...</td>\n",
       "      <td>[1970-04-26 18:46:48+00:00, 1970-04-26 18:46:5...</td>\n",
       "    </tr>\n",
       "    <tr>\n",
       "      <th>2</th>\n",
       "      <td>2</td>\n",
       "      <td>[check  mail by  charlse, archive  letter and ...</td>\n",
       "      <td>[1970-04-26 18:46:41+00:00, 1970-04-26 18:46:4...</td>\n",
       "    </tr>\n",
       "    <tr>\n",
       "      <th>3</th>\n",
       "      <td>3</td>\n",
       "      <td>[check  mail by  charlse, make phone call to s...</td>\n",
       "      <td>[1970-04-26 18:46:48+00:00, 1970-04-26 18:46:5...</td>\n",
       "    </tr>\n",
       "    <tr>\n",
       "      <th>4</th>\n",
       "      <td>4</td>\n",
       "      <td>[check  mail by  charlse, archive  letter and ...</td>\n",
       "      <td>[1970-04-26 18:46:41+00:00, 1970-04-26 18:46:4...</td>\n",
       "    </tr>\n",
       "    <tr>\n",
       "      <th>...</th>\n",
       "      <td>...</td>\n",
       "      <td>...</td>\n",
       "      <td>...</td>\n",
       "    </tr>\n",
       "    <tr>\n",
       "      <th>995</th>\n",
       "      <td>995</td>\n",
       "      <td>[check  mail by  charlse, make phone call to s...</td>\n",
       "      <td>[1970-04-26 18:46:48+00:00, 1970-04-26 18:46:5...</td>\n",
       "    </tr>\n",
       "    <tr>\n",
       "      <th>996</th>\n",
       "      <td>996</td>\n",
       "      <td>[check  mail by  charlse, archive  letter and ...</td>\n",
       "      <td>[1970-04-26 18:46:41+00:00, 1970-04-26 18:46:4...</td>\n",
       "    </tr>\n",
       "    <tr>\n",
       "      <th>997</th>\n",
       "      <td>997</td>\n",
       "      <td>[write letter with reason of rejection, check ...</td>\n",
       "      <td>[NaT, 1970-04-26 18:46:48+00:00, 1970-04-26 18...</td>\n",
       "    </tr>\n",
       "    <tr>\n",
       "      <th>998</th>\n",
       "      <td>998</td>\n",
       "      <td>[check  mail by  charlse, archive  letter and ...</td>\n",
       "      <td>[1970-04-26 18:46:41+00:00, 1970-04-26 18:46:4...</td>\n",
       "    </tr>\n",
       "    <tr>\n",
       "      <th>999</th>\n",
       "      <td>999</td>\n",
       "      <td>[check  mail by  charlse, make phone call to s...</td>\n",
       "      <td>[1970-04-26 18:46:48+00:00, 1970-04-26 18:46:5...</td>\n",
       "    </tr>\n",
       "  </tbody>\n",
       "</table>\n",
       "<p>1000 rows × 3 columns</p>\n",
       "</div>"
      ],
      "text/plain": [
       "      ID                                       concept:name  \\\n",
       "0      0  [check  mail by  charlse, archive  letter and ...   \n",
       "1      1  [check  mail by  charlse, make phone call to s...   \n",
       "2      2  [check  mail by  charlse, archive  letter and ...   \n",
       "3      3  [check  mail by  charlse, make phone call to s...   \n",
       "4      4  [check  mail by  charlse, archive  letter and ...   \n",
       "..   ...                                                ...   \n",
       "995  995  [check  mail by  charlse, make phone call to s...   \n",
       "996  996  [check  mail by  charlse, archive  letter and ...   \n",
       "997  997  [write letter with reason of rejection, check ...   \n",
       "998  998  [check  mail by  charlse, archive  letter and ...   \n",
       "999  999  [check  mail by  charlse, make phone call to s...   \n",
       "\n",
       "                                        time:timestamp  \n",
       "0    [1970-04-26 18:46:41+00:00, 1970-04-26 18:46:4...  \n",
       "1    [1970-04-26 18:46:48+00:00, 1970-04-26 18:46:5...  \n",
       "2    [1970-04-26 18:46:41+00:00, 1970-04-26 18:46:4...  \n",
       "3    [1970-04-26 18:46:48+00:00, 1970-04-26 18:46:5...  \n",
       "4    [1970-04-26 18:46:41+00:00, 1970-04-26 18:46:4...  \n",
       "..                                                 ...  \n",
       "995  [1970-04-26 18:46:48+00:00, 1970-04-26 18:46:5...  \n",
       "996  [1970-04-26 18:46:41+00:00, 1970-04-26 18:46:4...  \n",
       "997  [NaT, 1970-04-26 18:46:48+00:00, 1970-04-26 18...  \n",
       "998  [1970-04-26 18:46:41+00:00, 1970-04-26 18:46:4...  \n",
       "999  [1970-04-26 18:46:48+00:00, 1970-04-26 18:46:5...  \n",
       "\n",
       "[1000 rows x 3 columns]"
      ]
     },
     "execution_count": 6,
     "metadata": {},
     "output_type": "execute_result"
    }
   ],
   "source": [
    "# combine the rows by case number \n",
    "df1 =df.groupby('ID', as_index=False).agg(lambda x: x.tolist())\n",
    "df1"
   ]
  },
  {
   "cell_type": "code",
   "execution_count": 7,
   "metadata": {},
   "outputs": [
    {
     "data": {
      "text/plain": [
       "0      ['check  mail by  charlse', 'archive  letter a...\n",
       "1      ['check  mail by  charlse', 'make phone call t...\n",
       "2      ['check  mail by  charlse', 'archive  letter a...\n",
       "3      ['check  mail by  charlse', 'make phone call t...\n",
       "4      ['check  mail by  charlse', 'archive  letter a...\n",
       "                             ...                        \n",
       "995    ['check  mail by  charlse', 'make phone call t...\n",
       "996    ['check  mail by  charlse', 'archive  letter a...\n",
       "997    ['write letter with reason of rejection', 'che...\n",
       "998    ['check  mail by  charlse', 'archive  letter a...\n",
       "999    ['check  mail by  charlse', 'make phone call t...\n",
       "Name: concept:name, Length: 1000, dtype: object"
      ]
     },
     "execution_count": 7,
     "metadata": {},
     "output_type": "execute_result"
    }
   ],
   "source": [
    "import re\n",
    "# extract the traces\n",
    "activities = df1['concept:name']\n",
    "# convert all traces and case status into a string\n",
    "activities = df1[\"concept:name\"].astype(str)\n",
    "activities"
   ]
  },
  {
   "cell_type": "code",
   "execution_count": 8,
   "metadata": {},
   "outputs": [
    {
     "data": {
      "text/plain": [
       "\"['check  mail by  charlse', 'archive  letter and  infor mation', 'take letters and register to secretary', 'receive letter', 'write letter with reason of rejection']\""
      ]
     },
     "execution_count": 8,
     "metadata": {},
     "output_type": "execute_result"
    }
   ],
   "source": [
    "activities[0]"
   ]
  },
  {
   "cell_type": "code",
   "execution_count": 9,
   "metadata": {},
   "outputs": [
    {
     "data": {
      "text/plain": [
       "1000"
      ]
     },
     "execution_count": 9,
     "metadata": {},
     "output_type": "execute_result"
    }
   ],
   "source": [
    "len(activities)"
   ]
  },
  {
   "cell_type": "code",
   "execution_count": 10,
   "metadata": {},
   "outputs": [],
   "source": [
    "#Cleaning the text\n",
    "import re\n",
    "from nltk.corpus import stopwords\n",
    "from nltk.stem.porter import PorterStemmer\n",
    "ps = PorterStemmer()\n",
    "corpus = []\n",
    "for i in range(len(activities)):\n",
    "    pre = re.sub('[^a-zA-Z]', ' ', activities[i])\n",
    "    pre = pre.lower()\n",
    "    pre = pre.split()\n",
    "    pre = [ps.stem(word) for word in pre if not word in set(stopwords.words('english'))]\n",
    "    pre = ' '.join(pre)\n",
    "    corpus.append(pre)"
   ]
  },
  {
   "cell_type": "code",
   "execution_count": 11,
   "metadata": {},
   "outputs": [
    {
     "data": {
      "text/plain": [
       "1000"
      ]
     },
     "execution_count": 11,
     "metadata": {},
     "output_type": "execute_result"
    }
   ],
   "source": [
    "len(corpus)"
   ]
  },
  {
   "cell_type": "code",
   "execution_count": 12,
   "metadata": {},
   "outputs": [
    {
     "data": {
      "text/plain": [
       "'check mail charls archiv letter infor mation take letter regist secretari receiv letter write letter reason reject'"
      ]
     },
     "execution_count": 12,
     "metadata": {},
     "output_type": "execute_result"
    }
   ],
   "source": [
    "corpus[0]"
   ]
  },
  {
   "cell_type": "code",
   "execution_count": 13,
   "metadata": {},
   "outputs": [
    {
     "data": {
      "text/plain": [
       "['check',\n",
       " 'mail',\n",
       " 'charls',\n",
       " 'archiv',\n",
       " 'letter',\n",
       " 'infor',\n",
       " 'mation',\n",
       " 'take',\n",
       " 'letter',\n",
       " 'regist',\n",
       " 'secretari',\n",
       " 'receiv',\n",
       " 'letter',\n",
       " 'write',\n",
       " 'letter',\n",
       " 'reason',\n",
       " 'reject']"
      ]
     },
     "execution_count": 13,
     "metadata": {},
     "output_type": "execute_result"
    }
   ],
   "source": [
    "import nltk \n",
    "from nltk.tokenize import sent_tokenize, word_tokenize\n",
    "words = nltk.word_tokenize(corpus[0])\n",
    "words"
   ]
  },
  {
   "cell_type": "code",
   "execution_count": 14,
   "metadata": {},
   "outputs": [
    {
     "name": "stdout",
     "output_type": "stream",
     "text": [
      "['check', 'mail', 'charls', 'archiv', 'letter', 'infor', 'mation', 'take', 'letter', 'regist', 'secretari', 'receiv', 'letter', 'write', 'letter', 'reason', 'reject']\n",
      "['check', 'mail', 'charls', 'make', 'phone', 'call', 'sender', 'complet', 'info', 'archiv', 'letter', 'infor', 'mation', 'take', 'letter', 'regist', 'secretari', 'receiv', 'letter', 'write', 'letter', 'reason', 'reject']\n",
      "['check', 'mail', 'charls', 'archiv', 'letter', 'infor', 'mation', 'take', 'letter', 'regist', 'secretari', 'receiv', 'letter', 'write', 'letter', 'reason', 'reject']\n",
      "['check', 'mail', 'charls', 'make', 'phone', 'call', 'sender', 'complet', 'info', 'archiv', 'letter', 'infor', 'mation', 'take', 'letter', 'regist', 'secretari', 'receiv', 'letter', 'write', 'letter', 'reason', 'reject']\n",
      "['check', 'mail', 'charls', 'archiv', 'letter', 'infor', 'mation', 'take', 'letter', 'regist', 'secretari', 'receiv', 'letter', 'write', 'letter', 'reason', 'reject', 'make', 'phone', 'call', 'sender', 'complet', 'info']\n",
      "['check', 'mail', 'charls', 'make', 'phone', 'call', 'sender', 'complet', 'info', 'archiv', 'letter', 'infor', 'mation', 'take', 'letter', 'regist', 'secretari', 'receiv', 'letter', 'write', 'letter', 'reason', 'reject']\n",
      "['check', 'mail', 'charls', 'archiv', 'letter', 'infor', 'mation', 'take', 'letter', 'regist', 'secretari', 'receiv', 'letter', 'write', 'letter', 'reason', 'reject']\n",
      "['archiv', 'letter', 'infor', 'mation', 'check', 'mail', 'charls', 'make', 'phone', 'call', 'sender', 'complet', 'info', 'archiv', 'letter', 'infor', 'mation', 'take', 'letter', 'regist', 'secretari', 'receiv', 'letter', 'write', 'letter', 'reason', 'reject']\n",
      "['check', 'mail', 'charls', 'archiv', 'letter', 'infor', 'mation', 'take', 'letter', 'regist', 'secretari', 'receiv', 'letter', 'write', 'letter', 'reason', 'reject']\n",
      "['check', 'mail', 'charls', 'take', 'letter', 'regist', 'secretari', 'make', 'phone', 'call', 'sender', 'complet', 'info', 'archiv', 'letter', 'infor', 'mation', 'take', 'letter', 'regist', 'secretari', 'receiv', 'letter', 'write', 'letter', 'reason', 'reject']\n",
      "['check', 'mail', 'charls', 'archiv', 'letter', 'infor', 'mation', 'receiv', 'letter', 'take', 'letter', 'regist', 'secretari', 'receiv', 'letter', 'write', 'letter', 'reason', 'reject']\n",
      "['check', 'mail', 'charls', 'make', 'phone', 'call', 'sender', 'complet', 'info', 'archiv', 'letter', 'infor', 'mation', 'take', 'letter', 'regist', 'secretari', 'receiv', 'letter', 'write', 'letter', 'reason', 'reject']\n",
      "['check', 'mail', 'charls', 'archiv', 'letter', 'infor', 'mation', 'take', 'letter', 'regist', 'secretari', 'receiv', 'letter', 'write', 'letter', 'reason', 'reject', 'archiv', 'letter', 'infor', 'mation', 'check', 'mail', 'charls', 'write', 'letter', 'reason', 'reject']\n",
      "['check', 'mail', 'charls', 'make', 'phone', 'call', 'sender', 'complet', 'info', 'archiv', 'letter', 'infor', 'mation', 'take', 'letter', 'regist', 'secretari', 'receiv', 'letter', 'write', 'letter', 'reason', 'reject']\n",
      "['check', 'mail', 'charls', 'archiv', 'letter', 'infor', 'mation', 'take', 'letter', 'regist', 'secretari', 'receiv', 'letter', 'write', 'letter', 'reason', 'reject']\n",
      "['check', 'mail', 'charls', 'make', 'phone', 'call', 'sender', 'complet', 'info', 'check', 'mail', 'charls', 'archiv', 'letter', 'infor', 'mation', 'check', 'mail', 'charls', 'take', 'letter', 'regist', 'secretari', 'receiv', 'letter', 'write', 'letter', 'reason', 'reject']\n",
      "['take', 'letter', 'regist', 'secretari', 'check', 'mail', 'charls', 'archiv', 'letter', 'infor', 'mation', 'take', 'letter', 'regist', 'secretari', 'receiv', 'letter', 'write', 'letter', 'reason', 'reject']\n",
      "['check', 'mail', 'charls', 'make', 'phone', 'call', 'sender', 'complet', 'info', 'archiv', 'letter', 'infor', 'mation', 'check', 'mail', 'charls', 'take', 'letter', 'regist', 'secretari', 'receiv', 'letter', 'write', 'letter', 'reason', 'reject']\n",
      "['make', 'phone', 'call', 'sender', 'complet', 'info', 'check', 'mail', 'charls', 'archiv', 'letter', 'infor', 'mation', 'make', 'phone', 'call', 'sender', 'complet', 'info', 'take', 'letter', 'regist', 'secretari', 'receiv', 'letter', 'write', 'letter', 'reason', 'reject']\n",
      "['archiv', 'letter', 'infor', 'mation', 'check', 'mail', 'charls', 'make', 'phone', 'call', 'sender', 'complet', 'info', 'archiv', 'letter', 'infor', 'mation', 'take', 'letter', 'regist', 'secretari', 'receiv', 'letter', 'write', 'letter', 'reason', 'reject']\n",
      "['check', 'mail', 'charls', 'receiv', 'letter', 'archiv', 'letter', 'infor', 'mation', 'take', 'letter', 'regist', 'secretari', 'receiv', 'letter', 'write', 'letter', 'reason', 'reject']\n",
      "['check', 'mail', 'charls', 'make', 'phone', 'call', 'sender', 'complet', 'info', 'archiv', 'letter', 'infor', 'mation', 'take', 'letter', 'regist', 'secretari', 'archiv', 'letter', 'infor', 'mation', 'receiv', 'letter', 'write', 'letter', 'reason', 'reject']\n",
      "['check', 'mail', 'charls', 'archiv', 'letter', 'infor', 'mation', 'take', 'letter', 'regist', 'secretari', 'receiv', 'letter', 'write', 'letter', 'reason', 'reject']\n",
      "['check', 'mail', 'charls', 'make', 'phone', 'call', 'sender', 'complet', 'info', 'archiv', 'letter', 'infor', 'mation', 'take', 'letter', 'regist', 'secretari', 'receiv', 'letter', 'write', 'letter', 'reason', 'reject']\n",
      "['archiv', 'letter', 'infor', 'mation', 'check', 'mail', 'charls', 'archiv', 'letter', 'infor', 'mation', 'take', 'letter', 'regist', 'secretari', 'receiv', 'letter', 'receiv', 'letter', 'write', 'letter', 'reason', 'reject']\n",
      "['check', 'mail', 'charls', 'make', 'phone', 'call', 'sender', 'complet', 'info', 'archiv', 'letter', 'infor', 'mation', 'take', 'letter', 'regist', 'secretari', 'receiv', 'letter', 'write', 'letter', 'reason', 'reject']\n",
      "['check', 'mail', 'charls', 'archiv', 'letter', 'infor', 'mation', 'take', 'letter', 'regist', 'secretari', 'receiv', 'letter', 'write', 'letter', 'reason', 'reject']\n",
      "['check', 'mail', 'charls', 'make', 'phone', 'call', 'sender', 'complet', 'info', 'archiv', 'letter', 'infor', 'mation', 'take', 'letter', 'regist', 'secretari', 'receiv', 'letter', 'write', 'letter', 'reason', 'reject']\n",
      "['check', 'mail', 'charls', 'archiv', 'letter', 'infor', 'mation', 'take', 'letter', 'regist', 'secretari', 'receiv', 'letter', 'write', 'letter', 'reason', 'reject']\n",
      "['check', 'mail', 'charls', 'make', 'phone', 'call', 'sender', 'complet', 'info', 'make', 'phone', 'call', 'sender', 'complet', 'info', 'archiv', 'letter', 'infor', 'mation', 'take', 'letter', 'regist', 'secretari', 'receiv', 'letter', 'write', 'letter', 'reason', 'reject']\n",
      "['make', 'phone', 'call', 'sender', 'complet', 'info', 'check', 'mail', 'charls', 'check', 'mail', 'charls', 'archiv', 'letter', 'infor', 'mation', 'archiv', 'letter', 'infor', 'mation', 'take', 'letter', 'regist', 'secretari', 'receiv', 'letter', 'write', 'letter', 'reason', 'reject']\n",
      "['check', 'mail', 'charls', 'make', 'phone', 'call', 'sender', 'complet', 'info', 'archiv', 'letter', 'infor', 'mation', 'take', 'letter', 'regist', 'secretari', 'receiv', 'letter', 'write', 'letter', 'reason', 'reject', 'archiv', 'letter', 'infor', 'mation']\n",
      "['check', 'mail', 'charls', 'receiv', 'letter', 'make', 'phone', 'call', 'sender', 'complet', 'info', 'check', 'mail', 'charls', 'take', 'letter', 'regist', 'secretari', 'archiv', 'letter', 'infor', 'mation', 'take', 'letter', 'regist', 'secretari', 'receiv', 'letter', 'write', 'letter', 'reason', 'reject']\n",
      "['check', 'mail', 'charls', 'make', 'phone', 'call', 'sender', 'complet', 'info', 'archiv', 'letter', 'infor', 'mation', 'check', 'mail', 'charls', 'take', 'letter', 'regist', 'secretari', 'receiv', 'letter', 'write', 'letter', 'reason', 'reject']\n",
      "['check', 'mail', 'charls', 'archiv', 'letter', 'infor', 'mation', 'take', 'letter', 'regist', 'secretari', 'receiv', 'letter', 'write', 'letter', 'reason', 'reject']\n",
      "['check', 'mail', 'charls', 'make', 'phone', 'call', 'sender', 'complet', 'info', 'archiv', 'letter', 'infor', 'mation', 'take', 'letter', 'regist', 'secretari', 'receiv', 'letter', 'write', 'letter', 'reason', 'reject']\n",
      "['check', 'mail', 'charls', 'archiv', 'letter', 'infor', 'mation', 'take', 'letter', 'regist', 'secretari', 'receiv', 'letter', 'write', 'letter', 'reason', 'reject']\n"
     ]
    },
    {
     "name": "stdout",
     "output_type": "stream",
     "text": [
      "['check', 'mail', 'charls', 'make', 'phone', 'call', 'sender', 'complet', 'info', 'archiv', 'letter', 'infor', 'mation', 'take', 'letter', 'regist', 'secretari', 'receiv', 'letter', 'write', 'letter', 'reason', 'reject']\n",
      "['check', 'mail', 'charls', 'archiv', 'letter', 'infor', 'mation', 'take', 'letter', 'regist', 'secretari', 'receiv', 'letter', 'write', 'letter', 'reason', 'reject']\n",
      "['check', 'mail', 'charls', 'make', 'phone', 'call', 'sender', 'complet', 'info', 'archiv', 'letter', 'infor', 'mation', 'take', 'letter', 'regist', 'secretari', 'take', 'letter', 'regist', 'secretari', 'receiv', 'letter', 'write', 'letter', 'reason', 'reject']\n",
      "['check', 'mail', 'charls', 'archiv', 'letter', 'infor', 'mation', 'take', 'letter', 'regist', 'secretari', 'receiv', 'letter', 'write', 'letter', 'reason', 'reject']\n",
      "['check', 'mail', 'charls', 'make', 'phone', 'call', 'sender', 'complet', 'info', 'archiv', 'letter', 'infor', 'mation', 'take', 'letter', 'regist', 'secretari', 'receiv', 'letter', 'write', 'letter', 'reason', 'reject']\n",
      "['check', 'mail', 'charls', 'archiv', 'letter', 'infor', 'mation', 'take', 'letter', 'regist', 'secretari', 'receiv', 'letter', 'write', 'letter', 'reason', 'reject']\n",
      "['check', 'mail', 'charls', 'make', 'phone', 'call', 'sender', 'complet', 'info', 'archiv', 'letter', 'infor', 'mation', 'take', 'letter', 'regist', 'secretari', 'receiv', 'letter', 'archiv', 'letter', 'infor', 'mation', 'write', 'letter', 'reason', 'reject']\n",
      "['check', 'mail', 'charls', 'archiv', 'letter', 'infor', 'mation', 'take', 'letter', 'regist', 'secretari', 'receiv', 'letter', 'write', 'letter', 'reason', 'reject']\n",
      "['check', 'mail', 'charls', 'make', 'phone', 'call', 'sender', 'complet', 'info', 'archiv', 'letter', 'infor', 'mation', 'take', 'letter', 'regist', 'secretari', 'receiv', 'letter', 'write', 'letter', 'reason', 'reject', 'check', 'mail', 'charls']\n",
      "['check', 'mail', 'charls', 'archiv', 'letter', 'infor', 'mation', 'take', 'letter', 'regist', 'secretari', 'receiv', 'letter', 'write', 'letter', 'reason', 'reject']\n",
      "['check', 'mail', 'charls', 'make', 'phone', 'call', 'sender', 'complet', 'info', 'archiv', 'letter', 'infor', 'mation', 'receiv', 'letter', 'take', 'letter', 'regist', 'secretari', 'receiv', 'letter', 'write', 'letter', 'reason', 'reject']\n",
      "['check', 'mail', 'charls', 'archiv', 'letter', 'infor', 'mation', 'take', 'letter', 'regist', 'secretari', 'receiv', 'letter', 'write', 'letter', 'reason', 'reject']\n",
      "['check', 'mail', 'charls', 'make', 'phone', 'call', 'sender', 'complet', 'info', 'archiv', 'letter', 'infor', 'mation', 'take', 'letter', 'regist', 'secretari', 'receiv', 'letter', 'write', 'letter', 'reason', 'reject']\n",
      "['check', 'mail', 'charls', 'archiv', 'letter', 'infor', 'mation', 'take', 'letter', 'regist', 'secretari', 'receiv', 'letter', 'write', 'letter', 'reason', 'reject']\n",
      "['check', 'mail', 'charls', 'make', 'phone', 'call', 'sender', 'complet', 'info', 'archiv', 'letter', 'infor', 'mation', 'take', 'letter', 'regist', 'secretari', 'receiv', 'letter', 'write', 'letter', 'reason', 'reject']\n",
      "['check', 'mail', 'charls', 'archiv', 'letter', 'infor', 'mation', 'take', 'letter', 'regist', 'secretari', 'receiv', 'letter', 'write', 'letter', 'reason', 'reject']\n",
      "['check', 'mail', 'charls', 'make', 'phone', 'call', 'sender', 'complet', 'info', 'archiv', 'letter', 'infor', 'mation', 'take', 'letter', 'regist', 'secretari', 'receiv', 'letter', 'write', 'letter', 'reason', 'reject']\n",
      "['check', 'mail', 'charls', 'make', 'phone', 'call', 'sender', 'complet', 'info', 'make', 'phone', 'call', 'sender', 'complet', 'info', 'archiv', 'letter', 'infor', 'mation', 'take', 'letter', 'regist', 'secretari', 'receiv', 'letter', 'write', 'letter', 'reason', 'reject', 'archiv', 'letter', 'infor', 'mation', 'check', 'mail', 'charls', 'receiv', 'letter']\n",
      "['check', 'mail', 'charls', 'make', 'phone', 'call', 'sender', 'complet', 'info', 'archiv', 'letter', 'infor', 'mation', 'take', 'letter', 'regist', 'secretari', 'receiv', 'letter', 'write', 'letter', 'reason', 'reject']\n",
      "['check', 'mail', 'charls', 'archiv', 'letter', 'infor', 'mation', 'take', 'letter', 'regist', 'secretari', 'receiv', 'letter', 'write', 'letter', 'reason', 'reject']\n",
      "['check', 'mail', 'charls', 'make', 'phone', 'call', 'sender', 'complet', 'info', 'archiv', 'letter', 'infor', 'mation', 'take', 'letter', 'regist', 'secretari', 'receiv', 'letter', 'write', 'letter', 'reason', 'reject']\n",
      "['check', 'mail', 'charls', 'archiv', 'letter', 'infor', 'mation', 'take', 'letter', 'regist', 'secretari', 'receiv', 'letter', 'write', 'letter', 'reason', 'reject']\n",
      "['check', 'mail', 'charls', 'make', 'phone', 'call', 'sender', 'complet', 'info', 'archiv', 'letter', 'infor', 'mation', 'take', 'letter', 'regist', 'secretari', 'take', 'letter', 'regist', 'secretari', 'receiv', 'letter', 'write', 'letter', 'reason', 'reject']\n",
      "['check', 'mail', 'charls', 'archiv', 'letter', 'infor', 'mation', 'take', 'letter', 'regist', 'secretari', 'receiv', 'letter', 'write', 'letter', 'reason', 'reject']\n",
      "['check', 'mail', 'charls', 'make', 'phone', 'call', 'sender', 'complet', 'info', 'archiv', 'letter', 'infor', 'mation', 'take', 'letter', 'regist', 'secretari', 'receiv', 'letter', 'write', 'letter', 'reason', 'reject']\n",
      "['check', 'mail', 'charls', 'make', 'phone', 'call', 'sender', 'complet', 'info', 'check', 'mail', 'charls', 'archiv', 'letter', 'infor', 'mation', 'take', 'letter', 'regist', 'secretari', 'receiv', 'letter', 'write', 'letter', 'reason', 'reject', 'write', 'letter', 'reason', 'reject']\n",
      "['check', 'mail', 'charls', 'make', 'phone', 'call', 'sender', 'complet', 'info', 'archiv', 'letter', 'infor', 'mation', 'take', 'letter', 'regist', 'secretari', 'receiv', 'letter', 'write', 'letter', 'reason', 'reject']\n",
      "['check', 'mail', 'charls', 'archiv', 'letter', 'infor', 'mation', 'take', 'letter', 'regist', 'secretari', 'receiv', 'letter', 'write', 'letter', 'reason', 'reject']\n",
      "['check', 'mail', 'charls', 'make', 'phone', 'call', 'sender', 'complet', 'info', 'archiv', 'letter', 'infor', 'mation', 'take', 'letter', 'regist', 'secretari', 'receiv', 'letter', 'write', 'letter', 'reason', 'reject']\n",
      "['check', 'mail', 'charls', 'archiv', 'letter', 'infor', 'mation', 'take', 'letter', 'regist', 'secretari', 'receiv', 'letter', 'write', 'letter', 'reason', 'reject']\n",
      "['check', 'mail', 'charls', 'make', 'phone', 'call', 'sender', 'complet', 'info', 'archiv', 'letter', 'infor', 'mation', 'take', 'letter', 'regist', 'secretari', 'write', 'letter', 'reason', 'reject', 'take', 'letter', 'regist', 'secretari', 'receiv', 'letter', 'write', 'letter', 'reason', 'reject']\n",
      "['check', 'mail', 'charls', 'archiv', 'letter', 'infor', 'mation', 'make', 'phone', 'call', 'sender', 'complet', 'info', 'take', 'letter', 'regist', 'secretari', 'take', 'letter', 'regist', 'secretari', 'receiv', 'letter', 'write', 'letter', 'reason', 'reject', 'receiv', 'letter']\n",
      "['take', 'letter', 'regist', 'secretari', 'check', 'mail', 'charls', 'archiv', 'letter', 'infor', 'mation', 'make', 'phone', 'call', 'sender', 'complet', 'info', 'archiv', 'letter', 'infor', 'mation', 'take', 'letter', 'regist', 'secretari', 'receiv', 'letter', 'write', 'letter', 'reason', 'reject']\n",
      "['check', 'mail', 'charls', 'archiv', 'letter', 'infor', 'mation', 'take', 'letter', 'regist', 'secretari', 'receiv', 'letter', 'write', 'letter', 'reason', 'reject']\n",
      "['check', 'mail', 'charls', 'make', 'phone', 'call', 'sender', 'complet', 'info', 'archiv', 'letter', 'infor', 'mation', 'take', 'letter', 'regist', 'secretari', 'receiv', 'letter', 'write', 'letter', 'reason', 'reject']\n",
      "['check', 'mail', 'charls', 'archiv', 'letter', 'infor', 'mation', 'take', 'letter', 'regist', 'secretari', 'receiv', 'letter', 'write', 'letter', 'reason', 'reject']\n",
      "['check', 'mail', 'charls', 'make', 'phone', 'call', 'sender', 'complet', 'info', 'archiv', 'letter', 'infor', 'mation', 'take', 'letter', 'regist', 'secretari', 'receiv', 'letter', 'write', 'letter', 'reason', 'reject']\n",
      "['check', 'mail', 'charls', 'archiv', 'letter', 'infor', 'mation', 'take', 'letter', 'regist', 'secretari', 'receiv', 'letter', 'write', 'letter', 'reason', 'reject']\n"
     ]
    },
    {
     "name": "stdout",
     "output_type": "stream",
     "text": [
      "['check', 'mail', 'charls', 'make', 'phone', 'call', 'sender', 'complet', 'info', 'archiv', 'letter', 'infor', 'mation', 'take', 'letter', 'regist', 'secretari', 'receiv', 'letter', 'write', 'letter', 'reason', 'reject']\n",
      "['check', 'mail', 'charls', 'archiv', 'letter', 'infor', 'mation', 'take', 'letter', 'regist', 'secretari', 'receiv', 'letter', 'write', 'letter', 'reason', 'reject']\n",
      "['check', 'mail', 'charls', 'make', 'phone', 'call', 'sender', 'complet', 'info', 'archiv', 'letter', 'infor', 'mation', 'take', 'letter', 'regist', 'secretari', 'receiv', 'letter', 'write', 'letter', 'reason', 'reject']\n",
      "['check', 'mail', 'charls', 'archiv', 'letter', 'infor', 'mation', 'archiv', 'letter', 'infor', 'mation', 'make', 'phone', 'call', 'sender', 'complet', 'info', 'take', 'letter', 'regist', 'secretari', 'receiv', 'letter', 'write', 'letter', 'reason', 'reject']\n",
      "['check', 'mail', 'charls', 'make', 'phone', 'call', 'sender', 'complet', 'info', 'archiv', 'letter', 'infor', 'mation', 'make', 'phone', 'call', 'sender', 'complet', 'info', 'take', 'letter', 'regist', 'secretari', 'receiv', 'letter', 'write', 'letter', 'reason', 'reject']\n",
      "['check', 'mail', 'charls', 'archiv', 'letter', 'infor', 'mation', 'take', 'letter', 'regist', 'secretari', 'receiv', 'letter', 'write', 'letter', 'reason', 'reject']\n",
      "['check', 'mail', 'charls', 'make', 'phone', 'call', 'sender', 'complet', 'info', 'archiv', 'letter', 'infor', 'mation', 'take', 'letter', 'regist', 'secretari', 'receiv', 'letter', 'write', 'letter', 'reason', 'reject']\n",
      "['check', 'mail', 'charls', 'receiv', 'letter', 'make', 'phone', 'call', 'sender', 'complet', 'info', 'archiv', 'letter', 'infor', 'mation', 'take', 'letter', 'regist', 'secretari', 'receiv', 'letter', 'write', 'letter', 'reason', 'reject', 'make', 'phone', 'call', 'sender', 'complet', 'info']\n",
      "['check', 'mail', 'charls', 'make', 'phone', 'call', 'sender', 'complet', 'info', 'archiv', 'letter', 'infor', 'mation', 'take', 'letter', 'regist', 'secretari', 'receiv', 'letter', 'write', 'letter', 'reason', 'reject']\n",
      "['check', 'mail', 'charls', 'archiv', 'letter', 'infor', 'mation', 'take', 'letter', 'regist', 'secretari', 'receiv', 'letter', 'write', 'letter', 'reason', 'reject']\n",
      "['check', 'mail', 'charls', 'make', 'phone', 'call', 'sender', 'complet', 'info', 'archiv', 'letter', 'infor', 'mation', 'take', 'letter', 'regist', 'secretari', 'receiv', 'letter', 'write', 'letter', 'reason', 'reject']\n",
      "['check', 'mail', 'charls', 'archiv', 'letter', 'infor', 'mation', 'take', 'letter', 'regist', 'secretari', 'receiv', 'letter', 'write', 'letter', 'reason', 'reject']\n",
      "['take', 'letter', 'regist', 'secretari', 'write', 'letter', 'reason', 'reject', 'check', 'mail', 'charls', 'make', 'phone', 'call', 'sender', 'complet', 'info', 'archiv', 'letter', 'infor', 'mation', 'take', 'letter', 'regist', 'secretari', 'receiv', 'letter', 'write', 'letter', 'reason', 'reject']\n",
      "['check', 'mail', 'charls', 'archiv', 'letter', 'infor', 'mation', 'take', 'letter', 'regist', 'secretari', 'receiv', 'letter', 'write', 'letter', 'reason', 'reject']\n",
      "['write', 'letter', 'reason', 'reject', 'check', 'mail', 'charls', 'make', 'phone', 'call', 'sender', 'complet', 'info', 'archiv', 'letter', 'infor', 'mation', 'receiv', 'letter', 'take', 'letter', 'regist', 'secretari', 'receiv', 'letter', 'write', 'letter', 'reason', 'reject']\n",
      "['archiv', 'letter', 'infor', 'mation', 'check', 'mail', 'charls', 'archiv', 'letter', 'infor', 'mation', 'take', 'letter', 'regist', 'secretari', 'receiv', 'letter', 'write', 'letter', 'reason', 'reject']\n",
      "['check', 'mail', 'charls', 'make', 'phone', 'call', 'sender', 'complet', 'info', 'archiv', 'letter', 'infor', 'mation', 'archiv', 'letter', 'infor', 'mation', 'take', 'letter', 'regist', 'secretari', 'receiv', 'letter', 'write', 'letter', 'reason', 'reject']\n",
      "['check', 'mail', 'charls', 'archiv', 'letter', 'infor', 'mation', 'receiv', 'letter', 'take', 'letter', 'regist', 'secretari', 'receiv', 'letter', 'write', 'letter', 'reason', 'reject']\n",
      "['check', 'mail', 'charls', 'make', 'phone', 'call', 'sender', 'complet', 'info', 'archiv', 'letter', 'infor', 'mation', 'take', 'letter', 'regist', 'secretari', 'receiv', 'letter', 'write', 'letter', 'reason', 'reject']\n",
      "['check', 'mail', 'charls', 'archiv', 'letter', 'infor', 'mation', 'take', 'letter', 'regist', 'secretari', 'check', 'mail', 'charls', 'receiv', 'letter', 'write', 'letter', 'reason', 'reject', 'receiv', 'letter']\n",
      "['check', 'mail', 'charls', 'make', 'phone', 'call', 'sender', 'complet', 'info', 'archiv', 'letter', 'infor', 'mation', 'take', 'letter', 'regist', 'secretari', 'receiv', 'letter', 'write', 'letter', 'reason', 'reject']\n",
      "['check', 'mail', 'charls', 'archiv', 'letter', 'infor', 'mation', 'receiv', 'letter', 'take', 'letter', 'regist', 'secretari', 'receiv', 'letter', 'write', 'letter', 'reason', 'reject']\n",
      "['check', 'mail', 'charls', 'make', 'phone', 'call', 'sender', 'complet', 'info', 'archiv', 'letter', 'infor', 'mation', 'take', 'letter', 'regist', 'secretari', 'receiv', 'letter', 'write', 'letter', 'reason', 'reject']\n",
      "['check', 'mail', 'charls', 'archiv', 'letter', 'infor', 'mation', 'take', 'letter', 'regist', 'secretari', 'receiv', 'letter', 'write', 'letter', 'reason', 'reject']\n",
      "['check', 'mail', 'charls', 'make', 'phone', 'call', 'sender', 'complet', 'info', 'write', 'letter', 'reason', 'reject', 'archiv', 'letter', 'infor', 'mation', 'take', 'letter', 'regist', 'secretari', 'receiv', 'letter', 'write', 'letter', 'reason', 'reject']\n",
      "['receiv', 'letter', 'check', 'mail', 'charls', 'archiv', 'letter', 'infor', 'mation', 'take', 'letter', 'regist', 'secretari', 'receiv', 'letter', 'receiv', 'letter', 'receiv', 'letter', 'write', 'letter', 'reason', 'reject', 'archiv', 'letter', 'infor', 'mation']\n",
      "['archiv', 'letter', 'infor', 'mation', 'check', 'mail', 'charls', 'make', 'phone', 'call', 'sender', 'complet', 'info', 'check', 'mail', 'charls', 'archiv', 'letter', 'infor', 'mation', 'take', 'letter', 'regist', 'secretari', 'receiv', 'letter', 'make', 'phone', 'call', 'sender', 'complet', 'info', 'write', 'letter', 'reason', 'reject']\n",
      "['check', 'mail', 'charls', 'archiv', 'letter', 'infor', 'mation', 'take', 'letter', 'regist', 'secretari', 'receiv', 'letter', 'write', 'letter', 'reason', 'reject']\n",
      "['check', 'mail', 'charls', 'make', 'phone', 'call', 'sender', 'complet', 'info', 'archiv', 'letter', 'infor', 'mation', 'take', 'letter', 'regist', 'secretari', 'receiv', 'letter', 'write', 'letter', 'reason', 'reject']\n",
      "['check', 'mail', 'charls', 'make', 'phone', 'call', 'sender', 'complet', 'info', 'archiv', 'letter', 'infor', 'mation', 'take', 'letter', 'regist', 'secretari', 'receiv', 'letter', 'write', 'letter', 'reason', 'reject']\n",
      "['check', 'mail', 'charls', 'make', 'phone', 'call', 'sender', 'complet', 'info', 'archiv', 'letter', 'infor', 'mation', 'take', 'letter', 'regist', 'secretari', 'take', 'letter', 'regist', 'secretari', 'receiv', 'letter', 'write', 'letter', 'reason', 'reject']\n",
      "['check', 'mail', 'charls', 'archiv', 'letter', 'infor', 'mation', 'take', 'letter', 'regist', 'secretari', 'receiv', 'letter', 'write', 'letter', 'reason', 'reject']\n",
      "['check', 'mail', 'charls', 'make', 'phone', 'call', 'sender', 'complet', 'info', 'archiv', 'letter', 'infor', 'mation', 'take', 'letter', 'regist', 'secretari', 'write', 'letter', 'reason', 'reject', 'receiv', 'letter', 'write', 'letter', 'reason', 'reject']\n",
      "['check', 'mail', 'charls', 'archiv', 'letter', 'infor', 'mation', 'take', 'letter', 'regist', 'secretari', 'receiv', 'letter', 'archiv', 'letter', 'infor', 'mation', 'receiv', 'letter', 'write', 'letter', 'reason', 'reject']\n",
      "['check', 'mail', 'charls', 'make', 'phone', 'call', 'sender', 'complet', 'info', 'archiv', 'letter', 'infor', 'mation', 'take', 'letter', 'regist', 'secretari', 'receiv', 'letter', 'write', 'letter', 'reason', 'reject']\n",
      "['check', 'mail', 'charls', 'archiv', 'letter', 'infor', 'mation', 'take', 'letter', 'regist', 'secretari', 'receiv', 'letter', 'write', 'letter', 'reason', 'reject']\n"
     ]
    },
    {
     "name": "stdout",
     "output_type": "stream",
     "text": [
      "['check', 'mail', 'charls', 'make', 'phone', 'call', 'sender', 'complet', 'info', 'archiv', 'letter', 'infor', 'mation', 'take', 'letter', 'regist', 'secretari', 'receiv', 'letter', 'write', 'letter', 'reason', 'reject']\n",
      "['check', 'mail', 'charls', 'archiv', 'letter', 'infor', 'mation', 'take', 'letter', 'regist', 'secretari', 'receiv', 'letter', 'archiv', 'letter', 'infor', 'mation', 'receiv', 'letter', 'write', 'letter', 'reason', 'reject']\n",
      "['make', 'phone', 'call', 'sender', 'complet', 'info', 'archiv', 'letter', 'infor', 'mation', 'check', 'mail', 'charls', 'take', 'letter', 'regist', 'secretari', 'check', 'mail', 'charls', 'make', 'phone', 'call', 'sender', 'complet', 'info', 'make', 'phone', 'call', 'sender', 'complet', 'info', 'archiv', 'letter', 'infor', 'mation', 'take', 'letter', 'regist', 'secretari', 'receiv', 'letter', 'write', 'letter', 'reason', 'reject']\n",
      "['check', 'mail', 'charls', 'take', 'letter', 'regist', 'secretari', 'archiv', 'letter', 'infor', 'mation', 'take', 'letter', 'regist', 'secretari', 'receiv', 'letter', 'write', 'letter', 'reason', 'reject']\n",
      "['check', 'mail', 'charls', 'take', 'letter', 'regist', 'secretari', 'make', 'phone', 'call', 'sender', 'complet', 'info', 'archiv', 'letter', 'infor', 'mation', 'take', 'letter', 'regist', 'secretari', 'make', 'phone', 'call', 'sender', 'complet', 'info', 'receiv', 'letter', 'write', 'letter', 'reason', 'reject']\n",
      "['check', 'mail', 'charls', 'archiv', 'letter', 'infor', 'mation', 'take', 'letter', 'regist', 'secretari', 'receiv', 'letter', 'write', 'letter', 'reason', 'reject']\n",
      "['check', 'mail', 'charls', 'make', 'phone', 'call', 'sender', 'complet', 'info', 'archiv', 'letter', 'infor', 'mation', 'take', 'letter', 'regist', 'secretari', 'receiv', 'letter', 'write', 'letter', 'reason', 'reject']\n",
      "['check', 'mail', 'charls', 'archiv', 'letter', 'infor', 'mation', 'make', 'phone', 'call', 'sender', 'complet', 'info', 'take', 'letter', 'regist', 'secretari', 'receiv', 'letter', 'write', 'letter', 'reason', 'reject']\n",
      "['check', 'mail', 'charls', 'make', 'phone', 'call', 'sender', 'complet', 'info', 'archiv', 'letter', 'infor', 'mation', 'take', 'letter', 'regist', 'secretari', 'receiv', 'letter', 'write', 'letter', 'reason', 'reject']\n",
      "['check', 'mail', 'charls', 'archiv', 'letter', 'infor', 'mation', 'receiv', 'letter', 'take', 'letter', 'regist', 'secretari', 'receiv', 'letter', 'write', 'letter', 'reason', 'reject']\n",
      "['check', 'mail', 'charls', 'make', 'phone', 'call', 'sender', 'complet', 'info', 'archiv', 'letter', 'infor', 'mation', 'take', 'letter', 'regist', 'secretari', 'receiv', 'letter', 'write', 'letter', 'reason', 'reject']\n",
      "['check', 'mail', 'charls', 'archiv', 'letter', 'infor', 'mation', 'take', 'letter', 'regist', 'secretari', 'receiv', 'letter', 'write', 'letter', 'reason', 'reject']\n",
      "['check', 'mail', 'charls', 'make', 'phone', 'call', 'sender', 'complet', 'info', 'archiv', 'letter', 'infor', 'mation', 'take', 'letter', 'regist', 'secretari', 'receiv', 'letter', 'write', 'letter', 'reason', 'reject']\n",
      "['check', 'mail', 'charls', 'archiv', 'letter', 'infor', 'mation', 'take', 'letter', 'regist', 'secretari', 'receiv', 'letter', 'write', 'letter', 'reason', 'reject']\n",
      "['check', 'mail', 'charls', 'make', 'phone', 'call', 'sender', 'complet', 'info', 'archiv', 'letter', 'infor', 'mation', 'take', 'letter', 'regist', 'secretari', 'archiv', 'letter', 'infor', 'mation', 'take', 'letter', 'regist', 'secretari', 'receiv', 'letter', 'write', 'letter', 'reason', 'reject']\n",
      "['check', 'mail', 'charls', 'archiv', 'letter', 'infor', 'mation', 'take', 'letter', 'regist', 'secretari', 'receiv', 'letter', 'write', 'letter', 'reason', 'reject']\n",
      "['check', 'mail', 'charls', 'archiv', 'letter', 'infor', 'mation', 'take', 'letter', 'regist', 'secretari', 'take', 'letter', 'regist', 'secretari', 'make', 'phone', 'call', 'sender', 'complet', 'info', 'archiv', 'letter', 'infor', 'mation', 'take', 'letter', 'regist', 'secretari', 'archiv', 'letter', 'infor', 'mation', 'receiv', 'letter', 'write', 'letter', 'reason', 'reject']\n",
      "['check', 'mail', 'charls', 'archiv', 'letter', 'infor', 'mation', 'take', 'letter', 'regist', 'secretari', 'receiv', 'letter', 'write', 'letter', 'reason', 'reject']\n",
      "['check', 'mail', 'charls', 'make', 'phone', 'call', 'sender', 'complet', 'info', 'archiv', 'letter', 'infor', 'mation', 'take', 'letter', 'regist', 'secretari', 'write', 'letter', 'reason', 'reject', 'take', 'letter', 'regist', 'secretari', 'receiv', 'letter', 'take', 'letter', 'regist', 'secretari', 'write', 'letter', 'reason', 'reject']\n",
      "['check', 'mail', 'charls', 'archiv', 'letter', 'infor', 'mation', 'take', 'letter', 'regist', 'secretari', 'receiv', 'letter', 'write', 'letter', 'reason', 'reject']\n",
      "['check', 'mail', 'charls', 'make', 'phone', 'call', 'sender', 'complet', 'info', 'archiv', 'letter', 'infor', 'mation', 'take', 'letter', 'regist', 'secretari', 'receiv', 'letter', 'write', 'letter', 'reason', 'reject']\n",
      "['check', 'mail', 'charls', 'archiv', 'letter', 'infor', 'mation', 'take', 'letter', 'regist', 'secretari', 'receiv', 'letter', 'write', 'letter', 'reason', 'reject']\n",
      "['check', 'mail', 'charls', 'make', 'phone', 'call', 'sender', 'complet', 'info', 'archiv', 'letter', 'infor', 'mation', 'take', 'letter', 'regist', 'secretari', 'receiv', 'letter', 'write', 'letter', 'reason', 'reject']\n",
      "['check', 'mail', 'charls', 'archiv', 'letter', 'infor', 'mation', 'take', 'letter', 'regist', 'secretari', 'receiv', 'letter', 'write', 'letter', 'reason', 'reject']\n",
      "['check', 'mail', 'charls', 'take', 'letter', 'regist', 'secretari', 'make', 'phone', 'call', 'sender', 'complet', 'info', 'archiv', 'letter', 'infor', 'mation', 'take', 'letter', 'regist', 'secretari', 'receiv', 'letter', 'write', 'letter', 'reason', 'reject']\n",
      "['check', 'mail', 'charls', 'archiv', 'letter', 'infor', 'mation', 'receiv', 'letter', 'write', 'letter', 'reason', 'reject', 'take', 'letter', 'regist', 'secretari', 'receiv', 'letter', 'write', 'letter', 'reason', 'reject', 'check', 'mail', 'charls']\n",
      "['check', 'mail', 'charls', 'make', 'phone', 'call', 'sender', 'complet', 'info', 'make', 'phone', 'call', 'sender', 'complet', 'info', 'archiv', 'letter', 'infor', 'mation', 'take', 'letter', 'regist', 'secretari', 'receiv', 'letter', 'write', 'letter', 'reason', 'reject']\n",
      "['check', 'mail', 'charls', 'archiv', 'letter', 'infor', 'mation', 'take', 'letter', 'regist', 'secretari', 'receiv', 'letter', 'write', 'letter', 'reason', 'reject']\n",
      "['check', 'mail', 'charls', 'make', 'phone', 'call', 'sender', 'complet', 'info', 'archiv', 'letter', 'infor', 'mation', 'take', 'letter', 'regist', 'secretari', 'receiv', 'letter', 'write', 'letter', 'reason', 'reject']\n",
      "['check', 'mail', 'charls', 'write', 'letter', 'reason', 'reject', 'archiv', 'letter', 'infor', 'mation', 'take', 'letter', 'regist', 'secretari', 'receiv', 'letter', 'archiv', 'letter', 'infor', 'mation', 'write', 'letter', 'reason', 'reject']\n",
      "['check', 'mail', 'charls', 'make', 'phone', 'call', 'sender', 'complet', 'info', 'archiv', 'letter', 'infor', 'mation', 'take', 'letter', 'regist', 'secretari', 'receiv', 'letter', 'write', 'letter', 'reason', 'reject']\n",
      "['check', 'mail', 'charls', 'archiv', 'letter', 'infor', 'mation', 'take', 'letter', 'regist', 'secretari', 'write', 'letter', 'reason', 'reject', 'receiv', 'letter', 'receiv', 'letter', 'check', 'mail', 'charls', 'write', 'letter', 'reason', 'reject', 'take', 'letter', 'regist', 'secretari', 'take', 'letter', 'regist', 'secretari']\n",
      "['take', 'letter', 'regist', 'secretari', 'check', 'mail', 'charls', 'make', 'phone', 'call', 'sender', 'complet', 'info', 'archiv', 'letter', 'infor', 'mation', 'take', 'letter', 'regist', 'secretari', 'receiv', 'letter', 'write', 'letter', 'reason', 'reject']\n",
      "['check', 'mail', 'charls', 'archiv', 'letter', 'infor', 'mation', 'take', 'letter', 'regist', 'secretari', 'receiv', 'letter', 'archiv', 'letter', 'infor', 'mation', 'receiv', 'letter', 'take', 'letter', 'regist', 'secretari', 'write', 'letter', 'reason', 'reject']\n"
     ]
    },
    {
     "name": "stdout",
     "output_type": "stream",
     "text": [
      "['check', 'mail', 'charls', 'make', 'phone', 'call', 'sender', 'complet', 'info', 'write', 'letter', 'reason', 'reject', 'take', 'letter', 'regist', 'secretari', 'archiv', 'letter', 'infor', 'mation', 'take', 'letter', 'regist', 'secretari', 'receiv', 'letter', 'write', 'letter', 'reason', 'reject']\n",
      "['check', 'mail', 'charls', 'archiv', 'letter', 'infor', 'mation', 'take', 'letter', 'regist', 'secretari', 'receiv', 'letter', 'write', 'letter', 'reason', 'reject']\n",
      "['check', 'mail', 'charls', 'make', 'phone', 'call', 'sender', 'complet', 'info', 'make', 'phone', 'call', 'sender', 'complet', 'info', 'archiv', 'letter', 'infor', 'mation', 'take', 'letter', 'regist', 'secretari', 'receiv', 'letter', 'check', 'mail', 'charls', 'write', 'letter', 'reason', 'reject']\n",
      "['check', 'mail', 'charls', 'archiv', 'letter', 'infor', 'mation', 'take', 'letter', 'regist', 'secretari', 'receiv', 'letter', 'write', 'letter', 'reason', 'reject']\n",
      "['check', 'mail', 'charls', 'make', 'phone', 'call', 'sender', 'complet', 'info', 'archiv', 'letter', 'infor', 'mation', 'take', 'letter', 'regist', 'secretari', 'receiv', 'letter', 'write', 'letter', 'reason', 'reject']\n",
      "['check', 'mail', 'charls', 'archiv', 'letter', 'infor', 'mation', 'take', 'letter', 'regist', 'secretari', 'receiv', 'letter', 'write', 'letter', 'reason', 'reject']\n",
      "['check', 'mail', 'charls', 'make', 'phone', 'call', 'sender', 'complet', 'info', 'archiv', 'letter', 'infor', 'mation', 'take', 'letter', 'regist', 'secretari', 'receiv', 'letter', 'write', 'letter', 'reason', 'reject', 'write', 'letter', 'reason', 'reject']\n",
      "['check', 'mail', 'charls', 'archiv', 'letter', 'infor', 'mation', 'take', 'letter', 'regist', 'secretari', 'receiv', 'letter', 'write', 'letter', 'reason', 'reject']\n",
      "['archiv', 'letter', 'infor', 'mation', 'check', 'mail', 'charls', 'make', 'phone', 'call', 'sender', 'complet', 'info', 'archiv', 'letter', 'infor', 'mation', 'take', 'letter', 'regist', 'secretari', 'receiv', 'letter', 'write', 'letter', 'reason', 'reject', 'check', 'mail', 'charls']\n",
      "['check', 'mail', 'charls', 'archiv', 'letter', 'infor', 'mation', 'take', 'letter', 'regist', 'secretari', 'receiv', 'letter', 'write', 'letter', 'reason', 'reject']\n",
      "['check', 'mail', 'charls', 'write', 'letter', 'reason', 'reject', 'make', 'phone', 'call', 'sender', 'complet', 'info', 'archiv', 'letter', 'infor', 'mation', 'take', 'letter', 'regist', 'secretari', 'archiv', 'letter', 'infor', 'mation', 'receiv', 'letter', 'write', 'letter', 'reason', 'reject']\n",
      "['check', 'mail', 'charls', 'archiv', 'letter', 'infor', 'mation', 'take', 'letter', 'regist', 'secretari', 'check', 'mail', 'charls', 'receiv', 'letter', 'write', 'letter', 'reason', 'reject']\n",
      "['check', 'mail', 'charls', 'make', 'phone', 'call', 'sender', 'complet', 'info', 'archiv', 'letter', 'infor', 'mation', 'make', 'phone', 'call', 'sender', 'complet', 'info', 'take', 'letter', 'regist', 'secretari', 'receiv', 'letter', 'write', 'letter', 'reason', 'reject']\n",
      "['check', 'mail', 'charls', 'archiv', 'letter', 'infor', 'mation', 'take', 'letter', 'regist', 'secretari', 'receiv', 'letter', 'write', 'letter', 'reason', 'reject']\n",
      "['check', 'mail', 'charls', 'write', 'letter', 'reason', 'reject', 'make', 'phone', 'call', 'sender', 'complet', 'info', 'archiv', 'letter', 'infor', 'mation', 'take', 'letter', 'regist', 'secretari', 'receiv', 'letter', 'write', 'letter', 'reason', 'reject']\n",
      "['check', 'mail', 'charls', 'archiv', 'letter', 'infor', 'mation', 'take', 'letter', 'regist', 'secretari', 'receiv', 'letter', 'receiv', 'letter', 'write', 'letter', 'reason', 'reject']\n",
      "['check', 'mail', 'charls', 'make', 'phone', 'call', 'sender', 'complet', 'info', 'archiv', 'letter', 'infor', 'mation', 'take', 'letter', 'regist', 'secretari', 'receiv', 'letter', 'write', 'letter', 'reason', 'reject']\n",
      "['check', 'mail', 'charls', 'archiv', 'letter', 'infor', 'mation', 'take', 'letter', 'regist', 'secretari', 'receiv', 'letter', 'write', 'letter', 'reason', 'reject']\n",
      "['make', 'phone', 'call', 'sender', 'complet', 'info', 'check', 'mail', 'charls', 'make', 'phone', 'call', 'sender', 'complet', 'info', 'archiv', 'letter', 'infor', 'mation', 'take', 'letter', 'regist', 'secretari', 'receiv', 'letter', 'write', 'letter', 'reason', 'reject']\n",
      "['check', 'mail', 'charls', 'archiv', 'letter', 'infor', 'mation', 'take', 'letter', 'regist', 'secretari', 'receiv', 'letter', 'write', 'letter', 'reason', 'reject']\n",
      "['check', 'mail', 'charls', 'make', 'phone', 'call', 'sender', 'complet', 'info', 'archiv', 'letter', 'infor', 'mation', 'take', 'letter', 'regist', 'secretari', 'receiv', 'letter', 'write', 'letter', 'reason', 'reject']\n",
      "['check', 'mail', 'charls', 'archiv', 'letter', 'infor', 'mation', 'take', 'letter', 'regist', 'secretari', 'receiv', 'letter', 'write', 'letter', 'reason', 'reject']\n",
      "['check', 'mail', 'charls', 'make', 'phone', 'call', 'sender', 'complet', 'info', 'archiv', 'letter', 'infor', 'mation', 'take', 'letter', 'regist', 'secretari', 'receiv', 'letter', 'write', 'letter', 'reason', 'reject']\n",
      "['check', 'mail', 'charls', 'archiv', 'letter', 'infor', 'mation', 'take', 'letter', 'regist', 'secretari', 'check', 'mail', 'charls', 'receiv', 'letter', 'take', 'letter', 'regist', 'secretari', 'receiv', 'letter', 'receiv', 'letter', 'write', 'letter', 'reason', 'reject']\n",
      "['check', 'mail', 'charls', 'check', 'mail', 'charls', 'make', 'phone', 'call', 'sender', 'complet', 'info', 'receiv', 'letter', 'write', 'letter', 'reason', 'reject', 'make', 'phone', 'call', 'sender', 'complet', 'info', 'archiv', 'letter', 'infor', 'mation', 'take', 'letter', 'regist', 'secretari', 'receiv', 'letter', 'make', 'phone', 'call', 'sender', 'complet', 'info', 'write', 'letter', 'reason', 'reject', 'write', 'letter', 'reason', 'reject']\n",
      "['check', 'mail', 'charls', 'archiv', 'letter', 'infor', 'mation', 'take', 'letter', 'regist', 'secretari', 'receiv', 'letter', 'write', 'letter', 'reason', 'reject']\n",
      "['check', 'mail', 'charls', 'make', 'phone', 'call', 'sender', 'complet', 'info', 'archiv', 'letter', 'infor', 'mation', 'check', 'mail', 'charls', 'take', 'letter', 'regist', 'secretari', 'receiv', 'letter', 'write', 'letter', 'reason', 'reject']\n",
      "['check', 'mail', 'charls', 'archiv', 'letter', 'infor', 'mation', 'take', 'letter', 'regist', 'secretari', 'receiv', 'letter', 'write', 'letter', 'reason', 'reject']\n",
      "['check', 'mail', 'charls', 'make', 'phone', 'call', 'sender', 'complet', 'info', 'archiv', 'letter', 'infor', 'mation', 'take', 'letter', 'regist', 'secretari', 'receiv', 'letter', 'write', 'letter', 'reason', 'reject']\n",
      "['check', 'mail', 'charls', 'archiv', 'letter', 'infor', 'mation', 'take', 'letter', 'regist', 'secretari', 'receiv', 'letter', 'write', 'letter', 'reason', 'reject']\n",
      "['check', 'mail', 'charls', 'make', 'phone', 'call', 'sender', 'complet', 'info', 'archiv', 'letter', 'infor', 'mation', 'take', 'letter', 'regist', 'secretari', 'receiv', 'letter', 'write', 'letter', 'reason', 'reject']\n",
      "['check', 'mail', 'charls', 'archiv', 'letter', 'infor', 'mation', 'take', 'letter', 'regist', 'secretari', 'archiv', 'letter', 'infor', 'mation', 'receiv', 'letter', 'write', 'letter', 'reason', 'reject']\n",
      "['check', 'mail', 'charls', 'make', 'phone', 'call', 'sender', 'complet', 'info', 'write', 'letter', 'reason', 'reject', 'take', 'letter', 'regist', 'secretari', 'archiv', 'letter', 'infor', 'mation', 'take', 'letter', 'regist', 'secretari', 'receiv', 'letter', 'write', 'letter', 'reason', 'reject', 'make', 'phone', 'call', 'sender', 'complet', 'info']\n",
      "['check', 'mail', 'charls', 'archiv', 'letter', 'infor', 'mation', 'take', 'letter', 'regist', 'secretari', 'receiv', 'letter', 'write', 'letter', 'reason', 'reject']\n",
      "['check', 'mail', 'charls', 'make', 'phone', 'call', 'sender', 'complet', 'info', 'archiv', 'letter', 'infor', 'mation', 'take', 'letter', 'regist', 'secretari', 'receiv', 'letter', 'write', 'letter', 'reason', 'reject']\n",
      "['check', 'mail', 'charls', 'archiv', 'letter', 'infor', 'mation', 'take', 'letter', 'regist', 'secretari', 'receiv', 'letter', 'write', 'letter', 'reason', 'reject']\n"
     ]
    },
    {
     "name": "stdout",
     "output_type": "stream",
     "text": [
      "['check', 'mail', 'charls', 'archiv', 'letter', 'infor', 'mation', 'make', 'phone', 'call', 'sender', 'complet', 'info', 'archiv', 'letter', 'infor', 'mation', 'take', 'letter', 'regist', 'secretari', 'receiv', 'letter', 'write', 'letter', 'reason', 'reject']\n",
      "['check', 'mail', 'charls', 'archiv', 'letter', 'infor', 'mation', 'take', 'letter', 'regist', 'secretari', 'receiv', 'letter', 'write', 'letter', 'reason', 'reject']\n",
      "['check', 'mail', 'charls', 'make', 'phone', 'call', 'sender', 'complet', 'info', 'archiv', 'letter', 'infor', 'mation', 'take', 'letter', 'regist', 'secretari', 'receiv', 'letter', 'write', 'letter', 'reason', 'reject']\n",
      "['archiv', 'letter', 'infor', 'mation', 'check', 'mail', 'charls', 'archiv', 'letter', 'infor', 'mation', 'take', 'letter', 'regist', 'secretari', 'take', 'letter', 'regist', 'secretari', 'take', 'letter', 'regist', 'secretari', 'write', 'letter', 'reason', 'reject', 'receiv', 'letter', 'make', 'phone', 'call', 'sender', 'complet', 'info', 'receiv', 'letter', 'check', 'mail', 'charls', 'write', 'letter', 'reason', 'reject', 'write', 'letter', 'reason', 'reject']\n",
      "['check', 'mail', 'charls', 'make', 'phone', 'call', 'sender', 'complet', 'info', 'archiv', 'letter', 'infor', 'mation', 'write', 'letter', 'reason', 'reject', 'archiv', 'letter', 'infor', 'mation', 'take', 'letter', 'regist', 'secretari', 'receiv', 'letter', 'write', 'letter', 'reason', 'reject']\n",
      "['check', 'mail', 'charls', 'archiv', 'letter', 'infor', 'mation', 'take', 'letter', 'regist', 'secretari', 'make', 'phone', 'call', 'sender', 'complet', 'info', 'receiv', 'letter', 'write', 'letter', 'reason', 'reject']\n",
      "['check', 'mail', 'charls', 'make', 'phone', 'call', 'sender', 'complet', 'info', 'archiv', 'letter', 'infor', 'mation', 'take', 'letter', 'regist', 'secretari', 'receiv', 'letter', 'write', 'letter', 'reason', 'reject']\n",
      "['check', 'mail', 'charls', 'archiv', 'letter', 'infor', 'mation', 'take', 'letter', 'regist', 'secretari', 'receiv', 'letter', 'write', 'letter', 'reason', 'reject']\n",
      "['check', 'mail', 'charls', 'make', 'phone', 'call', 'sender', 'complet', 'info', 'archiv', 'letter', 'infor', 'mation', 'take', 'letter', 'regist', 'secretari', 'receiv', 'letter', 'write', 'letter', 'reason', 'reject']\n",
      "['check', 'mail', 'charls', 'archiv', 'letter', 'infor', 'mation', 'take', 'letter', 'regist', 'secretari', 'receiv', 'letter', 'write', 'letter', 'reason', 'reject']\n",
      "['check', 'mail', 'charls', 'make', 'phone', 'call', 'sender', 'complet', 'info', 'archiv', 'letter', 'infor', 'mation', 'take', 'letter', 'regist', 'secretari', 'receiv', 'letter', 'write', 'letter', 'reason', 'reject']\n",
      "['check', 'mail', 'charls', 'archiv', 'letter', 'infor', 'mation', 'take', 'letter', 'regist', 'secretari', 'receiv', 'letter', 'write', 'letter', 'reason', 'reject']\n",
      "['write', 'letter', 'reason', 'reject', 'check', 'mail', 'charls', 'make', 'phone', 'call', 'sender', 'complet', 'info', 'archiv', 'letter', 'infor', 'mation', 'take', 'letter', 'regist', 'secretari', 'receiv', 'letter', 'write', 'letter', 'reason', 'reject']\n",
      "['check', 'mail', 'charls', 'archiv', 'letter', 'infor', 'mation', 'take', 'letter', 'regist', 'secretari', 'receiv', 'letter', 'write', 'letter', 'reason', 'reject']\n",
      "['make', 'phone', 'call', 'sender', 'complet', 'info', 'check', 'mail', 'charls', 'make', 'phone', 'call', 'sender', 'complet', 'info', 'archiv', 'letter', 'infor', 'mation', 'take', 'letter', 'regist', 'secretari', 'receiv', 'letter', 'write', 'letter', 'reason', 'reject']\n",
      "['check', 'mail', 'charls', 'archiv', 'letter', 'infor', 'mation', 'archiv', 'letter', 'infor', 'mation', 'take', 'letter', 'regist', 'secretari', 'receiv', 'letter', 'write', 'letter', 'reason', 'reject']\n",
      "['check', 'mail', 'charls', 'make', 'phone', 'call', 'sender', 'complet', 'info', 'archiv', 'letter', 'infor', 'mation', 'take', 'letter', 'regist', 'secretari', 'receiv', 'letter', 'write', 'letter', 'reason', 'reject']\n",
      "['check', 'mail', 'charls', 'archiv', 'letter', 'infor', 'mation', 'archiv', 'letter', 'infor', 'mation', 'take', 'letter', 'regist', 'secretari', 'take', 'letter', 'regist', 'secretari', 'receiv', 'letter', 'write', 'letter', 'reason', 'reject']\n",
      "['check', 'mail', 'charls', 'check', 'mail', 'charls', 'make', 'phone', 'call', 'sender', 'complet', 'info', 'archiv', 'letter', 'infor', 'mation', 'take', 'letter', 'regist', 'secretari', 'receiv', 'letter', 'write', 'letter', 'reason', 'reject']\n",
      "['check', 'mail', 'charls', 'archiv', 'letter', 'infor', 'mation', 'take', 'letter', 'regist', 'secretari', 'receiv', 'letter', 'write', 'letter', 'reason', 'reject']\n",
      "['check', 'mail', 'charls', 'make', 'phone', 'call', 'sender', 'complet', 'info', 'archiv', 'letter', 'infor', 'mation', 'take', 'letter', 'regist', 'secretari', 'receiv', 'letter', 'write', 'letter', 'reason', 'reject']\n",
      "['check', 'mail', 'charls', 'archiv', 'letter', 'infor', 'mation', 'take', 'letter', 'regist', 'secretari', 'receiv', 'letter', 'write', 'letter', 'reason', 'reject']\n",
      "['check', 'mail', 'charls', 'make', 'phone', 'call', 'sender', 'complet', 'info', 'archiv', 'letter', 'infor', 'mation', 'take', 'letter', 'regist', 'secretari', 'receiv', 'letter', 'write', 'letter', 'reason', 'reject', 'archiv', 'letter', 'infor', 'mation']\n",
      "['check', 'mail', 'charls', 'archiv', 'letter', 'infor', 'mation', 'take', 'letter', 'regist', 'secretari', 'receiv', 'letter', 'write', 'letter', 'reason', 'reject']\n",
      "['check', 'mail', 'charls', 'make', 'phone', 'call', 'sender', 'complet', 'info', 'archiv', 'letter', 'infor', 'mation', 'take', 'letter', 'regist', 'secretari', 'receiv', 'letter', 'write', 'letter', 'reason', 'reject']\n",
      "['check', 'mail', 'charls', 'archiv', 'letter', 'infor', 'mation', 'take', 'letter', 'regist', 'secretari', 'receiv', 'letter', 'write', 'letter', 'reason', 'reject', 'archiv', 'letter', 'infor', 'mation']\n",
      "['check', 'mail', 'charls', 'check', 'mail', 'charls', 'make', 'phone', 'call', 'sender', 'complet', 'info', 'check', 'mail', 'charls', 'archiv', 'letter', 'infor', 'mation', 'take', 'letter', 'regist', 'secretari', 'receiv', 'letter', 'write', 'letter', 'reason', 'reject']\n",
      "['check', 'mail', 'charls', 'archiv', 'letter', 'infor', 'mation', 'take', 'letter', 'regist', 'secretari', 'receiv', 'letter', 'write', 'letter', 'reason', 'reject']\n",
      "['check', 'mail', 'charls', 'make', 'phone', 'call', 'sender', 'complet', 'info', 'archiv', 'letter', 'infor', 'mation', 'write', 'letter', 'reason', 'reject', 'take', 'letter', 'regist', 'secretari', 'take', 'letter', 'regist', 'secretari', 'receiv', 'letter', 'write', 'letter', 'reason', 'reject', 'write', 'letter', 'reason', 'reject']\n",
      "['check', 'mail', 'charls', 'archiv', 'letter', 'infor', 'mation', 'take', 'letter', 'regist', 'secretari', 'receiv', 'letter', 'write', 'letter', 'reason', 'reject']\n",
      "['check', 'mail', 'charls', 'make', 'phone', 'call', 'sender', 'complet', 'info', 'make', 'phone', 'call', 'sender', 'complet', 'info', 'archiv', 'letter', 'infor', 'mation', 'take', 'letter', 'regist', 'secretari', 'receiv', 'letter', 'write', 'letter', 'reason', 'reject']\n",
      "['check', 'mail', 'charls', 'archiv', 'letter', 'infor', 'mation', 'take', 'letter', 'regist', 'secretari', 'receiv', 'letter', 'write', 'letter', 'reason', 'reject']\n",
      "['check', 'mail', 'charls', 'make', 'phone', 'call', 'sender', 'complet', 'info', 'archiv', 'letter', 'infor', 'mation', 'take', 'letter', 'regist', 'secretari', 'receiv', 'letter', 'write', 'letter', 'reason', 'reject']\n",
      "['check', 'mail', 'charls', 'archiv', 'letter', 'infor', 'mation', 'take', 'letter', 'regist', 'secretari', 'make', 'phone', 'call', 'sender', 'complet', 'info', 'receiv', 'letter', 'write', 'letter', 'reason', 'reject']\n",
      "['check', 'mail', 'charls', 'make', 'phone', 'call', 'sender', 'complet', 'info', 'archiv', 'letter', 'infor', 'mation', 'take', 'letter', 'regist', 'secretari', 'receiv', 'letter', 'write', 'letter', 'reason', 'reject']\n",
      "['receiv', 'letter', 'take', 'letter', 'regist', 'secretari', 'check', 'mail', 'charls', 'archiv', 'letter', 'infor', 'mation', 'take', 'letter', 'regist', 'secretari', 'receiv', 'letter', 'write', 'letter', 'reason', 'reject']\n"
     ]
    },
    {
     "name": "stdout",
     "output_type": "stream",
     "text": [
      "['check', 'mail', 'charls', 'make', 'phone', 'call', 'sender', 'complet', 'info', 'archiv', 'letter', 'infor', 'mation', 'take', 'letter', 'regist', 'secretari', 'receiv', 'letter', 'write', 'letter', 'reason', 'reject']\n",
      "['check', 'mail', 'charls', 'make', 'phone', 'call', 'sender', 'complet', 'info', 'archiv', 'letter', 'infor', 'mation', 'take', 'letter', 'regist', 'secretari', 'receiv', 'letter', 'write', 'letter', 'reason', 'reject']\n",
      "['make', 'phone', 'call', 'sender', 'complet', 'info', 'check', 'mail', 'charls', 'make', 'phone', 'call', 'sender', 'complet', 'info', 'check', 'mail', 'charls', 'archiv', 'letter', 'infor', 'mation', 'archiv', 'letter', 'infor', 'mation', 'take', 'letter', 'regist', 'secretari', 'receiv', 'letter', 'write', 'letter', 'reason', 'reject', 'write', 'letter', 'reason', 'reject', 'take', 'letter', 'regist', 'secretari']\n",
      "['check', 'mail', 'charls', 'archiv', 'letter', 'infor', 'mation', 'take', 'letter', 'regist', 'secretari', 'receiv', 'letter', 'write', 'letter', 'reason', 'reject']\n",
      "['check', 'mail', 'charls', 'make', 'phone', 'call', 'sender', 'complet', 'info', 'take', 'letter', 'regist', 'secretari', 'archiv', 'letter', 'infor', 'mation', 'take', 'letter', 'regist', 'secretari', 'receiv', 'letter', 'write', 'letter', 'reason', 'reject']\n",
      "['check', 'mail', 'charls', 'receiv', 'letter', 'archiv', 'letter', 'infor', 'mation', 'take', 'letter', 'regist', 'secretari', 'receiv', 'letter', 'write', 'letter', 'reason', 'reject']\n",
      "['check', 'mail', 'charls', 'take', 'letter', 'regist', 'secretari', 'make', 'phone', 'call', 'sender', 'complet', 'info', 'archiv', 'letter', 'infor', 'mation', 'take', 'letter', 'regist', 'secretari', 'take', 'letter', 'regist', 'secretari', 'receiv', 'letter', 'write', 'letter', 'reason', 'reject', 'archiv', 'letter', 'infor', 'mation']\n",
      "['check', 'mail', 'charls', 'archiv', 'letter', 'infor', 'mation', 'take', 'letter', 'regist', 'secretari', 'receiv', 'letter', 'write', 'letter', 'reason', 'reject']\n",
      "['check', 'mail', 'charls', 'make', 'phone', 'call', 'sender', 'complet', 'info', 'archiv', 'letter', 'infor', 'mation', 'take', 'letter', 'regist', 'secretari', 'receiv', 'letter', 'take', 'letter', 'regist', 'secretari', 'write', 'letter', 'reason', 'reject']\n",
      "['check', 'mail', 'charls', 'archiv', 'letter', 'infor', 'mation', 'make', 'phone', 'call', 'sender', 'complet', 'info', 'take', 'letter', 'regist', 'secretari', 'receiv', 'letter', 'receiv', 'letter', 'write', 'letter', 'reason', 'reject']\n",
      "['check', 'mail', 'charls', 'make', 'phone', 'call', 'sender', 'complet', 'info', 'archiv', 'letter', 'infor', 'mation', 'check', 'mail', 'charls', 'take', 'letter', 'regist', 'secretari', 'receiv', 'letter', 'write', 'letter', 'reason', 'reject', 'take', 'letter', 'regist', 'secretari']\n",
      "['check', 'mail', 'charls', 'archiv', 'letter', 'infor', 'mation', 'take', 'letter', 'regist', 'secretari', 'receiv', 'letter', 'write', 'letter', 'reason', 'reject']\n",
      "['check', 'mail', 'charls', 'make', 'phone', 'call', 'sender', 'complet', 'info', 'archiv', 'letter', 'infor', 'mation', 'receiv', 'letter', 'make', 'phone', 'call', 'sender', 'complet', 'info', 'take', 'letter', 'regist', 'secretari', 'write', 'letter', 'reason', 'reject', 'receiv', 'letter', 'write', 'letter', 'reason', 'reject', 'take', 'letter', 'regist', 'secretari', 'archiv', 'letter', 'infor', 'mation']\n",
      "['check', 'mail', 'charls', 'archiv', 'letter', 'infor', 'mation', 'take', 'letter', 'regist', 'secretari', 'receiv', 'letter', 'write', 'letter', 'reason', 'reject']\n",
      "['check', 'mail', 'charls', 'make', 'phone', 'call', 'sender', 'complet', 'info', 'archiv', 'letter', 'infor', 'mation', 'check', 'mail', 'charls', 'take', 'letter', 'regist', 'secretari', 'receiv', 'letter', 'write', 'letter', 'reason', 'reject']\n",
      "['check', 'mail', 'charls', 'archiv', 'letter', 'infor', 'mation', 'take', 'letter', 'regist', 'secretari', 'receiv', 'letter', 'write', 'letter', 'reason', 'reject', 'check', 'mail', 'charls']\n",
      "['check', 'mail', 'charls', 'make', 'phone', 'call', 'sender', 'complet', 'info', 'archiv', 'letter', 'infor', 'mation', 'archiv', 'letter', 'infor', 'mation', 'take', 'letter', 'regist', 'secretari', 'receiv', 'letter', 'write', 'letter', 'reason', 'reject']\n",
      "['check', 'mail', 'charls', 'archiv', 'letter', 'infor', 'mation', 'take', 'letter', 'regist', 'secretari', 'receiv', 'letter', 'write', 'letter', 'reason', 'reject']\n",
      "['check', 'mail', 'charls', 'make', 'phone', 'call', 'sender', 'complet', 'info', 'archiv', 'letter', 'infor', 'mation', 'take', 'letter', 'regist', 'secretari', 'receiv', 'letter', 'write', 'letter', 'reason', 'reject']\n",
      "['check', 'mail', 'charls', 'archiv', 'letter', 'infor', 'mation', 'take', 'letter', 'regist', 'secretari', 'receiv', 'letter', 'write', 'letter', 'reason', 'reject']\n",
      "['write', 'letter', 'reason', 'reject', 'check', 'mail', 'charls', 'archiv', 'letter', 'infor', 'mation', 'make', 'phone', 'call', 'sender', 'complet', 'info', 'archiv', 'letter', 'infor', 'mation', 'take', 'letter', 'regist', 'secretari', 'receiv', 'letter', 'write', 'letter', 'reason', 'reject']\n",
      "['check', 'mail', 'charls', 'archiv', 'letter', 'infor', 'mation', 'take', 'letter', 'regist', 'secretari', 'receiv', 'letter', 'write', 'letter', 'reason', 'reject']\n",
      "['check', 'mail', 'charls', 'make', 'phone', 'call', 'sender', 'complet', 'info', 'write', 'letter', 'reason', 'reject', 'archiv', 'letter', 'infor', 'mation', 'take', 'letter', 'regist', 'secretari', 'receiv', 'letter', 'write', 'letter', 'reason', 'reject']\n",
      "['check', 'mail', 'charls', 'archiv', 'letter', 'infor', 'mation', 'take', 'letter', 'regist', 'secretari', 'archiv', 'letter', 'infor', 'mation', 'receiv', 'letter', 'write', 'letter', 'reason', 'reject']\n",
      "['check', 'mail', 'charls', 'make', 'phone', 'call', 'sender', 'complet', 'info', 'archiv', 'letter', 'infor', 'mation', 'take', 'letter', 'regist', 'secretari', 'receiv', 'letter', 'write', 'letter', 'reason', 'reject']\n",
      "['check', 'mail', 'charls', 'archiv', 'letter', 'infor', 'mation', 'take', 'letter', 'regist', 'secretari', 'receiv', 'letter', 'write', 'letter', 'reason', 'reject']\n",
      "['check', 'mail', 'charls', 'make', 'phone', 'call', 'sender', 'complet', 'info', 'receiv', 'letter', 'archiv', 'letter', 'infor', 'mation', 'take', 'letter', 'regist', 'secretari', 'take', 'letter', 'regist', 'secretari', 'receiv', 'letter', 'write', 'letter', 'reason', 'reject']\n",
      "['check', 'mail', 'charls', 'archiv', 'letter', 'infor', 'mation', 'take', 'letter', 'regist', 'secretari', 'receiv', 'letter', 'write', 'letter', 'reason', 'reject']\n",
      "['check', 'mail', 'charls', 'take', 'letter', 'regist', 'secretari', 'make', 'phone', 'call', 'sender', 'complet', 'info', 'archiv', 'letter', 'infor', 'mation', 'take', 'letter', 'regist', 'secretari', 'receiv', 'letter', 'write', 'letter', 'reason', 'reject']\n",
      "['check', 'mail', 'charls', 'archiv', 'letter', 'infor', 'mation', 'take', 'letter', 'regist', 'secretari', 'receiv', 'letter', 'write', 'letter', 'reason', 'reject']\n",
      "['check', 'mail', 'charls', 'make', 'phone', 'call', 'sender', 'complet', 'info', 'archiv', 'letter', 'infor', 'mation', 'take', 'letter', 'regist', 'secretari', 'receiv', 'letter', 'write', 'letter', 'reason', 'reject']\n",
      "['check', 'mail', 'charls', 'archiv', 'letter', 'infor', 'mation', 'take', 'letter', 'regist', 'secretari', 'receiv', 'letter', 'check', 'mail', 'charls', 'write', 'letter', 'reason', 'reject']\n",
      "['make', 'phone', 'call', 'sender', 'complet', 'info', 'check', 'mail', 'charls', 'make', 'phone', 'call', 'sender', 'complet', 'info', 'archiv', 'letter', 'infor', 'mation', 'make', 'phone', 'call', 'sender', 'complet', 'info', 'take', 'letter', 'regist', 'secretari', 'receiv', 'letter', 'write', 'letter', 'reason', 'reject']\n",
      "['check', 'mail', 'charls', 'archiv', 'letter', 'infor', 'mation', 'take', 'letter', 'regist', 'secretari', 'receiv', 'letter', 'write', 'letter', 'reason', 'reject']\n",
      "['check', 'mail', 'charls', 'make', 'phone', 'call', 'sender', 'complet', 'info', 'archiv', 'letter', 'infor', 'mation', 'take', 'letter', 'regist', 'secretari', 'receiv', 'letter', 'write', 'letter', 'reason', 'reject']\n"
     ]
    },
    {
     "name": "stdout",
     "output_type": "stream",
     "text": [
      "['archiv', 'letter', 'infor', 'mation', 'check', 'mail', 'charls', 'archiv', 'letter', 'infor', 'mation', 'take', 'letter', 'regist', 'secretari', 'take', 'letter', 'regist', 'secretari', 'receiv', 'letter', 'write', 'letter', 'reason', 'reject']\n",
      "['check', 'mail', 'charls', 'make', 'phone', 'call', 'sender', 'complet', 'info', 'archiv', 'letter', 'infor', 'mation', 'take', 'letter', 'regist', 'secretari', 'receiv', 'letter', 'write', 'letter', 'reason', 'reject']\n",
      "['check', 'mail', 'charls', 'archiv', 'letter', 'infor', 'mation', 'take', 'letter', 'regist', 'secretari', 'receiv', 'letter', 'check', 'mail', 'charls', 'write', 'letter', 'reason', 'reject']\n",
      "['check', 'mail', 'charls', 'make', 'phone', 'call', 'sender', 'complet', 'info', 'write', 'letter', 'reason', 'reject', 'archiv', 'letter', 'infor', 'mation', 'take', 'letter', 'regist', 'secretari', 'take', 'letter', 'regist', 'secretari', 'receiv', 'letter', 'write', 'letter', 'reason', 'reject']\n",
      "['check', 'mail', 'charls', 'check', 'mail', 'charls', 'archiv', 'letter', 'infor', 'mation', 'take', 'letter', 'regist', 'secretari', 'receiv', 'letter', 'write', 'letter', 'reason', 'reject']\n",
      "['check', 'mail', 'charls', 'make', 'phone', 'call', 'sender', 'complet', 'info', 'take', 'letter', 'regist', 'secretari', 'archiv', 'letter', 'infor', 'mation', 'take', 'letter', 'regist', 'secretari', 'receiv', 'letter', 'write', 'letter', 'reason', 'reject']\n",
      "['archiv', 'letter', 'infor', 'mation', 'check', 'mail', 'charls', 'take', 'letter', 'regist', 'secretari', 'make', 'phone', 'call', 'sender', 'complet', 'info', 'archiv', 'letter', 'infor', 'mation', 'take', 'letter', 'regist', 'secretari', 'write', 'letter', 'reason', 'reject', 'archiv', 'letter', 'infor', 'mation', 'write', 'letter', 'reason', 'reject', 'receiv', 'letter', 'write', 'letter', 'reason', 'reject']\n",
      "['check', 'mail', 'charls', 'make', 'phone', 'call', 'sender', 'complet', 'info', 'archiv', 'letter', 'infor', 'mation', 'take', 'letter', 'regist', 'secretari', 'write', 'letter', 'reason', 'reject', 'receiv', 'letter', 'receiv', 'letter', 'write', 'letter', 'reason', 'reject', 'check', 'mail', 'charls']\n",
      "['check', 'mail', 'charls', 'archiv', 'letter', 'infor', 'mation', 'take', 'letter', 'regist', 'secretari', 'receiv', 'letter', 'write', 'letter', 'reason', 'reject']\n",
      "['check', 'mail', 'charls', 'make', 'phone', 'call', 'sender', 'complet', 'info', 'archiv', 'letter', 'infor', 'mation', 'take', 'letter', 'regist', 'secretari', 'receiv', 'letter', 'write', 'letter', 'reason', 'reject']\n",
      "['check', 'mail', 'charls', 'archiv', 'letter', 'infor', 'mation', 'take', 'letter', 'regist', 'secretari', 'receiv', 'letter', 'write', 'letter', 'reason', 'reject']\n",
      "['check', 'mail', 'charls', 'take', 'letter', 'regist', 'secretari', 'make', 'phone', 'call', 'sender', 'complet', 'info', 'archiv', 'letter', 'infor', 'mation', 'make', 'phone', 'call', 'sender', 'complet', 'info', 'take', 'letter', 'regist', 'secretari', 'receiv', 'letter', 'write', 'letter', 'reason', 'reject']\n",
      "['check', 'mail', 'charls', 'archiv', 'letter', 'infor', 'mation', 'take', 'letter', 'regist', 'secretari', 'take', 'letter', 'regist', 'secretari', 'receiv', 'letter', 'write', 'letter', 'reason', 'reject']\n",
      "['check', 'mail', 'charls', 'make', 'phone', 'call', 'sender', 'complet', 'info', 'archiv', 'letter', 'infor', 'mation', 'take', 'letter', 'regist', 'secretari', 'receiv', 'letter', 'write', 'letter', 'reason', 'reject']\n",
      "['check', 'mail', 'charls', 'archiv', 'letter', 'infor', 'mation', 'take', 'letter', 'regist', 'secretari', 'receiv', 'letter', 'write', 'letter', 'reason', 'reject']\n",
      "['check', 'mail', 'charls', 'make', 'phone', 'call', 'sender', 'complet', 'info', 'archiv', 'letter', 'infor', 'mation', 'check', 'mail', 'charls', 'take', 'letter', 'regist', 'secretari', 'receiv', 'letter', 'archiv', 'letter', 'infor', 'mation', 'write', 'letter', 'reason', 'reject']\n",
      "['check', 'mail', 'charls', 'archiv', 'letter', 'infor', 'mation', 'archiv', 'letter', 'infor', 'mation', 'take', 'letter', 'regist', 'secretari', 'receiv', 'letter', 'write', 'letter', 'reason', 'reject']\n",
      "['check', 'mail', 'charls', 'make', 'phone', 'call', 'sender', 'complet', 'info', 'archiv', 'letter', 'infor', 'mation', 'take', 'letter', 'regist', 'secretari', 'receiv', 'letter', 'write', 'letter', 'reason', 'reject']\n",
      "['check', 'mail', 'charls', 'write', 'letter', 'reason', 'reject', 'archiv', 'letter', 'infor', 'mation', 'take', 'letter', 'regist', 'secretari', 'receiv', 'letter', 'write', 'letter', 'reason', 'reject']\n",
      "['check', 'mail', 'charls', 'make', 'phone', 'call', 'sender', 'complet', 'info', 'archiv', 'letter', 'infor', 'mation', 'take', 'letter', 'regist', 'secretari', 'receiv', 'letter', 'write', 'letter', 'reason', 'reject']\n",
      "['check', 'mail', 'charls', 'archiv', 'letter', 'infor', 'mation', 'take', 'letter', 'regist', 'secretari', 'receiv', 'letter', 'write', 'letter', 'reason', 'reject']\n",
      "['check', 'mail', 'charls', 'make', 'phone', 'call', 'sender', 'complet', 'info', 'take', 'letter', 'regist', 'secretari', 'archiv', 'letter', 'infor', 'mation', 'take', 'letter', 'regist', 'secretari', 'receiv', 'letter', 'write', 'letter', 'reason', 'reject']\n",
      "['check', 'mail', 'charls', 'archiv', 'letter', 'infor', 'mation', 'take', 'letter', 'regist', 'secretari', 'receiv', 'letter', 'write', 'letter', 'reason', 'reject']\n",
      "['check', 'mail', 'charls', 'make', 'phone', 'call', 'sender', 'complet', 'info', 'archiv', 'letter', 'infor', 'mation', 'take', 'letter', 'regist', 'secretari', 'receiv', 'letter', 'write', 'letter', 'reason', 'reject']\n",
      "['check', 'mail', 'charls', 'archiv', 'letter', 'infor', 'mation', 'take', 'letter', 'regist', 'secretari', 'receiv', 'letter', 'write', 'letter', 'reason', 'reject']\n",
      "['check', 'mail', 'charls', 'make', 'phone', 'call', 'sender', 'complet', 'info', 'take', 'letter', 'regist', 'secretari', 'archiv', 'letter', 'infor', 'mation', 'archiv', 'letter', 'infor', 'mation', 'take', 'letter', 'regist', 'secretari', 'receiv', 'letter', 'write', 'letter', 'reason', 'reject']\n",
      "['check', 'mail', 'charls', 'archiv', 'letter', 'infor', 'mation', 'take', 'letter', 'regist', 'secretari', 'receiv', 'letter', 'write', 'letter', 'reason', 'reject']\n",
      "['check', 'mail', 'charls', 'make', 'phone', 'call', 'sender', 'complet', 'info', 'archiv', 'letter', 'infor', 'mation', 'take', 'letter', 'regist', 'secretari', 'receiv', 'letter', 'write', 'letter', 'reason', 'reject']\n",
      "['check', 'mail', 'charls', 'archiv', 'letter', 'infor', 'mation', 'take', 'letter', 'regist', 'secretari', 'receiv', 'letter', 'write', 'letter', 'reason', 'reject']\n",
      "['check', 'mail', 'charls', 'make', 'phone', 'call', 'sender', 'complet', 'info', 'archiv', 'letter', 'infor', 'mation', 'take', 'letter', 'regist', 'secretari', 'receiv', 'letter', 'write', 'letter', 'reason', 'reject']\n",
      "['write', 'letter', 'reason', 'reject', 'check', 'mail', 'charls', 'archiv', 'letter', 'infor', 'mation', 'take', 'letter', 'regist', 'secretari', 'receiv', 'letter', 'write', 'letter', 'reason', 'reject']\n",
      "['check', 'mail', 'charls', 'make', 'phone', 'call', 'sender', 'complet', 'info', 'archiv', 'letter', 'infor', 'mation', 'take', 'letter', 'regist', 'secretari', 'receiv', 'letter', 'write', 'letter', 'reason', 'reject']\n",
      "['check', 'mail', 'charls', 'archiv', 'letter', 'infor', 'mation', 'take', 'letter', 'regist', 'secretari', 'receiv', 'letter', 'write', 'letter', 'reason', 'reject']\n",
      "['check', 'mail', 'charls', 'make', 'phone', 'call', 'sender', 'complet', 'info', 'archiv', 'letter', 'infor', 'mation', 'take', 'letter', 'regist', 'secretari', 'receiv', 'letter', 'write', 'letter', 'reason', 'reject']\n",
      "['check', 'mail', 'charls', 'archiv', 'letter', 'infor', 'mation', 'take', 'letter', 'regist', 'secretari', 'receiv', 'letter', 'write', 'letter', 'reason', 'reject']\n",
      "['check', 'mail', 'charls', 'make', 'phone', 'call', 'sender', 'complet', 'info', 'archiv', 'letter', 'infor', 'mation', 'take', 'letter', 'regist', 'secretari', 'receiv', 'letter', 'write', 'letter', 'reason', 'reject', 'archiv', 'letter', 'infor', 'mation']\n"
     ]
    },
    {
     "name": "stdout",
     "output_type": "stream",
     "text": [
      "['check', 'mail', 'charls', 'archiv', 'letter', 'infor', 'mation', 'take', 'letter', 'regist', 'secretari', 'receiv', 'letter', 'write', 'letter', 'reason', 'reject']\n",
      "['check', 'mail', 'charls', 'make', 'phone', 'call', 'sender', 'complet', 'info', 'archiv', 'letter', 'infor', 'mation', 'take', 'letter', 'regist', 'secretari', 'take', 'letter', 'regist', 'secretari', 'receiv', 'letter', 'write', 'letter', 'reason', 'reject']\n",
      "['check', 'mail', 'charls', 'archiv', 'letter', 'infor', 'mation', 'take', 'letter', 'regist', 'secretari', 'receiv', 'letter', 'write', 'letter', 'reason', 'reject', 'write', 'letter', 'reason', 'reject', 'receiv', 'letter']\n",
      "['check', 'mail', 'charls', 'make', 'phone', 'call', 'sender', 'complet', 'info', 'archiv', 'letter', 'infor', 'mation', 'take', 'letter', 'regist', 'secretari', 'write', 'letter', 'reason', 'reject', 'receiv', 'letter', 'write', 'letter', 'reason', 'reject']\n",
      "['check', 'mail', 'charls', 'make', 'phone', 'call', 'sender', 'complet', 'info', 'archiv', 'letter', 'infor', 'mation', 'take', 'letter', 'regist', 'secretari', 'take', 'letter', 'regist', 'secretari', 'receiv', 'letter', 'make', 'phone', 'call', 'sender', 'complet', 'info', 'write', 'letter', 'reason', 'reject']\n",
      "['check', 'mail', 'charls', 'make', 'phone', 'call', 'sender', 'complet', 'info', 'archiv', 'letter', 'infor', 'mation', 'take', 'letter', 'regist', 'secretari', 'receiv', 'letter', 'write', 'letter', 'reason', 'reject']\n",
      "['check', 'mail', 'charls', 'archiv', 'letter', 'infor', 'mation', 'take', 'letter', 'regist', 'secretari', 'receiv', 'letter', 'write', 'letter', 'reason', 'reject']\n",
      "['check', 'mail', 'charls', 'receiv', 'letter', 'make', 'phone', 'call', 'sender', 'complet', 'info', 'archiv', 'letter', 'infor', 'mation', 'take', 'letter', 'regist', 'secretari', 'receiv', 'letter', 'write', 'letter', 'reason', 'reject']\n",
      "['check', 'mail', 'charls', 'archiv', 'letter', 'infor', 'mation', 'take', 'letter', 'regist', 'secretari', 'receiv', 'letter', 'write', 'letter', 'reason', 'reject']\n",
      "['check', 'mail', 'charls', 'make', 'phone', 'call', 'sender', 'complet', 'info', 'archiv', 'letter', 'infor', 'mation', 'take', 'letter', 'regist', 'secretari', 'receiv', 'letter', 'write', 'letter', 'reason', 'reject']\n",
      "['check', 'mail', 'charls', 'archiv', 'letter', 'infor', 'mation', 'take', 'letter', 'regist', 'secretari', 'receiv', 'letter', 'write', 'letter', 'reason', 'reject']\n",
      "['check', 'mail', 'charls', 'make', 'phone', 'call', 'sender', 'complet', 'info', 'archiv', 'letter', 'infor', 'mation', 'take', 'letter', 'regist', 'secretari', 'receiv', 'letter', 'write', 'letter', 'reason', 'reject']\n",
      "['check', 'mail', 'charls', 'archiv', 'letter', 'infor', 'mation', 'take', 'letter', 'regist', 'secretari', 'receiv', 'letter', 'write', 'letter', 'reason', 'reject']\n",
      "['check', 'mail', 'charls', 'make', 'phone', 'call', 'sender', 'complet', 'info', 'archiv', 'letter', 'infor', 'mation', 'take', 'letter', 'regist', 'secretari', 'receiv', 'letter', 'write', 'letter', 'reason', 'reject']\n",
      "['check', 'mail', 'charls', 'archiv', 'letter', 'infor', 'mation', 'take', 'letter', 'regist', 'secretari', 'receiv', 'letter', 'write', 'letter', 'reason', 'reject']\n",
      "['check', 'mail', 'charls', 'make', 'phone', 'call', 'sender', 'complet', 'info', 'archiv', 'letter', 'infor', 'mation', 'take', 'letter', 'regist', 'secretari', 'receiv', 'letter', 'write', 'letter', 'reason', 'reject']\n",
      "['check', 'mail', 'charls', 'archiv', 'letter', 'infor', 'mation', 'take', 'letter', 'regist', 'secretari', 'receiv', 'letter', 'archiv', 'letter', 'infor', 'mation', 'write', 'letter', 'reason', 'reject']\n",
      "['check', 'mail', 'charls', 'make', 'phone', 'call', 'sender', 'complet', 'info', 'archiv', 'letter', 'infor', 'mation', 'take', 'letter', 'regist', 'secretari', 'receiv', 'letter', 'write', 'letter', 'reason', 'reject']\n",
      "['check', 'mail', 'charls', 'archiv', 'letter', 'infor', 'mation', 'take', 'letter', 'regist', 'secretari', 'receiv', 'letter', 'write', 'letter', 'reason', 'reject']\n",
      "['check', 'mail', 'charls', 'make', 'phone', 'call', 'sender', 'complet', 'info', 'archiv', 'letter', 'infor', 'mation', 'take', 'letter', 'regist', 'secretari', 'receiv', 'letter', 'receiv', 'letter', 'write', 'letter', 'reason', 'reject']\n",
      "['check', 'mail', 'charls', 'archiv', 'letter', 'infor', 'mation', 'take', 'letter', 'regist', 'secretari', 'receiv', 'letter', 'write', 'letter', 'reason', 'reject']\n",
      "['check', 'mail', 'charls', 'make', 'phone', 'call', 'sender', 'complet', 'info', 'archiv', 'letter', 'infor', 'mation', 'take', 'letter', 'regist', 'secretari', 'receiv', 'letter', 'write', 'letter', 'reason', 'reject']\n",
      "['check', 'mail', 'charls', 'archiv', 'letter', 'infor', 'mation', 'take', 'letter', 'regist', 'secretari', 'receiv', 'letter', 'write', 'letter', 'reason', 'reject']\n",
      "['archiv', 'letter', 'infor', 'mation', 'check', 'mail', 'charls', 'make', 'phone', 'call', 'sender', 'complet', 'info', 'archiv', 'letter', 'infor', 'mation', 'take', 'letter', 'regist', 'secretari', 'receiv', 'letter', 'write', 'letter', 'reason', 'reject']\n",
      "['check', 'mail', 'charls', 'archiv', 'letter', 'infor', 'mation', 'take', 'letter', 'regist', 'secretari', 'receiv', 'letter', 'take', 'letter', 'regist', 'secretari', 'write', 'letter', 'reason', 'reject']\n",
      "['check', 'mail', 'charls', 'make', 'phone', 'call', 'sender', 'complet', 'info', 'archiv', 'letter', 'infor', 'mation', 'take', 'letter', 'regist', 'secretari', 'receiv', 'letter', 'write', 'letter', 'reason', 'reject']\n",
      "['check', 'mail', 'charls', 'archiv', 'letter', 'infor', 'mation', 'take', 'letter', 'regist', 'secretari', 'receiv', 'letter', 'write', 'letter', 'reason', 'reject']\n",
      "['check', 'mail', 'charls', 'make', 'phone', 'call', 'sender', 'complet', 'info', 'make', 'phone', 'call', 'sender', 'complet', 'info', 'archiv', 'letter', 'infor', 'mation', 'write', 'letter', 'reason', 'reject', 'take', 'letter', 'regist', 'secretari', 'archiv', 'letter', 'infor', 'mation', 'receiv', 'letter', 'write', 'letter', 'reason', 'reject']\n",
      "['check', 'mail', 'charls', 'archiv', 'letter', 'infor', 'mation', 'take', 'letter', 'regist', 'secretari', 'receiv', 'letter', 'write', 'letter', 'reason', 'reject']\n",
      "['check', 'mail', 'charls', 'check', 'mail', 'charls', 'make', 'phone', 'call', 'sender', 'complet', 'info', 'archiv', 'letter', 'infor', 'mation', 'take', 'letter', 'regist', 'secretari', 'archiv', 'letter', 'infor', 'mation', 'receiv', 'letter', 'write', 'letter', 'reason', 'reject']\n",
      "['check', 'mail', 'charls', 'archiv', 'letter', 'infor', 'mation', 'take', 'letter', 'regist', 'secretari', 'receiv', 'letter', 'write', 'letter', 'reason', 'reject']\n",
      "['take', 'letter', 'regist', 'secretari', 'check', 'mail', 'charls', 'make', 'phone', 'call', 'sender', 'complet', 'info', 'take', 'letter', 'regist', 'secretari', 'archiv', 'letter', 'infor', 'mation', 'take', 'letter', 'regist', 'secretari', 'receiv', 'letter', 'write', 'letter', 'reason', 'reject']\n",
      "['check', 'mail', 'charls', 'archiv', 'letter', 'infor', 'mation', 'take', 'letter', 'regist', 'secretari', 'receiv', 'letter', 'write', 'letter', 'reason', 'reject']\n",
      "['check', 'mail', 'charls', 'make', 'phone', 'call', 'sender', 'complet', 'info', 'archiv', 'letter', 'infor', 'mation', 'take', 'letter', 'regist', 'secretari', 'receiv', 'letter', 'write', 'letter', 'reason', 'reject']\n",
      "['check', 'mail', 'charls', 'archiv', 'letter', 'infor', 'mation', 'take', 'letter', 'regist', 'secretari', 'receiv', 'letter', 'write', 'letter', 'reason', 'reject']\n",
      "['check', 'mail', 'charls', 'check', 'mail', 'charls', 'make', 'phone', 'call', 'sender', 'complet', 'info', 'make', 'phone', 'call', 'sender', 'complet', 'info', 'archiv', 'letter', 'infor', 'mation', 'take', 'letter', 'regist', 'secretari', 'receiv', 'letter', 'write', 'letter', 'reason', 'reject']\n",
      "['receiv', 'letter', 'check', 'mail', 'charls', 'check', 'mail', 'charls', 'archiv', 'letter', 'infor', 'mation', 'take', 'letter', 'regist', 'secretari', 'receiv', 'letter', 'write', 'letter', 'reason', 'reject']\n"
     ]
    },
    {
     "name": "stdout",
     "output_type": "stream",
     "text": [
      "['check', 'mail', 'charls', 'make', 'phone', 'call', 'sender', 'complet', 'info', 'archiv', 'letter', 'infor', 'mation', 'take', 'letter', 'regist', 'secretari', 'receiv', 'letter', 'write', 'letter', 'reason', 'reject']\n",
      "['check', 'mail', 'charls', 'archiv', 'letter', 'infor', 'mation', 'take', 'letter', 'regist', 'secretari', 'receiv', 'letter', 'write', 'letter', 'reason', 'reject']\n",
      "['check', 'mail', 'charls', 'check', 'mail', 'charls', 'make', 'phone', 'call', 'sender', 'complet', 'info', 'archiv', 'letter', 'infor', 'mation', 'take', 'letter', 'regist', 'secretari', 'receiv', 'letter', 'receiv', 'letter', 'make', 'phone', 'call', 'sender', 'complet', 'info', 'check', 'mail', 'charls', 'write', 'letter', 'reason', 'reject']\n",
      "['check', 'mail', 'charls', 'archiv', 'letter', 'infor', 'mation', 'take', 'letter', 'regist', 'secretari', 'receiv', 'letter', 'write', 'letter', 'reason', 'reject']\n",
      "['check', 'mail', 'charls', 'make', 'phone', 'call', 'sender', 'complet', 'info', 'archiv', 'letter', 'infor', 'mation', 'take', 'letter', 'regist', 'secretari', 'receiv', 'letter', 'write', 'letter', 'reason', 'reject']\n",
      "['check', 'mail', 'charls', 'archiv', 'letter', 'infor', 'mation', 'take', 'letter', 'regist', 'secretari', 'receiv', 'letter', 'write', 'letter', 'reason', 'reject']\n",
      "['check', 'mail', 'charls', 'make', 'phone', 'call', 'sender', 'complet', 'info', 'archiv', 'letter', 'infor', 'mation', 'take', 'letter', 'regist', 'secretari', 'receiv', 'letter', 'write', 'letter', 'reason', 'reject']\n",
      "['check', 'mail', 'charls', 'receiv', 'letter', 'archiv', 'letter', 'infor', 'mation', 'take', 'letter', 'regist', 'secretari', 'receiv', 'letter', 'check', 'mail', 'charls', 'check', 'mail', 'charls', 'write', 'letter', 'reason', 'reject']\n",
      "['check', 'mail', 'charls', 'make', 'phone', 'call', 'sender', 'complet', 'info', 'archiv', 'letter', 'infor', 'mation', 'take', 'letter', 'regist', 'secretari', 'receiv', 'letter', 'check', 'mail', 'charls', 'write', 'letter', 'reason', 'reject']\n",
      "['check', 'mail', 'charls', 'archiv', 'letter', 'infor', 'mation', 'take', 'letter', 'regist', 'secretari', 'receiv', 'letter', 'write', 'letter', 'reason', 'reject']\n",
      "['check', 'mail', 'charls', 'make', 'phone', 'call', 'sender', 'complet', 'info', 'archiv', 'letter', 'infor', 'mation', 'take', 'letter', 'regist', 'secretari', 'receiv', 'letter', 'write', 'letter', 'reason', 'reject']\n",
      "['check', 'mail', 'charls', 'archiv', 'letter', 'infor', 'mation', 'take', 'letter', 'regist', 'secretari', 'receiv', 'letter', 'take', 'letter', 'regist', 'secretari', 'write', 'letter', 'reason', 'reject']\n",
      "['check', 'mail', 'charls', 'make', 'phone', 'call', 'sender', 'complet', 'info', 'archiv', 'letter', 'infor', 'mation', 'take', 'letter', 'regist', 'secretari', 'receiv', 'letter', 'write', 'letter', 'reason', 'reject']\n",
      "['check', 'mail', 'charls', 'archiv', 'letter', 'infor', 'mation', 'take', 'letter', 'regist', 'secretari', 'receiv', 'letter', 'write', 'letter', 'reason', 'reject']\n",
      "['check', 'mail', 'charls', 'make', 'phone', 'call', 'sender', 'complet', 'info', 'archiv', 'letter', 'infor', 'mation', 'take', 'letter', 'regist', 'secretari', 'receiv', 'letter', 'write', 'letter', 'reason', 'reject']\n",
      "['check', 'mail', 'charls', 'archiv', 'letter', 'infor', 'mation', 'take', 'letter', 'regist', 'secretari', 'take', 'letter', 'regist', 'secretari', 'receiv', 'letter', 'write', 'letter', 'reason', 'reject']\n",
      "['check', 'mail', 'charls', 'make', 'phone', 'call', 'sender', 'complet', 'info', 'archiv', 'letter', 'infor', 'mation', 'take', 'letter', 'regist', 'secretari', 'receiv', 'letter', 'write', 'letter', 'reason', 'reject']\n",
      "['check', 'mail', 'charls', 'archiv', 'letter', 'infor', 'mation', 'take', 'letter', 'regist', 'secretari', 'receiv', 'letter', 'write', 'letter', 'reason', 'reject']\n",
      "['check', 'mail', 'charls', 'take', 'letter', 'regist', 'secretari', 'make', 'phone', 'call', 'sender', 'complet', 'info', 'archiv', 'letter', 'infor', 'mation', 'take', 'letter', 'regist', 'secretari', 'receiv', 'letter', 'write', 'letter', 'reason', 'reject']\n",
      "['check', 'mail', 'charls', 'archiv', 'letter', 'infor', 'mation', 'take', 'letter', 'regist', 'secretari', 'archiv', 'letter', 'infor', 'mation', 'receiv', 'letter', 'receiv', 'letter', 'write', 'letter', 'reason', 'reject']\n",
      "['check', 'mail', 'charls', 'make', 'phone', 'call', 'sender', 'complet', 'info', 'archiv', 'letter', 'infor', 'mation', 'write', 'letter', 'reason', 'reject', 'take', 'letter', 'regist', 'secretari', 'receiv', 'letter', 'write', 'letter', 'reason', 'reject']\n",
      "['check', 'mail', 'charls', 'archiv', 'letter', 'infor', 'mation', 'take', 'letter', 'regist', 'secretari', 'receiv', 'letter', 'write', 'letter', 'reason', 'reject']\n",
      "['check', 'mail', 'charls', 'make', 'phone', 'call', 'sender', 'complet', 'info', 'archiv', 'letter', 'infor', 'mation', 'take', 'letter', 'regist', 'secretari', 'take', 'letter', 'regist', 'secretari', 'receiv', 'letter', 'write', 'letter', 'reason', 'reject', 'receiv', 'letter']\n",
      "['check', 'mail', 'charls', 'archiv', 'letter', 'infor', 'mation', 'take', 'letter', 'regist', 'secretari', 'receiv', 'letter', 'take', 'letter', 'regist', 'secretari', 'write', 'letter', 'reason', 'reject']\n",
      "['check', 'mail', 'charls', 'make', 'phone', 'call', 'sender', 'complet', 'info', 'archiv', 'letter', 'infor', 'mation', 'take', 'letter', 'regist', 'secretari', 'receiv', 'letter', 'write', 'letter', 'reason', 'reject']\n",
      "['check', 'mail', 'charls', 'archiv', 'letter', 'infor', 'mation', 'take', 'letter', 'regist', 'secretari', 'receiv', 'letter', 'write', 'letter', 'reason', 'reject']\n",
      "['check', 'mail', 'charls', 'make', 'phone', 'call', 'sender', 'complet', 'info', 'archiv', 'letter', 'infor', 'mation', 'take', 'letter', 'regist', 'secretari', 'receiv', 'letter', 'write', 'letter', 'reason', 'reject']\n",
      "['check', 'mail', 'charls', 'archiv', 'letter', 'infor', 'mation', 'write', 'letter', 'reason', 'reject', 'make', 'phone', 'call', 'sender', 'complet', 'info', 'check', 'mail', 'charls', 'take', 'letter', 'regist', 'secretari', 'take', 'letter', 'regist', 'secretari', 'receiv', 'letter', 'make', 'phone', 'call', 'sender', 'complet', 'info', 'write', 'letter', 'reason', 'reject', 'archiv', 'letter', 'infor', 'mation']\n",
      "['check', 'mail', 'charls', 'make', 'phone', 'call', 'sender', 'complet', 'info', 'make', 'phone', 'call', 'sender', 'complet', 'info', 'archiv', 'letter', 'infor', 'mation', 'take', 'letter', 'regist', 'secretari', 'receiv', 'letter', 'write', 'letter', 'reason', 'reject']\n",
      "['check', 'mail', 'charls', 'archiv', 'letter', 'infor', 'mation', 'take', 'letter', 'regist', 'secretari', 'receiv', 'letter', 'write', 'letter', 'reason', 'reject']\n",
      "['check', 'mail', 'charls', 'make', 'phone', 'call', 'sender', 'complet', 'info', 'archiv', 'letter', 'infor', 'mation', 'take', 'letter', 'regist', 'secretari', 'receiv', 'letter', 'write', 'letter', 'reason', 'reject']\n",
      "['check', 'mail', 'charls', 'archiv', 'letter', 'infor', 'mation', 'take', 'letter', 'regist', 'secretari', 'receiv', 'letter', 'write', 'letter', 'reason', 'reject']\n",
      "['check', 'mail', 'charls', 'make', 'phone', 'call', 'sender', 'complet', 'info', 'archiv', 'letter', 'infor', 'mation', 'take', 'letter', 'regist', 'secretari', 'receiv', 'letter', 'write', 'letter', 'reason', 'reject']\n",
      "['check', 'mail', 'charls', 'archiv', 'letter', 'infor', 'mation', 'take', 'letter', 'regist', 'secretari', 'receiv', 'letter', 'write', 'letter', 'reason', 'reject']\n",
      "['check', 'mail', 'charls', 'make', 'phone', 'call', 'sender', 'complet', 'info', 'archiv', 'letter', 'infor', 'mation', 'take', 'letter', 'regist', 'secretari', 'receiv', 'letter', 'write', 'letter', 'reason', 'reject', 'receiv', 'letter']\n",
      "['check', 'mail', 'charls', 'archiv', 'letter', 'infor', 'mation', 'take', 'letter', 'regist', 'secretari', 'write', 'letter', 'reason', 'reject', 'receiv', 'letter', 'write', 'letter', 'reason', 'reject']\n",
      "['check', 'mail', 'charls', 'make', 'phone', 'call', 'sender', 'complet', 'info', 'archiv', 'letter', 'infor', 'mation', 'take', 'letter', 'regist', 'secretari', 'take', 'letter', 'regist', 'secretari', 'receiv', 'letter', 'write', 'letter', 'reason', 'reject']\n"
     ]
    },
    {
     "name": "stdout",
     "output_type": "stream",
     "text": [
      "['check', 'mail', 'charls', 'check', 'mail', 'charls', 'receiv', 'letter', 'archiv', 'letter', 'infor', 'mation', 'take', 'letter', 'regist', 'secretari', 'make', 'phone', 'call', 'sender', 'complet', 'info', 'receiv', 'letter', 'write', 'letter', 'reason', 'reject']\n",
      "['check', 'mail', 'charls', 'make', 'phone', 'call', 'sender', 'complet', 'info', 'archiv', 'letter', 'infor', 'mation', 'write', 'letter', 'reason', 'reject', 'archiv', 'letter', 'infor', 'mation', 'take', 'letter', 'regist', 'secretari', 'receiv', 'letter', 'write', 'letter', 'reason', 'reject']\n",
      "['check', 'mail', 'charls', 'archiv', 'letter', 'infor', 'mation', 'take', 'letter', 'regist', 'secretari', 'receiv', 'letter', 'write', 'letter', 'reason', 'reject']\n",
      "['check', 'mail', 'charls', 'make', 'phone', 'call', 'sender', 'complet', 'info', 'archiv', 'letter', 'infor', 'mation', 'check', 'mail', 'charls', 'take', 'letter', 'regist', 'secretari', 'make', 'phone', 'call', 'sender', 'complet', 'info', 'receiv', 'letter', 'write', 'letter', 'reason', 'reject']\n",
      "['check', 'mail', 'charls', 'archiv', 'letter', 'infor', 'mation', 'take', 'letter', 'regist', 'secretari', 'receiv', 'letter', 'write', 'letter', 'reason', 'reject', 'archiv', 'letter', 'infor', 'mation']\n",
      "['check', 'mail', 'charls', 'make', 'phone', 'call', 'sender', 'complet', 'info', 'archiv', 'letter', 'infor', 'mation', 'take', 'letter', 'regist', 'secretari', 'receiv', 'letter', 'write', 'letter', 'reason', 'reject']\n",
      "['check', 'mail', 'charls', 'archiv', 'letter', 'infor', 'mation', 'take', 'letter', 'regist', 'secretari', 'receiv', 'letter', 'write', 'letter', 'reason', 'reject']\n",
      "['check', 'mail', 'charls', 'make', 'phone', 'call', 'sender', 'complet', 'info', 'archiv', 'letter', 'infor', 'mation', 'take', 'letter', 'regist', 'secretari', 'receiv', 'letter', 'write', 'letter', 'reason', 'reject']\n",
      "['check', 'mail', 'charls', 'archiv', 'letter', 'infor', 'mation', 'take', 'letter', 'regist', 'secretari', 'receiv', 'letter', 'write', 'letter', 'reason', 'reject']\n",
      "['check', 'mail', 'charls', 'make', 'phone', 'call', 'sender', 'complet', 'info', 'archiv', 'letter', 'infor', 'mation', 'take', 'letter', 'regist', 'secretari', 'receiv', 'letter', 'write', 'letter', 'reason', 'reject']\n",
      "['check', 'mail', 'charls', 'archiv', 'letter', 'infor', 'mation', 'take', 'letter', 'regist', 'secretari', 'receiv', 'letter', 'write', 'letter', 'reason', 'reject']\n",
      "['check', 'mail', 'charls', 'make', 'phone', 'call', 'sender', 'complet', 'info', 'archiv', 'letter', 'infor', 'mation', 'take', 'letter', 'regist', 'secretari', 'receiv', 'letter', 'write', 'letter', 'reason', 'reject']\n",
      "['check', 'mail', 'charls', 'archiv', 'letter', 'infor', 'mation', 'take', 'letter', 'regist', 'secretari', 'receiv', 'letter', 'write', 'letter', 'reason', 'reject']\n",
      "['check', 'mail', 'charls', 'make', 'phone', 'call', 'sender', 'complet', 'info', 'archiv', 'letter', 'infor', 'mation', 'take', 'letter', 'regist', 'secretari', 'receiv', 'letter', 'write', 'letter', 'reason', 'reject']\n",
      "['check', 'mail', 'charls', 'archiv', 'letter', 'infor', 'mation', 'take', 'letter', 'regist', 'secretari', 'receiv', 'letter', 'write', 'letter', 'reason', 'reject', 'write', 'letter', 'reason', 'reject']\n",
      "['check', 'mail', 'charls', 'make', 'phone', 'call', 'sender', 'complet', 'info', 'archiv', 'letter', 'infor', 'mation', 'take', 'letter', 'regist', 'secretari', 'receiv', 'letter', 'write', 'letter', 'reason', 'reject']\n",
      "['check', 'mail', 'charls', 'archiv', 'letter', 'infor', 'mation', 'take', 'letter', 'regist', 'secretari', 'receiv', 'letter', 'check', 'mail', 'charls', 'write', 'letter', 'reason', 'reject']\n",
      "['check', 'mail', 'charls', 'make', 'phone', 'call', 'sender', 'complet', 'info', 'archiv', 'letter', 'infor', 'mation', 'take', 'letter', 'regist', 'secretari', 'take', 'letter', 'regist', 'secretari', 'receiv', 'letter', 'write', 'letter', 'reason', 'reject']\n",
      "['check', 'mail', 'charls', 'check', 'mail', 'charls', 'write', 'letter', 'reason', 'reject', 'archiv', 'letter', 'infor', 'mation', 'take', 'letter', 'regist', 'secretari', 'take', 'letter', 'regist', 'secretari', 'write', 'letter', 'reason', 'reject', 'receiv', 'letter', 'write', 'letter', 'reason', 'reject']\n",
      "['check', 'mail', 'charls', 'make', 'phone', 'call', 'sender', 'complet', 'info', 'archiv', 'letter', 'infor', 'mation', 'take', 'letter', 'regist', 'secretari', 'receiv', 'letter', 'write', 'letter', 'reason', 'reject']\n",
      "['check', 'mail', 'charls', 'archiv', 'letter', 'infor', 'mation', 'take', 'letter', 'regist', 'secretari', 'receiv', 'letter', 'write', 'letter', 'reason', 'reject']\n",
      "['check', 'mail', 'charls', 'make', 'phone', 'call', 'sender', 'complet', 'info', 'archiv', 'letter', 'infor', 'mation', 'take', 'letter', 'regist', 'secretari', 'receiv', 'letter', 'write', 'letter', 'reason', 'reject']\n",
      "['check', 'mail', 'charls', 'archiv', 'letter', 'infor', 'mation', 'take', 'letter', 'regist', 'secretari', 'receiv', 'letter', 'write', 'letter', 'reason', 'reject']\n",
      "['check', 'mail', 'charls', 'make', 'phone', 'call', 'sender', 'complet', 'info', 'archiv', 'letter', 'infor', 'mation', 'take', 'letter', 'regist', 'secretari', 'receiv', 'letter', 'write', 'letter', 'reason', 'reject', 'write', 'letter', 'reason', 'reject']\n",
      "['check', 'mail', 'charls', 'archiv', 'letter', 'infor', 'mation', 'take', 'letter', 'regist', 'secretari', 'receiv', 'letter', 'write', 'letter', 'reason', 'reject']\n",
      "['check', 'mail', 'charls', 'make', 'phone', 'call', 'sender', 'complet', 'info', 'archiv', 'letter', 'infor', 'mation', 'take', 'letter', 'regist', 'secretari', 'receiv', 'letter', 'write', 'letter', 'reason', 'reject', 'check', 'mail', 'charls']\n",
      "['check', 'mail', 'charls', 'archiv', 'letter', 'infor', 'mation', 'take', 'letter', 'regist', 'secretari', 'receiv', 'letter', 'write', 'letter', 'reason', 'reject']\n",
      "['check', 'mail', 'charls', 'write', 'letter', 'reason', 'reject', 'make', 'phone', 'call', 'sender', 'complet', 'info', 'make', 'phone', 'call', 'sender', 'complet', 'info', 'archiv', 'letter', 'infor', 'mation', 'take', 'letter', 'regist', 'secretari', 'receiv', 'letter', 'write', 'letter', 'reason', 'reject']\n",
      "['check', 'mail', 'charls', 'take', 'letter', 'regist', 'secretari', 'make', 'phone', 'call', 'sender', 'complet', 'info', 'archiv', 'letter', 'infor', 'mation', 'take', 'letter', 'regist', 'secretari', 'receiv', 'letter', 'write', 'letter', 'reason', 'reject']\n",
      "['check', 'mail', 'charls', 'make', 'phone', 'call', 'sender', 'complet', 'info', 'archiv', 'letter', 'infor', 'mation', 'take', 'letter', 'regist', 'secretari', 'receiv', 'letter', 'check', 'mail', 'charls', 'write', 'letter', 'reason', 'reject']\n",
      "['check', 'mail', 'charls', 'archiv', 'letter', 'infor', 'mation', 'take', 'letter', 'regist', 'secretari', 'receiv', 'letter', 'write', 'letter', 'reason', 'reject']\n",
      "['check', 'mail', 'charls', 'take', 'letter', 'regist', 'secretari', 'make', 'phone', 'call', 'sender', 'complet', 'info', 'archiv', 'letter', 'infor', 'mation', 'take', 'letter', 'regist', 'secretari', 'receiv', 'letter', 'write', 'letter', 'reason', 'reject']\n",
      "['check', 'mail', 'charls', 'archiv', 'letter', 'infor', 'mation', 'take', 'letter', 'regist', 'secretari', 'receiv', 'letter', 'write', 'letter', 'reason', 'reject', 'write', 'letter', 'reason', 'reject']\n",
      "['check', 'mail', 'charls', 'make', 'phone', 'call', 'sender', 'complet', 'info', 'archiv', 'letter', 'infor', 'mation', 'take', 'letter', 'regist', 'secretari', 'receiv', 'letter', 'write', 'letter', 'reason', 'reject']\n",
      "['check', 'mail', 'charls', 'receiv', 'letter', 'archiv', 'letter', 'infor', 'mation', 'take', 'letter', 'regist', 'secretari', 'take', 'letter', 'regist', 'secretari', 'receiv', 'letter', 'make', 'phone', 'call', 'sender', 'complet', 'info', 'write', 'letter', 'reason', 'reject']\n",
      "['check', 'mail', 'charls', 'make', 'phone', 'call', 'sender', 'complet', 'info', 'archiv', 'letter', 'infor', 'mation', 'make', 'phone', 'call', 'sender', 'complet', 'info', 'take', 'letter', 'regist', 'secretari', 'receiv', 'letter', 'write', 'letter', 'reason', 'reject']\n"
     ]
    },
    {
     "name": "stdout",
     "output_type": "stream",
     "text": [
      "['check', 'mail', 'charls', 'check', 'mail', 'charls', 'archiv', 'letter', 'infor', 'mation', 'take', 'letter', 'regist', 'secretari', 'receiv', 'letter', 'write', 'letter', 'reason', 'reject']\n",
      "['check', 'mail', 'charls', 'make', 'phone', 'call', 'sender', 'complet', 'info', 'archiv', 'letter', 'infor', 'mation', 'take', 'letter', 'regist', 'secretari', 'make', 'phone', 'call', 'sender', 'complet', 'info', 'receiv', 'letter', 'write', 'letter', 'reason', 'reject']\n",
      "['check', 'mail', 'charls', 'archiv', 'letter', 'infor', 'mation', 'take', 'letter', 'regist', 'secretari', 'receiv', 'letter', 'write', 'letter', 'reason', 'reject']\n",
      "['check', 'mail', 'charls', 'make', 'phone', 'call', 'sender', 'complet', 'info', 'write', 'letter', 'reason', 'reject', 'archiv', 'letter', 'infor', 'mation', 'take', 'letter', 'regist', 'secretari', 'receiv', 'letter', 'write', 'letter', 'reason', 'reject', 'check', 'mail', 'charls']\n",
      "['check', 'mail', 'charls', 'archiv', 'letter', 'infor', 'mation', 'take', 'letter', 'regist', 'secretari', 'receiv', 'letter', 'write', 'letter', 'reason', 'reject']\n",
      "['check', 'mail', 'charls', 'make', 'phone', 'call', 'sender', 'complet', 'info', 'archiv', 'letter', 'infor', 'mation', 'take', 'letter', 'regist', 'secretari', 'receiv', 'letter', 'write', 'letter', 'reason', 'reject']\n",
      "['make', 'phone', 'call', 'sender', 'complet', 'info', 'check', 'mail', 'charls', 'archiv', 'letter', 'infor', 'mation', 'take', 'letter', 'regist', 'secretari', 'receiv', 'letter', 'write', 'letter', 'reason', 'reject']\n",
      "['check', 'mail', 'charls', 'receiv', 'letter', 'make', 'phone', 'call', 'sender', 'complet', 'info', 'archiv', 'letter', 'infor', 'mation', 'take', 'letter', 'regist', 'secretari', 'take', 'letter', 'regist', 'secretari', 'receiv', 'letter', 'write', 'letter', 'reason', 'reject']\n",
      "['check', 'mail', 'charls', 'archiv', 'letter', 'infor', 'mation', 'take', 'letter', 'regist', 'secretari', 'receiv', 'letter', 'write', 'letter', 'reason', 'reject']\n",
      "['check', 'mail', 'charls', 'make', 'phone', 'call', 'sender', 'complet', 'info', 'archiv', 'letter', 'infor', 'mation', 'take', 'letter', 'regist', 'secretari', 'receiv', 'letter', 'write', 'letter', 'reason', 'reject']\n",
      "['check', 'mail', 'charls', 'archiv', 'letter', 'infor', 'mation', 'take', 'letter', 'regist', 'secretari', 'receiv', 'letter', 'write', 'letter', 'reason', 'reject']\n",
      "['check', 'mail', 'charls', 'make', 'phone', 'call', 'sender', 'complet', 'info', 'archiv', 'letter', 'infor', 'mation', 'take', 'letter', 'regist', 'secretari', 'receiv', 'letter', 'write', 'letter', 'reason', 'reject']\n",
      "['check', 'mail', 'charls', 'archiv', 'letter', 'infor', 'mation', 'take', 'letter', 'regist', 'secretari', 'receiv', 'letter', 'write', 'letter', 'reason', 'reject']\n",
      "['check', 'mail', 'charls', 'make', 'phone', 'call', 'sender', 'complet', 'info', 'archiv', 'letter', 'infor', 'mation', 'take', 'letter', 'regist', 'secretari', 'check', 'mail', 'charls', 'receiv', 'letter', 'write', 'letter', 'reason', 'reject']\n",
      "['check', 'mail', 'charls', 'archiv', 'letter', 'infor', 'mation', 'take', 'letter', 'regist', 'secretari', 'receiv', 'letter', 'write', 'letter', 'reason', 'reject']\n",
      "['check', 'mail', 'charls', 'make', 'phone', 'call', 'sender', 'complet', 'info', 'archiv', 'letter', 'infor', 'mation', 'take', 'letter', 'regist', 'secretari', 'receiv', 'letter', 'write', 'letter', 'reason', 'reject', 'write', 'letter', 'reason', 'reject']\n",
      "['check', 'mail', 'charls', 'archiv', 'letter', 'infor', 'mation', 'take', 'letter', 'regist', 'secretari', 'receiv', 'letter', 'write', 'letter', 'reason', 'reject']\n",
      "['check', 'mail', 'charls', 'make', 'phone', 'call', 'sender', 'complet', 'info', 'archiv', 'letter', 'infor', 'mation', 'take', 'letter', 'regist', 'secretari', 'receiv', 'letter', 'write', 'letter', 'reason', 'reject', 'write', 'letter', 'reason', 'reject']\n",
      "['check', 'mail', 'charls', 'archiv', 'letter', 'infor', 'mation', 'check', 'mail', 'charls', 'take', 'letter', 'regist', 'secretari', 'receiv', 'letter', 'write', 'letter', 'reason', 'reject']\n",
      "['check', 'mail', 'charls', 'make', 'phone', 'call', 'sender', 'complet', 'info', 'archiv', 'letter', 'infor', 'mation', 'take', 'letter', 'regist', 'secretari', 'receiv', 'letter', 'write', 'letter', 'reason', 'reject']\n",
      "['check', 'mail', 'charls', 'archiv', 'letter', 'infor', 'mation', 'take', 'letter', 'regist', 'secretari', 'receiv', 'letter', 'write', 'letter', 'reason', 'reject']\n",
      "['check', 'mail', 'charls', 'make', 'phone', 'call', 'sender', 'complet', 'info', 'archiv', 'letter', 'infor', 'mation', 'take', 'letter', 'regist', 'secretari', 'receiv', 'letter', 'write', 'letter', 'reason', 'reject']\n",
      "['check', 'mail', 'charls', 'archiv', 'letter', 'infor', 'mation', 'make', 'phone', 'call', 'sender', 'complet', 'info', 'archiv', 'letter', 'infor', 'mation', 'take', 'letter', 'regist', 'secretari', 'archiv', 'letter', 'infor', 'mation', 'receiv', 'letter', 'write', 'letter', 'reason', 'reject']\n",
      "['check', 'mail', 'charls', 'make', 'phone', 'call', 'sender', 'complet', 'info', 'archiv', 'letter', 'infor', 'mation', 'take', 'letter', 'regist', 'secretari', 'receiv', 'letter', 'write', 'letter', 'reason', 'reject']\n",
      "['check', 'mail', 'charls', 'archiv', 'letter', 'infor', 'mation', 'take', 'letter', 'regist', 'secretari', 'receiv', 'letter', 'write', 'letter', 'reason', 'reject']\n",
      "['check', 'mail', 'charls', 'make', 'phone', 'call', 'sender', 'complet', 'info', 'archiv', 'letter', 'infor', 'mation', 'take', 'letter', 'regist', 'secretari', 'receiv', 'letter', 'write', 'letter', 'reason', 'reject']\n",
      "['check', 'mail', 'charls', 'archiv', 'letter', 'infor', 'mation', 'take', 'letter', 'regist', 'secretari', 'receiv', 'letter', 'make', 'phone', 'call', 'sender', 'complet', 'info', 'write', 'letter', 'reason', 'reject']\n",
      "['check', 'mail', 'charls', 'make', 'phone', 'call', 'sender', 'complet', 'info', 'archiv', 'letter', 'infor', 'mation', 'take', 'letter', 'regist', 'secretari', 'receiv', 'letter', 'write', 'letter', 'reason', 'reject']\n",
      "['check', 'mail', 'charls', 'archiv', 'letter', 'infor', 'mation', 'archiv', 'letter', 'infor', 'mation', 'take', 'letter', 'regist', 'secretari', 'receiv', 'letter', 'write', 'letter', 'reason', 'reject']\n",
      "['check', 'mail', 'charls', 'make', 'phone', 'call', 'sender', 'complet', 'info', 'archiv', 'letter', 'infor', 'mation', 'take', 'letter', 'regist', 'secretari', 'receiv', 'letter', 'write', 'letter', 'reason', 'reject']\n",
      "['check', 'mail', 'charls', 'archiv', 'letter', 'infor', 'mation', 'take', 'letter', 'regist', 'secretari', 'receiv', 'letter', 'write', 'letter', 'reason', 'reject']\n",
      "['check', 'mail', 'charls', 'make', 'phone', 'call', 'sender', 'complet', 'info', 'archiv', 'letter', 'infor', 'mation', 'take', 'letter', 'regist', 'secretari', 'receiv', 'letter', 'write', 'letter', 'reason', 'reject']\n",
      "['check', 'mail', 'charls', 'archiv', 'letter', 'infor', 'mation', 'take', 'letter', 'regist', 'secretari', 'receiv', 'letter', 'make', 'phone', 'call', 'sender', 'complet', 'info', 'write', 'letter', 'reason', 'reject']\n",
      "['check', 'mail', 'charls', 'make', 'phone', 'call', 'sender', 'complet', 'info', 'archiv', 'letter', 'infor', 'mation', 'take', 'letter', 'regist', 'secretari', 'receiv', 'letter', 'write', 'letter', 'reason', 'reject']\n",
      "['check', 'mail', 'charls', 'archiv', 'letter', 'infor', 'mation', 'take', 'letter', 'regist', 'secretari', 'receiv', 'letter', 'check', 'mail', 'charls', 'make', 'phone', 'call', 'sender', 'complet', 'info', 'write', 'letter', 'reason', 'reject']\n",
      "['check', 'mail', 'charls', 'make', 'phone', 'call', 'sender', 'complet', 'info', 'archiv', 'letter', 'infor', 'mation', 'take', 'letter', 'regist', 'secretari', 'receiv', 'letter', 'write', 'letter', 'reason', 'reject']\n",
      "['check', 'mail', 'charls', 'archiv', 'letter', 'infor', 'mation', 'take', 'letter', 'regist', 'secretari', 'receiv', 'letter', 'write', 'letter', 'reason', 'reject', 'make', 'phone', 'call', 'sender', 'complet', 'info']\n",
      "['check', 'mail', 'charls', 'make', 'phone', 'call', 'sender', 'complet', 'info', 'archiv', 'letter', 'infor', 'mation', 'take', 'letter', 'regist', 'secretari', 'receiv', 'letter', 'write', 'letter', 'reason', 'reject']\n"
     ]
    },
    {
     "name": "stdout",
     "output_type": "stream",
     "text": [
      "['check', 'mail', 'charls', 'archiv', 'letter', 'infor', 'mation', 'take', 'letter', 'regist', 'secretari', 'receiv', 'letter', 'write', 'letter', 'reason', 'reject']\n",
      "['check', 'mail', 'charls', 'make', 'phone', 'call', 'sender', 'complet', 'info', 'archiv', 'letter', 'infor', 'mation', 'take', 'letter', 'regist', 'secretari', 'write', 'letter', 'reason', 'reject', 'make', 'phone', 'call', 'sender', 'complet', 'info', 'receiv', 'letter', 'write', 'letter', 'reason', 'reject']\n",
      "['check', 'mail', 'charls', 'archiv', 'letter', 'infor', 'mation', 'take', 'letter', 'regist', 'secretari', 'receiv', 'letter', 'write', 'letter', 'reason', 'reject']\n",
      "['check', 'mail', 'charls', 'make', 'phone', 'call', 'sender', 'complet', 'info', 'archiv', 'letter', 'infor', 'mation', 'take', 'letter', 'regist', 'secretari', 'receiv', 'letter', 'write', 'letter', 'reason', 'reject']\n",
      "['check', 'mail', 'charls', 'archiv', 'letter', 'infor', 'mation', 'take', 'letter', 'regist', 'secretari', 'receiv', 'letter', 'write', 'letter', 'reason', 'reject']\n",
      "['check', 'mail', 'charls', 'make', 'phone', 'call', 'sender', 'complet', 'info', 'archiv', 'letter', 'infor', 'mation', 'take', 'letter', 'regist', 'secretari', 'receiv', 'letter', 'write', 'letter', 'reason', 'reject']\n",
      "['check', 'mail', 'charls', 'archiv', 'letter', 'infor', 'mation', 'take', 'letter', 'regist', 'secretari', 'receiv', 'letter', 'write', 'letter', 'reason', 'reject', 'make', 'phone', 'call', 'sender', 'complet', 'info']\n",
      "['check', 'mail', 'charls', 'make', 'phone', 'call', 'sender', 'complet', 'info', 'archiv', 'letter', 'infor', 'mation', 'archiv', 'letter', 'infor', 'mation', 'take', 'letter', 'regist', 'secretari', 'receiv', 'letter', 'check', 'mail', 'charls', 'receiv', 'letter', 'write', 'letter', 'reason', 'reject']\n",
      "['check', 'mail', 'charls', 'archiv', 'letter', 'infor', 'mation', 'take', 'letter', 'regist', 'secretari', 'write', 'letter', 'reason', 'reject', 'receiv', 'letter', 'write', 'letter', 'reason', 'reject']\n",
      "['check', 'mail', 'charls', 'make', 'phone', 'call', 'sender', 'complet', 'info', 'archiv', 'letter', 'infor', 'mation', 'take', 'letter', 'regist', 'secretari', 'receiv', 'letter', 'write', 'letter', 'reason', 'reject']\n",
      "['check', 'mail', 'charls', 'archiv', 'letter', 'infor', 'mation', 'check', 'mail', 'charls', 'take', 'letter', 'regist', 'secretari', 'receiv', 'letter', 'write', 'letter', 'reason', 'reject']\n",
      "['check', 'mail', 'charls', 'make', 'phone', 'call', 'sender', 'complet', 'info', 'archiv', 'letter', 'infor', 'mation', 'take', 'letter', 'regist', 'secretari', 'receiv', 'letter', 'write', 'letter', 'reason', 'reject']\n",
      "['check', 'mail', 'charls', 'receiv', 'letter', 'archiv', 'letter', 'infor', 'mation', 'check', 'mail', 'charls', 'take', 'letter', 'regist', 'secretari', 'receiv', 'letter', 'write', 'letter', 'reason', 'reject']\n",
      "['check', 'mail', 'charls', 'make', 'phone', 'call', 'sender', 'complet', 'info', 'archiv', 'letter', 'infor', 'mation', 'make', 'phone', 'call', 'sender', 'complet', 'info', 'check', 'mail', 'charls', 'archiv', 'letter', 'infor', 'mation', 'take', 'letter', 'regist', 'secretari', 'receiv', 'letter', 'make', 'phone', 'call', 'sender', 'complet', 'info', 'write', 'letter', 'reason', 'reject', 'receiv', 'letter']\n",
      "['check', 'mail', 'charls', 'archiv', 'letter', 'infor', 'mation', 'take', 'letter', 'regist', 'secretari', 'receiv', 'letter', 'write', 'letter', 'reason', 'reject']\n",
      "['check', 'mail', 'charls', 'make', 'phone', 'call', 'sender', 'complet', 'info', 'check', 'mail', 'charls', 'archiv', 'letter', 'infor', 'mation', 'take', 'letter', 'regist', 'secretari', 'receiv', 'letter', 'write', 'letter', 'reason', 'reject']\n",
      "['check', 'mail', 'charls', 'archiv', 'letter', 'infor', 'mation', 'take', 'letter', 'regist', 'secretari', 'receiv', 'letter', 'write', 'letter', 'reason', 'reject']\n",
      "['check', 'mail', 'charls', 'make', 'phone', 'call', 'sender', 'complet', 'info', 'archiv', 'letter', 'infor', 'mation', 'take', 'letter', 'regist', 'secretari', 'receiv', 'letter', 'write', 'letter', 'reason', 'reject']\n",
      "['check', 'mail', 'charls', 'archiv', 'letter', 'infor', 'mation', 'take', 'letter', 'regist', 'secretari', 'receiv', 'letter', 'receiv', 'letter', 'make', 'phone', 'call', 'sender', 'complet', 'info', 'receiv', 'letter', 'write', 'letter', 'reason', 'reject', 'make', 'phone', 'call', 'sender', 'complet', 'info']\n",
      "['check', 'mail', 'charls', 'make', 'phone', 'call', 'sender', 'complet', 'info', 'archiv', 'letter', 'infor', 'mation', 'take', 'letter', 'regist', 'secretari', 'receiv', 'letter', 'write', 'letter', 'reason', 'reject']\n",
      "['archiv', 'letter', 'infor', 'mation', 'write', 'letter', 'reason', 'reject', 'take', 'letter', 'regist', 'secretari', 'check', 'mail', 'charls', 'archiv', 'letter', 'infor', 'mation', 'take', 'letter', 'regist', 'secretari', 'receiv', 'letter', 'receiv', 'letter', 'write', 'letter', 'reason', 'reject']\n",
      "['check', 'mail', 'charls', 'make', 'phone', 'call', 'sender', 'complet', 'info', 'archiv', 'letter', 'infor', 'mation', 'take', 'letter', 'regist', 'secretari', 'receiv', 'letter', 'write', 'letter', 'reason', 'reject']\n",
      "['check', 'mail', 'charls', 'archiv', 'letter', 'infor', 'mation', 'take', 'letter', 'regist', 'secretari', 'receiv', 'letter', 'write', 'letter', 'reason', 'reject']\n",
      "['check', 'mail', 'charls', 'make', 'phone', 'call', 'sender', 'complet', 'info', 'archiv', 'letter', 'infor', 'mation', 'take', 'letter', 'regist', 'secretari', 'receiv', 'letter', 'write', 'letter', 'reason', 'reject']\n",
      "['check', 'mail', 'charls', 'check', 'mail', 'charls', 'archiv', 'letter', 'infor', 'mation', 'check', 'mail', 'charls', 'receiv', 'letter', 'archiv', 'letter', 'infor', 'mation', 'take', 'letter', 'regist', 'secretari', 'take', 'letter', 'regist', 'secretari', 'receiv', 'letter', 'write', 'letter', 'reason', 'reject']\n",
      "['check', 'mail', 'charls', 'make', 'phone', 'call', 'sender', 'complet', 'info', 'archiv', 'letter', 'infor', 'mation', 'take', 'letter', 'regist', 'secretari', 'receiv', 'letter', 'write', 'letter', 'reason', 'reject']\n",
      "['check', 'mail', 'charls', 'archiv', 'letter', 'infor', 'mation', 'take', 'letter', 'regist', 'secretari', 'receiv', 'letter', 'write', 'letter', 'reason', 'reject']\n",
      "['check', 'mail', 'charls', 'make', 'phone', 'call', 'sender', 'complet', 'info', 'make', 'phone', 'call', 'sender', 'complet', 'info', 'archiv', 'letter', 'infor', 'mation', 'take', 'letter', 'regist', 'secretari', 'receiv', 'letter', 'write', 'letter', 'reason', 'reject']\n",
      "['check', 'mail', 'charls', 'archiv', 'letter', 'infor', 'mation', 'take', 'letter', 'regist', 'secretari', 'receiv', 'letter', 'receiv', 'letter', 'write', 'letter', 'reason', 'reject']\n",
      "['check', 'mail', 'charls', 'make', 'phone', 'call', 'sender', 'complet', 'info', 'archiv', 'letter', 'infor', 'mation', 'take', 'letter', 'regist', 'secretari', 'receiv', 'letter', 'write', 'letter', 'reason', 'reject']\n",
      "['check', 'mail', 'charls', 'archiv', 'letter', 'infor', 'mation', 'take', 'letter', 'regist', 'secretari', 'receiv', 'letter', 'write', 'letter', 'reason', 'reject']\n",
      "['check', 'mail', 'charls', 'make', 'phone', 'call', 'sender', 'complet', 'info', 'archiv', 'letter', 'infor', 'mation', 'take', 'letter', 'regist', 'secretari', 'receiv', 'letter', 'write', 'letter', 'reason', 'reject']\n",
      "['check', 'mail', 'charls', 'archiv', 'letter', 'infor', 'mation', 'take', 'letter', 'regist', 'secretari', 'receiv', 'letter', 'write', 'letter', 'reason', 'reject']\n",
      "['check', 'mail', 'charls', 'take', 'letter', 'regist', 'secretari', 'make', 'phone', 'call', 'sender', 'complet', 'info', 'archiv', 'letter', 'infor', 'mation', 'take', 'letter', 'regist', 'secretari', 'receiv', 'letter', 'write', 'letter', 'reason', 'reject', 'take', 'letter', 'regist', 'secretari']\n",
      "['check', 'mail', 'charls', 'archiv', 'letter', 'infor', 'mation', 'take', 'letter', 'regist', 'secretari', 'receiv', 'letter', 'write', 'letter', 'reason', 'reject']\n",
      "['check', 'mail', 'charls', 'make', 'phone', 'call', 'sender', 'complet', 'info', 'archiv', 'letter', 'infor', 'mation', 'take', 'letter', 'regist', 'secretari', 'receiv', 'letter', 'write', 'letter', 'reason', 'reject']\n"
     ]
    },
    {
     "name": "stdout",
     "output_type": "stream",
     "text": [
      "['check', 'mail', 'charls', 'archiv', 'letter', 'infor', 'mation', 'take', 'letter', 'regist', 'secretari', 'receiv', 'letter', 'write', 'letter', 'reason', 'reject']\n",
      "['check', 'mail', 'charls', 'receiv', 'letter', 'make', 'phone', 'call', 'sender', 'complet', 'info', 'archiv', 'letter', 'infor', 'mation', 'take', 'letter', 'regist', 'secretari', 'receiv', 'letter', 'write', 'letter', 'reason', 'reject', 'receiv', 'letter', 'archiv', 'letter', 'infor', 'mation']\n",
      "['check', 'mail', 'charls', 'archiv', 'letter', 'infor', 'mation', 'archiv', 'letter', 'infor', 'mation', 'take', 'letter', 'regist', 'secretari', 'receiv', 'letter', 'receiv', 'letter', 'write', 'letter', 'reason', 'reject']\n",
      "['check', 'mail', 'charls', 'make', 'phone', 'call', 'sender', 'complet', 'info', 'archiv', 'letter', 'infor', 'mation', 'take', 'letter', 'regist', 'secretari', 'receiv', 'letter', 'archiv', 'letter', 'infor', 'mation', 'write', 'letter', 'reason', 'reject']\n",
      "['check', 'mail', 'charls', 'archiv', 'letter', 'infor', 'mation', 'take', 'letter', 'regist', 'secretari', 'receiv', 'letter', 'write', 'letter', 'reason', 'reject']\n",
      "['check', 'mail', 'charls', 'make', 'phone', 'call', 'sender', 'complet', 'info', 'archiv', 'letter', 'infor', 'mation', 'take', 'letter', 'regist', 'secretari', 'receiv', 'letter', 'write', 'letter', 'reason', 'reject']\n",
      "['check', 'mail', 'charls', 'check', 'mail', 'charls', 'archiv', 'letter', 'infor', 'mation', 'receiv', 'letter', 'take', 'letter', 'regist', 'secretari', 'take', 'letter', 'regist', 'secretari', 'archiv', 'letter', 'infor', 'mation', 'receiv', 'letter', 'write', 'letter', 'reason', 'reject']\n",
      "['check', 'mail', 'charls', 'make', 'phone', 'call', 'sender', 'complet', 'info', 'receiv', 'letter', 'take', 'letter', 'regist', 'secretari', 'archiv', 'letter', 'infor', 'mation', 'take', 'letter', 'regist', 'secretari', 'receiv', 'letter', 'write', 'letter', 'reason', 'reject', 'make', 'phone', 'call', 'sender', 'complet', 'info']\n",
      "['check', 'mail', 'charls', 'archiv', 'letter', 'infor', 'mation', 'take', 'letter', 'regist', 'secretari', 'receiv', 'letter', 'write', 'letter', 'reason', 'reject']\n",
      "['check', 'mail', 'charls', 'make', 'phone', 'call', 'sender', 'complet', 'info', 'archiv', 'letter', 'infor', 'mation', 'receiv', 'letter', 'take', 'letter', 'regist', 'secretari', 'receiv', 'letter', 'write', 'letter', 'reason', 'reject']\n",
      "['check', 'mail', 'charls', 'archiv', 'letter', 'infor', 'mation', 'take', 'letter', 'regist', 'secretari', 'receiv', 'letter', 'write', 'letter', 'reason', 'reject', 'archiv', 'letter', 'infor', 'mation']\n",
      "['check', 'mail', 'charls', 'make', 'phone', 'call', 'sender', 'complet', 'info', 'archiv', 'letter', 'infor', 'mation', 'take', 'letter', 'regist', 'secretari', 'receiv', 'letter', 'write', 'letter', 'reason', 'reject', 'receiv', 'letter']\n",
      "['check', 'mail', 'charls', 'archiv', 'letter', 'infor', 'mation', 'take', 'letter', 'regist', 'secretari', 'receiv', 'letter', 'write', 'letter', 'reason', 'reject']\n",
      "['check', 'mail', 'charls', 'make', 'phone', 'call', 'sender', 'complet', 'info', 'archiv', 'letter', 'infor', 'mation', 'take', 'letter', 'regist', 'secretari', 'receiv', 'letter', 'write', 'letter', 'reason', 'reject']\n",
      "['check', 'mail', 'charls', 'archiv', 'letter', 'infor', 'mation', 'take', 'letter', 'regist', 'secretari', 'receiv', 'letter', 'write', 'letter', 'reason', 'reject']\n",
      "['check', 'mail', 'charls', 'make', 'phone', 'call', 'sender', 'complet', 'info', 'archiv', 'letter', 'infor', 'mation', 'take', 'letter', 'regist', 'secretari', 'receiv', 'letter', 'write', 'letter', 'reason', 'reject']\n",
      "['check', 'mail', 'charls', 'archiv', 'letter', 'infor', 'mation', 'take', 'letter', 'regist', 'secretari', 'receiv', 'letter', 'write', 'letter', 'reason', 'reject']\n",
      "['check', 'mail', 'charls', 'make', 'phone', 'call', 'sender', 'complet', 'info', 'write', 'letter', 'reason', 'reject', 'archiv', 'letter', 'infor', 'mation', 'take', 'letter', 'regist', 'secretari', 'receiv', 'letter', 'write', 'letter', 'reason', 'reject']\n",
      "['check', 'mail', 'charls', 'archiv', 'letter', 'infor', 'mation', 'take', 'letter', 'regist', 'secretari', 'receiv', 'letter', 'write', 'letter', 'reason', 'reject']\n",
      "['check', 'mail', 'charls', 'receiv', 'letter', 'make', 'phone', 'call', 'sender', 'complet', 'info', 'archiv', 'letter', 'infor', 'mation', 'take', 'letter', 'regist', 'secretari', 'receiv', 'letter', 'write', 'letter', 'reason', 'reject']\n",
      "['check', 'mail', 'charls', 'archiv', 'letter', 'infor', 'mation', 'take', 'letter', 'regist', 'secretari', 'receiv', 'letter', 'write', 'letter', 'reason', 'reject']\n",
      "['check', 'mail', 'charls', 'make', 'phone', 'call', 'sender', 'complet', 'info', 'archiv', 'letter', 'infor', 'mation', 'take', 'letter', 'regist', 'secretari', 'receiv', 'letter', 'write', 'letter', 'reason', 'reject']\n",
      "['check', 'mail', 'charls', 'archiv', 'letter', 'infor', 'mation', 'archiv', 'letter', 'infor', 'mation', 'take', 'letter', 'regist', 'secretari', 'receiv', 'letter', 'write', 'letter', 'reason', 'reject']\n",
      "['check', 'mail', 'charls', 'make', 'phone', 'call', 'sender', 'complet', 'info', 'archiv', 'letter', 'infor', 'mation', 'take', 'letter', 'regist', 'secretari', 'receiv', 'letter', 'write', 'letter', 'reason', 'reject', 'write', 'letter', 'reason', 'reject', 'receiv', 'letter']\n",
      "['check', 'mail', 'charls', 'archiv', 'letter', 'infor', 'mation', 'take', 'letter', 'regist', 'secretari', 'receiv', 'letter', 'take', 'letter', 'regist', 'secretari', 'check', 'mail', 'charls', 'archiv', 'letter', 'infor', 'mation', 'write', 'letter', 'reason', 'reject', 'make', 'phone', 'call', 'sender', 'complet', 'info']\n",
      "['check', 'mail', 'charls', 'write', 'letter', 'reason', 'reject', 'make', 'phone', 'call', 'sender', 'complet', 'info', 'archiv', 'letter', 'infor', 'mation', 'take', 'letter', 'regist', 'secretari', 'receiv', 'letter', 'write', 'letter', 'reason', 'reject']\n",
      "['check', 'mail', 'charls', 'archiv', 'letter', 'infor', 'mation', 'take', 'letter', 'regist', 'secretari', 'receiv', 'letter', 'write', 'letter', 'reason', 'reject']\n",
      "['check', 'mail', 'charls', 'make', 'phone', 'call', 'sender', 'complet', 'info', 'archiv', 'letter', 'infor', 'mation', 'take', 'letter', 'regist', 'secretari', 'receiv', 'letter', 'write', 'letter', 'reason', 'reject']\n",
      "['check', 'mail', 'charls', 'archiv', 'letter', 'infor', 'mation', 'take', 'letter', 'regist', 'secretari', 'receiv', 'letter', 'write', 'letter', 'reason', 'reject']\n",
      "['check', 'mail', 'charls', 'receiv', 'letter', 'make', 'phone', 'call', 'sender', 'complet', 'info', 'archiv', 'letter', 'infor', 'mation', 'take', 'letter', 'regist', 'secretari', 'receiv', 'letter', 'write', 'letter', 'reason', 'reject']\n",
      "['check', 'mail', 'charls', 'archiv', 'letter', 'infor', 'mation', 'take', 'letter', 'regist', 'secretari', 'receiv', 'letter', 'write', 'letter', 'reason', 'reject']\n",
      "['check', 'mail', 'charls', 'make', 'phone', 'call', 'sender', 'complet', 'info', 'make', 'phone', 'call', 'sender', 'complet', 'info', 'archiv', 'letter', 'infor', 'mation', 'take', 'letter', 'regist', 'secretari', 'receiv', 'letter', 'write', 'letter', 'reason', 'reject']\n",
      "['check', 'mail', 'charls', 'make', 'phone', 'call', 'sender', 'complet', 'info', 'write', 'letter', 'reason', 'reject', 'archiv', 'letter', 'infor', 'mation', 'take', 'letter', 'regist', 'secretari', 'receiv', 'letter', 'write', 'letter', 'reason', 'reject']\n",
      "['write', 'letter', 'reason', 'reject', 'check', 'mail', 'charls', 'make', 'phone', 'call', 'sender', 'complet', 'info', 'archiv', 'letter', 'infor', 'mation', 'take', 'letter', 'regist', 'secretari', 'receiv', 'letter', 'write', 'letter', 'reason', 'reject']\n",
      "['check', 'mail', 'charls', 'archiv', 'letter', 'infor', 'mation', 'take', 'letter', 'regist', 'secretari', 'receiv', 'letter', 'write', 'letter', 'reason', 'reject']\n",
      "['check', 'mail', 'charls', 'make', 'phone', 'call', 'sender', 'complet', 'info', 'archiv', 'letter', 'infor', 'mation', 'check', 'mail', 'charls', 'take', 'letter', 'regist', 'secretari', 'receiv', 'letter', 'write', 'letter', 'reason', 'reject']\n"
     ]
    },
    {
     "name": "stdout",
     "output_type": "stream",
     "text": [
      "['check', 'mail', 'charls', 'write', 'letter', 'reason', 'reject', 'archiv', 'letter', 'infor', 'mation', 'receiv', 'letter', 'take', 'letter', 'regist', 'secretari', 'receiv', 'letter', 'write', 'letter', 'reason', 'reject']\n",
      "['check', 'mail', 'charls', 'check', 'mail', 'charls', 'make', 'phone', 'call', 'sender', 'complet', 'info', 'archiv', 'letter', 'infor', 'mation', 'take', 'letter', 'regist', 'secretari', 'receiv', 'letter', 'write', 'letter', 'reason', 'reject']\n",
      "['check', 'mail', 'charls', 'archiv', 'letter', 'infor', 'mation', 'take', 'letter', 'regist', 'secretari', 'receiv', 'letter', 'write', 'letter', 'reason', 'reject']\n",
      "['check', 'mail', 'charls', 'make', 'phone', 'call', 'sender', 'complet', 'info', 'archiv', 'letter', 'infor', 'mation', 'take', 'letter', 'regist', 'secretari', 'receiv', 'letter', 'write', 'letter', 'reason', 'reject']\n",
      "['check', 'mail', 'charls', 'archiv', 'letter', 'infor', 'mation', 'archiv', 'letter', 'infor', 'mation', 'take', 'letter', 'regist', 'secretari', 'receiv', 'letter', 'write', 'letter', 'reason', 'reject']\n",
      "['check', 'mail', 'charls', 'make', 'phone', 'call', 'sender', 'complet', 'info', 'archiv', 'letter', 'infor', 'mation', 'take', 'letter', 'regist', 'secretari', 'receiv', 'letter', 'write', 'letter', 'reason', 'reject']\n",
      "['check', 'mail', 'charls', 'write', 'letter', 'reason', 'reject', 'archiv', 'letter', 'infor', 'mation', 'take', 'letter', 'regist', 'secretari', 'make', 'phone', 'call', 'sender', 'complet', 'info', 'receiv', 'letter', 'write', 'letter', 'reason', 'reject']\n",
      "['check', 'mail', 'charls', 'make', 'phone', 'call', 'sender', 'complet', 'info', 'archiv', 'letter', 'infor', 'mation', 'take', 'letter', 'regist', 'secretari', 'take', 'letter', 'regist', 'secretari', 'receiv', 'letter', 'write', 'letter', 'reason', 'reject']\n",
      "['check', 'mail', 'charls', 'archiv', 'letter', 'infor', 'mation', 'take', 'letter', 'regist', 'secretari', 'receiv', 'letter', 'write', 'letter', 'reason', 'reject']\n",
      "['check', 'mail', 'charls', 'make', 'phone', 'call', 'sender', 'complet', 'info', 'archiv', 'letter', 'infor', 'mation', 'take', 'letter', 'regist', 'secretari', 'receiv', 'letter', 'write', 'letter', 'reason', 'reject']\n",
      "['check', 'mail', 'charls', 'archiv', 'letter', 'infor', 'mation', 'take', 'letter', 'regist', 'secretari', 'receiv', 'letter', 'write', 'letter', 'reason', 'reject']\n",
      "['check', 'mail', 'charls', 'make', 'phone', 'call', 'sender', 'complet', 'info', 'archiv', 'letter', 'infor', 'mation', 'take', 'letter', 'regist', 'secretari', 'receiv', 'letter', 'write', 'letter', 'reason', 'reject']\n",
      "['check', 'mail', 'charls', 'archiv', 'letter', 'infor', 'mation', 'take', 'letter', 'regist', 'secretari', 'receiv', 'letter', 'write', 'letter', 'reason', 'reject']\n",
      "['check', 'mail', 'charls', 'receiv', 'letter', 'make', 'phone', 'call', 'sender', 'complet', 'info', 'archiv', 'letter', 'infor', 'mation', 'take', 'letter', 'regist', 'secretari', 'receiv', 'letter', 'make', 'phone', 'call', 'sender', 'complet', 'info', 'write', 'letter', 'reason', 'reject']\n",
      "['make', 'phone', 'call', 'sender', 'complet', 'info', 'check', 'mail', 'charls', 'take', 'letter', 'regist', 'secretari', 'archiv', 'letter', 'infor', 'mation', 'take', 'letter', 'regist', 'secretari', 'receiv', 'letter', 'write', 'letter', 'reason', 'reject', 'receiv', 'letter', 'write', 'letter', 'reason', 'reject']\n",
      "['check', 'mail', 'charls', 'make', 'phone', 'call', 'sender', 'complet', 'info', 'archiv', 'letter', 'infor', 'mation', 'take', 'letter', 'regist', 'secretari', 'receiv', 'letter', 'write', 'letter', 'reason', 'reject']\n",
      "['check', 'mail', 'charls', 'archiv', 'letter', 'infor', 'mation', 'take', 'letter', 'regist', 'secretari', 'receiv', 'letter', 'write', 'letter', 'reason', 'reject']\n",
      "['check', 'mail', 'charls', 'make', 'phone', 'call', 'sender', 'complet', 'info', 'archiv', 'letter', 'infor', 'mation', 'take', 'letter', 'regist', 'secretari', 'receiv', 'letter', 'write', 'letter', 'reason', 'reject']\n",
      "['check', 'mail', 'charls', 'write', 'letter', 'reason', 'reject', 'take', 'letter', 'regist', 'secretari', 'archiv', 'letter', 'infor', 'mation', 'take', 'letter', 'regist', 'secretari', 'check', 'mail', 'charls', 'receiv', 'letter', 'write', 'letter', 'reason', 'reject']\n",
      "['check', 'mail', 'charls', 'receiv', 'letter', 'make', 'phone', 'call', 'sender', 'complet', 'info', 'archiv', 'letter', 'infor', 'mation', 'take', 'letter', 'regist', 'secretari', 'receiv', 'letter', 'receiv', 'letter', 'write', 'letter', 'reason', 'reject']\n",
      "['check', 'mail', 'charls', 'receiv', 'letter', 'write', 'letter', 'reason', 'reject', 'check', 'mail', 'charls', 'archiv', 'letter', 'infor', 'mation', 'archiv', 'letter', 'infor', 'mation', 'take', 'letter', 'regist', 'secretari', 'receiv', 'letter', 'check', 'mail', 'charls', 'archiv', 'letter', 'infor', 'mation', 'write', 'letter', 'reason', 'reject']\n",
      "['write', 'letter', 'reason', 'reject', 'check', 'mail', 'charls', 'archiv', 'letter', 'infor', 'mation', 'make', 'phone', 'call', 'sender', 'complet', 'info', 'write', 'letter', 'reason', 'reject', 'archiv', 'letter', 'infor', 'mation', 'receiv', 'letter', 'take', 'letter', 'regist', 'secretari', 'receiv', 'letter', 'write', 'letter', 'reason', 'reject']\n",
      "['check', 'mail', 'charls', 'archiv', 'letter', 'infor', 'mation', 'take', 'letter', 'regist', 'secretari', 'receiv', 'letter', 'write', 'letter', 'reason', 'reject']\n",
      "['check', 'mail', 'charls', 'make', 'phone', 'call', 'sender', 'complet', 'info', 'archiv', 'letter', 'infor', 'mation', 'take', 'letter', 'regist', 'secretari', 'receiv', 'letter', 'write', 'letter', 'reason', 'reject']\n",
      "['check', 'mail', 'charls', 'archiv', 'letter', 'infor', 'mation', 'take', 'letter', 'regist', 'secretari', 'receiv', 'letter', 'write', 'letter', 'reason', 'reject']\n",
      "['check', 'mail', 'charls', 'make', 'phone', 'call', 'sender', 'complet', 'info', 'archiv', 'letter', 'infor', 'mation', 'take', 'letter', 'regist', 'secretari', 'receiv', 'letter', 'write', 'letter', 'reason', 'reject']\n",
      "['check', 'mail', 'charls', 'archiv', 'letter', 'infor', 'mation', 'receiv', 'letter', 'take', 'letter', 'regist', 'secretari', 'receiv', 'letter', 'write', 'letter', 'reason', 'reject', 'check', 'mail', 'charls', 'check', 'mail', 'charls']\n",
      "['check', 'mail', 'charls', 'make', 'phone', 'call', 'sender', 'complet', 'info', 'archiv', 'letter', 'infor', 'mation', 'take', 'letter', 'regist', 'secretari', 'receiv', 'letter', 'write', 'letter', 'reason', 'reject', 'take', 'letter', 'regist', 'secretari']\n",
      "['check', 'mail', 'charls', 'archiv', 'letter', 'infor', 'mation', 'take', 'letter', 'regist', 'secretari', 'receiv', 'letter', 'write', 'letter', 'reason', 'reject']\n",
      "['check', 'mail', 'charls', 'make', 'phone', 'call', 'sender', 'complet', 'info', 'archiv', 'letter', 'infor', 'mation', 'take', 'letter', 'regist', 'secretari', 'write', 'letter', 'reason', 'reject', 'receiv', 'letter', 'write', 'letter', 'reason', 'reject']\n",
      "['check', 'mail', 'charls', 'archiv', 'letter', 'infor', 'mation', 'make', 'phone', 'call', 'sender', 'complet', 'info', 'archiv', 'letter', 'infor', 'mation', 'receiv', 'letter', 'take', 'letter', 'regist', 'secretari', 'receiv', 'letter', 'make', 'phone', 'call', 'sender', 'complet', 'info', 'write', 'letter', 'reason', 'reject']\n",
      "['check', 'mail', 'charls', 'make', 'phone', 'call', 'sender', 'complet', 'info', 'archiv', 'letter', 'infor', 'mation', 'take', 'letter', 'regist', 'secretari', 'make', 'phone', 'call', 'sender', 'complet', 'info', 'receiv', 'letter', 'write', 'letter', 'reason', 'reject']\n",
      "['check', 'mail', 'charls', 'archiv', 'letter', 'infor', 'mation', 'take', 'letter', 'regist', 'secretari', 'receiv', 'letter', 'write', 'letter', 'reason', 'reject']\n",
      "['check', 'mail', 'charls', 'make', 'phone', 'call', 'sender', 'complet', 'info', 'archiv', 'letter', 'infor', 'mation', 'take', 'letter', 'regist', 'secretari', 'receiv', 'letter', 'write', 'letter', 'reason', 'reject']\n"
     ]
    },
    {
     "name": "stdout",
     "output_type": "stream",
     "text": [
      "['receiv', 'letter', 'check', 'mail', 'charls', 'archiv', 'letter', 'infor', 'mation', 'write', 'letter', 'reason', 'reject', 'make', 'phone', 'call', 'sender', 'complet', 'info', 'take', 'letter', 'regist', 'secretari', 'receiv', 'letter', 'write', 'letter', 'reason', 'reject', 'write', 'letter', 'reason', 'reject']\n",
      "['check', 'mail', 'charls', 'make', 'phone', 'call', 'sender', 'complet', 'info', 'archiv', 'letter', 'infor', 'mation', 'take', 'letter', 'regist', 'secretari', 'receiv', 'letter', 'write', 'letter', 'reason', 'reject']\n",
      "['receiv', 'letter', 'receiv', 'letter', 'check', 'mail', 'charls', 'archiv', 'letter', 'infor', 'mation', 'take', 'letter', 'regist', 'secretari', 'receiv', 'letter', 'check', 'mail', 'charls', 'write', 'letter', 'reason', 'reject']\n",
      "['check', 'mail', 'charls', 'make', 'phone', 'call', 'sender', 'complet', 'info', 'archiv', 'letter', 'infor', 'mation', 'take', 'letter', 'regist', 'secretari', 'receiv', 'letter', 'write', 'letter', 'reason', 'reject']\n",
      "['check', 'mail', 'charls', 'archiv', 'letter', 'infor', 'mation', 'take', 'letter', 'regist', 'secretari', 'take', 'letter', 'regist', 'secretari', 'receiv', 'letter', 'write', 'letter', 'reason', 'reject']\n",
      "['check', 'mail', 'charls', 'make', 'phone', 'call', 'sender', 'complet', 'info', 'archiv', 'letter', 'infor', 'mation', 'take', 'letter', 'regist', 'secretari', 'receiv', 'letter', 'write', 'letter', 'reason', 'reject']\n",
      "['check', 'mail', 'charls', 'archiv', 'letter', 'infor', 'mation', 'take', 'letter', 'regist', 'secretari', 'receiv', 'letter', 'write', 'letter', 'reason', 'reject']\n",
      "['check', 'mail', 'charls', 'make', 'phone', 'call', 'sender', 'complet', 'info', 'archiv', 'letter', 'infor', 'mation', 'take', 'letter', 'regist', 'secretari', 'receiv', 'letter', 'write', 'letter', 'reason', 'reject']\n",
      "['check', 'mail', 'charls', 'archiv', 'letter', 'infor', 'mation', 'take', 'letter', 'regist', 'secretari', 'receiv', 'letter', 'receiv', 'letter', 'receiv', 'letter', 'write', 'letter', 'reason', 'reject']\n",
      "['check', 'mail', 'charls', 'make', 'phone', 'call', 'sender', 'complet', 'info', 'archiv', 'letter', 'infor', 'mation', 'take', 'letter', 'regist', 'secretari', 'receiv', 'letter', 'write', 'letter', 'reason', 'reject', 'receiv', 'letter']\n",
      "['check', 'mail', 'charls', 'archiv', 'letter', 'infor', 'mation', 'take', 'letter', 'regist', 'secretari', 'receiv', 'letter', 'write', 'letter', 'reason', 'reject']\n",
      "['check', 'mail', 'charls', 'make', 'phone', 'call', 'sender', 'complet', 'info', 'archiv', 'letter', 'infor', 'mation', 'take', 'letter', 'regist', 'secretari', 'receiv', 'letter', 'write', 'letter', 'reason', 'reject']\n",
      "['check', 'mail', 'charls', 'archiv', 'letter', 'infor', 'mation', 'take', 'letter', 'regist', 'secretari', 'receiv', 'letter', 'write', 'letter', 'reason', 'reject']\n",
      "['check', 'mail', 'charls', 'make', 'phone', 'call', 'sender', 'complet', 'info', 'archiv', 'letter', 'infor', 'mation', 'take', 'letter', 'regist', 'secretari', 'receiv', 'letter', 'write', 'letter', 'reason', 'reject']\n",
      "['check', 'mail', 'charls', 'archiv', 'letter', 'infor', 'mation', 'take', 'letter', 'regist', 'secretari', 'receiv', 'letter', 'write', 'letter', 'reason', 'reject']\n",
      "['take', 'letter', 'regist', 'secretari', 'check', 'mail', 'charls', 'check', 'mail', 'charls', 'make', 'phone', 'call', 'sender', 'complet', 'info', 'archiv', 'letter', 'infor', 'mation', 'take', 'letter', 'regist', 'secretari', 'receiv', 'letter', 'write', 'letter', 'reason', 'reject']\n",
      "['check', 'mail', 'charls', 'archiv', 'letter', 'infor', 'mation', 'write', 'letter', 'reason', 'reject', 'take', 'letter', 'regist', 'secretari', 'receiv', 'letter', 'write', 'letter', 'reason', 'reject']\n",
      "['check', 'mail', 'charls', 'make', 'phone', 'call', 'sender', 'complet', 'info', 'archiv', 'letter', 'infor', 'mation', 'take', 'letter', 'regist', 'secretari', 'receiv', 'letter', 'write', 'letter', 'reason', 'reject']\n",
      "['check', 'mail', 'charls', 'archiv', 'letter', 'infor', 'mation', 'take', 'letter', 'regist', 'secretari', 'write', 'letter', 'reason', 'reject', 'receiv', 'letter', 'write', 'letter', 'reason', 'reject', 'take', 'letter', 'regist', 'secretari']\n",
      "['check', 'mail', 'charls', 'make', 'phone', 'call', 'sender', 'complet', 'info', 'archiv', 'letter', 'infor', 'mation', 'take', 'letter', 'regist', 'secretari', 'receiv', 'letter', 'write', 'letter', 'reason', 'reject']\n",
      "['check', 'mail', 'charls', 'archiv', 'letter', 'infor', 'mation', 'take', 'letter', 'regist', 'secretari', 'receiv', 'letter', 'write', 'letter', 'reason', 'reject', 'receiv', 'letter']\n",
      "['check', 'mail', 'charls', 'make', 'phone', 'call', 'sender', 'complet', 'info', 'archiv', 'letter', 'infor', 'mation', 'take', 'letter', 'regist', 'secretari', 'receiv', 'letter', 'write', 'letter', 'reason', 'reject']\n",
      "['check', 'mail', 'charls', 'archiv', 'letter', 'infor', 'mation', 'take', 'letter', 'regist', 'secretari', 'receiv', 'letter', 'write', 'letter', 'reason', 'reject']\n",
      "['check', 'mail', 'charls', 'check', 'mail', 'charls', 'make', 'phone', 'call', 'sender', 'complet', 'info', 'archiv', 'letter', 'infor', 'mation', 'take', 'letter', 'regist', 'secretari', 'receiv', 'letter', 'write', 'letter', 'reason', 'reject']\n",
      "['make', 'phone', 'call', 'sender', 'complet', 'info', 'check', 'mail', 'charls', 'archiv', 'letter', 'infor', 'mation', 'take', 'letter', 'regist', 'secretari', 'receiv', 'letter', 'write', 'letter', 'reason', 'reject']\n",
      "['check', 'mail', 'charls', 'make', 'phone', 'call', 'sender', 'complet', 'info', 'archiv', 'letter', 'infor', 'mation', 'take', 'letter', 'regist', 'secretari', 'receiv', 'letter', 'write', 'letter', 'reason', 'reject']\n",
      "['check', 'mail', 'charls', 'archiv', 'letter', 'infor', 'mation', 'take', 'letter', 'regist', 'secretari', 'receiv', 'letter', 'write', 'letter', 'reason', 'reject']\n",
      "['check', 'mail', 'charls', 'make', 'phone', 'call', 'sender', 'complet', 'info', 'archiv', 'letter', 'infor', 'mation', 'take', 'letter', 'regist', 'secretari', 'receiv', 'letter', 'write', 'letter', 'reason', 'reject']\n",
      "['take', 'letter', 'regist', 'secretari', 'check', 'mail', 'charls', 'archiv', 'letter', 'infor', 'mation', 'check', 'mail', 'charls', 'take', 'letter', 'regist', 'secretari', 'receiv', 'letter', 'write', 'letter', 'reason', 'reject', 'receiv', 'letter']\n",
      "['check', 'mail', 'charls', 'make', 'phone', 'call', 'sender', 'complet', 'info', 'archiv', 'letter', 'infor', 'mation', 'take', 'letter', 'regist', 'secretari', 'receiv', 'letter', 'write', 'letter', 'reason', 'reject']\n",
      "['check', 'mail', 'charls', 'archiv', 'letter', 'infor', 'mation', 'take', 'letter', 'regist', 'secretari', 'receiv', 'letter', 'write', 'letter', 'reason', 'reject']\n",
      "['check', 'mail', 'charls', 'make', 'phone', 'call', 'sender', 'complet', 'info', 'archiv', 'letter', 'infor', 'mation', 'take', 'letter', 'regist', 'secretari', 'receiv', 'letter', 'write', 'letter', 'reason', 'reject']\n",
      "['archiv', 'letter', 'infor', 'mation', 'check', 'mail', 'charls', 'archiv', 'letter', 'infor', 'mation', 'take', 'letter', 'regist', 'secretari', 'receiv', 'letter', 'write', 'letter', 'reason', 'reject', 'check', 'mail', 'charls']\n",
      "['check', 'mail', 'charls', 'make', 'phone', 'call', 'sender', 'complet', 'info', 'archiv', 'letter', 'infor', 'mation', 'take', 'letter', 'regist', 'secretari', 'receiv', 'letter', 'write', 'letter', 'reason', 'reject']\n",
      "['check', 'mail', 'charls', 'archiv', 'letter', 'infor', 'mation', 'take', 'letter', 'regist', 'secretari', 'receiv', 'letter', 'write', 'letter', 'reason', 'reject']\n",
      "['check', 'mail', 'charls', 'make', 'phone', 'call', 'sender', 'complet', 'info', 'archiv', 'letter', 'infor', 'mation', 'take', 'letter', 'regist', 'secretari', 'receiv', 'letter', 'write', 'letter', 'reason', 'reject']\n",
      "['check', 'mail', 'charls', 'archiv', 'letter', 'infor', 'mation', 'make', 'phone', 'call', 'sender', 'complet', 'info', 'check', 'mail', 'charls', 'take', 'letter', 'regist', 'secretari', 'receiv', 'letter', 'write', 'letter', 'reason', 'reject']\n"
     ]
    },
    {
     "name": "stdout",
     "output_type": "stream",
     "text": [
      "['check', 'mail', 'charls', 'check', 'mail', 'charls', 'make', 'phone', 'call', 'sender', 'complet', 'info', 'archiv', 'letter', 'infor', 'mation', 'take', 'letter', 'regist', 'secretari', 'receiv', 'letter', 'write', 'letter', 'reason', 'reject']\n",
      "['check', 'mail', 'charls', 'archiv', 'letter', 'infor', 'mation', 'take', 'letter', 'regist', 'secretari', 'receiv', 'letter', 'write', 'letter', 'reason', 'reject']\n",
      "['check', 'mail', 'charls', 'make', 'phone', 'call', 'sender', 'complet', 'info', 'archiv', 'letter', 'infor', 'mation', 'take', 'letter', 'regist', 'secretari', 'receiv', 'letter', 'write', 'letter', 'reason', 'reject']\n",
      "['check', 'mail', 'charls', 'check', 'mail', 'charls', 'archiv', 'letter', 'infor', 'mation', 'write', 'letter', 'reason', 'reject', 'archiv', 'letter', 'infor', 'mation', 'take', 'letter', 'regist', 'secretari', 'receiv', 'letter', 'write', 'letter', 'reason', 'reject']\n",
      "['take', 'letter', 'regist', 'secretari', 'write', 'letter', 'reason', 'reject', 'check', 'mail', 'charls', 'make', 'phone', 'call', 'sender', 'complet', 'info', 'archiv', 'letter', 'infor', 'mation', 'take', 'letter', 'regist', 'secretari', 'receiv', 'letter', 'write', 'letter', 'reason', 'reject']\n",
      "['write', 'letter', 'reason', 'reject', 'check', 'mail', 'charls', 'archiv', 'letter', 'infor', 'mation', 'take', 'letter', 'regist', 'secretari', 'archiv', 'letter', 'infor', 'mation', 'receiv', 'letter', 'write', 'letter', 'reason', 'reject', 'receiv', 'letter']\n",
      "['check', 'mail', 'charls', 'take', 'letter', 'regist', 'secretari', 'make', 'phone', 'call', 'sender', 'complet', 'info', 'archiv', 'letter', 'infor', 'mation', 'take', 'letter', 'regist', 'secretari', 'receiv', 'letter', 'write', 'letter', 'reason', 'reject', 'archiv', 'letter', 'infor', 'mation']\n",
      "['check', 'mail', 'charls', 'archiv', 'letter', 'infor', 'mation', 'take', 'letter', 'regist', 'secretari', 'receiv', 'letter', 'write', 'letter', 'reason', 'reject']\n",
      "['check', 'mail', 'charls', 'make', 'phone', 'call', 'sender', 'complet', 'info', 'archiv', 'letter', 'infor', 'mation', 'take', 'letter', 'regist', 'secretari', 'receiv', 'letter', 'write', 'letter', 'reason', 'reject']\n",
      "['check', 'mail', 'charls', 'archiv', 'letter', 'infor', 'mation', 'take', 'letter', 'regist', 'secretari', 'archiv', 'letter', 'infor', 'mation', 'write', 'letter', 'reason', 'reject', 'receiv', 'letter', 'write', 'letter', 'reason', 'reject']\n",
      "['check', 'mail', 'charls', 'make', 'phone', 'call', 'sender', 'complet', 'info', 'take', 'letter', 'regist', 'secretari', 'write', 'letter', 'reason', 'reject', 'archiv', 'letter', 'infor', 'mation', 'take', 'letter', 'regist', 'secretari', 'receiv', 'letter', 'take', 'letter', 'regist', 'secretari', 'make', 'phone', 'call', 'sender', 'complet', 'info', 'make', 'phone', 'call', 'sender', 'complet', 'info', 'write', 'letter', 'reason', 'reject']\n",
      "['make', 'phone', 'call', 'sender', 'complet', 'info', 'check', 'mail', 'charls', 'archiv', 'letter', 'infor', 'mation', 'take', 'letter', 'regist', 'secretari', 'receiv', 'letter', 'write', 'letter', 'reason', 'reject']\n",
      "['check', 'mail', 'charls', 'make', 'phone', 'call', 'sender', 'complet', 'info', 'archiv', 'letter', 'infor', 'mation', 'take', 'letter', 'regist', 'secretari', 'receiv', 'letter', 'write', 'letter', 'reason', 'reject']\n",
      "['check', 'mail', 'charls', 'archiv', 'letter', 'infor', 'mation', 'take', 'letter', 'regist', 'secretari', 'receiv', 'letter', 'write', 'letter', 'reason', 'reject']\n",
      "['check', 'mail', 'charls', 'write', 'letter', 'reason', 'reject', 'make', 'phone', 'call', 'sender', 'complet', 'info', 'archiv', 'letter', 'infor', 'mation', 'check', 'mail', 'charls', 'take', 'letter', 'regist', 'secretari', 'receiv', 'letter', 'write', 'letter', 'reason', 'reject', 'check', 'mail', 'charls']\n",
      "['check', 'mail', 'charls', 'archiv', 'letter', 'infor', 'mation', 'take', 'letter', 'regist', 'secretari', 'receiv', 'letter', 'write', 'letter', 'reason', 'reject']\n",
      "['check', 'mail', 'charls', 'receiv', 'letter', 'make', 'phone', 'call', 'sender', 'complet', 'info', 'archiv', 'letter', 'infor', 'mation', 'take', 'letter', 'regist', 'secretari', 'take', 'letter', 'regist', 'secretari', 'receiv', 'letter', 'write', 'letter', 'reason', 'reject']\n",
      "['check', 'mail', 'charls', 'archiv', 'letter', 'infor', 'mation', 'take', 'letter', 'regist', 'secretari', 'receiv', 'letter', 'take', 'letter', 'regist', 'secretari', 'write', 'letter', 'reason', 'reject']\n",
      "['check', 'mail', 'charls', 'make', 'phone', 'call', 'sender', 'complet', 'info', 'archiv', 'letter', 'infor', 'mation', 'take', 'letter', 'regist', 'secretari', 'receiv', 'letter', 'write', 'letter', 'reason', 'reject']\n",
      "['check', 'mail', 'charls', 'take', 'letter', 'regist', 'secretari', 'archiv', 'letter', 'infor', 'mation', 'take', 'letter', 'regist', 'secretari', 'receiv', 'letter', 'write', 'letter', 'reason', 'reject']\n",
      "['archiv', 'letter', 'infor', 'mation', 'check', 'mail', 'charls', 'make', 'phone', 'call', 'sender', 'complet', 'info', 'archiv', 'letter', 'infor', 'mation', 'take', 'letter', 'regist', 'secretari', 'receiv', 'letter', 'write', 'letter', 'reason', 'reject', 'write', 'letter', 'reason', 'reject']\n",
      "['check', 'mail', 'charls', 'archiv', 'letter', 'infor', 'mation', 'take', 'letter', 'regist', 'secretari', 'receiv', 'letter', 'write', 'letter', 'reason', 'reject']\n",
      "['check', 'mail', 'charls', 'take', 'letter', 'regist', 'secretari', 'make', 'phone', 'call', 'sender', 'complet', 'info', 'archiv', 'letter', 'infor', 'mation', 'take', 'letter', 'regist', 'secretari', 'receiv', 'letter', 'write', 'letter', 'reason', 'reject']\n",
      "['check', 'mail', 'charls', 'archiv', 'letter', 'infor', 'mation', 'take', 'letter', 'regist', 'secretari', 'receiv', 'letter', 'write', 'letter', 'reason', 'reject', 'write', 'letter', 'reason', 'reject']\n",
      "['check', 'mail', 'charls', 'check', 'mail', 'charls', 'make', 'phone', 'call', 'sender', 'complet', 'info', 'archiv', 'letter', 'infor', 'mation', 'take', 'letter', 'regist', 'secretari', 'receiv', 'letter', 'write', 'letter', 'reason', 'reject']\n",
      "['check', 'mail', 'charls', 'archiv', 'letter', 'infor', 'mation', 'take', 'letter', 'regist', 'secretari', 'receiv', 'letter', 'write', 'letter', 'reason', 'reject']\n",
      "['check', 'mail', 'charls', 'make', 'phone', 'call', 'sender', 'complet', 'info', 'archiv', 'letter', 'infor', 'mation', 'take', 'letter', 'regist', 'secretari', 'receiv', 'letter', 'write', 'letter', 'reason', 'reject']\n",
      "['check', 'mail', 'charls', 'archiv', 'letter', 'infor', 'mation', 'check', 'mail', 'charls', 'take', 'letter', 'regist', 'secretari', 'receiv', 'letter', 'write', 'letter', 'reason', 'reject']\n",
      "['check', 'mail', 'charls', 'write', 'letter', 'reason', 'reject', 'make', 'phone', 'call', 'sender', 'complet', 'info', 'archiv', 'letter', 'infor', 'mation', 'take', 'letter', 'regist', 'secretari', 'receiv', 'letter', 'write', 'letter', 'reason', 'reject', 'write', 'letter', 'reason', 'reject']\n",
      "['check', 'mail', 'charls', 'archiv', 'letter', 'infor', 'mation', 'take', 'letter', 'regist', 'secretari', 'receiv', 'letter', 'write', 'letter', 'reason', 'reject']\n",
      "['check', 'mail', 'charls', 'make', 'phone', 'call', 'sender', 'complet', 'info', 'archiv', 'letter', 'infor', 'mation', 'take', 'letter', 'regist', 'secretari', 'receiv', 'letter', 'write', 'letter', 'reason', 'reject']\n",
      "['check', 'mail', 'charls', 'archiv', 'letter', 'infor', 'mation', 'take', 'letter', 'regist', 'secretari', 'take', 'letter', 'regist', 'secretari', 'receiv', 'letter', 'write', 'letter', 'reason', 'reject']\n",
      "['check', 'mail', 'charls', 'check', 'mail', 'charls', 'make', 'phone', 'call', 'sender', 'complet', 'info', 'archiv', 'letter', 'infor', 'mation', 'take', 'letter', 'regist', 'secretari', 'receiv', 'letter', 'write', 'letter', 'reason', 'reject']\n",
      "['check', 'mail', 'charls', 'archiv', 'letter', 'infor', 'mation', 'take', 'letter', 'regist', 'secretari', 'receiv', 'letter', 'receiv', 'letter', 'write', 'letter', 'reason', 'reject']\n",
      "['check', 'mail', 'charls', 'make', 'phone', 'call', 'sender', 'complet', 'info', 'archiv', 'letter', 'infor', 'mation', 'take', 'letter', 'regist', 'secretari', 'receiv', 'letter', 'write', 'letter', 'reason', 'reject']\n"
     ]
    },
    {
     "name": "stdout",
     "output_type": "stream",
     "text": [
      "['check', 'mail', 'charls', 'archiv', 'letter', 'infor', 'mation', 'take', 'letter', 'regist', 'secretari', 'receiv', 'letter', 'write', 'letter', 'reason', 'reject']\n",
      "['check', 'mail', 'charls', 'make', 'phone', 'call', 'sender', 'complet', 'info', 'archiv', 'letter', 'infor', 'mation', 'take', 'letter', 'regist', 'secretari', 'receiv', 'letter', 'write', 'letter', 'reason', 'reject']\n",
      "['check', 'mail', 'charls', 'archiv', 'letter', 'infor', 'mation', 'take', 'letter', 'regist', 'secretari', 'receiv', 'letter', 'write', 'letter', 'reason', 'reject']\n",
      "['check', 'mail', 'charls', 'make', 'phone', 'call', 'sender', 'complet', 'info', 'archiv', 'letter', 'infor', 'mation', 'take', 'letter', 'regist', 'secretari', 'receiv', 'letter', 'write', 'letter', 'reason', 'reject']\n",
      "['check', 'mail', 'charls', 'archiv', 'letter', 'infor', 'mation', 'take', 'letter', 'regist', 'secretari', 'receiv', 'letter', 'write', 'letter', 'reason', 'reject']\n",
      "['check', 'mail', 'charls', 'make', 'phone', 'call', 'sender', 'complet', 'info', 'archiv', 'letter', 'infor', 'mation', 'take', 'letter', 'regist', 'secretari', 'receiv', 'letter', 'write', 'letter', 'reason', 'reject']\n",
      "['check', 'mail', 'charls', 'archiv', 'letter', 'infor', 'mation', 'take', 'letter', 'regist', 'secretari', 'receiv', 'letter', 'write', 'letter', 'reason', 'reject']\n",
      "['check', 'mail', 'charls', 'make', 'phone', 'call', 'sender', 'complet', 'info', 'archiv', 'letter', 'infor', 'mation', 'take', 'letter', 'regist', 'secretari', 'receiv', 'letter', 'write', 'letter', 'reason', 'reject']\n",
      "['check', 'mail', 'charls', 'archiv', 'letter', 'infor', 'mation', 'take', 'letter', 'regist', 'secretari', 'receiv', 'letter', 'write', 'letter', 'reason', 'reject']\n",
      "['check', 'mail', 'charls', 'make', 'phone', 'call', 'sender', 'complet', 'info', 'archiv', 'letter', 'infor', 'mation', 'take', 'letter', 'regist', 'secretari', 'receiv', 'letter', 'write', 'letter', 'reason', 'reject']\n",
      "['check', 'mail', 'charls', 'archiv', 'letter', 'infor', 'mation', 'take', 'letter', 'regist', 'secretari', 'receiv', 'letter', 'write', 'letter', 'reason', 'reject']\n",
      "['check', 'mail', 'charls', 'make', 'phone', 'call', 'sender', 'complet', 'info', 'archiv', 'letter', 'infor', 'mation', 'take', 'letter', 'regist', 'secretari', 'receiv', 'letter', 'write', 'letter', 'reason', 'reject']\n",
      "['check', 'mail', 'charls', 'archiv', 'letter', 'infor', 'mation', 'take', 'letter', 'regist', 'secretari', 'receiv', 'letter', 'write', 'letter', 'reason', 'reject']\n",
      "['check', 'mail', 'charls', 'make', 'phone', 'call', 'sender', 'complet', 'info', 'archiv', 'letter', 'infor', 'mation', 'take', 'letter', 'regist', 'secretari', 'receiv', 'letter', 'write', 'letter', 'reason', 'reject', 'archiv', 'letter', 'infor', 'mation']\n",
      "['check', 'mail', 'charls', 'archiv', 'letter', 'infor', 'mation', 'take', 'letter', 'regist', 'secretari', 'receiv', 'letter', 'write', 'letter', 'reason', 'reject']\n",
      "['check', 'mail', 'charls', 'make', 'phone', 'call', 'sender', 'complet', 'info', 'archiv', 'letter', 'infor', 'mation', 'take', 'letter', 'regist', 'secretari', 'receiv', 'letter', 'write', 'letter', 'reason', 'reject']\n",
      "['check', 'mail', 'charls', 'archiv', 'letter', 'infor', 'mation', 'take', 'letter', 'regist', 'secretari', 'receiv', 'letter', 'write', 'letter', 'reason', 'reject']\n",
      "['check', 'mail', 'charls', 'check', 'mail', 'charls', 'make', 'phone', 'call', 'sender', 'complet', 'info', 'archiv', 'letter', 'infor', 'mation', 'take', 'letter', 'regist', 'secretari', 'receiv', 'letter', 'write', 'letter', 'reason', 'reject']\n",
      "['check', 'mail', 'charls', 'archiv', 'letter', 'infor', 'mation', 'take', 'letter', 'regist', 'secretari', 'receiv', 'letter', 'archiv', 'letter', 'infor', 'mation', 'write', 'letter', 'reason', 'reject']\n",
      "['check', 'mail', 'charls', 'make', 'phone', 'call', 'sender', 'complet', 'info', 'archiv', 'letter', 'infor', 'mation', 'take', 'letter', 'regist', 'secretari', 'receiv', 'letter', 'write', 'letter', 'reason', 'reject']\n",
      "['check', 'mail', 'charls', 'archiv', 'letter', 'infor', 'mation', 'take', 'letter', 'regist', 'secretari', 'receiv', 'letter', 'write', 'letter', 'reason', 'reject']\n",
      "['check', 'mail', 'charls', 'make', 'phone', 'call', 'sender', 'complet', 'info', 'archiv', 'letter', 'infor', 'mation', 'take', 'letter', 'regist', 'secretari', 'receiv', 'letter', 'write', 'letter', 'reason', 'reject', 'make', 'phone', 'call', 'sender', 'complet', 'info']\n",
      "['check', 'mail', 'charls', 'archiv', 'letter', 'infor', 'mation', 'take', 'letter', 'regist', 'secretari', 'receiv', 'letter', 'write', 'letter', 'reason', 'reject']\n",
      "['check', 'mail', 'charls', 'write', 'letter', 'reason', 'reject', 'make', 'phone', 'call', 'sender', 'complet', 'info', 'archiv', 'letter', 'infor', 'mation', 'take', 'letter', 'regist', 'secretari', 'receiv', 'letter', 'write', 'letter', 'reason', 'reject']\n",
      "['check', 'mail', 'charls', 'archiv', 'letter', 'infor', 'mation', 'take', 'letter', 'regist', 'secretari', 'receiv', 'letter', 'write', 'letter', 'reason', 'reject']\n",
      "['check', 'mail', 'charls', 'make', 'phone', 'call', 'sender', 'complet', 'info', 'archiv', 'letter', 'infor', 'mation', 'take', 'letter', 'regist', 'secretari', 'receiv', 'letter', 'write', 'letter', 'reason', 'reject']\n",
      "['archiv', 'letter', 'infor', 'mation', 'check', 'mail', 'charls', 'archiv', 'letter', 'infor', 'mation', 'take', 'letter', 'regist', 'secretari', 'take', 'letter', 'regist', 'secretari', 'receiv', 'letter', 'write', 'letter', 'reason', 'reject', 'write', 'letter', 'reason', 'reject']\n",
      "['check', 'mail', 'charls', 'make', 'phone', 'call', 'sender', 'complet', 'info', 'write', 'letter', 'reason', 'reject', 'archiv', 'letter', 'infor', 'mation', 'take', 'letter', 'regist', 'secretari', 'make', 'phone', 'call', 'sender', 'complet', 'info', 'take', 'letter', 'regist', 'secretari', 'receiv', 'letter', 'write', 'letter', 'reason', 'reject', 'make', 'phone', 'call', 'sender', 'complet', 'info', 'receiv', 'letter']\n",
      "['check', 'mail', 'charls', 'archiv', 'letter', 'infor', 'mation', 'archiv', 'letter', 'infor', 'mation', 'take', 'letter', 'regist', 'secretari', 'receiv', 'letter', 'write', 'letter', 'reason', 'reject']\n",
      "['check', 'mail', 'charls', 'make', 'phone', 'call', 'sender', 'complet', 'info', 'archiv', 'letter', 'infor', 'mation', 'take', 'letter', 'regist', 'secretari', 'receiv', 'letter', 'write', 'letter', 'reason', 'reject']\n",
      "['check', 'mail', 'charls', 'archiv', 'letter', 'infor', 'mation', 'take', 'letter', 'regist', 'secretari', 'receiv', 'letter', 'write', 'letter', 'reason', 'reject']\n",
      "['check', 'mail', 'charls', 'make', 'phone', 'call', 'sender', 'complet', 'info', 'archiv', 'letter', 'infor', 'mation', 'take', 'letter', 'regist', 'secretari', 'receiv', 'letter', 'write', 'letter', 'reason', 'reject']\n",
      "['check', 'mail', 'charls', 'archiv', 'letter', 'infor', 'mation', 'take', 'letter', 'regist', 'secretari', 'receiv', 'letter', 'write', 'letter', 'reason', 'reject']\n",
      "['check', 'mail', 'charls', 'take', 'letter', 'regist', 'secretari', 'make', 'phone', 'call', 'sender', 'complet', 'info', 'archiv', 'letter', 'infor', 'mation', 'take', 'letter', 'regist', 'secretari', 'make', 'phone', 'call', 'sender', 'complet', 'info', 'receiv', 'letter', 'write', 'letter', 'reason', 'reject']\n",
      "['check', 'mail', 'charls', 'check', 'mail', 'charls', 'check', 'mail', 'charls', 'archiv', 'letter', 'infor', 'mation', 'take', 'letter', 'regist', 'secretari', 'receiv', 'letter', 'write', 'letter', 'reason', 'reject']\n",
      "['check', 'mail', 'charls', 'make', 'phone', 'call', 'sender', 'complet', 'info', 'check', 'mail', 'charls', 'archiv', 'letter', 'infor', 'mation', 'take', 'letter', 'regist', 'secretari', 'receiv', 'letter', 'write', 'letter', 'reason', 'reject']\n",
      "['check', 'mail', 'charls', 'archiv', 'letter', 'infor', 'mation', 'take', 'letter', 'regist', 'secretari', 'receiv', 'letter', 'write', 'letter', 'reason', 'reject', 'take', 'letter', 'regist', 'secretari']\n",
      "['check', 'mail', 'charls', 'make', 'phone', 'call', 'sender', 'complet', 'info', 'archiv', 'letter', 'infor', 'mation', 'take', 'letter', 'regist', 'secretari', 'receiv', 'letter', 'write', 'letter', 'reason', 'reject']\n"
     ]
    },
    {
     "name": "stdout",
     "output_type": "stream",
     "text": [
      "['check', 'mail', 'charls', 'archiv', 'letter', 'infor', 'mation', 'take', 'letter', 'regist', 'secretari', 'receiv', 'letter', 'write', 'letter', 'reason', 'reject']\n",
      "['check', 'mail', 'charls', 'make', 'phone', 'call', 'sender', 'complet', 'info', 'archiv', 'letter', 'infor', 'mation', 'take', 'letter', 'regist', 'secretari', 'archiv', 'letter', 'infor', 'mation', 'receiv', 'letter', 'receiv', 'letter', 'write', 'letter', 'reason', 'reject']\n",
      "['check', 'mail', 'charls', 'archiv', 'letter', 'infor', 'mation', 'take', 'letter', 'regist', 'secretari', 'receiv', 'letter', 'write', 'letter', 'reason', 'reject']\n",
      "['check', 'mail', 'charls', 'make', 'phone', 'call', 'sender', 'complet', 'info', 'archiv', 'letter', 'infor', 'mation', 'take', 'letter', 'regist', 'secretari', 'receiv', 'letter', 'make', 'phone', 'call', 'sender', 'complet', 'info', 'write', 'letter', 'reason', 'reject']\n",
      "['check', 'mail', 'charls', 'archiv', 'letter', 'infor', 'mation', 'take', 'letter', 'regist', 'secretari', 'receiv', 'letter', 'write', 'letter', 'reason', 'reject', 'write', 'letter', 'reason', 'reject']\n",
      "['archiv', 'letter', 'infor', 'mation', 'check', 'mail', 'charls', 'make', 'phone', 'call', 'sender', 'complet', 'info', 'archiv', 'letter', 'infor', 'mation', 'take', 'letter', 'regist', 'secretari', 'receiv', 'letter', 'write', 'letter', 'reason', 'reject']\n",
      "['check', 'mail', 'charls', 'archiv', 'letter', 'infor', 'mation', 'take', 'letter', 'regist', 'secretari', 'receiv', 'letter', 'write', 'letter', 'reason', 'reject']\n",
      "['check', 'mail', 'charls', 'make', 'phone', 'call', 'sender', 'complet', 'info', 'take', 'letter', 'regist', 'secretari', 'archiv', 'letter', 'infor', 'mation', 'take', 'letter', 'regist', 'secretari', 'take', 'letter', 'regist', 'secretari', 'receiv', 'letter', 'write', 'letter', 'reason', 'reject']\n",
      "['check', 'mail', 'charls', 'archiv', 'letter', 'infor', 'mation', 'take', 'letter', 'regist', 'secretari', 'receiv', 'letter', 'write', 'letter', 'reason', 'reject']\n",
      "['check', 'mail', 'charls', 'make', 'phone', 'call', 'sender', 'complet', 'info', 'archiv', 'letter', 'infor', 'mation', 'take', 'letter', 'regist', 'secretari', 'receiv', 'letter', 'write', 'letter', 'reason', 'reject']\n",
      "['check', 'mail', 'charls', 'archiv', 'letter', 'infor', 'mation', 'take', 'letter', 'regist', 'secretari', 'receiv', 'letter', 'check', 'mail', 'charls', 'archiv', 'letter', 'infor', 'mation', 'write', 'letter', 'reason', 'reject']\n",
      "['check', 'mail', 'charls', 'make', 'phone', 'call', 'sender', 'complet', 'info', 'archiv', 'letter', 'infor', 'mation', 'take', 'letter', 'regist', 'secretari', 'receiv', 'letter', 'write', 'letter', 'reason', 'reject']\n",
      "['check', 'mail', 'charls', 'archiv', 'letter', 'infor', 'mation', 'take', 'letter', 'regist', 'secretari', 'receiv', 'letter', 'write', 'letter', 'reason', 'reject']\n",
      "['check', 'mail', 'charls', 'make', 'phone', 'call', 'sender', 'complet', 'info', 'archiv', 'letter', 'infor', 'mation', 'take', 'letter', 'regist', 'secretari', 'receiv', 'letter', 'write', 'letter', 'reason', 'reject']\n",
      "['check', 'mail', 'charls', 'archiv', 'letter', 'infor', 'mation', 'take', 'letter', 'regist', 'secretari', 'receiv', 'letter', 'write', 'letter', 'reason', 'reject']\n",
      "['check', 'mail', 'charls', 'make', 'phone', 'call', 'sender', 'complet', 'info', 'archiv', 'letter', 'infor', 'mation', 'take', 'letter', 'regist', 'secretari', 'receiv', 'letter', 'write', 'letter', 'reason', 'reject']\n",
      "['check', 'mail', 'charls', 'archiv', 'letter', 'infor', 'mation', 'take', 'letter', 'regist', 'secretari', 'receiv', 'letter', 'write', 'letter', 'reason', 'reject']\n",
      "['write', 'letter', 'reason', 'reject', 'check', 'mail', 'charls', 'make', 'phone', 'call', 'sender', 'complet', 'info', 'archiv', 'letter', 'infor', 'mation', 'take', 'letter', 'regist', 'secretari', 'receiv', 'letter', 'write', 'letter', 'reason', 'reject']\n",
      "['check', 'mail', 'charls', 'archiv', 'letter', 'infor', 'mation', 'take', 'letter', 'regist', 'secretari', 'receiv', 'letter', 'write', 'letter', 'reason', 'reject']\n",
      "['check', 'mail', 'charls', 'make', 'phone', 'call', 'sender', 'complet', 'info', 'archiv', 'letter', 'infor', 'mation', 'take', 'letter', 'regist', 'secretari', 'receiv', 'letter', 'write', 'letter', 'reason', 'reject']\n",
      "['check', 'mail', 'charls', 'archiv', 'letter', 'infor', 'mation', 'take', 'letter', 'regist', 'secretari', 'receiv', 'letter', 'write', 'letter', 'reason', 'reject']\n",
      "['check', 'mail', 'charls', 'make', 'phone', 'call', 'sender', 'complet', 'info', 'archiv', 'letter', 'infor', 'mation', 'take', 'letter', 'regist', 'secretari', 'receiv', 'letter', 'write', 'letter', 'reason', 'reject']\n",
      "['check', 'mail', 'charls', 'archiv', 'letter', 'infor', 'mation', 'take', 'letter', 'regist', 'secretari', 'write', 'letter', 'reason', 'reject', 'receiv', 'letter', 'take', 'letter', 'regist', 'secretari', 'write', 'letter', 'reason', 'reject']\n",
      "['check', 'mail', 'charls', 'make', 'phone', 'call', 'sender', 'complet', 'info', 'archiv', 'letter', 'infor', 'mation', 'take', 'letter', 'regist', 'secretari', 'receiv', 'letter', 'write', 'letter', 'reason', 'reject']\n",
      "['check', 'mail', 'charls', 'archiv', 'letter', 'infor', 'mation', 'take', 'letter', 'regist', 'secretari', 'receiv', 'letter', 'write', 'letter', 'reason', 'reject']\n",
      "['check', 'mail', 'charls', 'make', 'phone', 'call', 'sender', 'complet', 'info', 'archiv', 'letter', 'infor', 'mation', 'take', 'letter', 'regist', 'secretari', 'archiv', 'letter', 'infor', 'mation', 'receiv', 'letter', 'write', 'letter', 'reason', 'reject']\n",
      "['check', 'mail', 'charls', 'archiv', 'letter', 'infor', 'mation', 'take', 'letter', 'regist', 'secretari', 'receiv', 'letter', 'write', 'letter', 'reason', 'reject']\n",
      "['check', 'mail', 'charls', 'make', 'phone', 'call', 'sender', 'complet', 'info', 'archiv', 'letter', 'infor', 'mation', 'write', 'letter', 'reason', 'reject', 'receiv', 'letter', 'take', 'letter', 'regist', 'secretari', 'make', 'phone', 'call', 'sender', 'complet', 'info', 'receiv', 'letter', 'write', 'letter', 'reason', 'reject']\n",
      "['check', 'mail', 'charls', 'archiv', 'letter', 'infor', 'mation', 'take', 'letter', 'regist', 'secretari', 'receiv', 'letter', 'write', 'letter', 'reason', 'reject']\n",
      "['check', 'mail', 'charls', 'make', 'phone', 'call', 'sender', 'complet', 'info', 'archiv', 'letter', 'infor', 'mation', 'take', 'letter', 'regist', 'secretari', 'receiv', 'letter', 'write', 'letter', 'reason', 'reject', 'check', 'mail', 'charls']\n",
      "['check', 'mail', 'charls', 'archiv', 'letter', 'infor', 'mation', 'take', 'letter', 'regist', 'secretari', 'receiv', 'letter', 'write', 'letter', 'reason', 'reject', 'take', 'letter', 'regist', 'secretari']\n",
      "['check', 'mail', 'charls', 'write', 'letter', 'reason', 'reject', 'make', 'phone', 'call', 'sender', 'complet', 'info', 'archiv', 'letter', 'infor', 'mation', 'take', 'letter', 'regist', 'secretari', 'receiv', 'letter', 'write', 'letter', 'reason', 'reject']\n",
      "['check', 'mail', 'charls', 'archiv', 'letter', 'infor', 'mation', 'take', 'letter', 'regist', 'secretari', 'receiv', 'letter', 'write', 'letter', 'reason', 'reject']\n",
      "['check', 'mail', 'charls', 'make', 'phone', 'call', 'sender', 'complet', 'info', 'archiv', 'letter', 'infor', 'mation', 'take', 'letter', 'regist', 'secretari', 'receiv', 'letter', 'write', 'letter', 'reason', 'reject']\n",
      "['check', 'mail', 'charls', 'archiv', 'letter', 'infor', 'mation', 'take', 'letter', 'regist', 'secretari', 'check', 'mail', 'charls', 'receiv', 'letter', 'write', 'letter', 'reason', 'reject']\n",
      "['check', 'mail', 'charls', 'make', 'phone', 'call', 'sender', 'complet', 'info', 'archiv', 'letter', 'infor', 'mation', 'take', 'letter', 'regist', 'secretari', 'receiv', 'letter', 'write', 'letter', 'reason', 'reject']\n",
      "['check', 'mail', 'charls', 'archiv', 'letter', 'infor', 'mation', 'check', 'mail', 'charls', 'write', 'letter', 'reason', 'reject', 'take', 'letter', 'regist', 'secretari', 'receiv', 'letter', 'write', 'letter', 'reason', 'reject']\n"
     ]
    },
    {
     "name": "stdout",
     "output_type": "stream",
     "text": [
      "['check', 'mail', 'charls', 'make', 'phone', 'call', 'sender', 'complet', 'info', 'archiv', 'letter', 'infor', 'mation', 'take', 'letter', 'regist', 'secretari', 'receiv', 'letter', 'archiv', 'letter', 'infor', 'mation', 'write', 'letter', 'reason', 'reject', 'archiv', 'letter', 'infor', 'mation', 'write', 'letter', 'reason', 'reject', 'write', 'letter', 'reason', 'reject', 'receiv', 'letter', 'take', 'letter', 'regist', 'secretari', 'archiv', 'letter', 'infor', 'mation']\n",
      "['check', 'mail', 'charls', 'archiv', 'letter', 'infor', 'mation', 'take', 'letter', 'regist', 'secretari', 'receiv', 'letter', 'write', 'letter', 'reason', 'reject', 'take', 'letter', 'regist', 'secretari']\n",
      "['check', 'mail', 'charls', 'make', 'phone', 'call', 'sender', 'complet', 'info', 'archiv', 'letter', 'infor', 'mation', 'make', 'phone', 'call', 'sender', 'complet', 'info', 'take', 'letter', 'regist', 'secretari', 'receiv', 'letter', 'write', 'letter', 'reason', 'reject']\n",
      "['write', 'letter', 'reason', 'reject', 'check', 'mail', 'charls', 'archiv', 'letter', 'infor', 'mation', 'take', 'letter', 'regist', 'secretari', 'receiv', 'letter', 'write', 'letter', 'reason', 'reject']\n",
      "['check', 'mail', 'charls', 'make', 'phone', 'call', 'sender', 'complet', 'info', 'archiv', 'letter', 'infor', 'mation', 'take', 'letter', 'regist', 'secretari', 'receiv', 'letter', 'write', 'letter', 'reason', 'reject']\n",
      "['take', 'letter', 'regist', 'secretari', 'check', 'mail', 'charls', 'archiv', 'letter', 'infor', 'mation', 'take', 'letter', 'regist', 'secretari', 'receiv', 'letter', 'write', 'letter', 'reason', 'reject']\n",
      "['check', 'mail', 'charls', 'take', 'letter', 'regist', 'secretari', 'write', 'letter', 'reason', 'reject', 'make', 'phone', 'call', 'sender', 'complet', 'info', 'archiv', 'letter', 'infor', 'mation', 'take', 'letter', 'regist', 'secretari', 'receiv', 'letter', 'write', 'letter', 'reason', 'reject']\n",
      "['check', 'mail', 'charls', 'archiv', 'letter', 'infor', 'mation', 'take', 'letter', 'regist', 'secretari', 'receiv', 'letter', 'write', 'letter', 'reason', 'reject']\n",
      "['check', 'mail', 'charls', 'take', 'letter', 'regist', 'secretari', 'make', 'phone', 'call', 'sender', 'complet', 'info', 'archiv', 'letter', 'infor', 'mation', 'take', 'letter', 'regist', 'secretari', 'receiv', 'letter', 'write', 'letter', 'reason', 'reject']\n",
      "['check', 'mail', 'charls', 'archiv', 'letter', 'infor', 'mation', 'take', 'letter', 'regist', 'secretari', 'receiv', 'letter', 'write', 'letter', 'reason', 'reject']\n",
      "['check', 'mail', 'charls', 'make', 'phone', 'call', 'sender', 'complet', 'info', 'archiv', 'letter', 'infor', 'mation', 'take', 'letter', 'regist', 'secretari', 'receiv', 'letter', 'write', 'letter', 'reason', 'reject']\n",
      "['check', 'mail', 'charls', 'archiv', 'letter', 'infor', 'mation', 'take', 'letter', 'regist', 'secretari', 'receiv', 'letter', 'write', 'letter', 'reason', 'reject']\n",
      "['check', 'mail', 'charls', 'make', 'phone', 'call', 'sender', 'complet', 'info', 'archiv', 'letter', 'infor', 'mation', 'take', 'letter', 'regist', 'secretari', 'receiv', 'letter', 'write', 'letter', 'reason', 'reject']\n",
      "['check', 'mail', 'charls', 'archiv', 'letter', 'infor', 'mation', 'take', 'letter', 'regist', 'secretari', 'receiv', 'letter', 'write', 'letter', 'reason', 'reject']\n",
      "['check', 'mail', 'charls', 'make', 'phone', 'call', 'sender', 'complet', 'info', 'archiv', 'letter', 'infor', 'mation', 'take', 'letter', 'regist', 'secretari', 'receiv', 'letter', 'write', 'letter', 'reason', 'reject']\n",
      "['check', 'mail', 'charls', 'archiv', 'letter', 'infor', 'mation', 'take', 'letter', 'regist', 'secretari', 'receiv', 'letter', 'receiv', 'letter', 'write', 'letter', 'reason', 'reject']\n",
      "['check', 'mail', 'charls', 'make', 'phone', 'call', 'sender', 'complet', 'info', 'archiv', 'letter', 'infor', 'mation', 'take', 'letter', 'regist', 'secretari', 'receiv', 'letter', 'write', 'letter', 'reason', 'reject']\n",
      "['check', 'mail', 'charls', 'archiv', 'letter', 'infor', 'mation', 'archiv', 'letter', 'infor', 'mation', 'take', 'letter', 'regist', 'secretari', 'take', 'letter', 'regist', 'secretari', 'receiv', 'letter', 'write', 'letter', 'reason', 'reject']\n",
      "['check', 'mail', 'charls', 'make', 'phone', 'call', 'sender', 'complet', 'info', 'make', 'phone', 'call', 'sender', 'complet', 'info', 'archiv', 'letter', 'infor', 'mation', 'take', 'letter', 'regist', 'secretari', 'receiv', 'letter', 'write', 'letter', 'reason', 'reject']\n",
      "['check', 'mail', 'charls', 'archiv', 'letter', 'infor', 'mation', 'take', 'letter', 'regist', 'secretari', 'receiv', 'letter', 'write', 'letter', 'reason', 'reject']\n",
      "['check', 'mail', 'charls', 'make', 'phone', 'call', 'sender', 'complet', 'info', 'archiv', 'letter', 'infor', 'mation', 'make', 'phone', 'call', 'sender', 'complet', 'info', 'take', 'letter', 'regist', 'secretari', 'receiv', 'letter', 'write', 'letter', 'reason', 'reject']\n",
      "['check', 'mail', 'charls', 'archiv', 'letter', 'infor', 'mation', 'take', 'letter', 'regist', 'secretari', 'receiv', 'letter', 'write', 'letter', 'reason', 'reject']\n",
      "['check', 'mail', 'charls', 'make', 'phone', 'call', 'sender', 'complet', 'info', 'archiv', 'letter', 'infor', 'mation', 'take', 'letter', 'regist', 'secretari', 'receiv', 'letter', 'write', 'letter', 'reason', 'reject']\n",
      "['check', 'mail', 'charls', 'archiv', 'letter', 'infor', 'mation', 'take', 'letter', 'regist', 'secretari', 'receiv', 'letter', 'write', 'letter', 'reason', 'reject']\n",
      "['make', 'phone', 'call', 'sender', 'complet', 'info', 'check', 'mail', 'charls', 'make', 'phone', 'call', 'sender', 'complet', 'info', 'archiv', 'letter', 'infor', 'mation', 'take', 'letter', 'regist', 'secretari', 'receiv', 'letter', 'write', 'letter', 'reason', 'reject']\n",
      "['check', 'mail', 'charls', 'check', 'mail', 'charls', 'archiv', 'letter', 'infor', 'mation', 'take', 'letter', 'regist', 'secretari', 'receiv', 'letter', 'write', 'letter', 'reason', 'reject']\n",
      "['check', 'mail', 'charls', 'make', 'phone', 'call', 'sender', 'complet', 'info', 'archiv', 'letter', 'infor', 'mation', 'take', 'letter', 'regist', 'secretari', 'receiv', 'letter', 'write', 'letter', 'reason', 'reject']\n",
      "['check', 'mail', 'charls', 'archiv', 'letter', 'infor', 'mation', 'take', 'letter', 'regist', 'secretari', 'receiv', 'letter', 'write', 'letter', 'reason', 'reject']\n",
      "['check', 'mail', 'charls', 'make', 'phone', 'call', 'sender', 'complet', 'info', 'archiv', 'letter', 'infor', 'mation', 'take', 'letter', 'regist', 'secretari', 'receiv', 'letter', 'write', 'letter', 'reason', 'reject']\n",
      "['check', 'mail', 'charls', 'archiv', 'letter', 'infor', 'mation', 'take', 'letter', 'regist', 'secretari', 'receiv', 'letter', 'write', 'letter', 'reason', 'reject']\n",
      "['check', 'mail', 'charls', 'make', 'phone', 'call', 'sender', 'complet', 'info', 'archiv', 'letter', 'infor', 'mation', 'take', 'letter', 'regist', 'secretari', 'receiv', 'letter', 'write', 'letter', 'reason', 'reject']\n",
      "['check', 'mail', 'charls', 'archiv', 'letter', 'infor', 'mation', 'take', 'letter', 'regist', 'secretari', 'take', 'letter', 'regist', 'secretari', 'receiv', 'letter', 'write', 'letter', 'reason', 'reject']\n",
      "['check', 'mail', 'charls', 'make', 'phone', 'call', 'sender', 'complet', 'info', 'archiv', 'letter', 'infor', 'mation', 'take', 'letter', 'regist', 'secretari', 'receiv', 'letter', 'write', 'letter', 'reason', 'reject']\n",
      "['check', 'mail', 'charls', 'archiv', 'letter', 'infor', 'mation', 'take', 'letter', 'regist', 'secretari', 'receiv', 'letter', 'write', 'letter', 'reason', 'reject']\n",
      "['check', 'mail', 'charls', 'make', 'phone', 'call', 'sender', 'complet', 'info', 'archiv', 'letter', 'infor', 'mation', 'take', 'letter', 'regist', 'secretari', 'receiv', 'letter', 'write', 'letter', 'reason', 'reject']\n",
      "['check', 'mail', 'charls', 'archiv', 'letter', 'infor', 'mation', 'take', 'letter', 'regist', 'secretari', 'receiv', 'letter', 'make', 'phone', 'call', 'sender', 'complet', 'info', 'write', 'letter', 'reason', 'reject']\n",
      "['check', 'mail', 'charls', 'make', 'phone', 'call', 'sender', 'complet', 'info', 'archiv', 'letter', 'infor', 'mation', 'take', 'letter', 'regist', 'secretari', 'receiv', 'letter', 'write', 'letter', 'reason', 'reject']\n"
     ]
    },
    {
     "name": "stdout",
     "output_type": "stream",
     "text": [
      "['check', 'mail', 'charls', 'archiv', 'letter', 'infor', 'mation', 'take', 'letter', 'regist', 'secretari', 'receiv', 'letter', 'write', 'letter', 'reason', 'reject']\n",
      "['check', 'mail', 'charls', 'make', 'phone', 'call', 'sender', 'complet', 'info', 'archiv', 'letter', 'infor', 'mation', 'take', 'letter', 'regist', 'secretari', 'receiv', 'letter', 'write', 'letter', 'reason', 'reject']\n",
      "['check', 'mail', 'charls', 'archiv', 'letter', 'infor', 'mation', 'take', 'letter', 'regist', 'secretari', 'receiv', 'letter', 'write', 'letter', 'reason', 'reject']\n",
      "['check', 'mail', 'charls', 'make', 'phone', 'call', 'sender', 'complet', 'info', 'archiv', 'letter', 'infor', 'mation', 'take', 'letter', 'regist', 'secretari', 'receiv', 'letter', 'write', 'letter', 'reason', 'reject']\n",
      "['check', 'mail', 'charls', 'archiv', 'letter', 'infor', 'mation', 'take', 'letter', 'regist', 'secretari', 'receiv', 'letter', 'write', 'letter', 'reason', 'reject']\n",
      "['check', 'mail', 'charls', 'make', 'phone', 'call', 'sender', 'complet', 'info', 'archiv', 'letter', 'infor', 'mation', 'take', 'letter', 'regist', 'secretari', 'receiv', 'letter', 'write', 'letter', 'reason', 'reject']\n",
      "['check', 'mail', 'charls', 'archiv', 'letter', 'infor', 'mation', 'take', 'letter', 'regist', 'secretari', 'receiv', 'letter', 'write', 'letter', 'reason', 'reject']\n",
      "['check', 'mail', 'charls', 'make', 'phone', 'call', 'sender', 'complet', 'info', 'archiv', 'letter', 'infor', 'mation', 'take', 'letter', 'regist', 'secretari', 'receiv', 'letter', 'write', 'letter', 'reason', 'reject']\n",
      "['check', 'mail', 'charls', 'archiv', 'letter', 'infor', 'mation', 'take', 'letter', 'regist', 'secretari', 'receiv', 'letter', 'write', 'letter', 'reason', 'reject']\n",
      "['check', 'mail', 'charls', 'make', 'phone', 'call', 'sender', 'complet', 'info', 'archiv', 'letter', 'infor', 'mation', 'take', 'letter', 'regist', 'secretari', 'receiv', 'letter', 'write', 'letter', 'reason', 'reject']\n",
      "['check', 'mail', 'charls', 'write', 'letter', 'reason', 'reject', 'archiv', 'letter', 'infor', 'mation', 'take', 'letter', 'regist', 'secretari', 'receiv', 'letter', 'write', 'letter', 'reason', 'reject']\n",
      "['take', 'letter', 'regist', 'secretari', 'check', 'mail', 'charls', 'make', 'phone', 'call', 'sender', 'complet', 'info', 'archiv', 'letter', 'infor', 'mation', 'take', 'letter', 'regist', 'secretari', 'receiv', 'letter', 'write', 'letter', 'reason', 'reject']\n",
      "['check', 'mail', 'charls', 'archiv', 'letter', 'infor', 'mation', 'take', 'letter', 'regist', 'secretari', 'receiv', 'letter', 'write', 'letter', 'reason', 'reject']\n",
      "['check', 'mail', 'charls', 'make', 'phone', 'call', 'sender', 'complet', 'info', 'receiv', 'letter', 'archiv', 'letter', 'infor', 'mation', 'archiv', 'letter', 'infor', 'mation', 'take', 'letter', 'regist', 'secretari', 'receiv', 'letter', 'write', 'letter', 'reason', 'reject']\n",
      "['check', 'mail', 'charls', 'archiv', 'letter', 'infor', 'mation', 'take', 'letter', 'regist', 'secretari', 'receiv', 'letter', 'write', 'letter', 'reason', 'reject']\n",
      "['check', 'mail', 'charls', 'make', 'phone', 'call', 'sender', 'complet', 'info', 'write', 'letter', 'reason', 'reject', 'archiv', 'letter', 'infor', 'mation', 'take', 'letter', 'regist', 'secretari', 'receiv', 'letter', 'write', 'letter', 'reason', 'reject']\n",
      "['check', 'mail', 'charls', 'archiv', 'letter', 'infor', 'mation', 'take', 'letter', 'regist', 'secretari', 'receiv', 'letter', 'write', 'letter', 'reason', 'reject', 'archiv', 'letter', 'infor', 'mation']\n",
      "['check', 'mail', 'charls', 'make', 'phone', 'call', 'sender', 'complet', 'info', 'archiv', 'letter', 'infor', 'mation', 'take', 'letter', 'regist', 'secretari', 'receiv', 'letter', 'write', 'letter', 'reason', 'reject']\n",
      "['check', 'mail', 'charls', 'archiv', 'letter', 'infor', 'mation', 'take', 'letter', 'regist', 'secretari', 'receiv', 'letter', 'write', 'letter', 'reason', 'reject', 'receiv', 'letter']\n",
      "['check', 'mail', 'charls', 'make', 'phone', 'call', 'sender', 'complet', 'info', 'archiv', 'letter', 'infor', 'mation', 'take', 'letter', 'regist', 'secretari', 'receiv', 'letter', 'write', 'letter', 'reason', 'reject']\n",
      "['check', 'mail', 'charls', 'archiv', 'letter', 'infor', 'mation', 'take', 'letter', 'regist', 'secretari', 'receiv', 'letter', 'write', 'letter', 'reason', 'reject']\n",
      "['check', 'mail', 'charls', 'make', 'phone', 'call', 'sender', 'complet', 'info', 'archiv', 'letter', 'infor', 'mation', 'take', 'letter', 'regist', 'secretari', 'receiv', 'letter', 'write', 'letter', 'reason', 'reject']\n",
      "['check', 'mail', 'charls', 'archiv', 'letter', 'infor', 'mation', 'take', 'letter', 'regist', 'secretari', 'receiv', 'letter', 'take', 'letter', 'regist', 'secretari', 'write', 'letter', 'reason', 'reject']\n",
      "['check', 'mail', 'charls', 'make', 'phone', 'call', 'sender', 'complet', 'info', 'archiv', 'letter', 'infor', 'mation', 'take', 'letter', 'regist', 'secretari', 'receiv', 'letter', 'write', 'letter', 'reason', 'reject']\n",
      "['check', 'mail', 'charls', 'archiv', 'letter', 'infor', 'mation', 'take', 'letter', 'regist', 'secretari', 'receiv', 'letter', 'write', 'letter', 'reason', 'reject']\n",
      "['check', 'mail', 'charls', 'make', 'phone', 'call', 'sender', 'complet', 'info', 'archiv', 'letter', 'infor', 'mation', 'take', 'letter', 'regist', 'secretari', 'receiv', 'letter', 'write', 'letter', 'reason', 'reject']\n",
      "['check', 'mail', 'charls', 'archiv', 'letter', 'infor', 'mation', 'take', 'letter', 'regist', 'secretari', 'receiv', 'letter', 'write', 'letter', 'reason', 'reject']\n",
      "['check', 'mail', 'charls', 'make', 'phone', 'call', 'sender', 'complet', 'info', 'archiv', 'letter', 'infor', 'mation', 'take', 'letter', 'regist', 'secretari', 'receiv', 'letter', 'write', 'letter', 'reason', 'reject']\n",
      "['check', 'mail', 'charls', 'archiv', 'letter', 'infor', 'mation', 'take', 'letter', 'regist', 'secretari', 'receiv', 'letter', 'write', 'letter', 'reason', 'reject']\n",
      "['check', 'mail', 'charls', 'make', 'phone', 'call', 'sender', 'complet', 'info', 'archiv', 'letter', 'infor', 'mation', 'take', 'letter', 'regist', 'secretari', 'check', 'mail', 'charls', 'receiv', 'letter', 'write', 'letter', 'reason', 'reject']\n",
      "['take', 'letter', 'regist', 'secretari', 'check', 'mail', 'charls', 'archiv', 'letter', 'infor', 'mation', 'take', 'letter', 'regist', 'secretari', 'receiv', 'letter', 'write', 'letter', 'reason', 'reject']\n",
      "['check', 'mail', 'charls', 'make', 'phone', 'call', 'sender', 'complet', 'info', 'archiv', 'letter', 'infor', 'mation', 'take', 'letter', 'regist', 'secretari', 'receiv', 'letter', 'write', 'letter', 'reason', 'reject']\n",
      "['check', 'mail', 'charls', 'archiv', 'letter', 'infor', 'mation', 'take', 'letter', 'regist', 'secretari', 'receiv', 'letter', 'write', 'letter', 'reason', 'reject']\n",
      "['check', 'mail', 'charls', 'make', 'phone', 'call', 'sender', 'complet', 'info', 'archiv', 'letter', 'infor', 'mation', 'take', 'letter', 'regist', 'secretari', 'take', 'letter', 'regist', 'secretari', 'receiv', 'letter', 'write', 'letter', 'reason', 'reject']\n",
      "['check', 'mail', 'charls', 'check', 'mail', 'charls', 'archiv', 'letter', 'infor', 'mation', 'take', 'letter', 'regist', 'secretari', 'receiv', 'letter', 'write', 'letter', 'reason', 'reject', 'take', 'letter', 'regist', 'secretari']\n",
      "['check', 'mail', 'charls', 'make', 'phone', 'call', 'sender', 'complet', 'info', 'archiv', 'letter', 'infor', 'mation', 'take', 'letter', 'regist', 'secretari', 'receiv', 'letter', 'make', 'phone', 'call', 'sender', 'complet', 'info', 'write', 'letter', 'reason', 'reject']\n",
      "['check', 'mail', 'charls', 'archiv', 'letter', 'infor', 'mation', 'take', 'letter', 'regist', 'secretari', 'receiv', 'letter', 'write', 'letter', 'reason', 'reject']\n",
      "['write', 'letter', 'reason', 'reject', 'check', 'mail', 'charls', 'make', 'phone', 'call', 'sender', 'complet', 'info', 'archiv', 'letter', 'infor', 'mation', 'take', 'letter', 'regist', 'secretari', 'receiv', 'letter', 'write', 'letter', 'reason', 'reject', 'write', 'letter', 'reason', 'reject', 'archiv', 'letter', 'infor', 'mation', 'check', 'mail', 'charls', 'receiv', 'letter', 'write', 'letter', 'reason', 'reject']\n"
     ]
    },
    {
     "name": "stdout",
     "output_type": "stream",
     "text": [
      "['check', 'mail', 'charls', 'check', 'mail', 'charls', 'archiv', 'letter', 'infor', 'mation', 'take', 'letter', 'regist', 'secretari', 'receiv', 'letter', 'archiv', 'letter', 'infor', 'mation', 'write', 'letter', 'reason', 'reject']\n",
      "['check', 'mail', 'charls', 'make', 'phone', 'call', 'sender', 'complet', 'info', 'archiv', 'letter', 'infor', 'mation', 'take', 'letter', 'regist', 'secretari', 'receiv', 'letter', 'write', 'letter', 'reason', 'reject']\n",
      "['check', 'mail', 'charls', 'archiv', 'letter', 'infor', 'mation', 'take', 'letter', 'regist', 'secretari', 'receiv', 'letter', 'write', 'letter', 'reason', 'reject']\n",
      "['check', 'mail', 'charls', 'make', 'phone', 'call', 'sender', 'complet', 'info', 'archiv', 'letter', 'infor', 'mation', 'take', 'letter', 'regist', 'secretari', 'receiv', 'letter', 'write', 'letter', 'reason', 'reject']\n",
      "['check', 'mail', 'charls', 'archiv', 'letter', 'infor', 'mation', 'take', 'letter', 'regist', 'secretari', 'receiv', 'letter', 'write', 'letter', 'reason', 'reject']\n",
      "['check', 'mail', 'charls', 'make', 'phone', 'call', 'sender', 'complet', 'info', 'archiv', 'letter', 'infor', 'mation', 'take', 'letter', 'regist', 'secretari', 'receiv', 'letter', 'write', 'letter', 'reason', 'reject', 'write', 'letter', 'reason', 'reject']\n",
      "['check', 'mail', 'charls', 'archiv', 'letter', 'infor', 'mation', 'take', 'letter', 'regist', 'secretari', 'check', 'mail', 'charls', 'receiv', 'letter', 'write', 'letter', 'reason', 'reject']\n",
      "['check', 'mail', 'charls', 'make', 'phone', 'call', 'sender', 'complet', 'info', 'archiv', 'letter', 'infor', 'mation', 'check', 'mail', 'charls', 'take', 'letter', 'regist', 'secretari', 'receiv', 'letter', 'write', 'letter', 'reason', 'reject']\n",
      "['check', 'mail', 'charls', 'write', 'letter', 'reason', 'reject', 'archiv', 'letter', 'infor', 'mation', 'take', 'letter', 'regist', 'secretari', 'write', 'letter', 'reason', 'reject', 'receiv', 'letter', 'write', 'letter', 'reason', 'reject']\n",
      "['check', 'mail', 'charls', 'make', 'phone', 'call', 'sender', 'complet', 'info', 'archiv', 'letter', 'infor', 'mation', 'take', 'letter', 'regist', 'secretari', 'receiv', 'letter', 'write', 'letter', 'reason', 'reject', 'write', 'letter', 'reason', 'reject']\n",
      "['check', 'mail', 'charls', 'archiv', 'letter', 'infor', 'mation', 'archiv', 'letter', 'infor', 'mation', 'take', 'letter', 'regist', 'secretari', 'archiv', 'letter', 'infor', 'mation', 'receiv', 'letter', 'write', 'letter', 'reason', 'reject']\n",
      "['check', 'mail', 'charls', 'make', 'phone', 'call', 'sender', 'complet', 'info', 'archiv', 'letter', 'infor', 'mation', 'take', 'letter', 'regist', 'secretari', 'receiv', 'letter', 'write', 'letter', 'reason', 'reject']\n",
      "['check', 'mail', 'charls', 'archiv', 'letter', 'infor', 'mation', 'take', 'letter', 'regist', 'secretari', 'receiv', 'letter', 'write', 'letter', 'reason', 'reject']\n",
      "['check', 'mail', 'charls', 'make', 'phone', 'call', 'sender', 'complet', 'info', 'archiv', 'letter', 'infor', 'mation', 'take', 'letter', 'regist', 'secretari', 'receiv', 'letter', 'take', 'letter', 'regist', 'secretari', 'write', 'letter', 'reason', 'reject', 'write', 'letter', 'reason', 'reject']\n",
      "['check', 'mail', 'charls', 'archiv', 'letter', 'infor', 'mation', 'check', 'mail', 'charls', 'take', 'letter', 'regist', 'secretari', 'receiv', 'letter', 'write', 'letter', 'reason', 'reject']\n",
      "['check', 'mail', 'charls', 'make', 'phone', 'call', 'sender', 'complet', 'info', 'archiv', 'letter', 'infor', 'mation', 'take', 'letter', 'regist', 'secretari', 'take', 'letter', 'regist', 'secretari', 'receiv', 'letter', 'write', 'letter', 'reason', 'reject']\n",
      "['check', 'mail', 'charls', 'archiv', 'letter', 'infor', 'mation', 'take', 'letter', 'regist', 'secretari', 'receiv', 'letter', 'write', 'letter', 'reason', 'reject']\n",
      "['check', 'mail', 'charls', 'make', 'phone', 'call', 'sender', 'complet', 'info', 'archiv', 'letter', 'infor', 'mation', 'take', 'letter', 'regist', 'secretari', 'receiv', 'letter', 'write', 'letter', 'reason', 'reject']\n",
      "['check', 'mail', 'charls', 'receiv', 'letter', 'archiv', 'letter', 'infor', 'mation', 'check', 'mail', 'charls', 'take', 'letter', 'regist', 'secretari', 'receiv', 'letter', 'write', 'letter', 'reason', 'reject']\n",
      "['check', 'mail', 'charls', 'make', 'phone', 'call', 'sender', 'complet', 'info', 'archiv', 'letter', 'infor', 'mation', 'take', 'letter', 'regist', 'secretari', 'receiv', 'letter', 'write', 'letter', 'reason', 'reject']\n",
      "['check', 'mail', 'charls', 'archiv', 'letter', 'infor', 'mation', 'take', 'letter', 'regist', 'secretari', 'receiv', 'letter', 'write', 'letter', 'reason', 'reject']\n",
      "['check', 'mail', 'charls', 'make', 'phone', 'call', 'sender', 'complet', 'info', 'archiv', 'letter', 'infor', 'mation', 'take', 'letter', 'regist', 'secretari', 'receiv', 'letter', 'write', 'letter', 'reason', 'reject', 'receiv', 'letter']\n",
      "['check', 'mail', 'charls', 'archiv', 'letter', 'infor', 'mation', 'take', 'letter', 'regist', 'secretari', 'receiv', 'letter', 'write', 'letter', 'reason', 'reject']\n",
      "['check', 'mail', 'charls', 'make', 'phone', 'call', 'sender', 'complet', 'info', 'archiv', 'letter', 'infor', 'mation', 'take', 'letter', 'regist', 'secretari', 'receiv', 'letter', 'write', 'letter', 'reason', 'reject']\n",
      "['check', 'mail', 'charls', 'archiv', 'letter', 'infor', 'mation', 'take', 'letter', 'regist', 'secretari', 'receiv', 'letter', 'write', 'letter', 'reason', 'reject']\n",
      "['check', 'mail', 'charls', 'make', 'phone', 'call', 'sender', 'complet', 'info', 'archiv', 'letter', 'infor', 'mation', 'check', 'mail', 'charls', 'take', 'letter', 'regist', 'secretari', 'receiv', 'letter', 'write', 'letter', 'reason', 'reject']\n",
      "['check', 'mail', 'charls', 'archiv', 'letter', 'infor', 'mation', 'receiv', 'letter', 'take', 'letter', 'regist', 'secretari', 'receiv', 'letter', 'write', 'letter', 'reason', 'reject']\n",
      "['check', 'mail', 'charls', 'make', 'phone', 'call', 'sender', 'complet', 'info', 'archiv', 'letter', 'infor', 'mation', 'take', 'letter', 'regist', 'secretari', 'receiv', 'letter', 'write', 'letter', 'reason', 'reject']\n",
      "['check', 'mail', 'charls', 'archiv', 'letter', 'infor', 'mation', 'take', 'letter', 'regist', 'secretari', 'receiv', 'letter', 'write', 'letter', 'reason', 'reject']\n",
      "['check', 'mail', 'charls', 'make', 'phone', 'call', 'sender', 'complet', 'info', 'archiv', 'letter', 'infor', 'mation', 'write', 'letter', 'reason', 'reject', 'take', 'letter', 'regist', 'secretari', 'take', 'letter', 'regist', 'secretari', 'receiv', 'letter', 'write', 'letter', 'reason', 'reject', 'take', 'letter', 'regist', 'secretari']\n",
      "['check', 'mail', 'charls', 'archiv', 'letter', 'infor', 'mation', 'take', 'letter', 'regist', 'secretari', 'receiv', 'letter', 'write', 'letter', 'reason', 'reject']\n",
      "['check', 'mail', 'charls', 'make', 'phone', 'call', 'sender', 'complet', 'info', 'archiv', 'letter', 'infor', 'mation', 'take', 'letter', 'regist', 'secretari', 'receiv', 'letter', 'write', 'letter', 'reason', 'reject']\n",
      "['check', 'mail', 'charls', 'archiv', 'letter', 'infor', 'mation', 'take', 'letter', 'regist', 'secretari', 'receiv', 'letter', 'write', 'letter', 'reason', 'reject']\n",
      "['check', 'mail', 'charls', 'make', 'phone', 'call', 'sender', 'complet', 'info', 'archiv', 'letter', 'infor', 'mation', 'take', 'letter', 'regist', 'secretari', 'receiv', 'letter', 'write', 'letter', 'reason', 'reject']\n",
      "['check', 'mail', 'charls', 'archiv', 'letter', 'infor', 'mation', 'take', 'letter', 'regist', 'secretari', 'receiv', 'letter', 'write', 'letter', 'reason', 'reject']\n",
      "['check', 'mail', 'charls', 'make', 'phone', 'call', 'sender', 'complet', 'info', 'archiv', 'letter', 'infor', 'mation', 'take', 'letter', 'regist', 'secretari', 'receiv', 'letter', 'write', 'letter', 'reason', 'reject']\n",
      "['check', 'mail', 'charls', 'archiv', 'letter', 'infor', 'mation', 'take', 'letter', 'regist', 'secretari', 'make', 'phone', 'call', 'sender', 'complet', 'info', 'receiv', 'letter', 'write', 'letter', 'reason', 'reject']\n",
      "['check', 'mail', 'charls', 'make', 'phone', 'call', 'sender', 'complet', 'info', 'archiv', 'letter', 'infor', 'mation', 'take', 'letter', 'regist', 'secretari', 'receiv', 'letter', 'write', 'letter', 'reason', 'reject']\n"
     ]
    },
    {
     "name": "stdout",
     "output_type": "stream",
     "text": [
      "['check', 'mail', 'charls', 'archiv', 'letter', 'infor', 'mation', 'take', 'letter', 'regist', 'secretari', 'receiv', 'letter', 'write', 'letter', 'reason', 'reject']\n",
      "['check', 'mail', 'charls', 'make', 'phone', 'call', 'sender', 'complet', 'info', 'archiv', 'letter', 'infor', 'mation', 'take', 'letter', 'regist', 'secretari', 'receiv', 'letter', 'write', 'letter', 'reason', 'reject']\n",
      "['check', 'mail', 'charls', 'archiv', 'letter', 'infor', 'mation', 'take', 'letter', 'regist', 'secretari', 'receiv', 'letter', 'write', 'letter', 'reason', 'reject']\n",
      "['check', 'mail', 'charls', 'make', 'phone', 'call', 'sender', 'complet', 'info', 'archiv', 'letter', 'infor', 'mation', 'take', 'letter', 'regist', 'secretari', 'receiv', 'letter', 'archiv', 'letter', 'infor', 'mation', 'archiv', 'letter', 'infor', 'mation', 'write', 'letter', 'reason', 'reject']\n",
      "['check', 'mail', 'charls', 'archiv', 'letter', 'infor', 'mation', 'take', 'letter', 'regist', 'secretari', 'receiv', 'letter', 'write', 'letter', 'reason', 'reject']\n",
      "['check', 'mail', 'charls', 'make', 'phone', 'call', 'sender', 'complet', 'info', 'archiv', 'letter', 'infor', 'mation', 'take', 'letter', 'regist', 'secretari', 'receiv', 'letter', 'write', 'letter', 'reason', 'reject']\n",
      "['check', 'mail', 'charls', 'archiv', 'letter', 'infor', 'mation', 'take', 'letter', 'regist', 'secretari', 'write', 'letter', 'reason', 'reject', 'make', 'phone', 'call', 'sender', 'complet', 'info', 'receiv', 'letter', 'take', 'letter', 'regist', 'secretari', 'receiv', 'letter', 'write', 'letter', 'reason', 'reject']\n",
      "['check', 'mail', 'charls', 'make', 'phone', 'call', 'sender', 'complet', 'info', 'archiv', 'letter', 'infor', 'mation', 'take', 'letter', 'regist', 'secretari', 'receiv', 'letter', 'write', 'letter', 'reason', 'reject']\n",
      "['receiv', 'letter', 'check', 'mail', 'charls', 'archiv', 'letter', 'infor', 'mation', 'take', 'letter', 'regist', 'secretari', 'receiv', 'letter', 'write', 'letter', 'reason', 'reject', 'write', 'letter', 'reason', 'reject']\n",
      "['check', 'mail', 'charls', 'make', 'phone', 'call', 'sender', 'complet', 'info', 'archiv', 'letter', 'infor', 'mation', 'take', 'letter', 'regist', 'secretari', 'receiv', 'letter', 'write', 'letter', 'reason', 'reject']\n",
      "['check', 'mail', 'charls', 'archiv', 'letter', 'infor', 'mation', 'take', 'letter', 'regist', 'secretari', 'receiv', 'letter', 'write', 'letter', 'reason', 'reject']\n",
      "['check', 'mail', 'charls', 'make', 'phone', 'call', 'sender', 'complet', 'info', 'archiv', 'letter', 'infor', 'mation', 'take', 'letter', 'regist', 'secretari', 'receiv', 'letter', 'write', 'letter', 'reason', 'reject']\n",
      "['check', 'mail', 'charls', 'archiv', 'letter', 'infor', 'mation', 'take', 'letter', 'regist', 'secretari', 'receiv', 'letter', 'write', 'letter', 'reason', 'reject']\n",
      "['check', 'mail', 'charls', 'make', 'phone', 'call', 'sender', 'complet', 'info', 'archiv', 'letter', 'infor', 'mation', 'take', 'letter', 'regist', 'secretari', 'take', 'letter', 'regist', 'secretari', 'receiv', 'letter', 'write', 'letter', 'reason', 'reject']\n",
      "['check', 'mail', 'charls', 'archiv', 'letter', 'infor', 'mation', 'take', 'letter', 'regist', 'secretari', 'receiv', 'letter', 'write', 'letter', 'reason', 'reject']\n",
      "['check', 'mail', 'charls', 'make', 'phone', 'call', 'sender', 'complet', 'info', 'archiv', 'letter', 'infor', 'mation', 'take', 'letter', 'regist', 'secretari', 'receiv', 'letter', 'write', 'letter', 'reason', 'reject']\n",
      "['check', 'mail', 'charls', 'archiv', 'letter', 'infor', 'mation', 'take', 'letter', 'regist', 'secretari', 'receiv', 'letter', 'write', 'letter', 'reason', 'reject']\n",
      "['check', 'mail', 'charls', 'take', 'letter', 'regist', 'secretari', 'make', 'phone', 'call', 'sender', 'complet', 'info', 'archiv', 'letter', 'infor', 'mation', 'take', 'letter', 'regist', 'secretari', 'receiv', 'letter', 'write', 'letter', 'reason', 'reject']\n",
      "['check', 'mail', 'charls', 'archiv', 'letter', 'infor', 'mation', 'take', 'letter', 'regist', 'secretari', 'receiv', 'letter', 'write', 'letter', 'reason', 'reject']\n",
      "['check', 'mail', 'charls', 'make', 'phone', 'call', 'sender', 'complet', 'info', 'archiv', 'letter', 'infor', 'mation', 'take', 'letter', 'regist', 'secretari', 'receiv', 'letter', 'write', 'letter', 'reason', 'reject']\n",
      "['check', 'mail', 'charls', 'archiv', 'letter', 'infor', 'mation', 'take', 'letter', 'regist', 'secretari', 'receiv', 'letter', 'write', 'letter', 'reason', 'reject']\n",
      "['check', 'mail', 'charls', 'make', 'phone', 'call', 'sender', 'complet', 'info', 'archiv', 'letter', 'infor', 'mation', 'take', 'letter', 'regist', 'secretari', 'receiv', 'letter', 'write', 'letter', 'reason', 'reject']\n",
      "['check', 'mail', 'charls', 'check', 'mail', 'charls', 'archiv', 'letter', 'infor', 'mation', 'take', 'letter', 'regist', 'secretari', 'receiv', 'letter', 'write', 'letter', 'reason', 'reject']\n",
      "['write', 'letter', 'reason', 'reject', 'check', 'mail', 'charls', 'make', 'phone', 'call', 'sender', 'complet', 'info', 'archiv', 'letter', 'infor', 'mation', 'archiv', 'letter', 'infor', 'mation', 'take', 'letter', 'regist', 'secretari', 'receiv', 'letter', 'write', 'letter', 'reason', 'reject']\n",
      "['check', 'mail', 'charls', 'archiv', 'letter', 'infor', 'mation', 'archiv', 'letter', 'infor', 'mation', 'take', 'letter', 'regist', 'secretari', 'receiv', 'letter', 'write', 'letter', 'reason', 'reject']\n",
      "['check', 'mail', 'charls', 'make', 'phone', 'call', 'sender', 'complet', 'info', 'archiv', 'letter', 'infor', 'mation', 'take', 'letter', 'regist', 'secretari', 'receiv', 'letter', 'write', 'letter', 'reason', 'reject']\n",
      "['check', 'mail', 'charls', 'archiv', 'letter', 'infor', 'mation', 'take', 'letter', 'regist', 'secretari', 'receiv', 'letter', 'write', 'letter', 'reason', 'reject']\n",
      "['receiv', 'letter', 'check', 'mail', 'charls', 'make', 'phone', 'call', 'sender', 'complet', 'info', 'archiv', 'letter', 'infor', 'mation', 'take', 'letter', 'regist', 'secretari', 'make', 'phone', 'call', 'sender', 'complet', 'info', 'receiv', 'letter', 'write', 'letter', 'reason', 'reject', 'make', 'phone', 'call', 'sender', 'complet', 'info']\n",
      "['check', 'mail', 'charls', 'archiv', 'letter', 'infor', 'mation', 'take', 'letter', 'regist', 'secretari', 'receiv', 'letter', 'take', 'letter', 'regist', 'secretari', 'write', 'letter', 'reason', 'reject']\n",
      "['check', 'mail', 'charls', 'make', 'phone', 'call', 'sender', 'complet', 'info', 'archiv', 'letter', 'infor', 'mation', 'take', 'letter', 'regist', 'secretari', 'receiv', 'letter', 'write', 'letter', 'reason', 'reject']\n",
      "['check', 'mail', 'charls', 'archiv', 'letter', 'infor', 'mation', 'take', 'letter', 'regist', 'secretari', 'receiv', 'letter', 'write', 'letter', 'reason', 'reject']\n",
      "['check', 'mail', 'charls', 'make', 'phone', 'call', 'sender', 'complet', 'info', 'archiv', 'letter', 'infor', 'mation', 'take', 'letter', 'regist', 'secretari', 'receiv', 'letter', 'write', 'letter', 'reason', 'reject', 'write', 'letter', 'reason', 'reject']\n",
      "['check', 'mail', 'charls', 'archiv', 'letter', 'infor', 'mation', 'take', 'letter', 'regist', 'secretari', 'receiv', 'letter', 'write', 'letter', 'reason', 'reject']\n",
      "['check', 'mail', 'charls', 'check', 'mail', 'charls', 'make', 'phone', 'call', 'sender', 'complet', 'info', 'archiv', 'letter', 'infor', 'mation', 'receiv', 'letter', 'take', 'letter', 'regist', 'secretari', 'receiv', 'letter', 'write', 'letter', 'reason', 'reject']\n",
      "['check', 'mail', 'charls', 'archiv', 'letter', 'infor', 'mation', 'archiv', 'letter', 'infor', 'mation', 'take', 'letter', 'regist', 'secretari', 'receiv', 'letter', 'write', 'letter', 'reason', 'reject']\n",
      "['check', 'mail', 'charls', 'make', 'phone', 'call', 'sender', 'complet', 'info', 'archiv', 'letter', 'infor', 'mation', 'take', 'letter', 'regist', 'secretari', 'receiv', 'letter', 'write', 'letter', 'reason', 'reject']\n",
      "['take', 'letter', 'regist', 'secretari', 'receiv', 'letter', 'check', 'mail', 'charls', 'archiv', 'letter', 'infor', 'mation', 'take', 'letter', 'regist', 'secretari', 'receiv', 'letter', 'write', 'letter', 'reason', 'reject']\n"
     ]
    },
    {
     "name": "stdout",
     "output_type": "stream",
     "text": [
      "['check', 'mail', 'charls', 'make', 'phone', 'call', 'sender', 'complet', 'info', 'archiv', 'letter', 'infor', 'mation', 'take', 'letter', 'regist', 'secretari', 'receiv', 'letter', 'write', 'letter', 'reason', 'reject']\n",
      "['check', 'mail', 'charls', 'archiv', 'letter', 'infor', 'mation', 'take', 'letter', 'regist', 'secretari', 'receiv', 'letter', 'write', 'letter', 'reason', 'reject', 'archiv', 'letter', 'infor', 'mation']\n",
      "['check', 'mail', 'charls', 'make', 'phone', 'call', 'sender', 'complet', 'info', 'archiv', 'letter', 'infor', 'mation', 'take', 'letter', 'regist', 'secretari', 'receiv', 'letter', 'write', 'letter', 'reason', 'reject']\n",
      "['take', 'letter', 'regist', 'secretari', 'check', 'mail', 'charls', 'archiv', 'letter', 'infor', 'mation', 'make', 'phone', 'call', 'sender', 'complet', 'info', 'take', 'letter', 'regist', 'secretari', 'receiv', 'letter', 'write', 'letter', 'reason', 'reject']\n",
      "['check', 'mail', 'charls', 'make', 'phone', 'call', 'sender', 'complet', 'info', 'archiv', 'letter', 'infor', 'mation', 'take', 'letter', 'regist', 'secretari', 'receiv', 'letter', 'check', 'mail', 'charls', 'write', 'letter', 'reason', 'reject']\n",
      "['check', 'mail', 'charls', 'write', 'letter', 'reason', 'reject', 'archiv', 'letter', 'infor', 'mation', 'archiv', 'letter', 'infor', 'mation', 'take', 'letter', 'regist', 'secretari', 'receiv', 'letter', 'write', 'letter', 'reason', 'reject']\n",
      "['archiv', 'letter', 'infor', 'mation', 'check', 'mail', 'charls', 'make', 'phone', 'call', 'sender', 'complet', 'info', 'archiv', 'letter', 'infor', 'mation', 'take', 'letter', 'regist', 'secretari', 'receiv', 'letter', 'write', 'letter', 'reason', 'reject']\n",
      "['check', 'mail', 'charls', 'archiv', 'letter', 'infor', 'mation', 'take', 'letter', 'regist', 'secretari', 'receiv', 'letter', 'write', 'letter', 'reason', 'reject']\n",
      "['check', 'mail', 'charls', 'make', 'phone', 'call', 'sender', 'complet', 'info', 'archiv', 'letter', 'infor', 'mation', 'take', 'letter', 'regist', 'secretari', 'receiv', 'letter', 'check', 'mail', 'charls', 'write', 'letter', 'reason', 'reject']\n",
      "['check', 'mail', 'charls', 'archiv', 'letter', 'infor', 'mation', 'take', 'letter', 'regist', 'secretari', 'receiv', 'letter', 'write', 'letter', 'reason', 'reject']\n",
      "['check', 'mail', 'charls', 'make', 'phone', 'call', 'sender', 'complet', 'info', 'archiv', 'letter', 'infor', 'mation', 'take', 'letter', 'regist', 'secretari', 'receiv', 'letter', 'write', 'letter', 'reason', 'reject']\n",
      "['check', 'mail', 'charls', 'archiv', 'letter', 'infor', 'mation', 'take', 'letter', 'regist', 'secretari', 'receiv', 'letter', 'write', 'letter', 'reason', 'reject']\n",
      "['check', 'mail', 'charls', 'make', 'phone', 'call', 'sender', 'complet', 'info', 'archiv', 'letter', 'infor', 'mation', 'take', 'letter', 'regist', 'secretari', 'receiv', 'letter', 'write', 'letter', 'reason', 'reject']\n",
      "['check', 'mail', 'charls', 'archiv', 'letter', 'infor', 'mation', 'take', 'letter', 'regist', 'secretari', 'receiv', 'letter', 'write', 'letter', 'reason', 'reject']\n",
      "['check', 'mail', 'charls', 'make', 'phone', 'call', 'sender', 'complet', 'info', 'archiv', 'letter', 'infor', 'mation', 'make', 'phone', 'call', 'sender', 'complet', 'info', 'take', 'letter', 'regist', 'secretari', 'receiv', 'letter', 'write', 'letter', 'reason', 'reject']\n",
      "['check', 'mail', 'charls', 'archiv', 'letter', 'infor', 'mation', 'take', 'letter', 'regist', 'secretari', 'receiv', 'letter', 'write', 'letter', 'reason', 'reject']\n",
      "['check', 'mail', 'charls', 'make', 'phone', 'call', 'sender', 'complet', 'info', 'archiv', 'letter', 'infor', 'mation', 'take', 'letter', 'regist', 'secretari', 'receiv', 'letter', 'write', 'letter', 'reason', 'reject']\n",
      "['check', 'mail', 'charls', 'archiv', 'letter', 'infor', 'mation', 'take', 'letter', 'regist', 'secretari', 'receiv', 'letter', 'write', 'letter', 'reason', 'reject']\n",
      "['check', 'mail', 'charls', 'make', 'phone', 'call', 'sender', 'complet', 'info', 'archiv', 'letter', 'infor', 'mation', 'take', 'letter', 'regist', 'secretari', 'receiv', 'letter', 'receiv', 'letter', 'write', 'letter', 'reason', 'reject']\n",
      "['check', 'mail', 'charls', 'archiv', 'letter', 'infor', 'mation', 'take', 'letter', 'regist', 'secretari', 'receiv', 'letter', 'write', 'letter', 'reason', 'reject']\n",
      "['check', 'mail', 'charls', 'make', 'phone', 'call', 'sender', 'complet', 'info', 'archiv', 'letter', 'infor', 'mation', 'take', 'letter', 'regist', 'secretari', 'receiv', 'letter', 'write', 'letter', 'reason', 'reject']\n",
      "['check', 'mail', 'charls', 'archiv', 'letter', 'infor', 'mation', 'take', 'letter', 'regist', 'secretari', 'receiv', 'letter', 'write', 'letter', 'reason', 'reject', 'take', 'letter', 'regist', 'secretari']\n",
      "['check', 'mail', 'charls', 'make', 'phone', 'call', 'sender', 'complet', 'info', 'archiv', 'letter', 'infor', 'mation', 'take', 'letter', 'regist', 'secretari', 'make', 'phone', 'call', 'sender', 'complet', 'info', 'receiv', 'letter', 'write', 'letter', 'reason', 'reject']\n",
      "['check', 'mail', 'charls', 'write', 'letter', 'reason', 'reject', 'archiv', 'letter', 'infor', 'mation', 'take', 'letter', 'regist', 'secretari', 'receiv', 'letter', 'write', 'letter', 'reason', 'reject']\n",
      "['check', 'mail', 'charls', 'make', 'phone', 'call', 'sender', 'complet', 'info', 'archiv', 'letter', 'infor', 'mation', 'take', 'letter', 'regist', 'secretari', 'receiv', 'letter', 'write', 'letter', 'reason', 'reject']\n",
      "['check', 'mail', 'charls', 'archiv', 'letter', 'infor', 'mation', 'take', 'letter', 'regist', 'secretari', 'receiv', 'letter', 'write', 'letter', 'reason', 'reject']\n",
      "['check', 'mail', 'charls', 'make', 'phone', 'call', 'sender', 'complet', 'info', 'archiv', 'letter', 'infor', 'mation', 'take', 'letter', 'regist', 'secretari', 'receiv', 'letter', 'write', 'letter', 'reason', 'reject']\n",
      "['make', 'phone', 'call', 'sender', 'complet', 'info', 'check', 'mail', 'charls', 'archiv', 'letter', 'infor', 'mation', 'take', 'letter', 'regist', 'secretari', 'receiv', 'letter', 'write', 'letter', 'reason', 'reject']\n",
      "['check', 'mail', 'charls', 'make', 'phone', 'call', 'sender', 'complet', 'info', 'archiv', 'letter', 'infor', 'mation', 'take', 'letter', 'regist', 'secretari', 'receiv', 'letter', 'write', 'letter', 'reason', 'reject']\n",
      "['check', 'mail', 'charls', 'check', 'mail', 'charls', 'archiv', 'letter', 'infor', 'mation', 'take', 'letter', 'regist', 'secretari', 'receiv', 'letter', 'write', 'letter', 'reason', 'reject']\n",
      "['check', 'mail', 'charls', 'make', 'phone', 'call', 'sender', 'complet', 'info', 'archiv', 'letter', 'infor', 'mation', 'receiv', 'letter', 'take', 'letter', 'regist', 'secretari', 'write', 'letter', 'reason', 'reject', 'receiv', 'letter', 'write', 'letter', 'reason', 'reject']\n",
      "['archiv', 'letter', 'infor', 'mation', 'check', 'mail', 'charls', 'archiv', 'letter', 'infor', 'mation', 'take', 'letter', 'regist', 'secretari', 'write', 'letter', 'reason', 'reject', 'receiv', 'letter', 'write', 'letter', 'reason', 'reject']\n",
      "['check', 'mail', 'charls', 'make', 'phone', 'call', 'sender', 'complet', 'info', 'take', 'letter', 'regist', 'secretari', 'archiv', 'letter', 'infor', 'mation', 'take', 'letter', 'regist', 'secretari', 'receiv', 'letter', 'write', 'letter', 'reason', 'reject']\n",
      "['check', 'mail', 'charls', 'archiv', 'letter', 'infor', 'mation', 'take', 'letter', 'regist', 'secretari', 'receiv', 'letter', 'receiv', 'letter', 'archiv', 'letter', 'infor', 'mation', 'write', 'letter', 'reason', 'reject']\n",
      "['check', 'mail', 'charls', 'make', 'phone', 'call', 'sender', 'complet', 'info', 'archiv', 'letter', 'infor', 'mation', 'take', 'letter', 'regist', 'secretari', 'receiv', 'letter', 'write', 'letter', 'reason', 'reject']\n",
      "['check', 'mail', 'charls', 'archiv', 'letter', 'infor', 'mation', 'take', 'letter', 'regist', 'secretari', 'receiv', 'letter', 'write', 'letter', 'reason', 'reject']\n",
      "['make', 'phone', 'call', 'sender', 'complet', 'info', 'check', 'mail', 'charls', 'make', 'phone', 'call', 'sender', 'complet', 'info', 'archiv', 'letter', 'infor', 'mation', 'take', 'letter', 'regist', 'secretari', 'take', 'letter', 'regist', 'secretari', 'receiv', 'letter', 'write', 'letter', 'reason', 'reject']\n"
     ]
    },
    {
     "name": "stdout",
     "output_type": "stream",
     "text": [
      "['check', 'mail', 'charls', 'archiv', 'letter', 'infor', 'mation', 'take', 'letter', 'regist', 'secretari', 'receiv', 'letter', 'write', 'letter', 'reason', 'reject']\n",
      "['archiv', 'letter', 'infor', 'mation', 'write', 'letter', 'reason', 'reject', 'check', 'mail', 'charls', 'make', 'phone', 'call', 'sender', 'complet', 'info', 'archiv', 'letter', 'infor', 'mation', 'take', 'letter', 'regist', 'secretari', 'receiv', 'letter', 'write', 'letter', 'reason', 'reject']\n",
      "['check', 'mail', 'charls', 'archiv', 'letter', 'infor', 'mation', 'take', 'letter', 'regist', 'secretari', 'receiv', 'letter', 'write', 'letter', 'reason', 'reject']\n",
      "['check', 'mail', 'charls', 'archiv', 'letter', 'infor', 'mation', 'make', 'phone', 'call', 'sender', 'complet', 'info', 'archiv', 'letter', 'infor', 'mation', 'take', 'letter', 'regist', 'secretari', 'receiv', 'letter', 'write', 'letter', 'reason', 'reject']\n",
      "['check', 'mail', 'charls', 'archiv', 'letter', 'infor', 'mation', 'take', 'letter', 'regist', 'secretari', 'receiv', 'letter', 'write', 'letter', 'reason', 'reject']\n",
      "['check', 'mail', 'charls', 'make', 'phone', 'call', 'sender', 'complet', 'info', 'archiv', 'letter', 'infor', 'mation', 'take', 'letter', 'regist', 'secretari', 'receiv', 'letter', 'write', 'letter', 'reason', 'reject']\n",
      "['check', 'mail', 'charls', 'archiv', 'letter', 'infor', 'mation', 'take', 'letter', 'regist', 'secretari', 'receiv', 'letter', 'archiv', 'letter', 'infor', 'mation', 'write', 'letter', 'reason', 'reject']\n",
      "['check', 'mail', 'charls', 'make', 'phone', 'call', 'sender', 'complet', 'info', 'archiv', 'letter', 'infor', 'mation', 'take', 'letter', 'regist', 'secretari', 'receiv', 'letter', 'write', 'letter', 'reason', 'reject']\n",
      "['check', 'mail', 'charls', 'archiv', 'letter', 'infor', 'mation', 'take', 'letter', 'regist', 'secretari', 'receiv', 'letter', 'write', 'letter', 'reason', 'reject']\n",
      "['take', 'letter', 'regist', 'secretari', 'take', 'letter', 'regist', 'secretari', 'check', 'mail', 'charls', 'make', 'phone', 'call', 'sender', 'complet', 'info', 'make', 'phone', 'call', 'sender', 'complet', 'info', 'archiv', 'letter', 'infor', 'mation', 'take', 'letter', 'regist', 'secretari', 'receiv', 'letter', 'write', 'letter', 'reason', 'reject']\n",
      "['check', 'mail', 'charls', 'archiv', 'letter', 'infor', 'mation', 'take', 'letter', 'regist', 'secretari', 'receiv', 'letter', 'write', 'letter', 'reason', 'reject']\n",
      "['check', 'mail', 'charls', 'make', 'phone', 'call', 'sender', 'complet', 'info', 'archiv', 'letter', 'infor', 'mation', 'take', 'letter', 'regist', 'secretari', 'receiv', 'letter', 'write', 'letter', 'reason', 'reject']\n",
      "['check', 'mail', 'charls', 'check', 'mail', 'charls', 'archiv', 'letter', 'infor', 'mation', 'take', 'letter', 'regist', 'secretari', 'make', 'phone', 'call', 'sender', 'complet', 'info', 'receiv', 'letter', 'write', 'letter', 'reason', 'reject']\n",
      "['check', 'mail', 'charls', 'make', 'phone', 'call', 'sender', 'complet', 'info', 'archiv', 'letter', 'infor', 'mation', 'take', 'letter', 'regist', 'secretari', 'receiv', 'letter', 'write', 'letter', 'reason', 'reject']\n",
      "['check', 'mail', 'charls', 'archiv', 'letter', 'infor', 'mation', 'take', 'letter', 'regist', 'secretari', 'archiv', 'letter', 'infor', 'mation', 'receiv', 'letter', 'write', 'letter', 'reason', 'reject']\n",
      "['check', 'mail', 'charls', 'make', 'phone', 'call', 'sender', 'complet', 'info', 'archiv', 'letter', 'infor', 'mation', 'take', 'letter', 'regist', 'secretari', 'receiv', 'letter', 'write', 'letter', 'reason', 'reject']\n",
      "['check', 'mail', 'charls', 'archiv', 'letter', 'infor', 'mation', 'take', 'letter', 'regist', 'secretari', 'receiv', 'letter', 'write', 'letter', 'reason', 'reject']\n",
      "['check', 'mail', 'charls', 'make', 'phone', 'call', 'sender', 'complet', 'info', 'archiv', 'letter', 'infor', 'mation', 'take', 'letter', 'regist', 'secretari', 'receiv', 'letter', 'write', 'letter', 'reason', 'reject']\n",
      "['check', 'mail', 'charls', 'archiv', 'letter', 'infor', 'mation', 'take', 'letter', 'regist', 'secretari', 'receiv', 'letter', 'archiv', 'letter', 'infor', 'mation', 'write', 'letter', 'reason', 'reject']\n",
      "['take', 'letter', 'regist', 'secretari', 'check', 'mail', 'charls', 'make', 'phone', 'call', 'sender', 'complet', 'info', 'archiv', 'letter', 'infor', 'mation', 'take', 'letter', 'regist', 'secretari', 'receiv', 'letter', 'write', 'letter', 'reason', 'reject']\n",
      "['check', 'mail', 'charls', 'archiv', 'letter', 'infor', 'mation', 'take', 'letter', 'regist', 'secretari', 'receiv', 'letter', 'write', 'letter', 'reason', 'reject']\n",
      "['check', 'mail', 'charls', 'make', 'phone', 'call', 'sender', 'complet', 'info', 'take', 'letter', 'regist', 'secretari', 'archiv', 'letter', 'infor', 'mation', 'take', 'letter', 'regist', 'secretari', 'receiv', 'letter', 'receiv', 'letter', 'write', 'letter', 'reason', 'reject']\n",
      "['check', 'mail', 'charls', 'archiv', 'letter', 'infor', 'mation', 'take', 'letter', 'regist', 'secretari', 'take', 'letter', 'regist', 'secretari', 'receiv', 'letter', 'write', 'letter', 'reason', 'reject']\n",
      "['check', 'mail', 'charls', 'make', 'phone', 'call', 'sender', 'complet', 'info', 'archiv', 'letter', 'infor', 'mation', 'take', 'letter', 'regist', 'secretari', 'receiv', 'letter', 'write', 'letter', 'reason', 'reject']\n",
      "['check', 'mail', 'charls', 'archiv', 'letter', 'infor', 'mation', 'take', 'letter', 'regist', 'secretari', 'receiv', 'letter', 'write', 'letter', 'reason', 'reject']\n",
      "['check', 'mail', 'charls', 'make', 'phone', 'call', 'sender', 'complet', 'info', 'archiv', 'letter', 'infor', 'mation', 'take', 'letter', 'regist', 'secretari', 'receiv', 'letter', 'write', 'letter', 'reason', 'reject']\n",
      "['check', 'mail', 'charls', 'archiv', 'letter', 'infor', 'mation', 'take', 'letter', 'regist', 'secretari', 'receiv', 'letter', 'write', 'letter', 'reason', 'reject']\n",
      "['check', 'mail', 'charls', 'make', 'phone', 'call', 'sender', 'complet', 'info', 'archiv', 'letter', 'infor', 'mation', 'take', 'letter', 'regist', 'secretari', 'receiv', 'letter', 'write', 'letter', 'reason', 'reject']\n",
      "['check', 'mail', 'charls', 'archiv', 'letter', 'infor', 'mation', 'take', 'letter', 'regist', 'secretari', 'receiv', 'letter', 'write', 'letter', 'reason', 'reject']\n",
      "['check', 'mail', 'charls', 'check', 'mail', 'charls', 'make', 'phone', 'call', 'sender', 'complet', 'info', 'archiv', 'letter', 'infor', 'mation', 'take', 'letter', 'regist', 'secretari', 'receiv', 'letter', 'make', 'phone', 'call', 'sender', 'complet', 'info', 'receiv', 'letter', 'write', 'letter', 'reason', 'reject', 'write', 'letter', 'reason', 'reject']\n",
      "['check', 'mail', 'charls', 'archiv', 'letter', 'infor', 'mation', 'take', 'letter', 'regist', 'secretari', 'receiv', 'letter', 'write', 'letter', 'reason', 'reject']\n",
      "['archiv', 'letter', 'infor', 'mation', 'check', 'mail', 'charls', 'make', 'phone', 'call', 'sender', 'complet', 'info', 'archiv', 'letter', 'infor', 'mation', 'archiv', 'letter', 'infor', 'mation', 'take', 'letter', 'regist', 'secretari', 'receiv', 'letter', 'write', 'letter', 'reason', 'reject']\n",
      "['check', 'mail', 'charls', 'archiv', 'letter', 'infor', 'mation', 'write', 'letter', 'reason', 'reject', 'receiv', 'letter', 'take', 'letter', 'regist', 'secretari', 'receiv', 'letter', 'write', 'letter', 'reason', 'reject']\n",
      "['check', 'mail', 'charls', 'make', 'phone', 'call', 'sender', 'complet', 'info', 'archiv', 'letter', 'infor', 'mation', 'take', 'letter', 'regist', 'secretari', 'receiv', 'letter', 'write', 'letter', 'reason', 'reject']\n",
      "['check', 'mail', 'charls', 'archiv', 'letter', 'infor', 'mation', 'take', 'letter', 'regist', 'secretari', 'receiv', 'letter', 'write', 'letter', 'reason', 'reject']\n",
      "['check', 'mail', 'charls', 'make', 'phone', 'call', 'sender', 'complet', 'info', 'archiv', 'letter', 'infor', 'mation', 'take', 'letter', 'regist', 'secretari', 'receiv', 'letter', 'write', 'letter', 'reason', 'reject']\n",
      "['receiv', 'letter', 'check', 'mail', 'charls', 'archiv', 'letter', 'infor', 'mation', 'take', 'letter', 'regist', 'secretari', 'receiv', 'letter', 'write', 'letter', 'reason', 'reject']\n"
     ]
    },
    {
     "name": "stdout",
     "output_type": "stream",
     "text": [
      "['check', 'mail', 'charls', 'make', 'phone', 'call', 'sender', 'complet', 'info', 'archiv', 'letter', 'infor', 'mation', 'take', 'letter', 'regist', 'secretari', 'receiv', 'letter', 'write', 'letter', 'reason', 'reject']\n",
      "['check', 'mail', 'charls', 'take', 'letter', 'regist', 'secretari', 'archiv', 'letter', 'infor', 'mation', 'take', 'letter', 'regist', 'secretari', 'receiv', 'letter', 'archiv', 'letter', 'infor', 'mation', 'write', 'letter', 'reason', 'reject']\n",
      "['check', 'mail', 'charls', 'make', 'phone', 'call', 'sender', 'complet', 'info', 'archiv', 'letter', 'infor', 'mation', 'take', 'letter', 'regist', 'secretari', 'receiv', 'letter', 'write', 'letter', 'reason', 'reject']\n",
      "['check', 'mail', 'charls', 'archiv', 'letter', 'infor', 'mation', 'take', 'letter', 'regist', 'secretari', 'receiv', 'letter', 'write', 'letter', 'reason', 'reject']\n",
      "['check', 'mail', 'charls', 'make', 'phone', 'call', 'sender', 'complet', 'info', 'archiv', 'letter', 'infor', 'mation', 'take', 'letter', 'regist', 'secretari', 'receiv', 'letter', 'write', 'letter', 'reason', 'reject']\n",
      "['check', 'mail', 'charls', 'archiv', 'letter', 'infor', 'mation', 'take', 'letter', 'regist', 'secretari', 'receiv', 'letter', 'write', 'letter', 'reason', 'reject']\n",
      "['check', 'mail', 'charls', 'make', 'phone', 'call', 'sender', 'complet', 'info', 'archiv', 'letter', 'infor', 'mation', 'take', 'letter', 'regist', 'secretari', 'receiv', 'letter', 'write', 'letter', 'reason', 'reject']\n",
      "['check', 'mail', 'charls', 'archiv', 'letter', 'infor', 'mation', 'take', 'letter', 'regist', 'secretari', 'receiv', 'letter', 'write', 'letter', 'reason', 'reject']\n",
      "['check', 'mail', 'charls', 'check', 'mail', 'charls', 'make', 'phone', 'call', 'sender', 'complet', 'info', 'write', 'letter', 'reason', 'reject', 'check', 'mail', 'charls', 'archiv', 'letter', 'infor', 'mation', 'take', 'letter', 'regist', 'secretari', 'receiv', 'letter', 'write', 'letter', 'reason', 'reject', 'take', 'letter', 'regist', 'secretari']\n",
      "['check', 'mail', 'charls', 'archiv', 'letter', 'infor', 'mation', 'take', 'letter', 'regist', 'secretari', 'receiv', 'letter', 'write', 'letter', 'reason', 'reject']\n",
      "['check', 'mail', 'charls', 'make', 'phone', 'call', 'sender', 'complet', 'info', 'archiv', 'letter', 'infor', 'mation', 'archiv', 'letter', 'infor', 'mation', 'take', 'letter', 'regist', 'secretari', 'receiv', 'letter', 'make', 'phone', 'call', 'sender', 'complet', 'info', 'write', 'letter', 'reason', 'reject', 'archiv', 'letter', 'infor', 'mation']\n",
      "['check', 'mail', 'charls', 'archiv', 'letter', 'infor', 'mation', 'take', 'letter', 'regist', 'secretari', 'take', 'letter', 'regist', 'secretari', 'receiv', 'letter', 'write', 'letter', 'reason', 'reject']\n",
      "['check', 'mail', 'charls', 'make', 'phone', 'call', 'sender', 'complet', 'info', 'archiv', 'letter', 'infor', 'mation', 'take', 'letter', 'regist', 'secretari', 'receiv', 'letter', 'archiv', 'letter', 'infor', 'mation', 'write', 'letter', 'reason', 'reject']\n",
      "['check', 'mail', 'charls', 'archiv', 'letter', 'infor', 'mation', 'archiv', 'letter', 'infor', 'mation', 'take', 'letter', 'regist', 'secretari', 'receiv', 'letter', 'write', 'letter', 'reason', 'reject']\n",
      "['check', 'mail', 'charls', 'take', 'letter', 'regist', 'secretari', 'make', 'phone', 'call', 'sender', 'complet', 'info', 'archiv', 'letter', 'infor', 'mation', 'take', 'letter', 'regist', 'secretari', 'receiv', 'letter', 'write', 'letter', 'reason', 'reject']\n",
      "['check', 'mail', 'charls', 'archiv', 'letter', 'infor', 'mation', 'take', 'letter', 'regist', 'secretari', 'receiv', 'letter', 'write', 'letter', 'reason', 'reject']\n",
      "['check', 'mail', 'charls', 'make', 'phone', 'call', 'sender', 'complet', 'info', 'archiv', 'letter', 'infor', 'mation', 'take', 'letter', 'regist', 'secretari', 'receiv', 'letter', 'write', 'letter', 'reason', 'reject']\n",
      "['check', 'mail', 'charls', 'archiv', 'letter', 'infor', 'mation', 'take', 'letter', 'regist', 'secretari', 'receiv', 'letter', 'write', 'letter', 'reason', 'reject']\n",
      "['take', 'letter', 'regist', 'secretari', 'check', 'mail', 'charls', 'make', 'phone', 'call', 'sender', 'complet', 'info', 'archiv', 'letter', 'infor', 'mation', 'take', 'letter', 'regist', 'secretari', 'receiv', 'letter', 'write', 'letter', 'reason', 'reject']\n",
      "['check', 'mail', 'charls', 'archiv', 'letter', 'infor', 'mation', 'take', 'letter', 'regist', 'secretari', 'receiv', 'letter', 'write', 'letter', 'reason', 'reject']\n",
      "['check', 'mail', 'charls', 'make', 'phone', 'call', 'sender', 'complet', 'info', 'archiv', 'letter', 'infor', 'mation', 'take', 'letter', 'regist', 'secretari', 'take', 'letter', 'regist', 'secretari', 'receiv', 'letter', 'write', 'letter', 'reason', 'reject']\n",
      "['check', 'mail', 'charls', 'archiv', 'letter', 'infor', 'mation', 'take', 'letter', 'regist', 'secretari', 'receiv', 'letter', 'write', 'letter', 'reason', 'reject']\n",
      "['check', 'mail', 'charls', 'make', 'phone', 'call', 'sender', 'complet', 'info', 'archiv', 'letter', 'infor', 'mation', 'take', 'letter', 'regist', 'secretari', 'receiv', 'letter', 'write', 'letter', 'reason', 'reject', 'receiv', 'letter']\n",
      "['check', 'mail', 'charls', 'archiv', 'letter', 'infor', 'mation', 'receiv', 'letter', 'take', 'letter', 'regist', 'secretari', 'receiv', 'letter', 'write', 'letter', 'reason', 'reject']\n",
      "['check', 'mail', 'charls', 'make', 'phone', 'call', 'sender', 'complet', 'info', 'archiv', 'letter', 'infor', 'mation', 'take', 'letter', 'regist', 'secretari', 'receiv', 'letter', 'write', 'letter', 'reason', 'reject']\n",
      "['check', 'mail', 'charls', 'archiv', 'letter', 'infor', 'mation', 'take', 'letter', 'regist', 'secretari', 'receiv', 'letter', 'write', 'letter', 'reason', 'reject']\n",
      "['make', 'phone', 'call', 'sender', 'complet', 'info', 'check', 'mail', 'charls', 'make', 'phone', 'call', 'sender', 'complet', 'info', 'archiv', 'letter', 'infor', 'mation', 'check', 'mail', 'charls', 'take', 'letter', 'regist', 'secretari', 'receiv', 'letter', 'write', 'letter', 'reason', 'reject', 'write', 'letter', 'reason', 'reject', 'archiv', 'letter', 'infor', 'mation']\n",
      "['check', 'mail', 'charls', 'check', 'mail', 'charls', 'archiv', 'letter', 'infor', 'mation', 'take', 'letter', 'regist', 'secretari', 'receiv', 'letter', 'write', 'letter', 'reason', 'reject']\n",
      "['check', 'mail', 'charls', 'make', 'phone', 'call', 'sender', 'complet', 'info', 'archiv', 'letter', 'infor', 'mation', 'take', 'letter', 'regist', 'secretari', 'receiv', 'letter', 'check', 'mail', 'charls', 'write', 'letter', 'reason', 'reject']\n",
      "['check', 'mail', 'charls', 'check', 'mail', 'charls', 'archiv', 'letter', 'infor', 'mation', 'take', 'letter', 'regist', 'secretari', 'receiv', 'letter', 'write', 'letter', 'reason', 'reject', 'make', 'phone', 'call', 'sender', 'complet', 'info', 'check', 'mail', 'charls']\n",
      "['check', 'mail', 'charls', 'make', 'phone', 'call', 'sender', 'complet', 'info', 'take', 'letter', 'regist', 'secretari', 'archiv', 'letter', 'infor', 'mation', 'take', 'letter', 'regist', 'secretari', 'receiv', 'letter', 'write', 'letter', 'reason', 'reject']\n",
      "['check', 'mail', 'charls', 'archiv', 'letter', 'infor', 'mation', 'take', 'letter', 'regist', 'secretari', 'archiv', 'letter', 'infor', 'mation', 'receiv', 'letter', 'write', 'letter', 'reason', 'reject']\n",
      "['check', 'mail', 'charls', 'make', 'phone', 'call', 'sender', 'complet', 'info', 'archiv', 'letter', 'infor', 'mation', 'take', 'letter', 'regist', 'secretari', 'receiv', 'letter', 'write', 'letter', 'reason', 'reject']\n",
      "['check', 'mail', 'charls', 'archiv', 'letter', 'infor', 'mation', 'receiv', 'letter', 'take', 'letter', 'regist', 'secretari', 'receiv', 'letter', 'archiv', 'letter', 'infor', 'mation', 'write', 'letter', 'reason', 'reject']\n",
      "['check', 'mail', 'charls', 'make', 'phone', 'call', 'sender', 'complet', 'info', 'archiv', 'letter', 'infor', 'mation', 'take', 'letter', 'regist', 'secretari', 'receiv', 'letter', 'write', 'letter', 'reason', 'reject']\n",
      "['check', 'mail', 'charls', 'archiv', 'letter', 'infor', 'mation', 'take', 'letter', 'regist', 'secretari', 'receiv', 'letter', 'write', 'letter', 'reason', 'reject']\n"
     ]
    },
    {
     "name": "stdout",
     "output_type": "stream",
     "text": [
      "['check', 'mail', 'charls', 'make', 'phone', 'call', 'sender', 'complet', 'info', 'archiv', 'letter', 'infor', 'mation', 'take', 'letter', 'regist', 'secretari', 'receiv', 'letter', 'write', 'letter', 'reason', 'reject']\n",
      "['check', 'mail', 'charls', 'archiv', 'letter', 'infor', 'mation', 'take', 'letter', 'regist', 'secretari', 'archiv', 'letter', 'infor', 'mation', 'receiv', 'letter', 'write', 'letter', 'reason', 'reject']\n",
      "['receiv', 'letter', 'check', 'mail', 'charls', 'make', 'phone', 'call', 'sender', 'complet', 'info', 'archiv', 'letter', 'infor', 'mation', 'take', 'letter', 'regist', 'secretari', 'receiv', 'letter', 'write', 'letter', 'reason', 'reject']\n",
      "['check', 'mail', 'charls', 'make', 'phone', 'call', 'sender', 'complet', 'info', 'check', 'mail', 'charls', 'archiv', 'letter', 'infor', 'mation', 'take', 'letter', 'regist', 'secretari', 'receiv', 'letter', 'archiv', 'letter', 'infor', 'mation', 'write', 'letter', 'reason', 'reject']\n",
      "['check', 'mail', 'charls', 'make', 'phone', 'call', 'sender', 'complet', 'info', 'archiv', 'letter', 'infor', 'mation', 'take', 'letter', 'regist', 'secretari', 'receiv', 'letter', 'write', 'letter', 'reason', 'reject']\n",
      "['check', 'mail', 'charls', 'archiv', 'letter', 'infor', 'mation', 'take', 'letter', 'regist', 'secretari', 'write', 'letter', 'reason', 'reject', 'receiv', 'letter', 'write', 'letter', 'reason', 'reject']\n",
      "['check', 'mail', 'charls', 'make', 'phone', 'call', 'sender', 'complet', 'info', 'make', 'phone', 'call', 'sender', 'complet', 'info', 'archiv', 'letter', 'infor', 'mation', 'archiv', 'letter', 'infor', 'mation', 'take', 'letter', 'regist', 'secretari', 'check', 'mail', 'charls', 'receiv', 'letter', 'write', 'letter', 'reason', 'reject']\n",
      "['archiv', 'letter', 'infor', 'mation', 'make', 'phone', 'call', 'sender', 'complet', 'info', 'check', 'mail', 'charls', 'archiv', 'letter', 'infor', 'mation', 'take', 'letter', 'regist', 'secretari', 'receiv', 'letter', 'write', 'letter', 'reason', 'reject']\n",
      "['check', 'mail', 'charls', 'make', 'phone', 'call', 'sender', 'complet', 'info', 'archiv', 'letter', 'infor', 'mation', 'take', 'letter', 'regist', 'secretari', 'receiv', 'letter', 'check', 'mail', 'charls', 'receiv', 'letter', 'write', 'letter', 'reason', 'reject']\n",
      "['check', 'mail', 'charls', 'archiv', 'letter', 'infor', 'mation', 'take', 'letter', 'regist', 'secretari', 'receiv', 'letter', 'write', 'letter', 'reason', 'reject']\n",
      "['check', 'mail', 'charls', 'make', 'phone', 'call', 'sender', 'complet', 'info', 'archiv', 'letter', 'infor', 'mation', 'take', 'letter', 'regist', 'secretari', 'receiv', 'letter', 'write', 'letter', 'reason', 'reject']\n",
      "['check', 'mail', 'charls', 'archiv', 'letter', 'infor', 'mation', 'take', 'letter', 'regist', 'secretari', 'receiv', 'letter', 'write', 'letter', 'reason', 'reject']\n",
      "['check', 'mail', 'charls', 'make', 'phone', 'call', 'sender', 'complet', 'info', 'archiv', 'letter', 'infor', 'mation', 'take', 'letter', 'regist', 'secretari', 'receiv', 'letter', 'write', 'letter', 'reason', 'reject']\n",
      "['check', 'mail', 'charls', 'archiv', 'letter', 'infor', 'mation', 'take', 'letter', 'regist', 'secretari', 'receiv', 'letter', 'write', 'letter', 'reason', 'reject']\n",
      "['check', 'mail', 'charls', 'make', 'phone', 'call', 'sender', 'complet', 'info', 'archiv', 'letter', 'infor', 'mation', 'take', 'letter', 'regist', 'secretari', 'receiv', 'letter', 'write', 'letter', 'reason', 'reject']\n",
      "['check', 'mail', 'charls', 'check', 'mail', 'charls', 'archiv', 'letter', 'infor', 'mation', 'take', 'letter', 'regist', 'secretari', 'receiv', 'letter', 'write', 'letter', 'reason', 'reject', 'make', 'phone', 'call', 'sender', 'complet', 'info', 'check', 'mail', 'charls']\n",
      "['check', 'mail', 'charls', 'make', 'phone', 'call', 'sender', 'complet', 'info', 'archiv', 'letter', 'infor', 'mation', 'take', 'letter', 'regist', 'secretari', 'receiv', 'letter', 'write', 'letter', 'reason', 'reject']\n",
      "['check', 'mail', 'charls', 'archiv', 'letter', 'infor', 'mation', 'take', 'letter', 'regist', 'secretari', 'receiv', 'letter', 'write', 'letter', 'reason', 'reject']\n",
      "['check', 'mail', 'charls', 'make', 'phone', 'call', 'sender', 'complet', 'info', 'archiv', 'letter', 'infor', 'mation', 'take', 'letter', 'regist', 'secretari', 'receiv', 'letter', 'write', 'letter', 'reason', 'reject']\n",
      "['check', 'mail', 'charls', 'archiv', 'letter', 'infor', 'mation', 'take', 'letter', 'regist', 'secretari', 'receiv', 'letter', 'receiv', 'letter', 'write', 'letter', 'reason', 'reject']\n",
      "['check', 'mail', 'charls', 'check', 'mail', 'charls', 'make', 'phone', 'call', 'sender', 'complet', 'info', 'archiv', 'letter', 'infor', 'mation', 'receiv', 'letter', 'take', 'letter', 'regist', 'secretari', 'receiv', 'letter', 'take', 'letter', 'regist', 'secretari', 'make', 'phone', 'call', 'sender', 'complet', 'info', 'write', 'letter', 'reason', 'reject']\n",
      "['check', 'mail', 'charls', 'archiv', 'letter', 'infor', 'mation', 'archiv', 'letter', 'infor', 'mation', 'take', 'letter', 'regist', 'secretari', 'receiv', 'letter', 'make', 'phone', 'call', 'sender', 'complet', 'info', 'write', 'letter', 'reason', 'reject', 'check', 'mail', 'charls', 'receiv', 'letter', 'take', 'letter', 'regist', 'secretari']\n",
      "['check', 'mail', 'charls', 'make', 'phone', 'call', 'sender', 'complet', 'info', 'archiv', 'letter', 'infor', 'mation', 'take', 'letter', 'regist', 'secretari', 'receiv', 'letter', 'write', 'letter', 'reason', 'reject']\n",
      "['check', 'mail', 'charls', 'archiv', 'letter', 'infor', 'mation', 'take', 'letter', 'regist', 'secretari', 'receiv', 'letter', 'write', 'letter', 'reason', 'reject']\n",
      "['check', 'mail', 'charls', 'make', 'phone', 'call', 'sender', 'complet', 'info', 'archiv', 'letter', 'infor', 'mation', 'take', 'letter', 'regist', 'secretari', 'receiv', 'letter', 'write', 'letter', 'reason', 'reject']\n",
      "['check', 'mail', 'charls', 'receiv', 'letter', 'check', 'mail', 'charls', 'archiv', 'letter', 'infor', 'mation', 'take', 'letter', 'regist', 'secretari', 'receiv', 'letter', 'write', 'letter', 'reason', 'reject']\n",
      "['check', 'mail', 'charls', 'make', 'phone', 'call', 'sender', 'complet', 'info', 'archiv', 'letter', 'infor', 'mation', 'take', 'letter', 'regist', 'secretari', 'receiv', 'letter', 'write', 'letter', 'reason', 'reject']\n",
      "['check', 'mail', 'charls', 'archiv', 'letter', 'infor', 'mation', 'take', 'letter', 'regist', 'secretari', 'receiv', 'letter', 'write', 'letter', 'reason', 'reject']\n",
      "['check', 'mail', 'charls', 'make', 'phone', 'call', 'sender', 'complet', 'info', 'archiv', 'letter', 'infor', 'mation', 'take', 'letter', 'regist', 'secretari', 'receiv', 'letter', 'write', 'letter', 'reason', 'reject', 'receiv', 'letter']\n",
      "['check', 'mail', 'charls', 'check', 'mail', 'charls', 'archiv', 'letter', 'infor', 'mation', 'check', 'mail', 'charls', 'take', 'letter', 'regist', 'secretari', 'receiv', 'letter', 'write', 'letter', 'reason', 'reject']\n",
      "['check', 'mail', 'charls', 'make', 'phone', 'call', 'sender', 'complet', 'info', 'archiv', 'letter', 'infor', 'mation', 'take', 'letter', 'regist', 'secretari', 'receiv', 'letter', 'write', 'letter', 'reason', 'reject']\n",
      "['check', 'mail', 'charls', 'archiv', 'letter', 'infor', 'mation', 'take', 'letter', 'regist', 'secretari', 'receiv', 'letter', 'write', 'letter', 'reason', 'reject', 'check', 'mail', 'charls', 'take', 'letter', 'regist', 'secretari', 'write', 'letter', 'reason', 'reject', 'check', 'mail', 'charls']\n",
      "['check', 'mail', 'charls', 'make', 'phone', 'call', 'sender', 'complet', 'info', 'archiv', 'letter', 'infor', 'mation', 'write', 'letter', 'reason', 'reject', 'take', 'letter', 'regist', 'secretari', 'receiv', 'letter', 'write', 'letter', 'reason', 'reject', 'take', 'letter', 'regist', 'secretari']\n",
      "['check', 'mail', 'charls', 'archiv', 'letter', 'infor', 'mation', 'take', 'letter', 'regist', 'secretari', 'receiv', 'letter', 'write', 'letter', 'reason', 'reject', 'make', 'phone', 'call', 'sender', 'complet', 'info']\n",
      "['check', 'mail', 'charls', 'make', 'phone', 'call', 'sender', 'complet', 'info', 'archiv', 'letter', 'infor', 'mation', 'take', 'letter', 'regist', 'secretari', 'receiv', 'letter', 'write', 'letter', 'reason', 'reject']\n"
     ]
    },
    {
     "name": "stdout",
     "output_type": "stream",
     "text": [
      "['check', 'mail', 'charls', 'archiv', 'letter', 'infor', 'mation', 'take', 'letter', 'regist', 'secretari', 'receiv', 'letter', 'write', 'letter', 'reason', 'reject']\n",
      "['check', 'mail', 'charls', 'make', 'phone', 'call', 'sender', 'complet', 'info', 'archiv', 'letter', 'infor', 'mation', 'make', 'phone', 'call', 'sender', 'complet', 'info', 'take', 'letter', 'regist', 'secretari', 'receiv', 'letter', 'write', 'letter', 'reason', 'reject']\n",
      "['check', 'mail', 'charls', 'archiv', 'letter', 'infor', 'mation', 'write', 'letter', 'reason', 'reject', 'take', 'letter', 'regist', 'secretari', 'receiv', 'letter', 'write', 'letter', 'reason', 'reject']\n",
      "['check', 'mail', 'charls', 'make', 'phone', 'call', 'sender', 'complet', 'info', 'make', 'phone', 'call', 'sender', 'complet', 'info', 'archiv', 'letter', 'infor', 'mation', 'take', 'letter', 'regist', 'secretari', 'receiv', 'letter', 'write', 'letter', 'reason', 'reject']\n",
      "['check', 'mail', 'charls', 'archiv', 'letter', 'infor', 'mation', 'take', 'letter', 'regist', 'secretari', 'receiv', 'letter', 'write', 'letter', 'reason', 'reject']\n",
      "['check', 'mail', 'charls', 'make', 'phone', 'call', 'sender', 'complet', 'info', 'archiv', 'letter', 'infor', 'mation', 'take', 'letter', 'regist', 'secretari', 'receiv', 'letter', 'write', 'letter', 'reason', 'reject']\n",
      "['check', 'mail', 'charls', 'archiv', 'letter', 'infor', 'mation', 'take', 'letter', 'regist', 'secretari', 'receiv', 'letter', 'write', 'letter', 'reason', 'reject']\n",
      "['write', 'letter', 'reason', 'reject', 'check', 'mail', 'charls', 'make', 'phone', 'call', 'sender', 'complet', 'info', 'archiv', 'letter', 'infor', 'mation', 'take', 'letter', 'regist', 'secretari', 'take', 'letter', 'regist', 'secretari', 'receiv', 'letter', 'write', 'letter', 'reason', 'reject']\n",
      "['check', 'mail', 'charls', 'archiv', 'letter', 'infor', 'mation', 'make', 'phone', 'call', 'sender', 'complet', 'info', 'take', 'letter', 'regist', 'secretari', 'receiv', 'letter', 'write', 'letter', 'reason', 'reject']\n",
      "['check', 'mail', 'charls', 'make', 'phone', 'call', 'sender', 'complet', 'info', 'check', 'mail', 'charls', 'check', 'mail', 'charls', 'archiv', 'letter', 'infor', 'mation', 'take', 'letter', 'regist', 'secretari', 'receiv', 'letter', 'write', 'letter', 'reason', 'reject']\n",
      "['make', 'phone', 'call', 'sender', 'complet', 'info', 'check', 'mail', 'charls', 'archiv', 'letter', 'infor', 'mation', 'take', 'letter', 'regist', 'secretari', 'receiv', 'letter', 'write', 'letter', 'reason', 'reject']\n",
      "['check', 'mail', 'charls', 'make', 'phone', 'call', 'sender', 'complet', 'info', 'archiv', 'letter', 'infor', 'mation', 'take', 'letter', 'regist', 'secretari', 'receiv', 'letter', 'write', 'letter', 'reason', 'reject']\n",
      "['check', 'mail', 'charls', 'archiv', 'letter', 'infor', 'mation', 'take', 'letter', 'regist', 'secretari', 'receiv', 'letter', 'write', 'letter', 'reason', 'reject']\n",
      "['write', 'letter', 'reason', 'reject', 'check', 'mail', 'charls', 'make', 'phone', 'call', 'sender', 'complet', 'info', 'make', 'phone', 'call', 'sender', 'complet', 'info', 'take', 'letter', 'regist', 'secretari', 'archiv', 'letter', 'infor', 'mation', 'take', 'letter', 'regist', 'secretari', 'receiv', 'letter', 'write', 'letter', 'reason', 'reject']\n",
      "['check', 'mail', 'charls', 'archiv', 'letter', 'infor', 'mation', 'take', 'letter', 'regist', 'secretari', 'receiv', 'letter', 'write', 'letter', 'reason', 'reject']\n",
      "['check', 'mail', 'charls', 'make', 'phone', 'call', 'sender', 'complet', 'info', 'archiv', 'letter', 'infor', 'mation', 'take', 'letter', 'regist', 'secretari', 'receiv', 'letter', 'write', 'letter', 'reason', 'reject']\n"
     ]
    }
   ],
   "source": [
    "vocab = []\n",
    "for i in range(len(corpus)):\n",
    "    all_words = nltk.word_tokenize(corpus[i])\n",
    "    vocab.append(all_words)\n",
    "    print(all_words)"
   ]
  },
  {
   "cell_type": "code",
   "execution_count": 15,
   "metadata": {},
   "outputs": [
    {
     "data": {
      "text/plain": [
       "['check',\n",
       " 'mail',\n",
       " 'charls',\n",
       " 'archiv',\n",
       " 'letter',\n",
       " 'infor',\n",
       " 'mation',\n",
       " 'take',\n",
       " 'letter',\n",
       " 'regist',\n",
       " 'secretari',\n",
       " 'receiv',\n",
       " 'letter',\n",
       " 'write',\n",
       " 'letter',\n",
       " 'reason',\n",
       " 'reject']"
      ]
     },
     "execution_count": 15,
     "metadata": {},
     "output_type": "execute_result"
    }
   ],
   "source": [
    "vocab[0]\n",
    "    "
   ]
  },
  {
   "cell_type": "code",
   "execution_count": 16,
   "metadata": {
    "scrolled": true
   },
   "outputs": [],
   "source": [
    "import gensim\n",
    "from gensim.models import Word2Vec\n",
    "vector_size=100\n",
    "model = gensim.models.Word2Vec(vocab, vector_size=vector_size, window=3, min_count=0)\n",
    "nrEpochs= 10\n",
    "model.train(vocab,total_examples=model.corpus_count,start_alpha=0.025, epochs=nrEpochs)\n",
    "model.alpha -= 0.002  # decrease the learning rate\n",
    "model.min_alpha = model.alpha  # fix the learning rate, no decay\n"
   ]
  },
  {
   "cell_type": "code",
   "execution_count": 17,
   "metadata": {},
   "outputs": [
    {
     "data": {
      "text/plain": [
       "<gensim.models.word2vec.Word2Vec at 0x138a396e0c8>"
      ]
     },
     "execution_count": 17,
     "metadata": {},
     "output_type": "execute_result"
    }
   ],
   "source": [
    "model"
   ]
  },
  {
   "cell_type": "code",
   "execution_count": 18,
   "metadata": {},
   "outputs": [
    {
     "data": {
      "text/plain": [
       "{'letter': 0,\n",
       " 'secretari': 1,\n",
       " 'regist': 2,\n",
       " 'take': 3,\n",
       " 'mail': 4,\n",
       " 'charls': 5,\n",
       " 'check': 6,\n",
       " 'mation': 7,\n",
       " 'infor': 8,\n",
       " 'archiv': 9,\n",
       " 'reason': 10,\n",
       " 'write': 11,\n",
       " 'reject': 12,\n",
       " 'receiv': 13,\n",
       " 'complet': 14,\n",
       " 'make': 15,\n",
       " 'phone': 16,\n",
       " 'call': 17,\n",
       " 'sender': 18,\n",
       " 'info': 19}"
      ]
     },
     "execution_count": 18,
     "metadata": {},
     "output_type": "execute_result"
    }
   ],
   "source": [
    "vocabulary = model.wv.key_to_index\n",
    "vocabulary\n",
    "   "
   ]
  },
  {
   "cell_type": "code",
   "execution_count": 19,
   "metadata": {},
   "outputs": [
    {
     "data": {
      "text/plain": [
       "['check',\n",
       " 'mail',\n",
       " 'charls',\n",
       " 'archiv',\n",
       " 'letter',\n",
       " 'infor',\n",
       " 'mation',\n",
       " 'take',\n",
       " 'letter',\n",
       " 'regist',\n",
       " 'secretari',\n",
       " 'receiv',\n",
       " 'letter',\n",
       " 'write',\n",
       " 'letter',\n",
       " 'reason',\n",
       " 'reject']"
      ]
     },
     "execution_count": 19,
     "metadata": {},
     "output_type": "execute_result"
    }
   ],
   "source": [
    "vocab[0]"
   ]
  },
  {
   "cell_type": "code",
   "execution_count": 20,
   "metadata": {},
   "outputs": [
    {
     "data": {
      "text/plain": [
       "17"
      ]
     },
     "execution_count": 20,
     "metadata": {},
     "output_type": "execute_result"
    }
   ],
   "source": [
    "len(vocab[0])"
   ]
  },
  {
   "cell_type": "code",
   "execution_count": 21,
   "metadata": {},
   "outputs": [],
   "source": [
    "import numpy as np\n",
    "vectors = []\n",
    "for i in range(len(vocab)):\n",
    "        case_vector = []\n",
    "        for j in range(len(vocab[i])):\n",
    "            try:\n",
    "                case_vector.append(model.wv[vocab[i][j]])\n",
    "            except KeyError:\n",
    "                pass\n",
    "        vectors.append(np.array(case_vector))"
   ]
  },
  {
   "cell_type": "code",
   "execution_count": 22,
   "metadata": {},
   "outputs": [
    {
     "name": "stderr",
     "output_type": "stream",
     "text": [
      "C:\\Users\\Nela\\Anaconda3\\lib\\site-packages\\numpy\\core\\fromnumeric.py:1970: VisibleDeprecationWarning: Creating an ndarray from ragged nested sequences (which is a list-or-tuple of lists-or-tuples-or ndarrays with different lengths or shapes) is deprecated. If you meant to do this, you must specify 'dtype=object' when creating the ndarray.\n",
      "  result = asarray(a).shape\n"
     ]
    },
    {
     "data": {
      "text/plain": [
       "(1000,)"
      ]
     },
     "execution_count": 22,
     "metadata": {},
     "output_type": "execute_result"
    }
   ],
   "source": [
    "np.shape(vectors)"
   ]
  },
  {
   "cell_type": "code",
   "execution_count": 23,
   "metadata": {},
   "outputs": [
    {
     "data": {
      "text/plain": [
       "(17, 100)"
      ]
     },
     "execution_count": 23,
     "metadata": {},
     "output_type": "execute_result"
    }
   ],
   "source": [
    "np.shape(vectors[0])"
   ]
  },
  {
   "cell_type": "code",
   "execution_count": 24,
   "metadata": {},
   "outputs": [
    {
     "data": {
      "text/plain": [
       "1000"
      ]
     },
     "execution_count": 24,
     "metadata": {},
     "output_type": "execute_result"
    }
   ],
   "source": [
    "len(vectors)"
   ]
  },
  {
   "cell_type": "code",
   "execution_count": 25,
   "metadata": {},
   "outputs": [
    {
     "data": {
      "text/plain": [
       "array([[ 0.07876973,  0.0137633 ,  0.01576386, ...,  0.01525975,\n",
       "         0.16050366,  0.10656235],\n",
       "       [-0.10382928,  0.118664  , -0.13705616, ...,  0.21394208,\n",
       "         0.19523689,  0.2102397 ],\n",
       "       [-0.12805773,  0.08929588,  0.03699046, ...,  0.01841345,\n",
       "         0.1577703 ,  0.08414446],\n",
       "       ...,\n",
       "       [-0.09873722,  0.18039861,  0.21805538, ..., -0.17208964,\n",
       "         0.08096679,  0.07499287],\n",
       "       [-0.08775849,  0.31534925,  0.23336059, ..., -0.2963711 ,\n",
       "         0.00888879, -0.17389141],\n",
       "       [-0.27012733,  0.32897353,  0.28339288, ..., -0.16202416,\n",
       "         0.09721828,  0.10502859]], dtype=float32)"
      ]
     },
     "execution_count": 25,
     "metadata": {},
     "output_type": "execute_result"
    }
   ],
   "source": [
    "vectors[0]"
   ]
  },
  {
   "cell_type": "code",
   "execution_count": 26,
   "metadata": {},
   "outputs": [],
   "source": [
    "maxi=0\n",
    "indexi =0\n",
    "for i in range(len(vectors)):\n",
    "    if len(vectors[i])>maxi:\n",
    "          maxi = len(vectors[i]) \n",
    "          indexi = i "
   ]
  },
  {
   "cell_type": "code",
   "execution_count": 27,
   "metadata": {},
   "outputs": [
    {
     "data": {
      "text/plain": [
       "(49, 689)"
      ]
     },
     "execution_count": 27,
     "metadata": {},
     "output_type": "execute_result"
    }
   ],
   "source": [
    "maxi, indexi"
   ]
  },
  {
   "cell_type": "code",
   "execution_count": 28,
   "metadata": {},
   "outputs": [
    {
     "name": "stdout",
     "output_type": "stream",
     "text": [
      "[[ 0.07876973  0.0137633   0.01576386 ...  0.01525975  0.16050366\n",
      "   0.10656235]\n",
      " [-0.10382928  0.118664   -0.13705616 ...  0.21394208  0.19523689\n",
      "   0.21023969]\n",
      " [-0.12805773  0.08929588  0.03699046 ...  0.01841345  0.15777031\n",
      "   0.08414446]\n",
      " ...\n",
      " [ 0.          0.          0.         ...  0.          0.\n",
      "   0.        ]\n",
      " [ 0.          0.          0.         ...  0.          0.\n",
      "   0.        ]\n",
      " [ 0.          0.          0.         ...  0.          0.\n",
      "   0.        ]]\n"
     ]
    }
   ],
   "source": [
    "shape = np.shape(vectors[8])\n",
    "padded_array = np.zeros((maxi, vector_size))\n",
    "padded_array[:shape[0],:shape[1]] = vectors[8]\n",
    "print(padded_array)"
   ]
  },
  {
   "cell_type": "code",
   "execution_count": 29,
   "metadata": {},
   "outputs": [
    {
     "data": {
      "text/plain": [
       "(17, 49)"
      ]
     },
     "execution_count": 29,
     "metadata": {},
     "output_type": "execute_result"
    }
   ],
   "source": [
    "len(vectors[8]), len(padded_array)"
   ]
  },
  {
   "cell_type": "code",
   "execution_count": 30,
   "metadata": {},
   "outputs": [
    {
     "data": {
      "text/plain": [
       "((17, 100), (49, 100))"
      ]
     },
     "execution_count": 30,
     "metadata": {},
     "output_type": "execute_result"
    }
   ],
   "source": [
    "np.shape(vectors[8]), np.shape(padded_array)"
   ]
  },
  {
   "cell_type": "code",
   "execution_count": 31,
   "metadata": {},
   "outputs": [],
   "source": [
    "x=[]\n",
    "for i in range(len(vectors)):\n",
    "    shape = np.shape(vectors[i])\n",
    "    padded_array = np.zeros((maxi, 100))\n",
    "    padded_array[:shape[0],:shape[1]] = vectors[i]\n",
    "    x.append(padded_array)"
   ]
  },
  {
   "cell_type": "code",
   "execution_count": 32,
   "metadata": {},
   "outputs": [
    {
     "data": {
      "text/plain": [
       "(1000, 49, 100)"
      ]
     },
     "execution_count": 32,
     "metadata": {},
     "output_type": "execute_result"
    }
   ],
   "source": [
    "x=np.array(x)\n",
    "x.shape"
   ]
  },
  {
   "cell_type": "code",
   "execution_count": 33,
   "metadata": {},
   "outputs": [
    {
     "data": {
      "text/plain": [
       "array([[ 0.07876973,  0.0137633 ,  0.01576386, ...,  0.01525975,\n",
       "         0.16050366,  0.10656235],\n",
       "       [-0.10382928,  0.118664  , -0.13705616, ...,  0.21394208,\n",
       "         0.19523689,  0.21023969],\n",
       "       [-0.12805773,  0.08929588,  0.03699046, ...,  0.01841345,\n",
       "         0.15777031,  0.08414446],\n",
       "       ...,\n",
       "       [ 0.        ,  0.        ,  0.        , ...,  0.        ,\n",
       "         0.        ,  0.        ],\n",
       "       [ 0.        ,  0.        ,  0.        , ...,  0.        ,\n",
       "         0.        ,  0.        ],\n",
       "       [ 0.        ,  0.        ,  0.        , ...,  0.        ,\n",
       "         0.        ,  0.        ]])"
      ]
     },
     "execution_count": 33,
     "metadata": {},
     "output_type": "execute_result"
    }
   ],
   "source": [
    "x[0]"
   ]
  },
  {
   "cell_type": "code",
   "execution_count": 34,
   "metadata": {},
   "outputs": [
    {
     "data": {
      "text/plain": [
       "array([0.07876973, 0.0137633 , 0.01576386, ..., 0.        , 0.        ,\n",
       "       0.        ])"
      ]
     },
     "execution_count": 34,
     "metadata": {},
     "output_type": "execute_result"
    }
   ],
   "source": [
    "X = x.reshape(x.shape[0],x.shape[1]*x.shape[2])\n",
    "X[0]"
   ]
  },
  {
   "cell_type": "code",
   "execution_count": 35,
   "metadata": {},
   "outputs": [
    {
     "data": {
      "text/plain": [
       "4900"
      ]
     },
     "execution_count": 35,
     "metadata": {},
     "output_type": "execute_result"
    }
   ],
   "source": [
    "len(X[0])"
   ]
  },
  {
   "cell_type": "code",
   "execution_count": 36,
   "metadata": {},
   "outputs": [
    {
     "data": {
      "text/html": [
       "<div>\n",
       "<style scoped>\n",
       "    .dataframe tbody tr th:only-of-type {\n",
       "        vertical-align: middle;\n",
       "    }\n",
       "\n",
       "    .dataframe tbody tr th {\n",
       "        vertical-align: top;\n",
       "    }\n",
       "\n",
       "    .dataframe thead th {\n",
       "        text-align: right;\n",
       "    }\n",
       "</style>\n",
       "<table border=\"1\" class=\"dataframe\">\n",
       "  <thead>\n",
       "    <tr style=\"text-align: right;\">\n",
       "      <th></th>\n",
       "      <th>Unnamed: 0</th>\n",
       "      <th>ID</th>\n",
       "      <th>concept:name</th>\n",
       "      <th>Status</th>\n",
       "    </tr>\n",
       "  </thead>\n",
       "  <tbody>\n",
       "    <tr>\n",
       "      <th>0</th>\n",
       "      <td>0</td>\n",
       "      <td>0</td>\n",
       "      <td>['check  mail by  charlse', 'archive  letter a...</td>\n",
       "      <td>Normal</td>\n",
       "    </tr>\n",
       "    <tr>\n",
       "      <th>1</th>\n",
       "      <td>1</td>\n",
       "      <td>1</td>\n",
       "      <td>['check  mail by  charlse', 'make phone call t...</td>\n",
       "      <td>Normal</td>\n",
       "    </tr>\n",
       "    <tr>\n",
       "      <th>2</th>\n",
       "      <td>2</td>\n",
       "      <td>2</td>\n",
       "      <td>['check  mail by  charlse', 'archive  letter a...</td>\n",
       "      <td>Normal</td>\n",
       "    </tr>\n",
       "    <tr>\n",
       "      <th>3</th>\n",
       "      <td>3</td>\n",
       "      <td>3</td>\n",
       "      <td>['check  mail by  charlse', 'make phone call t...</td>\n",
       "      <td>Normal</td>\n",
       "    </tr>\n",
       "    <tr>\n",
       "      <th>4</th>\n",
       "      <td>4</td>\n",
       "      <td>4</td>\n",
       "      <td>['check  mail by  charlse', 'archive  letter a...</td>\n",
       "      <td>Anomalous</td>\n",
       "    </tr>\n",
       "    <tr>\n",
       "      <th>...</th>\n",
       "      <td>...</td>\n",
       "      <td>...</td>\n",
       "      <td>...</td>\n",
       "      <td>...</td>\n",
       "    </tr>\n",
       "    <tr>\n",
       "      <th>995</th>\n",
       "      <td>995</td>\n",
       "      <td>995</td>\n",
       "      <td>['check  mail by  charlse', 'make phone call t...</td>\n",
       "      <td>Normal</td>\n",
       "    </tr>\n",
       "    <tr>\n",
       "      <th>996</th>\n",
       "      <td>996</td>\n",
       "      <td>996</td>\n",
       "      <td>['check  mail by  charlse', 'archive  letter a...</td>\n",
       "      <td>Normal</td>\n",
       "    </tr>\n",
       "    <tr>\n",
       "      <th>997</th>\n",
       "      <td>997</td>\n",
       "      <td>997</td>\n",
       "      <td>['write letter with reason of rejection', 'che...</td>\n",
       "      <td>Anomalous</td>\n",
       "    </tr>\n",
       "    <tr>\n",
       "      <th>998</th>\n",
       "      <td>998</td>\n",
       "      <td>998</td>\n",
       "      <td>['check  mail by  charlse', 'archive  letter a...</td>\n",
       "      <td>Normal</td>\n",
       "    </tr>\n",
       "    <tr>\n",
       "      <th>999</th>\n",
       "      <td>999</td>\n",
       "      <td>999</td>\n",
       "      <td>['check  mail by  charlse', 'make phone call t...</td>\n",
       "      <td>Normal</td>\n",
       "    </tr>\n",
       "  </tbody>\n",
       "</table>\n",
       "<p>1000 rows × 4 columns</p>\n",
       "</div>"
      ],
      "text/plain": [
       "     Unnamed: 0   ID                                       concept:name  \\\n",
       "0             0    0  ['check  mail by  charlse', 'archive  letter a...   \n",
       "1             1    1  ['check  mail by  charlse', 'make phone call t...   \n",
       "2             2    2  ['check  mail by  charlse', 'archive  letter a...   \n",
       "3             3    3  ['check  mail by  charlse', 'make phone call t...   \n",
       "4             4    4  ['check  mail by  charlse', 'archive  letter a...   \n",
       "..          ...  ...                                                ...   \n",
       "995         995  995  ['check  mail by  charlse', 'make phone call t...   \n",
       "996         996  996  ['check  mail by  charlse', 'archive  letter a...   \n",
       "997         997  997  ['write letter with reason of rejection', 'che...   \n",
       "998         998  998  ['check  mail by  charlse', 'archive  letter a...   \n",
       "999         999  999  ['check  mail by  charlse', 'make phone call t...   \n",
       "\n",
       "        Status  \n",
       "0       Normal  \n",
       "1       Normal  \n",
       "2       Normal  \n",
       "3       Normal  \n",
       "4    Anomalous  \n",
       "..         ...  \n",
       "995     Normal  \n",
       "996     Normal  \n",
       "997  Anomalous  \n",
       "998     Normal  \n",
       "999     Normal  \n",
       "\n",
       "[1000 rows x 4 columns]"
      ]
     },
     "execution_count": 36,
     "metadata": {},
     "output_type": "execute_result"
    }
   ],
   "source": [
    "# read the csv file of the event log\n",
    "import pandas as pd\n",
    "df2 = pd.read_csv(r'C:\\Users\\Nela\\Desktop\\University Courses\\Semester 4\\Master Thesis\\Thesis\\DataSet\\Synthetic_Event_logs\\Second Group of Synthetic Event Logs\\1167521718.csv')\n",
    "df2"
   ]
  },
  {
   "cell_type": "code",
   "execution_count": 37,
   "metadata": {},
   "outputs": [
    {
     "data": {
      "text/plain": [
       "0         Normal\n",
       "1         Normal\n",
       "2         Normal\n",
       "3         Normal\n",
       "4      Anomalous\n",
       "         ...    \n",
       "995       Normal\n",
       "996       Normal\n",
       "997    Anomalous\n",
       "998       Normal\n",
       "999       Normal\n",
       "Name: Status, Length: 1000, dtype: object"
      ]
     },
     "execution_count": 37,
     "metadata": {},
     "output_type": "execute_result"
    }
   ],
   "source": [
    "Y=df2['Status'].astype(str)\n",
    "Y"
   ]
  },
  {
   "cell_type": "code",
   "execution_count": 38,
   "metadata": {},
   "outputs": [
    {
     "data": {
      "text/plain": [
       "array([1, 1, 1, 1, 0, 1, 1, 0, 1, 0, 0, 1, 0, 1, 1, 0, 0, 0, 0, 0, 0, 0,\n",
       "       1, 1, 0, 1, 1, 1, 1, 0, 0, 0, 0, 0, 1, 1, 1, 1, 1, 0, 1, 1, 1, 0,\n",
       "       1, 0, 1, 0, 1, 1, 1, 1, 1, 1, 0, 1, 1, 1, 1, 0, 1, 1, 0, 1, 1, 1,\n",
       "       1, 0, 0, 0, 1, 1, 1, 1, 1, 1, 1, 1, 0, 0, 1, 1, 0, 1, 1, 1, 1, 0,\n",
       "       1, 0, 0, 0, 0, 1, 0, 1, 0, 1, 1, 0, 0, 0, 1, 1, 1, 0, 1, 0, 0, 1,\n",
       "       1, 1, 0, 0, 0, 0, 1, 1, 0, 1, 0, 1, 1, 1, 1, 0, 1, 0, 1, 0, 1, 1,\n",
       "       1, 1, 1, 0, 0, 0, 1, 1, 0, 1, 0, 0, 0, 0, 1, 0, 1, 1, 1, 0, 1, 0,\n",
       "       1, 0, 0, 0, 1, 0, 0, 1, 1, 0, 1, 1, 1, 1, 0, 0, 1, 0, 1, 1, 1, 1,\n",
       "       0, 0, 1, 1, 1, 0, 1, 1, 0, 0, 0, 1, 1, 1, 1, 1, 1, 0, 1, 0, 0, 1,\n",
       "       0, 0, 1, 1, 1, 0, 1, 1, 0, 0, 1, 0, 1, 0, 1, 1, 0, 1, 0, 1, 1, 0,\n",
       "       1, 0, 0, 0, 1, 0, 0, 0, 1, 0, 1, 0, 0, 0, 1, 1, 1, 0, 1, 0, 0, 1,\n",
       "       1, 0, 1, 0, 1, 1, 0, 0, 1, 1, 0, 1, 0, 0, 0, 0, 0, 0, 1, 1, 1, 0,\n",
       "       0, 1, 1, 0, 0, 1, 0, 1, 1, 0, 1, 1, 1, 0, 1, 1, 1, 1, 0, 1, 1, 1,\n",
       "       1, 0, 1, 0, 0, 0, 0, 1, 1, 0, 1, 1, 1, 1, 1, 1, 1, 1, 0, 1, 1, 0,\n",
       "       1, 1, 1, 0, 0, 1, 1, 0, 1, 0, 1, 0, 1, 1, 1, 0, 0, 1, 1, 0, 1, 1,\n",
       "       1, 1, 0, 0, 1, 1, 0, 1, 1, 1, 0, 1, 1, 0, 0, 0, 1, 0, 0, 1, 1, 1,\n",
       "       0, 0, 1, 1, 1, 1, 1, 0, 0, 0, 0, 0, 1, 0, 0, 1, 1, 1, 1, 1, 1, 1,\n",
       "       1, 1, 0, 1, 0, 0, 0, 1, 1, 1, 1, 0, 1, 0, 1, 0, 0, 0, 1, 0, 0, 1,\n",
       "       0, 0, 0, 0, 1, 0, 1, 1, 0, 0, 1, 1, 1, 1, 1, 0, 1, 0, 1, 0, 0, 1,\n",
       "       1, 1, 0, 1, 1, 1, 0, 1, 0, 1, 1, 1, 0, 1, 0, 1, 0, 1, 1, 0, 1, 1,\n",
       "       1, 1, 0, 0, 0, 1, 0, 1, 0, 0, 1, 0, 1, 1, 0, 1, 0, 1, 1, 1, 0, 1,\n",
       "       1, 0, 0, 1, 1, 1, 1, 0, 1, 1, 1, 0, 0, 0, 1, 1, 0, 0, 1, 0, 0, 0,\n",
       "       1, 1, 1, 1, 1, 0, 1, 0, 1, 1, 0, 0, 0, 0, 1, 1, 1, 0, 1, 0, 0, 0,\n",
       "       1, 0, 0, 0, 1, 1, 0, 1, 0, 0, 1, 1, 1, 1, 1, 0, 0, 1, 1, 1, 0, 0,\n",
       "       0, 0, 1, 1, 1, 1, 0, 0, 1, 0, 0, 0, 1, 1, 0, 1, 0, 1, 0, 1, 1, 1,\n",
       "       0, 0, 1, 1, 1, 1, 1, 0, 0, 1, 0, 1, 0, 1, 1, 0, 0, 1, 1, 1, 0, 1,\n",
       "       1, 1, 0, 1, 1, 1, 0, 0, 1, 1, 0, 0, 0, 0, 1, 1, 0, 0, 0, 1, 1, 0,\n",
       "       1, 0, 0, 1, 0, 0, 1, 0, 0, 0, 1, 1, 0, 0, 1, 1, 0, 0, 0, 1, 1, 1,\n",
       "       1, 1, 1, 1, 1, 1, 1, 1, 1, 1, 1, 0, 1, 1, 1, 0, 0, 1, 1, 0, 1, 0,\n",
       "       1, 1, 0, 0, 0, 1, 1, 1, 1, 0, 0, 0, 0, 1, 1, 0, 1, 0, 0, 0, 1, 0,\n",
       "       1, 1, 0, 1, 1, 1, 1, 1, 1, 0, 1, 1, 1, 1, 0, 1, 1, 0, 1, 0, 1, 0,\n",
       "       0, 0, 1, 1, 0, 1, 0, 0, 0, 0, 0, 1, 0, 0, 1, 0, 1, 1, 1, 1, 1, 1,\n",
       "       0, 1, 0, 0, 1, 0, 1, 1, 1, 0, 0, 1, 1, 1, 1, 1, 0, 1, 1, 1, 0, 1,\n",
       "       1, 1, 1, 1, 1, 1, 1, 1, 1, 1, 0, 0, 1, 0, 1, 0, 0, 1, 0, 1, 1, 1,\n",
       "       0, 1, 1, 1, 1, 1, 1, 0, 0, 1, 1, 0, 0, 0, 1, 0, 0, 1, 1, 1, 1, 0,\n",
       "       0, 0, 0, 0, 0, 1, 1, 0, 0, 0, 1, 1, 0, 1, 1, 0, 1, 1, 1, 0, 0, 1,\n",
       "       1, 0, 1, 1, 1, 1, 1, 1, 0, 1, 1, 1, 1, 0, 1, 1, 0, 1, 0, 1, 1, 1,\n",
       "       1, 0, 1, 1, 1, 0, 1, 1, 1, 1, 0, 0, 0, 1, 1, 0, 0, 1, 1, 0, 1, 0,\n",
       "       0, 1, 0, 1, 0, 1, 0, 0, 0, 0, 1, 0, 1, 1, 1, 1, 1, 0, 1, 1, 1, 0,\n",
       "       1, 1, 0, 0, 0, 1, 1, 1, 0, 1, 0, 0, 0, 0, 0, 1, 1, 0, 1, 0, 1, 0,\n",
       "       1, 1, 0, 1, 1, 0, 1, 1, 0, 1, 0, 1, 1, 1, 0, 0, 1, 0, 0, 1, 1, 1,\n",
       "       1, 1, 1, 0, 1, 0, 0, 1, 1, 1, 0, 1, 0, 1, 1, 1, 1, 1, 1, 0, 1, 0,\n",
       "       0, 0, 0, 0, 1, 1, 1, 0, 1, 0, 1, 0, 0, 1, 1, 0, 0, 0, 0, 0, 0, 1,\n",
       "       0, 1, 1, 1, 0, 0, 0, 1, 0, 0, 0, 0, 1, 1, 1, 1, 1, 1, 0, 1, 1, 1,\n",
       "       0, 0, 0, 1, 1, 1, 0, 1, 1, 0, 0, 1, 0, 0, 0, 1, 1, 0, 0, 0, 1, 1,\n",
       "       1, 0, 0, 0, 0, 1, 1, 0, 1, 1], dtype=uint8)"
      ]
     },
     "execution_count": 38,
     "metadata": {},
     "output_type": "execute_result"
    }
   ],
   "source": [
    "# get binary values for the case status\n",
    "y=pd.get_dummies(Y)\n",
    "y=y.iloc[:,1].values\n",
    "y"
   ]
  },
  {
   "cell_type": "code",
   "execution_count": 39,
   "metadata": {},
   "outputs": [],
   "source": [
    "from keras.models import Sequential\n",
    "from keras.layers import LSTM, Input, Dropout\n",
    "from keras.layers import Dense\n",
    "from keras.layers import RepeatVector\n",
    "from keras.layers import TimeDistributed\n",
    "from matplotlib import pyplot as plt\n",
    "from sklearn.preprocessing import StandardScaler\n",
    "from keras.models import Model\n",
    "import tensorflow as tf\n",
    "from tensorflow.keras import layers, losses\n",
    "from tensorflow.keras.datasets import fashion_mnist\n",
    "from tensorflow.keras.models import Model\n",
    "from keras.models import Sequential\n",
    "from keras.layers import LSTM, Input, Dropout\n",
    "from matplotlib import pyplot as plt\n",
    "\n"
   ]
  },
  {
   "cell_type": "code",
   "execution_count": 40,
   "metadata": {},
   "outputs": [
    {
     "name": "stdout",
     "output_type": "stream",
     "text": [
      "No. of unique labels  2\n",
      "Label values  ['Anomalous' 'Normal']\n",
      "-------\n",
      "Break down of the Normal and Anomalous Traces\n",
      "Normal       570\n",
      "Anomalous    430\n",
      "Name: Status, dtype: int64\n"
     ]
    }
   ],
   "source": [
    "print(\"No. of unique labels \", len(np.unique(Y)))\n",
    "print(\"Label values \",np.unique(Y))\n",
    "#1 is for normal traces\n",
    "#0 is for anomalous traces\n",
    "print('-------')\n",
    "print(\"Break down of the Normal and Anomalous Traces\")\n",
    "print(pd.value_counts(Y, sort = True) )"
   ]
  },
  {
   "cell_type": "code",
   "execution_count": 41,
   "metadata": {},
   "outputs": [],
   "source": [
    "#Split training and test data\n",
    "from sklearn.model_selection import train_test_split\n",
    "train_data, test_data, train_labels, test_labels = train_test_split(X, y, test_size=0.2, random_state=42)"
   ]
  },
  {
   "cell_type": "code",
   "execution_count": 42,
   "metadata": {},
   "outputs": [],
   "source": [
    "from sklearn.preprocessing import StandardScaler\n",
    "scaler = StandardScaler()\n",
    "scaler.fit(train_data)\n",
    "train_data = scaler.transform(train_data)\n",
    "test_data = scaler.transform(test_data)"
   ]
  },
  {
   "cell_type": "code",
   "execution_count": 43,
   "metadata": {},
   "outputs": [
    {
     "name": "stdout",
     "output_type": "stream",
     "text": [
      "colwise mean [ 0. -0. -0. ...  0.  0.  0.]\n",
      "colwise variance [1. 1. 1. ... 0. 0. 0.]\n"
     ]
    }
   ],
   "source": [
    "#Make sure the scale worked correctly?\n",
    "#A correct transformation of X_train will ensure that the means and variances of each column of the flattened X_train are 0 and 1, respectively. \n",
    "print('colwise mean', np.mean(train_data, axis=0).round(6))\n",
    "print('colwise variance', np.var(train_data, axis=0))"
   ]
  },
  {
   "cell_type": "code",
   "execution_count": 44,
   "metadata": {},
   "outputs": [],
   "source": [
    "#You will train the autoencoder using only the normal rhythms, which are labeled in this dataset as 1. \n",
    "#Separate the normal rhythms from the abnormal rhythms.\n",
    "train_labels = train_labels.astype(bool)\n",
    "test_labels = test_labels.astype(bool)\n",
    "\n",
    "normal_train_data = np.array(train_data[train_labels])\n",
    "normal_test_data = np.array(test_data[test_labels])\n",
    "\n",
    "anomalous_train_data = np.array(train_data[~train_labels])\n",
    "anomalous_test_data = np.array(test_data[~test_labels])"
   ]
  },
  {
   "cell_type": "code",
   "execution_count": 45,
   "metadata": {},
   "outputs": [
    {
     "data": {
      "text/plain": [
       "(459, 111, 341, 89)"
      ]
     },
     "execution_count": 45,
     "metadata": {},
     "output_type": "execute_result"
    }
   ],
   "source": [
    "len(normal_train_data),len(normal_test_data),len(anomalous_train_data),len(anomalous_test_data)"
   ]
  },
  {
   "cell_type": "code",
   "execution_count": 46,
   "metadata": {},
   "outputs": [
    {
     "data": {
      "text/plain": [
       "((200, 4900), 200)"
      ]
     },
     "execution_count": 46,
     "metadata": {},
     "output_type": "execute_result"
    }
   ],
   "source": [
    "test_data.shape, len(test_data)"
   ]
  },
  {
   "cell_type": "code",
   "execution_count": 47,
   "metadata": {},
   "outputs": [
    {
     "name": "stdout",
     "output_type": "stream",
     "text": [
      "(459, 1, 4900)\n",
      "(200, 1, 4900)\n"
     ]
    }
   ],
   "source": [
    "# conver 2d dataframe to 3d array\n",
    "import numpy as np\n",
    "from numpy import newaxis\n",
    "X_train_ar = np.array(normal_train_data) \n",
    "X_test_ar = np.array(test_data ) \n",
    "Normal_train_3d = X_train_ar[:,newaxis,:]\n",
    "test_data_3d = X_test_ar[:,newaxis,:]\n",
    "print(Normal_train_3d.shape)\n",
    "print(test_data_3d.shape)"
   ]
  },
  {
   "cell_type": "code",
   "execution_count": 48,
   "metadata": {},
   "outputs": [
    {
     "name": "stdout",
     "output_type": "stream",
     "text": [
      "Model: \"sequential\"\n",
      "_________________________________________________________________\n",
      " Layer (type)                Output Shape              Param #   \n",
      "=================================================================\n",
      " lstm (LSTM)                 (None, 1, 128)            2574848   \n",
      "                                                                 \n",
      " dropout (Dropout)           (None, 1, 128)            0         \n",
      "                                                                 \n",
      " lstm_1 (LSTM)               (None, 64)                49408     \n",
      "                                                                 \n",
      " dropout_1 (Dropout)         (None, 64)                0         \n",
      "                                                                 \n",
      " repeat_vector (RepeatVector  (None, 1, 64)            0         \n",
      " )                                                               \n",
      "                                                                 \n",
      " lstm_2 (LSTM)               (None, 1, 64)             33024     \n",
      "                                                                 \n",
      " dropout_2 (Dropout)         (None, 1, 64)             0         \n",
      "                                                                 \n",
      " lstm_3 (LSTM)               (None, 1, 128)            98816     \n",
      "                                                                 \n",
      " dropout_3 (Dropout)         (None, 1, 128)            0         \n",
      "                                                                 \n",
      " time_distributed (TimeDistr  (None, 1, 4900)          632100    \n",
      " ibuted)                                                         \n",
      "                                                                 \n",
      "=================================================================\n",
      "Total params: 3,388,196\n",
      "Trainable params: 3,388,196\n",
      "Non-trainable params: 0\n",
      "_________________________________________________________________\n"
     ]
    }
   ],
   "source": [
    "import keras\n",
    "# define model\n",
    "model = keras.Sequential()\n",
    "#encoder\n",
    "model.add(keras.layers.LSTM(128, activation='relu', input_shape=(Normal_train_3d.shape[1],Normal_train_3d.shape[2]), return_sequences=True))\n",
    "model.add(keras.layers.Dropout(rate=0.1))\n",
    "model.add(keras.layers.LSTM(64, activation='relu', return_sequences=False))\n",
    "model.add(keras.layers.Dropout(rate=0.1))\n",
    "model.add(keras.layers.RepeatVector(1))\n",
    "#decoder\n",
    "model.add(keras.layers.LSTM(64, activation='relu', return_sequences=True))\n",
    "model.add(keras.layers.Dropout(rate=0.1))\n",
    "model.add(keras.layers.LSTM(128, activation='relu', return_sequences=True))\n",
    "model.add(keras.layers.Dropout(rate=0.1))\n",
    "model.add(keras.layers.TimeDistributed(Dense(Normal_train_3d.shape[2])))\n",
    "model.compile(optimizer='adam', loss='mae',metrics=['accuracy'])\n",
    "model.summary()"
   ]
  },
  {
   "cell_type": "code",
   "execution_count": 49,
   "metadata": {},
   "outputs": [],
   "source": [
    "import time\n",
    "start_time = time.time()"
   ]
  },
  {
   "cell_type": "code",
   "execution_count": 50,
   "metadata": {},
   "outputs": [
    {
     "name": "stdout",
     "output_type": "stream",
     "text": [
      "Epoch 1/100\n",
      "15/15 [==============================] - 5s 76ms/step - loss: 0.3543 - accuracy: 0.0000e+00 - val_loss: 0.5739 - val_accuracy: 0.0000e+00\n",
      "Epoch 2/100\n",
      "15/15 [==============================] - 1s 38ms/step - loss: 0.3141 - accuracy: 0.0000e+00 - val_loss: 0.5012 - val_accuracy: 0.0000e+00\n",
      "Epoch 3/100\n",
      "15/15 [==============================] - 1s 37ms/step - loss: 0.1625 - accuracy: 0.0000e+00 - val_loss: 0.4100 - val_accuracy: 0.0000e+00\n",
      "Epoch 4/100\n",
      "15/15 [==============================] - 1s 40ms/step - loss: 0.0832 - accuracy: 0.1525 - val_loss: 0.3967 - val_accuracy: 0.5550\n",
      "Epoch 5/100\n",
      "15/15 [==============================] - 1s 39ms/step - loss: 0.0520 - accuracy: 0.5512 - val_loss: 0.3879 - val_accuracy: 0.2650\n",
      "Epoch 6/100\n",
      "15/15 [==============================] - 1s 39ms/step - loss: 0.0400 - accuracy: 0.4466 - val_loss: 0.3793 - val_accuracy: 0.5550\n",
      "Epoch 7/100\n",
      "15/15 [==============================] - 1s 38ms/step - loss: 0.0354 - accuracy: 0.5229 - val_loss: 0.3747 - val_accuracy: 0.5550\n",
      "Epoch 8/100\n",
      "15/15 [==============================] - 1s 39ms/step - loss: 0.0325 - accuracy: 0.6209 - val_loss: 0.3753 - val_accuracy: 0.5550\n",
      "Epoch 9/100\n",
      "15/15 [==============================] - 1s 37ms/step - loss: 0.0285 - accuracy: 0.5577 - val_loss: 0.3798 - val_accuracy: 0.2900\n",
      "Epoch 10/100\n",
      "15/15 [==============================] - 1s 35ms/step - loss: 0.0262 - accuracy: 0.5447 - val_loss: 0.3722 - val_accuracy: 0.5550\n",
      "Epoch 11/100\n",
      "15/15 [==============================] - 1s 37ms/step - loss: 0.0267 - accuracy: 0.6318 - val_loss: 0.3640 - val_accuracy: 0.5550\n",
      "Epoch 12/100\n",
      "15/15 [==============================] - 1s 39ms/step - loss: 0.0249 - accuracy: 0.5839 - val_loss: 0.3725 - val_accuracy: 0.5550\n",
      "Epoch 13/100\n",
      "15/15 [==============================] - 1s 38ms/step - loss: 0.0238 - accuracy: 0.6885 - val_loss: 0.3638 - val_accuracy: 0.2650\n",
      "Epoch 14/100\n",
      "15/15 [==============================] - 1s 37ms/step - loss: 0.0226 - accuracy: 0.6296 - val_loss: 0.3756 - val_accuracy: 0.5550\n",
      "Epoch 15/100\n",
      "15/15 [==============================] - 1s 37ms/step - loss: 0.0242 - accuracy: 0.6449 - val_loss: 0.3667 - val_accuracy: 0.2650\n",
      "Epoch 16/100\n",
      "15/15 [==============================] - 1s 37ms/step - loss: 0.0249 - accuracy: 0.6754 - val_loss: 0.3719 - val_accuracy: 0.5550\n",
      "Epoch 17/100\n",
      "15/15 [==============================] - 1s 36ms/step - loss: 0.0206 - accuracy: 0.8257 - val_loss: 0.3676 - val_accuracy: 0.5550\n",
      "Epoch 18/100\n",
      "15/15 [==============================] - 1s 35ms/step - loss: 0.0205 - accuracy: 0.7386 - val_loss: 0.3683 - val_accuracy: 0.5550\n",
      "Epoch 19/100\n",
      "15/15 [==============================] - 1s 38ms/step - loss: 0.0209 - accuracy: 0.7451 - val_loss: 0.3663 - val_accuracy: 0.5550\n",
      "Epoch 20/100\n",
      "15/15 [==============================] - 1s 37ms/step - loss: 0.0180 - accuracy: 0.7516 - val_loss: 0.3633 - val_accuracy: 0.5550\n",
      "Epoch 21/100\n",
      "15/15 [==============================] - 1s 40ms/step - loss: 0.0198 - accuracy: 0.7342 - val_loss: 0.3630 - val_accuracy: 0.5550\n",
      "Epoch 22/100\n",
      "15/15 [==============================] - 1s 38ms/step - loss: 0.0191 - accuracy: 0.6906 - val_loss: 0.3641 - val_accuracy: 0.5550\n",
      "Epoch 23/100\n",
      "15/15 [==============================] - 1s 38ms/step - loss: 0.0176 - accuracy: 0.7843 - val_loss: 0.3634 - val_accuracy: 0.5550\n",
      "Epoch 24/100\n",
      "15/15 [==============================] - 1s 45ms/step - loss: 0.0185 - accuracy: 0.7821 - val_loss: 0.3628 - val_accuracy: 0.5550\n",
      "Epoch 25/100\n",
      "15/15 [==============================] - 1s 42ms/step - loss: 0.0166 - accuracy: 0.6972 - val_loss: 0.3677 - val_accuracy: 0.5550\n",
      "Epoch 26/100\n",
      "15/15 [==============================] - 1s 45ms/step - loss: 0.0163 - accuracy: 0.8322 - val_loss: 0.3651 - val_accuracy: 0.5550\n",
      "Epoch 27/100\n",
      "15/15 [==============================] - 1s 50ms/step - loss: 0.0168 - accuracy: 0.6580 - val_loss: 0.3636 - val_accuracy: 0.5550\n",
      "Epoch 28/100\n",
      "15/15 [==============================] - 1s 40ms/step - loss: 0.0162 - accuracy: 0.8410 - val_loss: 0.3663 - val_accuracy: 0.5550\n",
      "Epoch 29/100\n",
      "15/15 [==============================] - 1s 41ms/step - loss: 0.0165 - accuracy: 0.8192 - val_loss: 0.3648 - val_accuracy: 0.5550\n",
      "Epoch 30/100\n",
      "15/15 [==============================] - 1s 37ms/step - loss: 0.0162 - accuracy: 0.8758 - val_loss: 0.3675 - val_accuracy: 0.5550\n",
      "Epoch 31/100\n",
      "15/15 [==============================] - 1s 38ms/step - loss: 0.0185 - accuracy: 0.8562 - val_loss: 0.3637 - val_accuracy: 0.5550\n",
      "Epoch 32/100\n",
      "15/15 [==============================] - 1s 43ms/step - loss: 0.0171 - accuracy: 0.8562 - val_loss: 0.3701 - val_accuracy: 0.5550\n",
      "Epoch 33/100\n",
      "15/15 [==============================] - 1s 42ms/step - loss: 0.0169 - accuracy: 0.8214 - val_loss: 0.3632 - val_accuracy: 0.5550\n",
      "Epoch 34/100\n",
      "15/15 [==============================] - 1s 47ms/step - loss: 0.0169 - accuracy: 0.8497 - val_loss: 0.3635 - val_accuracy: 0.5550\n",
      "Epoch 35/100\n",
      "15/15 [==============================] - 1s 47ms/step - loss: 0.0163 - accuracy: 0.9172 - val_loss: 0.3671 - val_accuracy: 0.5550\n",
      "Epoch 36/100\n",
      "15/15 [==============================] - 1s 52ms/step - loss: 0.0170 - accuracy: 0.7538 - val_loss: 0.3674 - val_accuracy: 0.5550\n",
      "Epoch 37/100\n",
      "15/15 [==============================] - 1s 51ms/step - loss: 0.0151 - accuracy: 0.8540 - val_loss: 0.3665 - val_accuracy: 0.5550\n",
      "Epoch 38/100\n",
      "15/15 [==============================] - 1s 46ms/step - loss: 0.0153 - accuracy: 0.9107 - val_loss: 0.3629 - val_accuracy: 0.5550\n",
      "Epoch 39/100\n",
      "15/15 [==============================] - 1s 38ms/step - loss: 0.0155 - accuracy: 0.8693 - val_loss: 0.3637 - val_accuracy: 0.5550\n",
      "Epoch 40/100\n",
      "15/15 [==============================] - 1s 41ms/step - loss: 0.0144 - accuracy: 0.7669 - val_loss: 0.3616 - val_accuracy: 0.5550\n",
      "Epoch 41/100\n",
      "15/15 [==============================] - 1s 43ms/step - loss: 0.0162 - accuracy: 0.9041 - val_loss: 0.3683 - val_accuracy: 0.5550\n",
      "Epoch 42/100\n",
      "15/15 [==============================] - 1s 41ms/step - loss: 0.0163 - accuracy: 0.8410 - val_loss: 0.3629 - val_accuracy: 0.5550\n",
      "Epoch 43/100\n",
      "15/15 [==============================] - 1s 40ms/step - loss: 0.0144 - accuracy: 0.9303 - val_loss: 0.3658 - val_accuracy: 0.5550\n",
      "Epoch 44/100\n",
      "15/15 [==============================] - 1s 37ms/step - loss: 0.0151 - accuracy: 0.8889 - val_loss: 0.3635 - val_accuracy: 0.5550\n",
      "Epoch 45/100\n",
      "15/15 [==============================] - 1s 38ms/step - loss: 0.0144 - accuracy: 0.8519 - val_loss: 0.3687 - val_accuracy: 0.5550\n",
      "Epoch 46/100\n",
      "15/15 [==============================] - 1s 39ms/step - loss: 0.0164 - accuracy: 0.9281 - val_loss: 0.3660 - val_accuracy: 0.5550\n",
      "Epoch 47/100\n",
      "15/15 [==============================] - 1s 38ms/step - loss: 0.0154 - accuracy: 0.9041 - val_loss: 0.3660 - val_accuracy: 0.5550\n",
      "Epoch 48/100\n",
      "15/15 [==============================] - 1s 37ms/step - loss: 0.0157 - accuracy: 0.9303 - val_loss: 0.3632 - val_accuracy: 0.5550\n",
      "Epoch 49/100\n",
      "15/15 [==============================] - 1s 37ms/step - loss: 0.0149 - accuracy: 0.9216 - val_loss: 0.3647 - val_accuracy: 0.5550\n",
      "Epoch 50/100\n",
      "15/15 [==============================] - 1s 48ms/step - loss: 0.0156 - accuracy: 0.9434 - val_loss: 0.3684 - val_accuracy: 0.5550\n",
      "Epoch 51/100\n",
      "15/15 [==============================] - 1s 46ms/step - loss: 0.0163 - accuracy: 0.9063 - val_loss: 0.3638 - val_accuracy: 0.5550\n",
      "Epoch 52/100\n",
      "15/15 [==============================] - 1s 44ms/step - loss: 0.0140 - accuracy: 0.9412 - val_loss: 0.3629 - val_accuracy: 0.5550\n",
      "Epoch 53/100\n",
      "15/15 [==============================] - 1s 52ms/step - loss: 0.0145 - accuracy: 0.9259 - val_loss: 0.3669 - val_accuracy: 0.5550\n",
      "Epoch 54/100\n",
      "15/15 [==============================] - 1s 45ms/step - loss: 0.0136 - accuracy: 0.9346 - val_loss: 0.3638 - val_accuracy: 0.5550\n",
      "Epoch 55/100\n",
      "15/15 [==============================] - 1s 47ms/step - loss: 0.0146 - accuracy: 0.9085 - val_loss: 0.3675 - val_accuracy: 0.5550\n",
      "Epoch 56/100\n",
      "15/15 [==============================] - 1s 58ms/step - loss: 0.0140 - accuracy: 0.9586 - val_loss: 0.3637 - val_accuracy: 0.5550\n",
      "Epoch 57/100\n",
      "15/15 [==============================] - 1s 54ms/step - loss: 0.0142 - accuracy: 0.9281 - val_loss: 0.3671 - val_accuracy: 0.5550\n",
      "Epoch 58/100\n"
     ]
    },
    {
     "name": "stdout",
     "output_type": "stream",
     "text": [
      "15/15 [==============================] - 1s 58ms/step - loss: 0.0150 - accuracy: 0.9651 - val_loss: 0.3639 - val_accuracy: 0.5550\n",
      "Epoch 59/100\n",
      "15/15 [==============================] - 1s 54ms/step - loss: 0.0144 - accuracy: 0.9390 - val_loss: 0.3634 - val_accuracy: 0.5550\n",
      "Epoch 60/100\n",
      "15/15 [==============================] - 1s 42ms/step - loss: 0.0139 - accuracy: 0.9455 - val_loss: 0.3662 - val_accuracy: 0.5550\n",
      "Epoch 61/100\n",
      "15/15 [==============================] - 1s 37ms/step - loss: 0.0139 - accuracy: 0.9521 - val_loss: 0.3640 - val_accuracy: 0.5550\n",
      "Epoch 62/100\n",
      "15/15 [==============================] - 1s 41ms/step - loss: 0.0135 - accuracy: 0.9608 - val_loss: 0.3646 - val_accuracy: 0.5550\n",
      "Epoch 63/100\n",
      "15/15 [==============================] - 1s 37ms/step - loss: 0.0126 - accuracy: 0.9477 - val_loss: 0.3651 - val_accuracy: 0.5550\n",
      "Epoch 64/100\n",
      "15/15 [==============================] - 1s 45ms/step - loss: 0.0136 - accuracy: 0.9216 - val_loss: 0.3650 - val_accuracy: 0.5550\n",
      "Epoch 65/100\n",
      "15/15 [==============================] - 1s 50ms/step - loss: 0.0132 - accuracy: 0.9956 - val_loss: 0.3668 - val_accuracy: 0.5550\n",
      "Epoch 66/100\n",
      "15/15 [==============================] - 1s 53ms/step - loss: 0.0134 - accuracy: 0.9499 - val_loss: 0.3680 - val_accuracy: 0.5550\n",
      "Epoch 67/100\n",
      "15/15 [==============================] - 1s 55ms/step - loss: 0.0141 - accuracy: 0.9782 - val_loss: 0.3681 - val_accuracy: 0.5550\n",
      "Epoch 68/100\n",
      "15/15 [==============================] - 1s 52ms/step - loss: 0.0154 - accuracy: 0.9542 - val_loss: 0.3649 - val_accuracy: 0.5550\n",
      "Epoch 69/100\n",
      "15/15 [==============================] - 1s 53ms/step - loss: 0.0136 - accuracy: 0.9542 - val_loss: 0.3668 - val_accuracy: 0.5550\n",
      "Epoch 70/100\n",
      "15/15 [==============================] - 1s 49ms/step - loss: 0.0131 - accuracy: 0.9826 - val_loss: 0.3665 - val_accuracy: 0.5550\n",
      "Epoch 71/100\n",
      "15/15 [==============================] - 1s 48ms/step - loss: 0.0132 - accuracy: 0.9542 - val_loss: 0.3653 - val_accuracy: 0.5550\n",
      "Epoch 72/100\n",
      "15/15 [==============================] - 1s 52ms/step - loss: 0.0125 - accuracy: 0.9499 - val_loss: 0.3641 - val_accuracy: 0.5550\n",
      "Epoch 73/100\n",
      "15/15 [==============================] - 1s 50ms/step - loss: 0.0127 - accuracy: 0.9782 - val_loss: 0.3687 - val_accuracy: 0.5550\n",
      "Epoch 74/100\n",
      "15/15 [==============================] - 1s 38ms/step - loss: 0.0147 - accuracy: 0.9760 - val_loss: 0.3665 - val_accuracy: 0.5550\n",
      "Epoch 75/100\n",
      "15/15 [==============================] - 1s 36ms/step - loss: 0.0126 - accuracy: 0.9586 - val_loss: 0.3668 - val_accuracy: 0.5550\n",
      "Epoch 76/100\n",
      "15/15 [==============================] - 1s 43ms/step - loss: 0.0134 - accuracy: 0.9891 - val_loss: 0.3657 - val_accuracy: 0.5550\n",
      "Epoch 77/100\n",
      "15/15 [==============================] - 1s 36ms/step - loss: 0.0131 - accuracy: 0.9651 - val_loss: 0.3637 - val_accuracy: 0.5550\n",
      "Epoch 78/100\n",
      "15/15 [==============================] - 1s 37ms/step - loss: 0.0130 - accuracy: 0.9804 - val_loss: 0.3649 - val_accuracy: 0.5550\n",
      "Epoch 79/100\n",
      "15/15 [==============================] - 1s 42ms/step - loss: 0.0125 - accuracy: 0.9935 - val_loss: 0.3687 - val_accuracy: 0.5550\n",
      "Epoch 80/100\n",
      "15/15 [==============================] - 1s 46ms/step - loss: 0.0124 - accuracy: 0.9847 - val_loss: 0.3658 - val_accuracy: 0.5550\n",
      "Epoch 81/100\n",
      "15/15 [==============================] - 1s 47ms/step - loss: 0.0128 - accuracy: 0.9717 - val_loss: 0.3668 - val_accuracy: 0.5550\n",
      "Epoch 82/100\n",
      "15/15 [==============================] - 1s 49ms/step - loss: 0.0131 - accuracy: 0.9739 - val_loss: 0.3662 - val_accuracy: 0.5550\n",
      "Epoch 83/100\n",
      "15/15 [==============================] - 1s 53ms/step - loss: 0.0135 - accuracy: 0.9935 - val_loss: 0.3705 - val_accuracy: 0.5550\n",
      "Epoch 84/100\n",
      "15/15 [==============================] - 1s 45ms/step - loss: 0.0142 - accuracy: 0.9782 - val_loss: 0.3671 - val_accuracy: 0.5550\n",
      "Epoch 85/100\n",
      "15/15 [==============================] - 1s 34ms/step - loss: 0.0124 - accuracy: 0.9978 - val_loss: 0.3646 - val_accuracy: 0.5550\n",
      "Epoch 86/100\n",
      "15/15 [==============================] - 1s 34ms/step - loss: 0.0123 - accuracy: 0.9935 - val_loss: 0.3640 - val_accuracy: 0.5550\n",
      "Epoch 87/100\n",
      "15/15 [==============================] - 1s 36ms/step - loss: 0.0126 - accuracy: 0.9913 - val_loss: 0.3651 - val_accuracy: 0.5550\n",
      "Epoch 88/100\n",
      "15/15 [==============================] - 1s 35ms/step - loss: 0.0126 - accuracy: 0.9847 - val_loss: 0.3638 - val_accuracy: 0.5550\n",
      "Epoch 89/100\n",
      "15/15 [==============================] - 1s 37ms/step - loss: 0.0125 - accuracy: 0.9826 - val_loss: 0.3647 - val_accuracy: 0.5550\n",
      "Epoch 90/100\n",
      "15/15 [==============================] - 1s 39ms/step - loss: 0.0132 - accuracy: 0.9913 - val_loss: 0.3651 - val_accuracy: 0.5550\n",
      "Epoch 91/100\n",
      "15/15 [==============================] - 1s 35ms/step - loss: 0.0135 - accuracy: 0.9695 - val_loss: 0.3670 - val_accuracy: 0.5550\n",
      "Epoch 92/100\n",
      "15/15 [==============================] - 1s 34ms/step - loss: 0.0130 - accuracy: 0.9978 - val_loss: 0.3634 - val_accuracy: 0.5550\n",
      "Epoch 93/100\n",
      "15/15 [==============================] - 1s 41ms/step - loss: 0.0117 - accuracy: 0.9869 - val_loss: 0.3657 - val_accuracy: 0.5550\n",
      "Epoch 94/100\n",
      "15/15 [==============================] - 1s 42ms/step - loss: 0.0135 - accuracy: 0.9956 - val_loss: 0.3647 - val_accuracy: 0.5550\n",
      "Epoch 95/100\n",
      "15/15 [==============================] - 1s 41ms/step - loss: 0.0124 - accuracy: 0.9978 - val_loss: 0.3637 - val_accuracy: 0.5550\n",
      "Epoch 96/100\n",
      "15/15 [==============================] - 1s 38ms/step - loss: 0.0130 - accuracy: 0.9978 - val_loss: 0.3644 - val_accuracy: 0.5550\n",
      "Epoch 97/100\n",
      "15/15 [==============================] - 1s 44ms/step - loss: 0.0127 - accuracy: 0.9978 - val_loss: 0.3650 - val_accuracy: 0.5550\n",
      "Epoch 98/100\n",
      "15/15 [==============================] - 1s 46ms/step - loss: 0.0119 - accuracy: 0.9978 - val_loss: 0.3648 - val_accuracy: 0.5550\n",
      "Epoch 99/100\n",
      "15/15 [==============================] - 1s 46ms/step - loss: 0.0125 - accuracy: 1.0000 - val_loss: 0.3637 - val_accuracy: 0.5550\n",
      "Epoch 100/100\n",
      "15/15 [==============================] - 1s 39ms/step - loss: 0.0125 - accuracy: 0.9891 - val_loss: 0.3647 - val_accuracy: 0.5550\n"
     ]
    }
   ],
   "source": [
    "#Notice that the LSTM is trained using only the normal traces, but is evaluated using the full test set.\n",
    "history = model.fit(Normal_train_3d, Normal_train_3d, \n",
    "          epochs=100, \n",
    "          batch_size=32,\n",
    "          validation_data=(test_data_3d, test_data_3d),\n",
    "          shuffle=True)"
   ]
  },
  {
   "cell_type": "code",
   "execution_count": 51,
   "metadata": {},
   "outputs": [],
   "source": [
    "elapsed_time = time.time() - start_time"
   ]
  },
  {
   "cell_type": "code",
   "execution_count": 52,
   "metadata": {},
   "outputs": [
    {
     "data": {
      "text/plain": [
       "<matplotlib.legend.Legend at 0x138b714c908>"
      ]
     },
     "execution_count": 52,
     "metadata": {},
     "output_type": "execute_result"
    },
    {
     "data": {
      "image/png": "[encoded data removed]",
      "text/plain": [
       "<Figure size 432x288 with 1 Axes>"
      ]
     },
     "metadata": {
      "needs_background": "light"
     },
     "output_type": "display_data"
    }
   ],
   "source": [
    "plt.plot(history.history['loss'], label='Training loss')\n",
    "plt.plot(history.history['val_loss'], label='Validation loss')\n",
    "plt.plot(history.history['accuracy'], label='Accuracy')\n",
    "plt.legend()"
   ]
  },
  {
   "cell_type": "code",
   "execution_count": 53,
   "metadata": {},
   "outputs": [
    {
     "data": {
      "text/plain": [
       "(459, 1, 4900)"
      ]
     },
     "execution_count": 53,
     "metadata": {},
     "output_type": "execute_result"
    }
   ],
   "source": [
    "trainPredict = model.predict(Normal_train_3d)\n",
    "trainPredict.shape"
   ]
  },
  {
   "cell_type": "code",
   "execution_count": 54,
   "metadata": {},
   "outputs": [
    {
     "data": {
      "text/plain": [
       "(459, 49, 100)"
      ]
     },
     "execution_count": 54,
     "metadata": {},
     "output_type": "execute_result"
    }
   ],
   "source": [
    "train_preds= trainPredict.reshape(len(trainPredict),maxi,vector_size)\n",
    "train_preds.shape"
   ]
  },
  {
   "cell_type": "code",
   "execution_count": 55,
   "metadata": {},
   "outputs": [
    {
     "data": {
      "text/plain": [
       "(459, 49, 100)"
      ]
     },
     "execution_count": 55,
     "metadata": {},
     "output_type": "execute_result"
    }
   ],
   "source": [
    "Train_data= Normal_train_3d.reshape(len(trainPredict),maxi,vector_size)\n",
    "Train_data.shape"
   ]
  },
  {
   "cell_type": "code",
   "execution_count": 56,
   "metadata": {},
   "outputs": [
    {
     "data": {
      "text/plain": [
       "([array([  0., 216., 243.,   0.,   0.,   0.,   0.,   0.,   0.,   0.,   0.,\n",
       "           0.,   0.,   0.,   0.,   0.,   0.,   0.,   0.,   0.,   0.,   0.,\n",
       "           0.,   0.,   0.,   0.,   0.,   0.,   0.,   0.]),\n",
       "  array([  0., 216.,   0., 243.,   0.,   0.,   0.,   0.,   0.,   0.,   0.,\n",
       "           0.,   0.,   0.,   0.,   0.,   0.,   0.,   0.,   0.,   0.,   0.,\n",
       "           0.,   0.,   0.,   0.,   0.,   0.,   0.,   0.]),\n",
       "  array([  0., 216., 243.,   0.,   0.,   0.,   0.,   0.,   0.,   0.,   0.,\n",
       "           0.,   0.,   0.,   0.,   0.,   0.,   0.,   0.,   0.,   0.,   0.,\n",
       "           0.,   0.,   0.,   0.,   0.,   0.,   0.,   0.]),\n",
       "  array([  0.,   0.,   0., 216.,   0.,   0.,   0.,   0.,   0.,   0.,   0.,\n",
       "           0.,   0.,   0.,   0.,   0.,   0.,   0.,   0.,   0.,   0.,   0.,\n",
       "         243.,   0.,   0.,   0.,   0.,   0.,   0.,   0.]),\n",
       "  array([  0.,   0.,   0.,   0., 216.,   0.,   0.,   0.,   0.,   0.,   0.,\n",
       "           0.,   0.,   0.,   0.,   0.,   0.,   0.,   0.,   0.,   0.,   0.,\n",
       "           0.,   0.,   0.,   0.,   0.,   0.,   0., 243.]),\n",
       "  array([  0.,   0.,   0.,   0., 216.,   0.,   0.,   0.,   0.,   0.,   0.,\n",
       "           0.,   0.,   0.,   0.,   0.,   0.,   0.,   0.,   0.,   0.,   0.,\n",
       "           0.,   0.,   0.,   0., 243.,   0.,   0.,   0.]),\n",
       "  array([  0.,   0.,   0.,   0., 216.,   0.,   0.,   0.,   0.,   0.,   0.,\n",
       "           0.,   0.,   0.,   0.,   0.,   0.,   0.,   0.,   0.,   0.,   0.,\n",
       "           0.,   0.,   0., 243.,   0.,   0.,   0.,   0.]),\n",
       "  array([  0.,   0.,   0., 216.,   0.,   0.,   0.,   0.,   0.,   0.,   0.,\n",
       "           0.,   0.,   0.,   0.,   0.,   0.,   0.,   0.,   0.,   0.,   0.,\n",
       "           0.,   0.,   0.,   0.,   0., 243.,   0.,   0.]),\n",
       "  array([  0.,   0.,   0., 216.,   0.,   0.,   0.,   0.,   0.,   0.,   0.,\n",
       "           0.,   0.,   0.,   0.,   0.,   0.,   0.,   0.,   0.,   0.,   0.,\n",
       "           0.,   0.,   0.,   0.,   0.,   0.,   0., 243.]),\n",
       "  array([  0.,   0.,   0., 216.,   0.,   0.,   0.,   0.,   0.,   0.,   0.,\n",
       "           0.,   0.,   0.,   0.,   0.,   0.,   0.,   0.,   0.,   0.,   0.,\n",
       "           0., 243.,   0.,   0.,   0.,   0.,   0.,   0.]),\n",
       "  array([  0.,   0., 216.,   0.,   0.,   0.,   0.,   0.,   0.,   0.,   0.,\n",
       "           0.,   0.,   0.,   0.,   0., 243.,   0.,   0.,   0.,   0.,   0.,\n",
       "           0.,   0.,   0.,   0.,   0.,   0.,   0.,   0.]),\n",
       "  array([  0.,   0., 216.,   0.,   0.,   0.,   0.,   0.,   0.,   0.,   0.,\n",
       "           0.,   0.,   0.,   0.,   0.,   0.,   0.,   0.,   0.,   0.,   0.,\n",
       "           0.,   0., 243.,   0.,   0.,   0.,   0.,   0.]),\n",
       "  array([  0.,   0., 216.,   0.,   0.,   0.,   0.,   0.,   0.,   0.,   0.,\n",
       "           0.,   0.,   0.,   0.,   0.,   0.,   0.,   0.,   0., 243.,   0.,\n",
       "           0.,   0.,   0.,   0.,   0.,   0.,   0.,   0.]),\n",
       "  array([  0.,   0.,   0., 216.,   0.,   0.,   0.,   0.,   0.,   0.,   0.,\n",
       "           0.,   0.,   0.,   0.,   0.,   0.,   0.,   0.,   0.,   0.,   0.,\n",
       "         243.,   0.,   0.,   0.,   0.,   0.,   0.,   0.]),\n",
       "  array([  0.,   0., 216.,   0.,   0.,   0., 243.,   0.,   0.,   0.,   0.,\n",
       "           0.,   0.,   0.,   0.,   0.,   0.,   0.,   0.,   0.,   0.,   0.,\n",
       "           0.,   0.,   0.,   0.,   0.,   0.,   0.,   0.]),\n",
       "  array([  0.,   0., 216.,   0.,   0.,   0.,   0.,   0.,   0.,   0.,   0.,\n",
       "           0.,   0.,   0.,   0.,   0.,   0.,   0.,   0.,   0.,   0.,   0.,\n",
       "           0., 243.,   0.,   0.,   0.,   0.,   0.,   0.]),\n",
       "  array([  0.,   0.,   0., 216.,   0.,   0.,   0.,   0.,   0.,   0.,   0.,\n",
       "           0.,   0.,   0.,   0.,   0.,   0.,   0.,   0.,   0.,   0.,   0.,\n",
       "           0.,   0., 243.,   0.,   0.,   0.,   0.,   0.]),\n",
       "  array([  0.,   0., 216.,   0.,   0.,   0.,   0.,   0.,   0.,   0.,   0.,\n",
       "           0.,   0.,   0.,   0.,   0.,   0.,   0.,   0.,   0.,   0.,   0.,\n",
       "           0., 243.,   0.,   0.,   0.,   0.,   0.,   0.]),\n",
       "  array([  0.,   0., 216.,   0.,   0.,   0.,   0.,   0.,   0.,   0.,   0.,\n",
       "           0.,   0.,   0.,   0.,   0.,   0.,   0.,   0.,   0.,   0.,   0.,\n",
       "           0.,   0.,   0.,   0., 243.,   0.,   0.,   0.]),\n",
       "  array([  0.,   0.,   0., 216.,   0.,   0.,   0.,   0.,   0.,   0.,   0.,\n",
       "           0.,   0.,   0.,   0.,   0.,   0.,   0.,   0.,   0.,   0.,   0.,\n",
       "           0.,   0., 243.,   0.,   0.,   0.,   0.,   0.]),\n",
       "  array([  0.,   0.,   0., 216.,   0.,   0.,   0.,   0.,   0.,   0.,   0.,\n",
       "           0.,   0.,   0.,   0.,   0.,   0.,   0.,   0.,   0.,   0.,   0.,\n",
       "           0.,   0.,   0.,   0., 243.,   0.,   0.,   0.]),\n",
       "  array([  0.,   0.,   0., 216.,   0.,   0.,   0.,   0.,   0.,   0.,   0.,\n",
       "           0.,   0.,   0.,   0.,   0.,   0.,   0.,   0.,   0.,   0.,   0.,\n",
       "           0., 243.,   0.,   0.,   0.,   0.,   0.,   0.]),\n",
       "  array([  0.,   0.,   0., 216.,   0.,   0.,   0.,   0.,   0.,   0.,   0.,\n",
       "           0.,   0.,   0.,   0.,   0.,   0.,   0.,   0.,   0.,   0.,   0.,\n",
       "           0.,   0., 243.,   0.,   0.,   0.,   0.,   0.]),\n",
       "  array([  0.,   0., 216.,   0.,   0.,   0.,   0.,   0.,   0.,   0., 243.,\n",
       "           0.,   0.,   0.,   0.,   0.,   0.,   0.,   0.,   0.,   0.,   0.,\n",
       "           0.,   0.,   0.,   0.,   0.,   0.,   0.,   0.]),\n",
       "  array([  0.,   0.,   0., 216.,   0.,   0.,   0.,   0.,   0.,   0.,   0.,\n",
       "         243.,   0.,   0.,   0.,   0.,   0.,   0.,   0.,   0.,   0.,   0.,\n",
       "           0.,   0.,   0.,   0.,   0.,   0.,   0.,   0.]),\n",
       "  array([  0.,   0.,   0., 216.,   0.,   0.,   0.,   0.,   0.,   0., 243.,\n",
       "           0.,   0.,   0.,   0.,   0.,   0.,   0.,   0.,   0.,   0.,   0.,\n",
       "           0.,   0.,   0.,   0.,   0.,   0.,   0.,   0.]),\n",
       "  array([  0.,   0.,   0., 216.,   0.,   0.,   0.,   0.,   0.,   0., 243.,\n",
       "           0.,   0.,   0.,   0.,   0.,   0.,   0.,   0.,   0.,   0.,   0.,\n",
       "           0.,   0.,   0.,   0.,   0.,   0.,   0.,   0.]),\n",
       "  array([  0., 216.,   0.,   0.,   0.,   0.,   0., 243.,   0.,   0.,   0.,\n",
       "           0.,   0.,   0.,   0.,   0.,   0.,   0.,   0.,   0.,   0.,   0.,\n",
       "           0.,   0.,   0.,   0.,   0.,   0.,   0.,   0.]),\n",
       "  array([  0., 216.,   0.,   0.,   0.,   0.,   0., 243.,   0.,   0.,   0.,\n",
       "           0.,   0.,   0.,   0.,   0.,   0.,   0.,   0.,   0.,   0.,   0.,\n",
       "           0.,   0.,   0.,   0.,   0.,   0.,   0.,   0.]),\n",
       "  array([  0., 216.,   0.,   0., 243.,   0.,   0.,   0.,   0.,   0.,   0.,\n",
       "           0.,   0.,   0.,   0.,   0.,   0.,   0.,   0.,   0.,   0.,   0.,\n",
       "           0.,   0.,   0.,   0.,   0.,   0.,   0.,   0.]),\n",
       "  array([  0., 216.,   0.,   0., 243.,   0.,   0.,   0.,   0.,   0.,   0.,\n",
       "           0.,   0.,   0.,   0.,   0.,   0.,   0.,   0.,   0.,   0.,   0.,\n",
       "           0.,   0.,   0.,   0.,   0.,   0.,   0.,   0.]),\n",
       "  array([  0., 459.,   0.,   0.,   0.,   0.,   0.,   0.,   0.,   0.,   0.,\n",
       "           0.,   0.,   0.,   0.,   0.,   0.,   0.,   0.,   0.,   0.,   0.,\n",
       "           0.,   0.,   0.,   0.,   0.,   0.,   0.,   0.]),\n",
       "  array([  0., 216., 243.,   0.,   0.,   0.,   0.,   0.,   0.,   0.,   0.,\n",
       "           0.,   0.,   0.,   0.,   0.,   0.,   0.,   0.,   0.,   0.,   0.,\n",
       "           0.,   0.,   0.,   0.,   0.,   0.,   0.,   0.]),\n",
       "  array([216., 243.,   0.,   0.,   0.,   0.,   0.,   0.,   0.,   0.,   0.,\n",
       "           0.,   0.,   0.,   0.,   0.,   0.,   0.,   0.,   0.,   0.,   0.,\n",
       "           0.,   0.,   0.,   0.,   0.,   0.,   0.,   0.]),\n",
       "  array([216., 243.,   0.,   0.,   0.,   0.,   0.,   0.,   0.,   0.,   0.,\n",
       "           0.,   0.,   0.,   0.,   0.,   0.,   0.,   0.,   0.,   0.,   0.,\n",
       "           0.,   0.,   0.,   0.,   0.,   0.,   0.,   0.]),\n",
       "  array([459.,   0.,   0.,   0.,   0.,   0.,   0.,   0.,   0.,   0.,   0.,\n",
       "           0.,   0.,   0.,   0.,   0.,   0.,   0.,   0.,   0.,   0.,   0.,\n",
       "           0.,   0.,   0.,   0.,   0.,   0.,   0.,   0.]),\n",
       "  array([459.,   0.,   0.,   0.,   0.,   0.,   0.,   0.,   0.,   0.,   0.,\n",
       "           0.,   0.,   0.,   0.,   0.,   0.,   0.,   0.,   0.,   0.,   0.,\n",
       "           0.,   0.,   0.,   0.,   0.,   0.,   0.,   0.]),\n",
       "  array([459.,   0.,   0.,   0.,   0.,   0.,   0.,   0.,   0.,   0.,   0.,\n",
       "           0.,   0.,   0.,   0.,   0.,   0.,   0.,   0.,   0.,   0.,   0.,\n",
       "           0.,   0.,   0.,   0.,   0.,   0.,   0.,   0.]),\n",
       "  array([459.,   0.,   0.,   0.,   0.,   0.,   0.,   0.,   0.,   0.,   0.,\n",
       "           0.,   0.,   0.,   0.,   0.,   0.,   0.,   0.,   0.,   0.,   0.,\n",
       "           0.,   0.,   0.,   0.,   0.,   0.,   0.,   0.]),\n",
       "  array([459.,   0.,   0.,   0.,   0.,   0.,   0.,   0.,   0.,   0.,   0.,\n",
       "           0.,   0.,   0.,   0.,   0.,   0.,   0.,   0.,   0.,   0.,   0.,\n",
       "           0.,   0.,   0.,   0.,   0.,   0.,   0.,   0.]),\n",
       "  array([459.,   0.,   0.,   0.,   0.,   0.,   0.,   0.,   0.,   0.,   0.,\n",
       "           0.,   0.,   0.,   0.,   0.,   0.,   0.,   0.,   0.,   0.,   0.,\n",
       "           0.,   0.,   0.,   0.,   0.,   0.,   0.,   0.]),\n",
       "  array([459.,   0.,   0.,   0.,   0.,   0.,   0.,   0.,   0.,   0.,   0.,\n",
       "           0.,   0.,   0.,   0.,   0.,   0.,   0.,   0.,   0.,   0.,   0.,\n",
       "           0.,   0.,   0.,   0.,   0.,   0.,   0.,   0.]),\n",
       "  array([459.,   0.,   0.,   0.,   0.,   0.,   0.,   0.,   0.,   0.,   0.,\n",
       "           0.,   0.,   0.,   0.,   0.,   0.,   0.,   0.,   0.,   0.,   0.,\n",
       "           0.,   0.,   0.,   0.,   0.,   0.,   0.,   0.]),\n",
       "  array([459.,   0.,   0.,   0.,   0.,   0.,   0.,   0.,   0.,   0.,   0.,\n",
       "           0.,   0.,   0.,   0.,   0.,   0.,   0.,   0.,   0.,   0.,   0.,\n",
       "           0.,   0.,   0.,   0.,   0.,   0.,   0.,   0.]),\n",
       "  array([459.,   0.,   0.,   0.,   0.,   0.,   0.,   0.,   0.,   0.,   0.,\n",
       "           0.,   0.,   0.,   0.,   0.,   0.,   0.,   0.,   0.,   0.,   0.,\n",
       "           0.,   0.,   0.,   0.,   0.,   0.,   0.,   0.]),\n",
       "  array([459.,   0.,   0.,   0.,   0.,   0.,   0.,   0.,   0.,   0.,   0.,\n",
       "           0.,   0.,   0.,   0.,   0.,   0.,   0.,   0.,   0.,   0.,   0.,\n",
       "           0.,   0.,   0.,   0.,   0.,   0.,   0.,   0.]),\n",
       "  array([459.,   0.,   0.,   0.,   0.,   0.,   0.,   0.,   0.,   0.,   0.,\n",
       "           0.,   0.,   0.,   0.,   0.,   0.,   0.,   0.,   0.,   0.,   0.,\n",
       "           0.,   0.,   0.,   0.,   0.,   0.,   0.,   0.]),\n",
       "  array([459.,   0.,   0.,   0.,   0.,   0.,   0.,   0.,   0.,   0.,   0.,\n",
       "           0.,   0.,   0.,   0.,   0.,   0.,   0.,   0.,   0.,   0.,   0.,\n",
       "           0.,   0.,   0.,   0.,   0.,   0.,   0.,   0.]),\n",
       "  array([459.,   0.,   0.,   0.,   0.,   0.,   0.,   0.,   0.,   0.,   0.,\n",
       "           0.,   0.,   0.,   0.,   0.,   0.,   0.,   0.,   0.,   0.,   0.,\n",
       "           0.,   0.,   0.,   0.,   0.,   0.,   0.,   0.])],\n",
       " array([0.0009173 , 0.00178378, 0.00265026, 0.00351674, 0.00438322,\n",
       "        0.0052497 , 0.00611618, 0.00698266, 0.00784914, 0.00871562,\n",
       "        0.0095821 , 0.01044858, 0.01131506, 0.01218154, 0.01304802,\n",
       "        0.01391451, 0.01478099, 0.01564747, 0.01651395, 0.01738043,\n",
       "        0.01824691, 0.01911339, 0.01997987, 0.02084635, 0.02171283,\n",
       "        0.02257931, 0.02344579, 0.02431227, 0.02517875, 0.02604523,\n",
       "        0.02691171]),\n",
       " <a list of 49 Lists of Patches objects>)"
      ]
     },
     "execution_count": 56,
     "metadata": {},
     "output_type": "execute_result"
    },
    {
     "data": {
      "image/png": "[encoded data removed]",
      "text/plain": [
       "<Figure size 432x288 with 1 Axes>"
      ]
     },
     "metadata": {
      "needs_background": "light"
     },
     "output_type": "display_data"
    }
   ],
   "source": [
    "trainMAE = np.mean(np.abs(train_preds - Train_data),axis=2)\n",
    "plt.hist(trainMAE, bins=30)"
   ]
  },
  {
   "cell_type": "code",
   "execution_count": 57,
   "metadata": {},
   "outputs": [
    {
     "data": {
      "text/plain": [
       "(459, 49)"
      ]
     },
     "execution_count": 57,
     "metadata": {},
     "output_type": "execute_result"
    }
   ],
   "source": [
    "trainMAE.shape"
   ]
  },
  {
   "cell_type": "code",
   "execution_count": 58,
   "metadata": {},
   "outputs": [
    {
     "name": "stdout",
     "output_type": "stream",
     "text": [
      "Threshold:  0.014969155409780856\n"
     ]
    }
   ],
   "source": [
    "threshold = np.mean(trainMAE) + np.std(trainMAE)\n",
    "print(\"Threshold: \", threshold)"
   ]
  },
  {
   "cell_type": "code",
   "execution_count": 59,
   "metadata": {},
   "outputs": [
    {
     "data": {
      "text/plain": [
       "(200, 1, 4900)"
      ]
     },
     "execution_count": 59,
     "metadata": {},
     "output_type": "execute_result"
    }
   ],
   "source": [
    "testPredict = model.predict(test_data_3d)\n",
    "testPredict.shape\n"
   ]
  },
  {
   "cell_type": "code",
   "execution_count": 60,
   "metadata": {},
   "outputs": [
    {
     "data": {
      "text/plain": [
       "(200, 49, 100)"
      ]
     },
     "execution_count": 60,
     "metadata": {},
     "output_type": "execute_result"
    }
   ],
   "source": [
    "test_preds= testPredict.reshape(len(testPredict),maxi,vector_size)\n",
    "test_preds.shape"
   ]
  },
  {
   "cell_type": "code",
   "execution_count": 61,
   "metadata": {},
   "outputs": [
    {
     "data": {
      "text/plain": [
       "(200, 49, 100)"
      ]
     },
     "execution_count": 61,
     "metadata": {},
     "output_type": "execute_result"
    }
   ],
   "source": [
    "Test_data=test_data_3d.reshape(len(testPredict),maxi,vector_size)\n",
    "Test_data.shape"
   ]
  },
  {
   "cell_type": "code",
   "execution_count": 62,
   "metadata": {},
   "outputs": [
    {
     "data": {
      "text/plain": [
       "([array([189.,  11.,   0.,   0.,   0.,   0.,   0.,   0.,   0.,   0.,   0.,\n",
       "           0.,   0.,   0.,   0.,   0.,   0.,   0.,   0.,   0.,   0.,   0.,\n",
       "           0.,   0.,   0.,   0.,   0.,   0.,   0.,   0.]),\n",
       "  array([180.,  20.,   0.,   0.,   0.,   0.,   0.,   0.,   0.,   0.,   0.,\n",
       "           0.,   0.,   0.,   0.,   0.,   0.,   0.,   0.,   0.,   0.,   0.,\n",
       "           0.,   0.,   0.,   0.,   0.,   0.,   0.,   0.]),\n",
       "  array([192.,   8.,   0.,   0.,   0.,   0.,   0.,   0.,   0.,   0.,   0.,\n",
       "           0.,   0.,   0.,   0.,   0.,   0.,   0.,   0.,   0.,   0.,   0.,\n",
       "           0.,   0.,   0.,   0.,   0.,   0.,   0.,   0.]),\n",
       "  array([200.,   0.,   0.,   0.,   0.,   0.,   0.,   0.,   0.,   0.,   0.,\n",
       "           0.,   0.,   0.,   0.,   0.,   0.,   0.,   0.,   0.,   0.,   0.,\n",
       "           0.,   0.,   0.,   0.,   0.,   0.,   0.,   0.]),\n",
       "  array([200.,   0.,   0.,   0.,   0.,   0.,   0.,   0.,   0.,   0.,   0.,\n",
       "           0.,   0.,   0.,   0.,   0.,   0.,   0.,   0.,   0.,   0.,   0.,\n",
       "           0.,   0.,   0.,   0.,   0.,   0.,   0.,   0.]),\n",
       "  array([200.,   0.,   0.,   0.,   0.,   0.,   0.,   0.,   0.,   0.,   0.,\n",
       "           0.,   0.,   0.,   0.,   0.,   0.,   0.,   0.,   0.,   0.,   0.,\n",
       "           0.,   0.,   0.,   0.,   0.,   0.,   0.,   0.]),\n",
       "  array([200.,   0.,   0.,   0.,   0.,   0.,   0.,   0.,   0.,   0.,   0.,\n",
       "           0.,   0.,   0.,   0.,   0.,   0.,   0.,   0.,   0.,   0.,   0.,\n",
       "           0.,   0.,   0.,   0.,   0.,   0.,   0.,   0.]),\n",
       "  array([200.,   0.,   0.,   0.,   0.,   0.,   0.,   0.,   0.,   0.,   0.,\n",
       "           0.,   0.,   0.,   0.,   0.,   0.,   0.,   0.,   0.,   0.,   0.,\n",
       "           0.,   0.,   0.,   0.,   0.,   0.,   0.,   0.]),\n",
       "  array([200.,   0.,   0.,   0.,   0.,   0.,   0.,   0.,   0.,   0.,   0.,\n",
       "           0.,   0.,   0.,   0.,   0.,   0.,   0.,   0.,   0.,   0.,   0.,\n",
       "           0.,   0.,   0.,   0.,   0.,   0.,   0.,   0.]),\n",
       "  array([200.,   0.,   0.,   0.,   0.,   0.,   0.,   0.,   0.,   0.,   0.,\n",
       "           0.,   0.,   0.,   0.,   0.,   0.,   0.,   0.,   0.,   0.,   0.,\n",
       "           0.,   0.,   0.,   0.,   0.,   0.,   0.,   0.]),\n",
       "  array([200.,   0.,   0.,   0.,   0.,   0.,   0.,   0.,   0.,   0.,   0.,\n",
       "           0.,   0.,   0.,   0.,   0.,   0.,   0.,   0.,   0.,   0.,   0.,\n",
       "           0.,   0.,   0.,   0.,   0.,   0.,   0.,   0.]),\n",
       "  array([200.,   0.,   0.,   0.,   0.,   0.,   0.,   0.,   0.,   0.,   0.,\n",
       "           0.,   0.,   0.,   0.,   0.,   0.,   0.,   0.,   0.,   0.,   0.,\n",
       "           0.,   0.,   0.,   0.,   0.,   0.,   0.,   0.]),\n",
       "  array([200.,   0.,   0.,   0.,   0.,   0.,   0.,   0.,   0.,   0.,   0.,\n",
       "           0.,   0.,   0.,   0.,   0.,   0.,   0.,   0.,   0.,   0.,   0.,\n",
       "           0.,   0.,   0.,   0.,   0.,   0.,   0.,   0.]),\n",
       "  array([200.,   0.,   0.,   0.,   0.,   0.,   0.,   0.,   0.,   0.,   0.,\n",
       "           0.,   0.,   0.,   0.,   0.,   0.,   0.,   0.,   0.,   0.,   0.,\n",
       "           0.,   0.,   0.,   0.,   0.,   0.,   0.,   0.]),\n",
       "  array([198.,   2.,   0.,   0.,   0.,   0.,   0.,   0.,   0.,   0.,   0.,\n",
       "           0.,   0.,   0.,   0.,   0.,   0.,   0.,   0.,   0.,   0.,   0.,\n",
       "           0.,   0.,   0.,   0.,   0.,   0.,   0.,   0.]),\n",
       "  array([200.,   0.,   0.,   0.,   0.,   0.,   0.,   0.,   0.,   0.,   0.,\n",
       "           0.,   0.,   0.,   0.,   0.,   0.,   0.,   0.,   0.,   0.,   0.,\n",
       "           0.,   0.,   0.,   0.,   0.,   0.,   0.,   0.]),\n",
       "  array([199.,   1.,   0.,   0.,   0.,   0.,   0.,   0.,   0.,   0.,   0.,\n",
       "           0.,   0.,   0.,   0.,   0.,   0.,   0.,   0.,   0.,   0.,   0.,\n",
       "           0.,   0.,   0.,   0.,   0.,   0.,   0.,   0.]),\n",
       "  array([200.,   0.,   0.,   0.,   0.,   0.,   0.,   0.,   0.,   0.,   0.,\n",
       "           0.,   0.,   0.,   0.,   0.,   0.,   0.,   0.,   0.,   0.,   0.,\n",
       "           0.,   0.,   0.,   0.,   0.,   0.,   0.,   0.]),\n",
       "  array([200.,   0.,   0.,   0.,   0.,   0.,   0.,   0.,   0.,   0.,   0.,\n",
       "           0.,   0.,   0.,   0.,   0.,   0.,   0.,   0.,   0.,   0.,   0.,\n",
       "           0.,   0.,   0.,   0.,   0.,   0.,   0.,   0.]),\n",
       "  array([200.,   0.,   0.,   0.,   0.,   0.,   0.,   0.,   0.,   0.,   0.,\n",
       "           0.,   0.,   0.,   0.,   0.,   0.,   0.,   0.,   0.,   0.,   0.,\n",
       "           0.,   0.,   0.,   0.,   0.,   0.,   0.,   0.]),\n",
       "  array([200.,   0.,   0.,   0.,   0.,   0.,   0.,   0.,   0.,   0.,   0.,\n",
       "           0.,   0.,   0.,   0.,   0.,   0.,   0.,   0.,   0.,   0.,   0.,\n",
       "           0.,   0.,   0.,   0.,   0.,   0.,   0.,   0.]),\n",
       "  array([200.,   0.,   0.,   0.,   0.,   0.,   0.,   0.,   0.,   0.,   0.,\n",
       "           0.,   0.,   0.,   0.,   0.,   0.,   0.,   0.,   0.,   0.,   0.,\n",
       "           0.,   0.,   0.,   0.,   0.,   0.,   0.,   0.]),\n",
       "  array([200.,   0.,   0.,   0.,   0.,   0.,   0.,   0.,   0.,   0.,   0.,\n",
       "           0.,   0.,   0.,   0.,   0.,   0.,   0.,   0.,   0.,   0.,   0.,\n",
       "           0.,   0.,   0.,   0.,   0.,   0.,   0.,   0.]),\n",
       "  array([196.,   4.,   0.,   0.,   0.,   0.,   0.,   0.,   0.,   0.,   0.,\n",
       "           0.,   0.,   0.,   0.,   0.,   0.,   0.,   0.,   0.,   0.,   0.,\n",
       "           0.,   0.,   0.,   0.,   0.,   0.,   0.,   0.]),\n",
       "  array([195.,   5.,   0.,   0.,   0.,   0.,   0.,   0.,   0.,   0.,   0.,\n",
       "           0.,   0.,   0.,   0.,   0.,   0.,   0.,   0.,   0.,   0.,   0.,\n",
       "           0.,   0.,   0.,   0.,   0.,   0.,   0.,   0.]),\n",
       "  array([199.,   1.,   0.,   0.,   0.,   0.,   0.,   0.,   0.,   0.,   0.,\n",
       "           0.,   0.,   0.,   0.,   0.,   0.,   0.,   0.,   0.,   0.,   0.,\n",
       "           0.,   0.,   0.,   0.,   0.,   0.,   0.,   0.]),\n",
       "  array([195.,   5.,   0.,   0.,   0.,   0.,   0.,   0.,   0.,   0.,   0.,\n",
       "           0.,   0.,   0.,   0.,   0.,   0.,   0.,   0.,   0.,   0.,   0.,\n",
       "           0.,   0.,   0.,   0.,   0.,   0.,   0.,   0.]),\n",
       "  array([195.,   5.,   0.,   0.,   0.,   0.,   0.,   0.,   0.,   0.,   0.,\n",
       "           0.,   0.,   0.,   0.,   0.,   0.,   0.,   0.,   0.,   0.,   0.,\n",
       "           0.,   0.,   0.,   0.,   0.,   0.,   0.,   0.]),\n",
       "  array([198.,   2.,   0.,   0.,   0.,   0.,   0.,   0.,   0.,   0.,   0.,\n",
       "           0.,   0.,   0.,   0.,   0.,   0.,   0.,   0.,   0.,   0.,   0.,\n",
       "           0.,   0.,   0.,   0.,   0.,   0.,   0.,   0.]),\n",
       "  array([196.,   4.,   0.,   0.,   0.,   0.,   0.,   0.,   0.,   0.,   0.,\n",
       "           0.,   0.,   0.,   0.,   0.,   0.,   0.,   0.,   0.,   0.,   0.,\n",
       "           0.,   0.,   0.,   0.,   0.,   0.,   0.,   0.]),\n",
       "  array([195.,   5.,   0.,   0.,   0.,   0.,   0.,   0.,   0.,   0.,   0.,\n",
       "           0.,   0.,   0.,   0.,   0.,   0.,   0.,   0.,   0.,   0.,   0.,\n",
       "           0.,   0.,   0.,   0.,   0.,   0.,   0.,   0.]),\n",
       "  array([189.,  11.,   0.,   0.,   0.,   0.,   0.,   0.,   0.,   0.,   0.,\n",
       "           0.,   0.,   0.,   0.,   0.,   0.,   0.,   0.,   0.,   0.,   0.,\n",
       "           0.,   0.,   0.,   0.,   0.,   0.,   0.,   0.]),\n",
       "  array([191.,   7.,   2.,   0.,   0.,   0.,   0.,   0.,   0.,   0.,   0.,\n",
       "           0.,   0.,   0.,   0.,   0.,   0.,   0.,   0.,   0.,   0.,   0.,\n",
       "           0.,   0.,   0.,   0.,   0.,   0.,   0.,   0.]),\n",
       "  array([188.,  10.,   2.,   0.,   0.,   0.,   0.,   0.,   0.,   0.,   0.,\n",
       "           0.,   0.,   0.,   0.,   0.,   0.,   0.,   0.,   0.,   0.,   0.,\n",
       "           0.,   0.,   0.,   0.,   0.,   0.,   0.,   0.]),\n",
       "  array([188.,  10.,   2.,   0.,   0.,   0.,   0.,   0.,   0.,   0.,   0.,\n",
       "           0.,   0.,   0.,   0.,   0.,   0.,   0.,   0.,   0.,   0.,   0.,\n",
       "           0.,   0.,   0.,   0.,   0.,   0.,   0.,   0.]),\n",
       "  array([191.,   7.,   2.,   0.,   0.,   0.,   0.,   0.,   0.,   0.,   0.,\n",
       "           0.,   0.,   0.,   0.,   0.,   0.,   0.,   0.,   0.,   0.,   0.,\n",
       "           0.,   0.,   0.,   0.,   0.,   0.,   0.,   0.]),\n",
       "  array([192.,   6.,   2.,   0.,   0.,   0.,   0.,   0.,   0.,   0.,   0.,\n",
       "           0.,   0.,   0.,   0.,   0.,   0.,   0.,   0.,   0.,   0.,   0.,\n",
       "           0.,   0.,   0.,   0.,   0.,   0.,   0.,   0.]),\n",
       "  array([196.,   3.,   0.,   1.,   0.,   0.,   0.,   0.,   0.,   0.,   0.,\n",
       "           0.,   0.,   0.,   0.,   0.,   0.,   0.,   0.,   0.,   0.,   0.,\n",
       "           0.,   0.,   0.,   0.,   0.,   0.,   0.,   0.]),\n",
       "  array([197.,   0.,   2.,   1.,   0.,   0.,   0.,   0.,   0.,   0.,   0.,\n",
       "           0.,   0.,   0.,   0.,   0.,   0.,   0.,   0.,   0.,   0.,   0.,\n",
       "           0.,   0.,   0.,   0.,   0.,   0.,   0.,   0.]),\n",
       "  array([197.,   1.,   1.,   1.,   0.,   0.,   0.,   0.,   0.,   0.,   0.,\n",
       "           0.,   0.,   0.,   0.,   0.,   0.,   0.,   0.,   0.,   0.,   0.,\n",
       "           0.,   0.,   0.,   0.,   0.,   0.,   0.,   0.]),\n",
       "  array([197.,   1.,   1.,   0.,   1.,   0.,   0.,   0.,   0.,   0.,   0.,\n",
       "           0.,   0.,   0.,   0.,   0.,   0.,   0.,   0.,   0.,   0.,   0.,\n",
       "           0.,   0.,   0.,   0.,   0.,   0.,   0.,   0.]),\n",
       "  array([197.,   1.,   1.,   1.,   0.,   0.,   0.,   0.,   0.,   0.,   0.,\n",
       "           0.,   0.,   0.,   0.,   0.,   0.,   0.,   0.,   0.,   0.,   0.,\n",
       "           0.,   0.,   0.,   0.,   0.,   0.,   0.,   0.]),\n",
       "  array([197.,   1.,   1.,   1.,   0.,   0.,   0.,   0.,   0.,   0.,   0.,\n",
       "           0.,   0.,   0.,   0.,   0.,   0.,   0.,   0.,   0.,   0.,   0.,\n",
       "           0.,   0.,   0.,   0.,   0.,   0.,   0.,   0.]),\n",
       "  array([197.,   0.,   0.,   3.,   0.,   0.,   0.,   0.,   0.,   0.,   0.,\n",
       "           0.,   0.,   0.,   0.,   0.,   0.,   0.,   0.,   0.,   0.,   0.,\n",
       "           0.,   0.,   0.,   0.,   0.,   0.,   0.,   0.]),\n",
       "  array([197.,   0.,   0.,   0.,   3.,   0.,   0.,   0.,   0.,   0.,   0.,\n",
       "           0.,   0.,   0.,   0.,   0.,   0.,   0.,   0.,   0.,   0.,   0.,\n",
       "           0.,   0.,   0.,   0.,   0.,   0.,   0.,   0.]),\n",
       "  array([197.,   0.,   0.,   0.,   1.,   0.,   1.,   1.,   0.,   0.,   0.,\n",
       "           0.,   0.,   0.,   0.,   0.,   0.,   0.,   0.,   0.,   0.,   0.,\n",
       "           0.,   0.,   0.,   0.,   0.,   0.,   0.,   0.]),\n",
       "  array([197.,   0.,   0.,   0.,   0.,   0.,   0.,   0.,   1.,   0.,   0.,\n",
       "           0.,   0.,   0.,   0.,   0.,   0.,   0.,   0.,   0.,   0.,   0.,\n",
       "           0.,   0.,   1.,   0.,   0.,   0.,   0.,   1.]),\n",
       "  array([198.,   0.,   0.,   0.,   0.,   0.,   0.,   0.,   1.,   0.,   0.,\n",
       "           0.,   0.,   0.,   0.,   0.,   0.,   1.,   0.,   0.,   0.,   0.,\n",
       "           0.,   0.,   0.,   0.,   0.,   0.,   0.,   0.]),\n",
       "  array([200.,   0.,   0.,   0.,   0.,   0.,   0.,   0.,   0.,   0.,   0.,\n",
       "           0.,   0.,   0.,   0.,   0.,   0.,   0.,   0.,   0.,   0.,   0.,\n",
       "           0.,   0.,   0.,   0.,   0.,   0.,   0.,   0.])],\n",
       " array([3.93923421e-04, 3.31621702e+00, 6.63204011e+00, 9.94786321e+00,\n",
       "        1.32636863e+01, 1.65795094e+01, 1.98953325e+01, 2.32111556e+01,\n",
       "        2.65269787e+01, 2.98428018e+01, 3.31586249e+01, 3.64744480e+01,\n",
       "        3.97902711e+01, 4.31060942e+01, 4.64219173e+01, 4.97377404e+01,\n",
       "        5.30535635e+01, 5.63693866e+01, 5.96852096e+01, 6.30010327e+01,\n",
       "        6.63168558e+01, 6.96326789e+01, 7.29485020e+01, 7.62643251e+01,\n",
       "        7.95801482e+01, 8.28959713e+01, 8.62117944e+01, 8.95276175e+01,\n",
       "        9.28434406e+01, 9.61592637e+01, 9.94750868e+01]),\n",
       " <a list of 49 Lists of Patches objects>)"
      ]
     },
     "execution_count": 62,
     "metadata": {},
     "output_type": "execute_result"
    },
    {
     "data": {
      "image/png": "[encoded data removed]",
      "text/plain": [
       "<Figure size 432x288 with 1 Axes>"
      ]
     },
     "metadata": {
      "needs_background": "light"
     },
     "output_type": "display_data"
    }
   ],
   "source": [
    "testMAE = np.mean(np.abs(test_preds - Test_data), axis=2)\n",
    "plt.hist(testMAE, bins=30)"
   ]
  },
  {
   "cell_type": "code",
   "execution_count": 63,
   "metadata": {},
   "outputs": [
    {
     "data": {
      "text/plain": [
       "(200, 49)"
      ]
     },
     "execution_count": 63,
     "metadata": {},
     "output_type": "execute_result"
    }
   ],
   "source": [
    "testMAE.shape"
   ]
  },
  {
   "cell_type": "code",
   "execution_count": 64,
   "metadata": {},
   "outputs": [
    {
     "data": {
      "text/plain": [
       "(200, 49)"
      ]
     },
     "execution_count": 64,
     "metadata": {},
     "output_type": "execute_result"
    }
   ],
   "source": [
    "preds= tf.math.less(testMAE,threshold)\n",
    "preds=np.array(preds)\n",
    "preds.shape"
   ]
  },
  {
   "cell_type": "code",
   "execution_count": 65,
   "metadata": {},
   "outputs": [
    {
     "data": {
      "text/plain": [
       "1"
      ]
     },
     "execution_count": 65,
     "metadata": {},
     "output_type": "execute_result"
    }
   ],
   "source": [
    "import numpy\n",
    "x = numpy.multiply(preds[0][0], 1)\n",
    "x"
   ]
  },
  {
   "cell_type": "code",
   "execution_count": 66,
   "metadata": {},
   "outputs": [],
   "source": [
    "array=[]\n",
    "for i in range(len(preds)):\n",
    "    multiplier=1\n",
    "    for j in range(len(preds[i])):\n",
    "        multiplier= multiplier*preds[i][j]\n",
    "    array.append(multiplier)\n",
    "\n",
    "        "
   ]
  },
  {
   "cell_type": "code",
   "execution_count": 67,
   "metadata": {},
   "outputs": [
    {
     "data": {
      "text/plain": [
       "(200,)"
      ]
     },
     "execution_count": 67,
     "metadata": {},
     "output_type": "execute_result"
    }
   ],
   "source": [
    "array=np.array(array)\n",
    "array.shape"
   ]
  },
  {
   "cell_type": "code",
   "execution_count": 68,
   "metadata": {},
   "outputs": [],
   "source": [
    "array=array.astype(bool)"
   ]
  },
  {
   "cell_type": "code",
   "execution_count": 69,
   "metadata": {},
   "outputs": [
    {
     "data": {
      "text/plain": [
       "array([False, False,  True,  True, False,  True,  True,  True,  True,\n",
       "       False,  True,  True,  True,  True,  True,  True,  True,  True,\n",
       "       False, False,  True,  True,  True, False,  True,  True, False,\n",
       "       False,  True,  True,  True,  True,  True,  True,  True, False,\n",
       "        True, False,  True, False,  True, False, False, False,  True,\n",
       "       False, False, False,  True,  True, False, False,  True, False,\n",
       "        True, False,  True, False, False,  True,  True, False, False,\n",
       "       False,  True, False, False, False,  True,  True, False,  True,\n",
       "       False, False, False, False,  True, False, False, False, False,\n",
       "        True,  True, False,  True,  True,  True, False,  True, False,\n",
       "        True, False, False,  True,  True,  True, False,  True,  True,\n",
       "       False,  True,  True, False, False, False,  True,  True,  True,\n",
       "       False,  True, False,  True, False,  True,  True, False, False,\n",
       "       False, False,  True,  True,  True, False,  True, False,  True,\n",
       "       False,  True,  True, False, False,  True,  True,  True, False,\n",
       "        True, False,  True,  True,  True,  True,  True,  True,  True,\n",
       "        True, False, False,  True,  True,  True,  True,  True, False,\n",
       "        True, False,  True,  True, False,  True,  True, False,  True,\n",
       "       False, False,  True,  True,  True, False,  True,  True, False,\n",
       "       False,  True,  True,  True, False, False, False,  True, False,\n",
       "       False,  True,  True, False, False, False,  True, False, False,\n",
       "        True,  True, False, False, False,  True,  True, False,  True,\n",
       "        True, False])"
      ]
     },
     "execution_count": 69,
     "metadata": {},
     "output_type": "execute_result"
    }
   ],
   "source": [
    "test_labels"
   ]
  },
  {
   "cell_type": "code",
   "execution_count": 70,
   "metadata": {},
   "outputs": [],
   "source": [
    "from sklearn.metrics import recall_score, accuracy_score, precision_score, f1_score\n",
    "\n",
    "accurracy= accuracy_score(test_labels, array)  \n",
    "fscore= f1_score(test_labels, array, average='micro' ) \n",
    "precision= precision_score(test_labels, array, average='micro')                              \n",
    "recall = recall_score(test_labels, array, average='micro')"
   ]
  },
  {
   "cell_type": "code",
   "execution_count": 71,
   "metadata": {},
   "outputs": [
    {
     "data": {
      "text/plain": [
       "(0.735, 0.735, 0.735, 0.735, 67.97380018234253)"
      ]
     },
     "execution_count": 71,
     "metadata": {},
     "output_type": "execute_result"
    }
   ],
   "source": [
    "accurracy, fscore, precision, recall, elapsed_time"
   ]
  }
 ],
 "metadata": {
  "kernelspec": {
   "display_name": "Python 3",
   "language": "python",
   "name": "python3"
  },
  "language_info": {
   "codemirror_mode": {
    "name": "ipython",
    "version": 3
   },
   "file_extension": ".py",
   "mimetype": "text/x-python",
   "name": "python",
   "nbconvert_exporter": "python",
   "pygments_lexer": "ipython3",
   "version": "3.7.4"
  }
 },
 "nbformat": 4,
 "nbformat_minor": 2
}
